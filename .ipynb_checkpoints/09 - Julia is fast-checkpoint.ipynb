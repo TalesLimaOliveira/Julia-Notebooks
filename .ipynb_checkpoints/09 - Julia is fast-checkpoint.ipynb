{
 "cells": [
  {
   "cell_type": "markdown",
   "metadata": {},
   "source": [
    "# Julia is fast\n",
    "\n",
    "Very often, benchmarks are used to compare languages.  These benchmarks can lead to long discussions, first as to exactly what is being benchmarked and secondly what explains the differences.  These simple questions can sometimes get more complicated than you at first might imagine.\n",
    "\n",
    "The purpose of this notebook is for you to see a simple benchmark for yourself.  One can read the notebook and see what happened on the author's Macbook Pro with a 4-core Intel Core I7, or run the notebook yourself.\n",
    "\n",
    "(This material began life as a wonderful lecture by Steven Johnson at MIT: https://github.com/stevengj/18S096/blob/master/lectures/lecture1/Boxes-and-registers.ipynb.)"
   ]
  },
  {
   "cell_type": "markdown",
   "metadata": {},
   "source": [
    "# Outline of this notebook\n",
    "\n",
    "- Define the sum function\n",
    "- Implementations & benchmarking of sum in...\n",
    "    - C (hand-written)\n",
    "    - C (hand-written with -ffast-math)\n",
    "    - python (built-in)\n",
    "    - python (numpy)\n",
    "    - python (hand-written)\n",
    "    - Julia (built-in)\n",
    "    - Julia (hand-written)\n",
    "    - Julia (hand-written with SIMD)\n",
    "- Summary of benchmarks"
   ]
  },
  {
   "cell_type": "markdown",
   "metadata": {},
   "source": [
    "# `sum`: An easy enough function to understand"
   ]
  },
  {
   "cell_type": "markdown",
   "metadata": {},
   "source": [
    "Consider the  **sum** function `sum(a)`, which computes\n",
    "$$\n",
    "\\mathrm{sum}(a) = \\sum_{i=1}^n a_i,\n",
    "$$\n",
    "where $n$ is the length of `a`."
   ]
  },
  {
   "cell_type": "code",
   "execution_count": 1,
   "metadata": {},
   "outputs": [
    {
     "data": {
      "text/plain": [
       "10000000-element Vector{Float64}:\n",
       " 0.39699063283927627\n",
       " 0.28108398711002125\n",
       " 0.9699344989676373\n",
       " 0.5443627490789559\n",
       " 0.19059833812914673\n",
       " 0.3913265762860726\n",
       " 0.2899092324915268\n",
       " 0.9568708882861375\n",
       " 0.41612917572452546\n",
       " 0.7625829860084771\n",
       " 0.129088978126351\n",
       " 0.029806065462833153\n",
       " 0.4466835440468616\n",
       " ⋮\n",
       " 0.2551597610687274\n",
       " 0.3218897440266798\n",
       " 0.6103476365145045\n",
       " 0.5610175975132767\n",
       " 0.609428281767535\n",
       " 0.7888361503104148\n",
       " 0.3817977247922726\n",
       " 0.2544400078179446\n",
       " 0.4102827199911552\n",
       " 0.06271605609096065\n",
       " 0.6941003129524836\n",
       " 0.5759744858215065"
      ]
     },
     "execution_count": 1,
     "metadata": {},
     "output_type": "execute_result"
    }
   ],
   "source": [
    "a = rand(10^7) # 1D vector of random numbers, uniform on [0,1)"
   ]
  },
  {
   "cell_type": "code",
   "execution_count": 2,
   "metadata": {},
   "outputs": [
    {
     "data": {
      "text/plain": [
       "4.999114607967131e6"
      ]
     },
     "execution_count": 2,
     "metadata": {},
     "output_type": "execute_result"
    }
   ],
   "source": [
    "sum(a)"
   ]
  },
  {
   "cell_type": "markdown",
   "metadata": {},
   "source": [
    "The expected result is 0.5 * 10^7, since the mean of each entry is 0.5"
   ]
  },
  {
   "cell_type": "markdown",
   "metadata": {},
   "source": [
    "# Benchmarking a few ways in a few languages"
   ]
  },
  {
   "cell_type": "code",
   "execution_count": 3,
   "metadata": {},
   "outputs": [
    {
     "name": "stdout",
     "output_type": "stream",
     "text": [
      "  0.006346 seconds (1 allocation: 16 bytes)\n"
     ]
    },
    {
     "data": {
      "text/plain": [
       "4.999114607967131e6"
      ]
     },
     "execution_count": 3,
     "metadata": {},
     "output_type": "execute_result"
    }
   ],
   "source": [
    "@time sum(a)"
   ]
  },
  {
   "cell_type": "code",
   "execution_count": 4,
   "metadata": {},
   "outputs": [
    {
     "name": "stdout",
     "output_type": "stream",
     "text": [
      "  0.005184 seconds (1 allocation: 16 bytes)\n"
     ]
    },
    {
     "data": {
      "text/plain": [
       "4.999114607967131e6"
      ]
     },
     "execution_count": 4,
     "metadata": {},
     "output_type": "execute_result"
    }
   ],
   "source": [
    "@time sum(a)"
   ]
  },
  {
   "cell_type": "code",
   "execution_count": 5,
   "metadata": {},
   "outputs": [
    {
     "name": "stdout",
     "output_type": "stream",
     "text": [
      "  0.004959 seconds (1 allocation: 16 bytes)\n"
     ]
    },
    {
     "data": {
      "text/plain": [
       "4.999114607967131e6"
      ]
     },
     "execution_count": 5,
     "metadata": {},
     "output_type": "execute_result"
    }
   ],
   "source": [
    "@time sum(a)"
   ]
  },
  {
   "cell_type": "markdown",
   "metadata": {},
   "source": [
    "The `@time` macro can yield noisy results, so it's not our best choice for benchmarking!\n",
    "\n",
    "Luckily, Julia has a `BenchmarkTools.jl` package to make benchmarking easy and accurate:"
   ]
  },
  {
   "cell_type": "code",
   "execution_count": 7,
   "metadata": {},
   "outputs": [
    {
     "name": "stderr",
     "output_type": "stream",
     "text": [
      "\u001b[32m\u001b[1m   Resolving\u001b[22m\u001b[39m package versions...\n",
      "\u001b[32m\u001b[1m  No Changes\u001b[22m\u001b[39m to `~/.julia/environments/v1.10/Project.toml`\n",
      "\u001b[32m\u001b[1m  No Changes\u001b[22m\u001b[39m to `~/.julia/environments/v1.10/Manifest.toml`\n"
     ]
    }
   ],
   "source": [
    "using Pkg\n",
    "Pkg.add(\"BenchmarkTools\")"
   ]
  },
  {
   "cell_type": "code",
   "execution_count": 8,
   "metadata": {},
   "outputs": [],
   "source": [
    "using BenchmarkTools  "
   ]
  },
  {
   "cell_type": "markdown",
   "metadata": {},
   "source": [
    "#  1. The C language\n",
    "\n",
    "C is often considered the gold standard: difficult on the human, nice for the machine. Getting within a factor of 2 of C is often satisfying. Nonetheless, even within C, there are many kinds of optimizations possible that a naive C writer may or may not get the advantage of.\n",
    "\n",
    "The current author does not speak C, so he does not read the cell below, but is happy to know that you can put C code in a Julia session, compile it, and run it. Note that the `\"\"\"` wrap a multi-line string."
   ]
  },
  {
   "cell_type": "code",
   "execution_count": 9,
   "metadata": {},
   "outputs": [
    {
     "data": {
      "text/plain": [
       "c_sum (generic function with 1 method)"
      ]
     },
     "execution_count": 9,
     "metadata": {},
     "output_type": "execute_result"
    }
   ],
   "source": [
    "using Libdl\n",
    "C_code = \"\"\"\n",
    "#include <stddef.h>\n",
    "double c_sum(size_t n, double *X) {\n",
    "    double s = 0.0;\n",
    "    for (size_t i = 0; i < n; ++i) {\n",
    "        s += X[i];\n",
    "    }\n",
    "    return s;\n",
    "}\n",
    "\"\"\"\n",
    "\n",
    "const Clib = tempname()   # make a temporary file\n",
    "\n",
    "\n",
    "# compile to a shared library by piping C_code to gcc\n",
    "# (works only if you have gcc installed):\n",
    "\n",
    "open(`gcc -fPIC -O3 -msse3 -xc -shared -o $(Clib * \".\" * Libdl.dlext) -`, \"w\") do f\n",
    "    print(f, C_code) \n",
    "end\n",
    "\n",
    "# define a Julia function that calls the C function:\n",
    "c_sum(X::Array{Float64}) = ccall((\"c_sum\", Clib), Float64, (Csize_t, Ptr{Float64}), length(X), X)"
   ]
  },
  {
   "cell_type": "code",
   "execution_count": 10,
   "metadata": {},
   "outputs": [
    {
     "data": {
      "text/plain": [
       "4.999114607967458e6"
      ]
     },
     "execution_count": 10,
     "metadata": {},
     "output_type": "execute_result"
    }
   ],
   "source": [
    "c_sum(a)"
   ]
  },
  {
   "cell_type": "code",
   "execution_count": 11,
   "metadata": {},
   "outputs": [
    {
     "data": {
      "text/plain": [
       "true"
      ]
     },
     "execution_count": 11,
     "metadata": {},
     "output_type": "execute_result"
    }
   ],
   "source": [
    "c_sum(a) ≈ sum(a) # type \\approx and then <TAB> to get the ≈ symbolb"
   ]
  },
  {
   "cell_type": "code",
   "execution_count": 12,
   "metadata": {},
   "outputs": [
    {
     "data": {
      "text/plain": [
       "3.2689422369003296e-7"
      ]
     },
     "execution_count": 12,
     "metadata": {},
     "output_type": "execute_result"
    }
   ],
   "source": [
    "c_sum(a) - sum(a)  "
   ]
  },
  {
   "cell_type": "code",
   "execution_count": 13,
   "metadata": {
    "scrolled": true
   },
   "outputs": [
    {
     "data": {
      "text/plain": [
       "isapprox (generic function with 13 methods)"
      ]
     },
     "execution_count": 13,
     "metadata": {},
     "output_type": "execute_result"
    }
   ],
   "source": [
    "≈  # alias for the `isapprox` function"
   ]
  },
  {
   "cell_type": "code",
   "execution_count": 14,
   "metadata": {
    "scrolled": true
   },
   "outputs": [
    {
     "name": "stdout",
     "output_type": "stream",
     "text": [
      "search: \u001b[0m\u001b[1mi\u001b[22m\u001b[0m\u001b[1ms\u001b[22m\u001b[0m\u001b[1ma\u001b[22m\u001b[0m\u001b[1mp\u001b[22m\u001b[0m\u001b[1mp\u001b[22m\u001b[0m\u001b[1mr\u001b[22m\u001b[0m\u001b[1mo\u001b[22m\u001b[0m\u001b[1mx\u001b[22m\n",
      "\n"
     ]
    },
    {
     "data": {
      "text/latex": [
       "\\begin{verbatim}\n",
       "isapprox(x, y; atol::Real=0, rtol::Real=atol>0 ? 0 : √eps, nans::Bool=false[, norm::Function])\n",
       "\\end{verbatim}\n",
       "Inexact equality comparison. Two numbers compare equal if their relative distance \\emph{or} their absolute distance is within tolerance bounds: \\texttt{isapprox} returns \\texttt{true} if \\texttt{norm(x-y) <= max(atol, rtol*max(norm(x), norm(y)))}. The default \\texttt{atol} (absolute tolerance) is zero and the default \\texttt{rtol} (relative tolerance) depends on the types of \\texttt{x} and \\texttt{y}. The keyword argument \\texttt{nans} determines whether or not NaN values are considered equal (defaults to false).\n",
       "\n",
       "For real or complex floating-point values, if an \\texttt{atol > 0} is not specified, \\texttt{rtol} defaults to the square root of \\href{@ref}{\\texttt{eps}} of the type of \\texttt{x} or \\texttt{y}, whichever is bigger (least precise). This corresponds to requiring equality of about half of the significant digits. Otherwise, e.g. for integer arguments or if an \\texttt{atol > 0} is supplied, \\texttt{rtol} defaults to zero.\n",
       "\n",
       "The \\texttt{norm} keyword defaults to \\texttt{abs} for numeric \\texttt{(x,y)} and to \\texttt{LinearAlgebra.norm} for arrays (where an alternative \\texttt{norm} choice is sometimes useful). When \\texttt{x} and \\texttt{y} are arrays, if \\texttt{norm(x-y)} is not finite (i.e. \\texttt{±Inf} or \\texttt{NaN}), the comparison falls back to checking whether all elements of \\texttt{x} and \\texttt{y} are approximately equal component-wise.\n",
       "\n",
       "The binary operator \\texttt{≈} is equivalent to \\texttt{isapprox} with the default arguments, and \\texttt{x ≉ y} is equivalent to \\texttt{!isapprox(x,y)}.\n",
       "\n",
       "Note that \\texttt{x ≈ 0} (i.e., comparing to zero with the default tolerances) is equivalent to \\texttt{x == 0} since the default \\texttt{atol} is \\texttt{0}.  In such cases, you should either supply an appropriate \\texttt{atol} (or use \\texttt{norm(x) ≤ atol}) or rearrange your code (e.g. use \\texttt{x ≈ y} rather than \\texttt{x - y ≈ 0}).   It is not possible to pick a nonzero \\texttt{atol} automatically because it depends on the overall scaling (the \"units\") of your problem: for example, in \\texttt{x - y ≈ 0}, \\texttt{atol=1e-9} is an absurdly small tolerance if \\texttt{x} is the \\href{https://en.wikipedia.org/wiki/Earth_radius}{radius of the Earth} in meters, but an absurdly large tolerance if \\texttt{x} is the \\href{https://en.wikipedia.org/wiki/Bohr_radius}{radius of a Hydrogen atom} in meters.\n",
       "\n",
       "\\begin{quote}\n",
       "\\textbf{compat}\n",
       "\n",
       "Julia 1.6\n",
       "\n",
       "Passing the \\texttt{norm} keyword argument when comparing numeric (non-array) arguments requires Julia 1.6 or later.\n",
       "\n",
       "\\end{quote}\n",
       "\\section{Examples}\n",
       "\\begin{verbatim}\n",
       "julia> isapprox(0.1, 0.15; atol=0.05)\n",
       "true\n",
       "\n",
       "julia> isapprox(0.1, 0.15; rtol=0.34)\n",
       "true\n",
       "\n",
       "julia> isapprox(0.1, 0.15; rtol=0.33)\n",
       "false\n",
       "\n",
       "julia> 0.1 + 1e-10 ≈ 0.1\n",
       "true\n",
       "\n",
       "julia> 1e-10 ≈ 0\n",
       "false\n",
       "\n",
       "julia> isapprox(1e-10, 0, atol=1e-8)\n",
       "true\n",
       "\n",
       "julia> isapprox([10.0^9, 1.0], [10.0^9, 2.0]) # using `norm`\n",
       "true\n",
       "\\end{verbatim}\n",
       "\\rule{\\textwidth}{1pt}\n",
       "\\begin{verbatim}\n",
       "isapprox(x; kwargs...) / ≈(x; kwargs...)\n",
       "\\end{verbatim}\n",
       "Create a function that compares its argument to \\texttt{x} using \\texttt{≈}, i.e. a function equivalent to \\texttt{y -> y ≈ x}.\n",
       "\n",
       "The keyword arguments supported here are the same as those in the 2-argument \\texttt{isapprox}.\n",
       "\n",
       "\\begin{quote}\n",
       "\\textbf{compat}\n",
       "\n",
       "Julia 1.5\n",
       "\n",
       "This method requires Julia 1.5 or later.\n",
       "\n",
       "\\end{quote}\n"
      ],
      "text/markdown": [
       "```\n",
       "isapprox(x, y; atol::Real=0, rtol::Real=atol>0 ? 0 : √eps, nans::Bool=false[, norm::Function])\n",
       "```\n",
       "\n",
       "Inexact equality comparison. Two numbers compare equal if their relative distance *or* their absolute distance is within tolerance bounds: `isapprox` returns `true` if `norm(x-y) <= max(atol, rtol*max(norm(x), norm(y)))`. The default `atol` (absolute tolerance) is zero and the default `rtol` (relative tolerance) depends on the types of `x` and `y`. The keyword argument `nans` determines whether or not NaN values are considered equal (defaults to false).\n",
       "\n",
       "For real or complex floating-point values, if an `atol > 0` is not specified, `rtol` defaults to the square root of [`eps`](@ref) of the type of `x` or `y`, whichever is bigger (least precise). This corresponds to requiring equality of about half of the significant digits. Otherwise, e.g. for integer arguments or if an `atol > 0` is supplied, `rtol` defaults to zero.\n",
       "\n",
       "The `norm` keyword defaults to `abs` for numeric `(x,y)` and to `LinearAlgebra.norm` for arrays (where an alternative `norm` choice is sometimes useful). When `x` and `y` are arrays, if `norm(x-y)` is not finite (i.e. `±Inf` or `NaN`), the comparison falls back to checking whether all elements of `x` and `y` are approximately equal component-wise.\n",
       "\n",
       "The binary operator `≈` is equivalent to `isapprox` with the default arguments, and `x ≉ y` is equivalent to `!isapprox(x,y)`.\n",
       "\n",
       "Note that `x ≈ 0` (i.e., comparing to zero with the default tolerances) is equivalent to `x == 0` since the default `atol` is `0`.  In such cases, you should either supply an appropriate `atol` (or use `norm(x) ≤ atol`) or rearrange your code (e.g. use `x ≈ y` rather than `x - y ≈ 0`).   It is not possible to pick a nonzero `atol` automatically because it depends on the overall scaling (the \"units\") of your problem: for example, in `x - y ≈ 0`, `atol=1e-9` is an absurdly small tolerance if `x` is the [radius of the Earth](https://en.wikipedia.org/wiki/Earth_radius) in meters, but an absurdly large tolerance if `x` is the [radius of a Hydrogen atom](https://en.wikipedia.org/wiki/Bohr_radius) in meters.\n",
       "\n",
       "!!! compat \"Julia 1.6\"\n",
       "    Passing the `norm` keyword argument when comparing numeric (non-array) arguments requires Julia 1.6 or later.\n",
       "\n",
       "\n",
       "# Examples\n",
       "\n",
       "```jldoctest\n",
       "julia> isapprox(0.1, 0.15; atol=0.05)\n",
       "true\n",
       "\n",
       "julia> isapprox(0.1, 0.15; rtol=0.34)\n",
       "true\n",
       "\n",
       "julia> isapprox(0.1, 0.15; rtol=0.33)\n",
       "false\n",
       "\n",
       "julia> 0.1 + 1e-10 ≈ 0.1\n",
       "true\n",
       "\n",
       "julia> 1e-10 ≈ 0\n",
       "false\n",
       "\n",
       "julia> isapprox(1e-10, 0, atol=1e-8)\n",
       "true\n",
       "\n",
       "julia> isapprox([10.0^9, 1.0], [10.0^9, 2.0]) # using `norm`\n",
       "true\n",
       "```\n",
       "\n",
       "---\n",
       "\n",
       "```\n",
       "isapprox(x; kwargs...) / ≈(x; kwargs...)\n",
       "```\n",
       "\n",
       "Create a function that compares its argument to `x` using `≈`, i.e. a function equivalent to `y -> y ≈ x`.\n",
       "\n",
       "The keyword arguments supported here are the same as those in the 2-argument `isapprox`.\n",
       "\n",
       "!!! compat \"Julia 1.5\"\n",
       "    This method requires Julia 1.5 or later.\n",
       "\n"
      ],
      "text/plain": [
       "\u001b[36m  isapprox(x, y; atol::Real=0, rtol::Real=atol>0 ? 0 : √eps, nans::Bool=false[, norm::Function])\u001b[39m\n",
       "\n",
       "  Inexact equality comparison. Two numbers compare equal if their relative\n",
       "  distance \u001b[4mor\u001b[24m their absolute distance is within tolerance bounds: \u001b[36misapprox\u001b[39m\n",
       "  returns \u001b[36mtrue\u001b[39m if \u001b[36mnorm(x-y) <= max(atol, rtol*max(norm(x), norm(y)))\u001b[39m. The\n",
       "  default \u001b[36matol\u001b[39m (absolute tolerance) is zero and the default \u001b[36mrtol\u001b[39m (relative\n",
       "  tolerance) depends on the types of \u001b[36mx\u001b[39m and \u001b[36my\u001b[39m. The keyword argument \u001b[36mnans\u001b[39m\n",
       "  determines whether or not NaN values are considered equal (defaults to\n",
       "  false).\n",
       "\n",
       "  For real or complex floating-point values, if an \u001b[36matol > 0\u001b[39m is not specified,\n",
       "  \u001b[36mrtol\u001b[39m defaults to the square root of \u001b[36meps\u001b[39m of the type of \u001b[36mx\u001b[39m or \u001b[36my\u001b[39m, whichever is\n",
       "  bigger (least precise). This corresponds to requiring equality of about half\n",
       "  of the significant digits. Otherwise, e.g. for integer arguments or if an\n",
       "  \u001b[36matol > 0\u001b[39m is supplied, \u001b[36mrtol\u001b[39m defaults to zero.\n",
       "\n",
       "  The \u001b[36mnorm\u001b[39m keyword defaults to \u001b[36mabs\u001b[39m for numeric \u001b[36m(x,y)\u001b[39m and to \u001b[36mLinearAlgebra.norm\u001b[39m\n",
       "  for arrays (where an alternative \u001b[36mnorm\u001b[39m choice is sometimes useful). When \u001b[36mx\u001b[39m\n",
       "  and \u001b[36my\u001b[39m are arrays, if \u001b[36mnorm(x-y)\u001b[39m is not finite (i.e. \u001b[36m±Inf\u001b[39m or \u001b[36mNaN\u001b[39m), the\n",
       "  comparison falls back to checking whether all elements of \u001b[36mx\u001b[39m and \u001b[36my\u001b[39m are\n",
       "  approximately equal component-wise.\n",
       "\n",
       "  The binary operator \u001b[36m≈\u001b[39m is equivalent to \u001b[36misapprox\u001b[39m with the default arguments,\n",
       "  and \u001b[36mx ≉ y\u001b[39m is equivalent to \u001b[36m!isapprox(x,y)\u001b[39m.\n",
       "\n",
       "  Note that \u001b[36mx ≈ 0\u001b[39m (i.e., comparing to zero with the default tolerances) is\n",
       "  equivalent to \u001b[36mx == 0\u001b[39m since the default \u001b[36matol\u001b[39m is \u001b[36m0\u001b[39m. In such cases, you should\n",
       "  either supply an appropriate \u001b[36matol\u001b[39m (or use \u001b[36mnorm(x) ≤ atol\u001b[39m) or rearrange your\n",
       "  code (e.g. use \u001b[36mx ≈ y\u001b[39m rather than \u001b[36mx - y ≈ 0\u001b[39m). It is not possible to pick a\n",
       "  nonzero \u001b[36matol\u001b[39m automatically because it depends on the overall scaling (the\n",
       "  \"units\") of your problem: for example, in \u001b[36mx - y ≈ 0\u001b[39m, \u001b[36matol=1e-9\u001b[39m is an\n",
       "  absurdly small tolerance if \u001b[36mx\u001b[39m is the radius of the Earth\n",
       "  (https://en.wikipedia.org/wiki/Earth_radius) in meters, but an absurdly\n",
       "  large tolerance if \u001b[36mx\u001b[39m is the radius of a Hydrogen atom\n",
       "  (https://en.wikipedia.org/wiki/Bohr_radius) in meters.\n",
       "\n",
       "\u001b[39m\u001b[1m  │ \u001b[22m\u001b[39m\u001b[1mJulia 1.6\u001b[22m\n",
       "\u001b[39m\u001b[1m  │\u001b[22m\n",
       "\u001b[39m\u001b[1m  │\u001b[22m  Passing the \u001b[36mnorm\u001b[39m keyword argument when comparing numeric\n",
       "\u001b[39m\u001b[1m  │\u001b[22m  (non-array) arguments requires Julia 1.6 or later.\n",
       "\n",
       "\u001b[1m  Examples\u001b[22m\n",
       "\u001b[1m  ≡≡≡≡≡≡≡≡\u001b[22m\n",
       "\n",
       "\u001b[36m  julia> isapprox(0.1, 0.15; atol=0.05)\u001b[39m\n",
       "\u001b[36m  true\u001b[39m\n",
       "\u001b[36m  \u001b[39m\n",
       "\u001b[36m  julia> isapprox(0.1, 0.15; rtol=0.34)\u001b[39m\n",
       "\u001b[36m  true\u001b[39m\n",
       "\u001b[36m  \u001b[39m\n",
       "\u001b[36m  julia> isapprox(0.1, 0.15; rtol=0.33)\u001b[39m\n",
       "\u001b[36m  false\u001b[39m\n",
       "\u001b[36m  \u001b[39m\n",
       "\u001b[36m  julia> 0.1 + 1e-10 ≈ 0.1\u001b[39m\n",
       "\u001b[36m  true\u001b[39m\n",
       "\u001b[36m  \u001b[39m\n",
       "\u001b[36m  julia> 1e-10 ≈ 0\u001b[39m\n",
       "\u001b[36m  false\u001b[39m\n",
       "\u001b[36m  \u001b[39m\n",
       "\u001b[36m  julia> isapprox(1e-10, 0, atol=1e-8)\u001b[39m\n",
       "\u001b[36m  true\u001b[39m\n",
       "\u001b[36m  \u001b[39m\n",
       "\u001b[36m  julia> isapprox([10.0^9, 1.0], [10.0^9, 2.0]) # using `norm`\u001b[39m\n",
       "\u001b[36m  true\u001b[39m\n",
       "\n",
       "  ────────────────────────────────────────────────────────────────────────────\n",
       "\n",
       "\u001b[36m  isapprox(x; kwargs...) / ≈(x; kwargs...)\u001b[39m\n",
       "\n",
       "  Create a function that compares its argument to \u001b[36mx\u001b[39m using \u001b[36m≈\u001b[39m, i.e. a function\n",
       "  equivalent to \u001b[36my -> y ≈ x\u001b[39m.\n",
       "\n",
       "  The keyword arguments supported here are the same as those in the 2-argument\n",
       "  \u001b[36misapprox\u001b[39m.\n",
       "\n",
       "\u001b[39m\u001b[1m  │ \u001b[22m\u001b[39m\u001b[1mJulia 1.5\u001b[22m\n",
       "\u001b[39m\u001b[1m  │\u001b[22m\n",
       "\u001b[39m\u001b[1m  │\u001b[22m  This method requires Julia 1.5 or later."
      ]
     },
     "execution_count": 14,
     "metadata": {},
     "output_type": "execute_result"
    }
   ],
   "source": [
    "?isapprox"
   ]
  },
  {
   "cell_type": "markdown",
   "metadata": {},
   "source": [
    "We can now benchmark the C code directly from Julia:"
   ]
  },
  {
   "cell_type": "code",
   "execution_count": 15,
   "metadata": {},
   "outputs": [
    {
     "data": {
      "text/plain": [
       "BenchmarkTools.Trial: 464 samples with 1 evaluation.\n",
       " Range \u001b[90m(\u001b[39m\u001b[36m\u001b[1mmin\u001b[22m\u001b[39m … \u001b[35mmax\u001b[39m\u001b[90m):  \u001b[39m\u001b[36m\u001b[1m10.627 ms\u001b[22m\u001b[39m … \u001b[35m 22.593 ms\u001b[39m  \u001b[90m┊\u001b[39m GC \u001b[90m(\u001b[39mmin … max\u001b[90m): \u001b[39m0.00% … 0.00%\n",
       " Time  \u001b[90m(\u001b[39m\u001b[34m\u001b[1mmedian\u001b[22m\u001b[39m\u001b[90m):     \u001b[39m\u001b[34m\u001b[1m10.713 ms               \u001b[22m\u001b[39m\u001b[90m┊\u001b[39m GC \u001b[90m(\u001b[39mmedian\u001b[90m):    \u001b[39m0.00%\n",
       " Time  \u001b[90m(\u001b[39m\u001b[32m\u001b[1mmean\u001b[22m\u001b[39m ± \u001b[32mσ\u001b[39m\u001b[90m):   \u001b[39m\u001b[32m\u001b[1m10.784 ms\u001b[22m\u001b[39m ± \u001b[32m577.851 μs\u001b[39m  \u001b[90m┊\u001b[39m GC \u001b[90m(\u001b[39mmean ± σ\u001b[90m):  \u001b[39m0.00% ± 0.00%\n",
       "\n",
       "  \u001b[39m \u001b[39m▄\u001b[39m█\u001b[39m▇\u001b[34m▅\u001b[39m\u001b[39m \u001b[39m \u001b[39m \u001b[32m \u001b[39m\u001b[39m \u001b[39m \u001b[39m \u001b[39m \u001b[39m \u001b[39m \u001b[39m \u001b[39m \u001b[39m \u001b[39m \u001b[39m \u001b[39m \u001b[39m \u001b[39m \u001b[39m \u001b[39m \u001b[39m \u001b[39m \u001b[39m \u001b[39m \u001b[39m \u001b[39m \u001b[39m \u001b[39m \u001b[39m \u001b[39m \u001b[39m \u001b[39m \u001b[39m \u001b[39m \u001b[39m \u001b[39m \u001b[39m \u001b[39m \u001b[39m \u001b[39m \u001b[39m \u001b[39m \u001b[39m \u001b[39m \u001b[39m \u001b[39m \u001b[39m \u001b[39m \u001b[39m \u001b[39m \u001b[39m \u001b[39m \u001b[39m \u001b[39m \u001b[39m \u001b[39m \u001b[39m \n",
       "  \u001b[39m▆\u001b[39m█\u001b[39m█\u001b[39m█\u001b[34m█\u001b[39m\u001b[39m▇\u001b[39m█\u001b[39m▇\u001b[32m█\u001b[39m\u001b[39m▇\u001b[39m▇\u001b[39m▃\u001b[39m▃\u001b[39m▃\u001b[39m▂\u001b[39m▂\u001b[39m▂\u001b[39m▃\u001b[39m▃\u001b[39m▂\u001b[39m▁\u001b[39m▂\u001b[39m▂\u001b[39m▁\u001b[39m▁\u001b[39m▁\u001b[39m▂\u001b[39m▁\u001b[39m▁\u001b[39m▁\u001b[39m▂\u001b[39m▁\u001b[39m▁\u001b[39m▁\u001b[39m▁\u001b[39m▂\u001b[39m▁\u001b[39m▂\u001b[39m▁\u001b[39m▁\u001b[39m▂\u001b[39m▁\u001b[39m▁\u001b[39m▁\u001b[39m▁\u001b[39m▁\u001b[39m▁\u001b[39m▂\u001b[39m▁\u001b[39m▁\u001b[39m▁\u001b[39m▂\u001b[39m▁\u001b[39m▁\u001b[39m▁\u001b[39m▁\u001b[39m▁\u001b[39m▁\u001b[39m▁\u001b[39m▂\u001b[39m \u001b[39m▃\n",
       "  10.6 ms\u001b[90m         Histogram: frequency by time\u001b[39m         11.8 ms \u001b[0m\u001b[1m<\u001b[22m\n",
       "\n",
       " Memory estimate\u001b[90m: \u001b[39m\u001b[33m0 bytes\u001b[39m, allocs estimate\u001b[90m: \u001b[39m\u001b[33m0\u001b[39m."
      ]
     },
     "execution_count": 15,
     "metadata": {},
     "output_type": "execute_result"
    }
   ],
   "source": [
    "c_bench = @benchmark c_sum($a)"
   ]
  },
  {
   "cell_type": "code",
   "execution_count": 16,
   "metadata": {},
   "outputs": [
    {
     "name": "stdout",
     "output_type": "stream",
     "text": [
      "C: Fastest time was 10.627201 msec\n"
     ]
    }
   ],
   "source": [
    "println(\"C: Fastest time was $(minimum(c_bench.times) / 1e6) msec\")"
   ]
  },
  {
   "cell_type": "code",
   "execution_count": 17,
   "metadata": {
    "scrolled": true
   },
   "outputs": [
    {
     "data": {
      "text/plain": [
       "Dict{Any, Any} with 1 entry:\n",
       "  \"C\" => 10.6272"
      ]
     },
     "execution_count": 17,
     "metadata": {},
     "output_type": "execute_result"
    }
   ],
   "source": [
    "d = Dict()  # a \"dictionary\", i.e. an associative array\n",
    "d[\"C\"] = minimum(c_bench.times) / 1e6  # in milliseconds\n",
    "d"
   ]
  },
  {
   "cell_type": "code",
   "execution_count": 18,
   "metadata": {
    "scrolled": true
   },
   "outputs": [
    {
     "data": {
      "text/plain": [
       "Plots.GRBackend()"
      ]
     },
     "execution_count": 18,
     "metadata": {},
     "output_type": "execute_result"
    }
   ],
   "source": [
    "using Plots\n",
    "gr()"
   ]
  },
  {
   "cell_type": "code",
   "execution_count": 19,
   "metadata": {},
   "outputs": [
    {
     "data": {
      "image/png": "[encoded data removed]",
      "image/svg+xml": [
       "<?xml version=\"1.0\" encoding=\"utf-8\"?>\n",
       "<svg xmlns=\"http://www.w3.org/2000/svg\" xmlns:xlink=\"http://www.w3.org/1999/xlink\" width=\"600\" height=\"400\" viewBox=\"0 0 2400 1600\">\n",
       "<defs>\n",
       "  <clipPath id=\"clip650\">\n",
       "    <rect x=\"0\" y=\"0\" width=\"2400\" height=\"1600\"/>\n",
       "  </clipPath>\n",
       "</defs>\n",
       "<path clip-path=\"url(#clip650)\" d=\"M0 1600 L2400 1600 L2400 0 L0 0  Z\" fill=\"#ffffff\" fill-rule=\"evenodd\" fill-opacity=\"1\"/>\n",
       "<defs>\n",
       "  <clipPath id=\"clip651\">\n",
       "    <rect x=\"480\" y=\"0\" width=\"1681\" height=\"1600\"/>\n",
       "  </clipPath>\n",
       "</defs>\n",
       "<path clip-path=\"url(#clip650)\" d=\"M232.389 1423.18 L2352.76 1423.18 L2352.76 47.2441 L232.389 47.2441  Z\" fill=\"#ffffff\" fill-rule=\"evenodd\" fill-opacity=\"1\"/>\n",
       "<defs>\n",
       "  <clipPath id=\"clip652\">\n",
       "    <rect x=\"232\" y=\"47\" width=\"2121\" height=\"1377\"/>\n",
       "  </clipPath>\n",
       "</defs>\n",
       "<polyline clip-path=\"url(#clip652)\" style=\"stroke:#000000; stroke-linecap:round; stroke-linejoin:round; stroke-width:2; stroke-opacity:0.1; fill:none\" points=\"531.044,1423.18 531.044,47.2441 \"/>\n",
       "<polyline clip-path=\"url(#clip652)\" style=\"stroke:#000000; stroke-linecap:round; stroke-linejoin:round; stroke-width:2; stroke-opacity:0.1; fill:none\" points=\"891.742,1423.18 891.742,47.2441 \"/>\n",
       "<polyline clip-path=\"url(#clip652)\" style=\"stroke:#000000; stroke-linecap:round; stroke-linejoin:round; stroke-width:2; stroke-opacity:0.1; fill:none\" points=\"1252.44,1423.18 1252.44,47.2441 \"/>\n",
       "<polyline clip-path=\"url(#clip652)\" style=\"stroke:#000000; stroke-linecap:round; stroke-linejoin:round; stroke-width:2; stroke-opacity:0.1; fill:none\" points=\"1613.14,1423.18 1613.14,47.2441 \"/>\n",
       "<polyline clip-path=\"url(#clip652)\" style=\"stroke:#000000; stroke-linecap:round; stroke-linejoin:round; stroke-width:2; stroke-opacity:0.1; fill:none\" points=\"1973.84,1423.18 1973.84,47.2441 \"/>\n",
       "<polyline clip-path=\"url(#clip652)\" style=\"stroke:#000000; stroke-linecap:round; stroke-linejoin:round; stroke-width:2; stroke-opacity:0.1; fill:none\" points=\"2334.53,1423.18 2334.53,47.2441 \"/>\n",
       "<polyline clip-path=\"url(#clip650)\" style=\"stroke:#000000; stroke-linecap:round; stroke-linejoin:round; stroke-width:4; stroke-opacity:1; fill:none\" points=\"232.389,1423.18 2352.76,1423.18 \"/>\n",
       "<polyline clip-path=\"url(#clip650)\" style=\"stroke:#000000; stroke-linecap:round; stroke-linejoin:round; stroke-width:4; stroke-opacity:1; fill:none\" points=\"531.044,1423.18 531.044,1404.28 \"/>\n",
       "<polyline clip-path=\"url(#clip650)\" style=\"stroke:#000000; stroke-linecap:round; stroke-linejoin:round; stroke-width:4; stroke-opacity:1; fill:none\" points=\"891.742,1423.18 891.742,1404.28 \"/>\n",
       "<polyline clip-path=\"url(#clip650)\" style=\"stroke:#000000; stroke-linecap:round; stroke-linejoin:round; stroke-width:4; stroke-opacity:1; fill:none\" points=\"1252.44,1423.18 1252.44,1404.28 \"/>\n",
       "<polyline clip-path=\"url(#clip650)\" style=\"stroke:#000000; stroke-linecap:round; stroke-linejoin:round; stroke-width:4; stroke-opacity:1; fill:none\" points=\"1613.14,1423.18 1613.14,1404.28 \"/>\n",
       "<polyline clip-path=\"url(#clip650)\" style=\"stroke:#000000; stroke-linecap:round; stroke-linejoin:round; stroke-width:4; stroke-opacity:1; fill:none\" points=\"1973.84,1423.18 1973.84,1404.28 \"/>\n",
       "<polyline clip-path=\"url(#clip650)\" style=\"stroke:#000000; stroke-linecap:round; stroke-linejoin:round; stroke-width:4; stroke-opacity:1; fill:none\" points=\"2334.53,1423.18 2334.53,1404.28 \"/>\n",
       "<path clip-path=\"url(#clip650)\" d=\"M483.567 1481.64 L491.206 1481.64 L491.206 1455.28 L482.896 1456.95 L482.896 1452.69 L491.16 1451.02 L495.836 1451.02 L495.836 1481.64 L503.474 1481.64 L503.474 1485.58 L483.567 1485.58 L483.567 1481.64 Z\" fill=\"#000000\" fill-rule=\"nonzero\" fill-opacity=\"1\" /><path clip-path=\"url(#clip650)\" d=\"M522.919 1454.1 Q519.308 1454.1 517.479 1457.66 Q515.673 1461.2 515.673 1468.33 Q515.673 1475.44 517.479 1479.01 Q519.308 1482.55 522.919 1482.55 Q526.553 1482.55 528.358 1479.01 Q530.187 1475.44 530.187 1468.33 Q530.187 1461.2 528.358 1457.66 Q526.553 1454.1 522.919 1454.1 M522.919 1450.39 Q528.729 1450.39 531.784 1455 Q534.863 1459.58 534.863 1468.33 Q534.863 1477.06 531.784 1481.67 Q528.729 1486.25 522.919 1486.25 Q517.109 1486.25 514.03 1481.67 Q510.974 1477.06 510.974 1468.33 Q510.974 1459.58 514.03 1455 Q517.109 1450.39 522.919 1450.39 Z\" fill=\"#000000\" fill-rule=\"nonzero\" fill-opacity=\"1\" /><path clip-path=\"url(#clip650)\" d=\"M543.081 1479.7 L547.965 1479.7 L547.965 1485.58 L543.081 1485.58 L543.081 1479.7 Z\" fill=\"#000000\" fill-rule=\"nonzero\" fill-opacity=\"1\" /><path clip-path=\"url(#clip650)\" d=\"M556.969 1451.02 L579.192 1451.02 L579.192 1453.01 L566.645 1485.58 L561.761 1485.58 L573.567 1454.96 L556.969 1454.96 L556.969 1451.02 Z\" fill=\"#000000\" fill-rule=\"nonzero\" fill-opacity=\"1\" /><path clip-path=\"url(#clip650)\" d=\"M843.86 1481.64 L851.499 1481.64 L851.499 1455.28 L843.189 1456.95 L843.189 1452.69 L851.452 1451.02 L856.128 1451.02 L856.128 1481.64 L863.767 1481.64 L863.767 1485.58 L843.86 1485.58 L843.86 1481.64 Z\" fill=\"#000000\" fill-rule=\"nonzero\" fill-opacity=\"1\" /><path clip-path=\"url(#clip650)\" d=\"M883.212 1454.1 Q879.6 1454.1 877.772 1457.66 Q875.966 1461.2 875.966 1468.33 Q875.966 1475.44 877.772 1479.01 Q879.6 1482.55 883.212 1482.55 Q886.846 1482.55 888.651 1479.01 Q890.48 1475.44 890.48 1468.33 Q890.48 1461.2 888.651 1457.66 Q886.846 1454.1 883.212 1454.1 M883.212 1450.39 Q889.022 1450.39 892.077 1455 Q895.156 1459.58 895.156 1468.33 Q895.156 1477.06 892.077 1481.67 Q889.022 1486.25 883.212 1486.25 Q877.401 1486.25 874.323 1481.67 Q871.267 1477.06 871.267 1468.33 Q871.267 1459.58 874.323 1455 Q877.401 1450.39 883.212 1450.39 Z\" fill=\"#000000\" fill-rule=\"nonzero\" fill-opacity=\"1\" /><path clip-path=\"url(#clip650)\" d=\"M903.373 1479.7 L908.258 1479.7 L908.258 1485.58 L903.373 1485.58 L903.373 1479.7 Z\" fill=\"#000000\" fill-rule=\"nonzero\" fill-opacity=\"1\" /><path clip-path=\"url(#clip650)\" d=\"M928.443 1469.17 Q925.109 1469.17 923.188 1470.95 Q921.29 1472.73 921.29 1475.86 Q921.29 1478.98 923.188 1480.77 Q925.109 1482.55 928.443 1482.55 Q931.776 1482.55 933.697 1480.77 Q935.619 1478.96 935.619 1475.86 Q935.619 1472.73 933.697 1470.95 Q931.799 1469.17 928.443 1469.17 M923.767 1467.18 Q920.758 1466.44 919.068 1464.38 Q917.401 1462.32 917.401 1459.35 Q917.401 1455.21 920.341 1452.8 Q923.304 1450.39 928.443 1450.39 Q933.605 1450.39 936.545 1452.8 Q939.484 1455.21 939.484 1459.35 Q939.484 1462.32 937.795 1464.38 Q936.128 1466.44 933.142 1467.18 Q936.521 1467.96 938.396 1470.26 Q940.295 1472.55 940.295 1475.86 Q940.295 1480.88 937.216 1483.57 Q934.16 1486.25 928.443 1486.25 Q922.725 1486.25 919.647 1483.57 Q916.591 1480.88 916.591 1475.86 Q916.591 1472.55 918.489 1470.26 Q920.387 1467.96 923.767 1467.18 M922.054 1459.79 Q922.054 1462.48 923.721 1463.98 Q925.41 1465.49 928.443 1465.49 Q931.452 1465.49 933.142 1463.98 Q934.855 1462.48 934.855 1459.79 Q934.855 1457.11 933.142 1455.6 Q931.452 1454.1 928.443 1454.1 Q925.41 1454.1 923.721 1455.6 Q922.054 1457.11 922.054 1459.79 Z\" fill=\"#000000\" fill-rule=\"nonzero\" fill-opacity=\"1\" /><path clip-path=\"url(#clip650)\" d=\"M1204.6 1481.64 L1212.24 1481.64 L1212.24 1455.28 L1203.93 1456.95 L1203.93 1452.69 L1212.2 1451.02 L1216.87 1451.02 L1216.87 1481.64 L1224.51 1481.64 L1224.51 1485.58 L1204.6 1485.58 L1204.6 1481.64 Z\" fill=\"#000000\" fill-rule=\"nonzero\" fill-opacity=\"1\" /><path clip-path=\"url(#clip650)\" d=\"M1243.96 1454.1 Q1240.34 1454.1 1238.52 1457.66 Q1236.71 1461.2 1236.71 1468.33 Q1236.71 1475.44 1238.52 1479.01 Q1240.34 1482.55 1243.96 1482.55 Q1247.59 1482.55 1249.4 1479.01 Q1251.22 1475.44 1251.22 1468.33 Q1251.22 1461.2 1249.4 1457.66 Q1247.59 1454.1 1243.96 1454.1 M1243.96 1450.39 Q1249.77 1450.39 1252.82 1455 Q1255.9 1459.58 1255.9 1468.33 Q1255.9 1477.06 1252.82 1481.67 Q1249.77 1486.25 1243.96 1486.25 Q1238.15 1486.25 1235.07 1481.67 Q1232.01 1477.06 1232.01 1468.33 Q1232.01 1459.58 1235.07 1455 Q1238.15 1450.39 1243.96 1450.39 Z\" fill=\"#000000\" fill-rule=\"nonzero\" fill-opacity=\"1\" /><path clip-path=\"url(#clip650)\" d=\"M1264.12 1479.7 L1269 1479.7 L1269 1485.58 L1264.12 1485.58 L1264.12 1479.7 Z\" fill=\"#000000\" fill-rule=\"nonzero\" fill-opacity=\"1\" /><path clip-path=\"url(#clip650)\" d=\"M1279.33 1484.86 L1279.33 1480.6 Q1281.09 1481.44 1282.89 1481.88 Q1284.7 1482.32 1286.43 1482.32 Q1291.06 1482.32 1293.49 1479.21 Q1295.95 1476.09 1296.29 1469.75 Q1294.95 1471.74 1292.89 1472.8 Q1290.83 1473.87 1288.33 1473.87 Q1283.15 1473.87 1280.11 1470.74 Q1277.1 1467.59 1277.1 1462.15 Q1277.1 1456.83 1280.25 1453.61 Q1283.4 1450.39 1288.63 1450.39 Q1294.63 1450.39 1297.77 1455 Q1300.95 1459.58 1300.95 1468.33 Q1300.95 1476.51 1297.06 1481.39 Q1293.19 1486.25 1286.64 1486.25 Q1284.88 1486.25 1283.08 1485.9 Q1281.27 1485.56 1279.33 1484.86 M1288.63 1470.21 Q1291.78 1470.21 1293.61 1468.06 Q1295.46 1465.9 1295.46 1462.15 Q1295.46 1458.43 1293.61 1456.27 Q1291.78 1454.1 1288.63 1454.1 Q1285.48 1454.1 1283.63 1456.27 Q1281.8 1458.43 1281.8 1462.15 Q1281.8 1465.9 1283.63 1468.06 Q1285.48 1470.21 1288.63 1470.21 Z\" fill=\"#000000\" fill-rule=\"nonzero\" fill-opacity=\"1\" /><path clip-path=\"url(#clip650)\" d=\"M1565.21 1481.64 L1572.85 1481.64 L1572.85 1455.28 L1564.54 1456.95 L1564.54 1452.69 L1572.8 1451.02 L1577.48 1451.02 L1577.48 1481.64 L1585.12 1481.64 L1585.12 1485.58 L1565.21 1485.58 L1565.21 1481.64 Z\" fill=\"#000000\" fill-rule=\"nonzero\" fill-opacity=\"1\" /><path clip-path=\"url(#clip650)\" d=\"M1595.37 1481.64 L1603.01 1481.64 L1603.01 1455.28 L1594.7 1456.95 L1594.7 1452.69 L1602.96 1451.02 L1607.64 1451.02 L1607.64 1481.64 L1615.28 1481.64 L1615.28 1485.58 L1595.37 1485.58 L1595.37 1481.64 Z\" fill=\"#000000\" fill-rule=\"nonzero\" fill-opacity=\"1\" /><path clip-path=\"url(#clip650)\" d=\"M1624.72 1479.7 L1629.61 1479.7 L1629.61 1485.58 L1624.72 1485.58 L1624.72 1479.7 Z\" fill=\"#000000\" fill-rule=\"nonzero\" fill-opacity=\"1\" /><path clip-path=\"url(#clip650)\" d=\"M1649.79 1454.1 Q1646.18 1454.1 1644.35 1457.66 Q1642.55 1461.2 1642.55 1468.33 Q1642.55 1475.44 1644.35 1479.01 Q1646.18 1482.55 1649.79 1482.55 Q1653.43 1482.55 1655.23 1479.01 Q1657.06 1475.44 1657.06 1468.33 Q1657.06 1461.2 1655.23 1457.66 Q1653.43 1454.1 1649.79 1454.1 M1649.79 1450.39 Q1655.6 1450.39 1658.66 1455 Q1661.74 1459.58 1661.74 1468.33 Q1661.74 1477.06 1658.66 1481.67 Q1655.6 1486.25 1649.79 1486.25 Q1643.98 1486.25 1640.9 1481.67 Q1637.85 1477.06 1637.85 1468.33 Q1637.85 1459.58 1640.9 1455 Q1643.98 1450.39 1649.79 1450.39 Z\" fill=\"#000000\" fill-rule=\"nonzero\" fill-opacity=\"1\" /><path clip-path=\"url(#clip650)\" d=\"M1926.52 1481.64 L1934.16 1481.64 L1934.16 1455.28 L1925.85 1456.95 L1925.85 1452.69 L1934.11 1451.02 L1938.79 1451.02 L1938.79 1481.64 L1946.43 1481.64 L1946.43 1485.58 L1926.52 1485.58 L1926.52 1481.64 Z\" fill=\"#000000\" fill-rule=\"nonzero\" fill-opacity=\"1\" /><path clip-path=\"url(#clip650)\" d=\"M1956.68 1481.64 L1964.32 1481.64 L1964.32 1455.28 L1956.01 1456.95 L1956.01 1452.69 L1964.28 1451.02 L1968.95 1451.02 L1968.95 1481.64 L1976.59 1481.64 L1976.59 1485.58 L1956.68 1485.58 L1956.68 1481.64 Z\" fill=\"#000000\" fill-rule=\"nonzero\" fill-opacity=\"1\" /><path clip-path=\"url(#clip650)\" d=\"M1986.03 1479.7 L1990.92 1479.7 L1990.92 1485.58 L1986.03 1485.58 L1986.03 1479.7 Z\" fill=\"#000000\" fill-rule=\"nonzero\" fill-opacity=\"1\" /><path clip-path=\"url(#clip650)\" d=\"M2001.91 1481.64 L2009.55 1481.64 L2009.55 1455.28 L2001.24 1456.95 L2001.24 1452.69 L2009.51 1451.02 L2014.18 1451.02 L2014.18 1481.64 L2021.82 1481.64 L2021.82 1485.58 L2001.91 1485.58 L2001.91 1481.64 Z\" fill=\"#000000\" fill-rule=\"nonzero\" fill-opacity=\"1\" /><path clip-path=\"url(#clip650)\" d=\"M2287.4 1481.64 L2295.04 1481.64 L2295.04 1455.28 L2286.73 1456.95 L2286.73 1452.69 L2295 1451.02 L2299.67 1451.02 L2299.67 1481.64 L2307.31 1481.64 L2307.31 1485.58 L2287.4 1485.58 L2287.4 1481.64 Z\" fill=\"#000000\" fill-rule=\"nonzero\" fill-opacity=\"1\" /><path clip-path=\"url(#clip650)\" d=\"M2317.57 1481.64 L2325.2 1481.64 L2325.2 1455.28 L2316.89 1456.95 L2316.89 1452.69 L2325.16 1451.02 L2329.83 1451.02 L2329.83 1481.64 L2337.47 1481.64 L2337.47 1485.58 L2317.57 1485.58 L2317.57 1481.64 Z\" fill=\"#000000\" fill-rule=\"nonzero\" fill-opacity=\"1\" /><path clip-path=\"url(#clip650)\" d=\"M2346.92 1479.7 L2351.8 1479.7 L2351.8 1485.58 L2346.92 1485.58 L2346.92 1479.7 Z\" fill=\"#000000\" fill-rule=\"nonzero\" fill-opacity=\"1\" /><path clip-path=\"url(#clip650)\" d=\"M2366.01 1481.64 L2382.33 1481.64 L2382.33 1485.58 L2360.39 1485.58 L2360.39 1481.64 Q2363.05 1478.89 2367.64 1474.26 Q2372.24 1469.61 2373.42 1468.27 Q2375.67 1465.74 2376.55 1464.01 Q2377.45 1462.25 2377.45 1460.56 Q2377.45 1457.8 2375.51 1456.07 Q2373.58 1454.33 2370.48 1454.33 Q2368.28 1454.33 2365.83 1455.09 Q2363.4 1455.86 2360.62 1457.41 L2360.62 1452.69 Q2363.45 1451.55 2365.9 1450.97 Q2368.35 1450.39 2370.39 1450.39 Q2375.76 1450.39 2378.95 1453.08 Q2382.15 1455.77 2382.15 1460.26 Q2382.15 1462.39 2381.34 1464.31 Q2380.55 1466.2 2378.45 1468.8 Q2377.87 1469.47 2374.76 1472.69 Q2371.66 1475.88 2366.01 1481.64 Z\" fill=\"#000000\" fill-rule=\"nonzero\" fill-opacity=\"1\" /><path clip-path=\"url(#clip650)\" d=\"M1123.91 1539.24 Q1126.11 1535.29 1129.16 1533.41 Q1132.22 1531.54 1136.36 1531.54 Q1141.93 1531.54 1144.95 1535.45 Q1147.98 1539.33 1147.98 1546.53 L1147.98 1568.04 L1142.09 1568.04 L1142.09 1546.72 Q1142.09 1541.59 1140.27 1539.11 Q1138.46 1536.63 1134.73 1536.63 Q1130.18 1536.63 1127.54 1539.65 Q1124.9 1542.68 1124.9 1547.9 L1124.9 1568.04 L1119.01 1568.04 L1119.01 1546.72 Q1119.01 1541.56 1117.2 1539.11 Q1115.38 1536.63 1111.6 1536.63 Q1107.11 1536.63 1104.47 1539.68 Q1101.82 1542.71 1101.82 1547.9 L1101.82 1568.04 L1095.94 1568.04 L1095.94 1532.4 L1101.82 1532.4 L1101.82 1537.93 Q1103.83 1534.66 1106.63 1533.1 Q1109.43 1531.54 1113.28 1531.54 Q1117.17 1531.54 1119.87 1533.51 Q1122.61 1535.48 1123.91 1539.24 Z\" fill=\"#000000\" fill-rule=\"nonzero\" fill-opacity=\"1\" /><path clip-path=\"url(#clip650)\" d=\"M1159.66 1532.4 L1165.51 1532.4 L1165.51 1568.04 L1159.66 1568.04 L1159.66 1532.4 M1159.66 1518.52 L1165.51 1518.52 L1165.51 1525.93 L1159.66 1525.93 L1159.66 1518.52 Z\" fill=\"#000000\" fill-rule=\"nonzero\" fill-opacity=\"1\" /><path clip-path=\"url(#clip650)\" d=\"M1177.77 1518.52 L1183.62 1518.52 L1183.62 1568.04 L1177.77 1568.04 L1177.77 1518.52 Z\" fill=\"#000000\" fill-rule=\"nonzero\" fill-opacity=\"1\" /><path clip-path=\"url(#clip650)\" d=\"M1195.88 1518.52 L1201.73 1518.52 L1201.73 1568.04 L1195.88 1568.04 L1195.88 1518.52 Z\" fill=\"#000000\" fill-rule=\"nonzero\" fill-opacity=\"1\" /><path clip-path=\"url(#clip650)\" d=\"M1213.99 1532.4 L1219.84 1532.4 L1219.84 1568.04 L1213.99 1568.04 L1213.99 1532.4 M1213.99 1518.52 L1219.84 1518.52 L1219.84 1525.93 L1213.99 1525.93 L1213.99 1518.52 Z\" fill=\"#000000\" fill-rule=\"nonzero\" fill-opacity=\"1\" /><path clip-path=\"url(#clip650)\" d=\"M1254.82 1533.45 L1254.82 1538.98 Q1252.34 1537.71 1249.67 1537.07 Q1246.99 1536.44 1244.13 1536.44 Q1239.77 1536.44 1237.57 1537.77 Q1235.41 1539.11 1235.41 1541.79 Q1235.41 1543.82 1236.97 1545 Q1238.53 1546.15 1243.24 1547.2 L1245.24 1547.64 Q1251.48 1548.98 1254.09 1551.43 Q1256.73 1553.85 1256.73 1558.21 Q1256.73 1563.17 1252.79 1566.07 Q1248.87 1568.97 1242 1568.97 Q1239.13 1568.97 1236.01 1568.39 Q1232.93 1567.85 1229.49 1566.74 L1229.49 1560.69 Q1232.73 1562.38 1235.89 1563.24 Q1239.04 1564.07 1242.12 1564.07 Q1246.26 1564.07 1248.49 1562.66 Q1250.72 1561.23 1250.72 1558.65 Q1250.72 1556.27 1249.09 1554.99 Q1247.5 1553.72 1242.06 1552.54 L1240.02 1552.07 Q1234.58 1550.92 1232.16 1548.56 Q1229.74 1546.18 1229.74 1542.04 Q1229.74 1537.01 1233.31 1534.27 Q1236.87 1531.54 1243.43 1531.54 Q1246.68 1531.54 1249.54 1532.01 Q1252.41 1532.49 1254.82 1533.45 Z\" fill=\"#000000\" fill-rule=\"nonzero\" fill-opacity=\"1\" /><path clip-path=\"url(#clip650)\" d=\"M1296.55 1548.76 L1296.55 1551.62 L1269.62 1551.62 Q1270.01 1557.67 1273.25 1560.85 Q1276.53 1564 1282.36 1564 Q1285.73 1564 1288.88 1563.17 Q1292.06 1562.35 1295.18 1560.69 L1295.18 1566.23 Q1292.03 1567.57 1288.72 1568.27 Q1285.41 1568.97 1282.01 1568.97 Q1273.48 1568.97 1268.48 1564 Q1263.51 1559.04 1263.51 1550.57 Q1263.51 1541.82 1268.22 1536.69 Q1272.97 1531.54 1280.99 1531.54 Q1288.18 1531.54 1292.35 1536.18 Q1296.55 1540.8 1296.55 1548.76 M1290.69 1547.04 Q1290.63 1542.23 1287.99 1539.37 Q1285.38 1536.5 1281.05 1536.5 Q1276.15 1536.5 1273.19 1539.27 Q1270.26 1542.04 1269.82 1547.07 L1290.69 1547.04 Z\" fill=\"#000000\" fill-rule=\"nonzero\" fill-opacity=\"1\" /><path clip-path=\"url(#clip650)\" d=\"M1331.82 1533.76 L1331.82 1539.24 Q1329.33 1537.87 1326.82 1537.2 Q1324.34 1536.5 1321.79 1536.5 Q1316.09 1536.5 1312.94 1540.13 Q1309.79 1543.73 1309.79 1550.25 Q1309.79 1556.78 1312.94 1560.4 Q1316.09 1564 1321.79 1564 Q1324.34 1564 1326.82 1563.33 Q1329.33 1562.63 1331.82 1561.26 L1331.82 1566.68 Q1329.37 1567.82 1326.72 1568.39 Q1324.11 1568.97 1321.15 1568.97 Q1313.1 1568.97 1308.36 1563.91 Q1303.62 1558.85 1303.62 1550.25 Q1303.62 1541.53 1308.39 1536.53 Q1313.2 1531.54 1321.54 1531.54 Q1324.24 1531.54 1326.82 1532.11 Q1329.4 1532.65 1331.82 1533.76 Z\" fill=\"#000000\" fill-rule=\"nonzero\" fill-opacity=\"1\" /><path clip-path=\"url(#clip650)\" d=\"M1355.82 1536.5 Q1351.11 1536.5 1348.37 1540.19 Q1345.63 1543.85 1345.63 1550.25 Q1345.63 1556.65 1348.34 1560.34 Q1351.07 1564 1355.82 1564 Q1360.49 1564 1363.23 1560.31 Q1365.97 1556.62 1365.97 1550.25 Q1365.97 1543.92 1363.23 1540.23 Q1360.49 1536.5 1355.82 1536.5 M1355.82 1531.54 Q1363.45 1531.54 1367.82 1536.5 Q1372.18 1541.47 1372.18 1550.25 Q1372.18 1559 1367.82 1564 Q1363.45 1568.97 1355.82 1568.97 Q1348.15 1568.97 1343.78 1564 Q1339.46 1559 1339.46 1550.25 Q1339.46 1541.47 1343.78 1536.5 Q1348.15 1531.54 1355.82 1531.54 Z\" fill=\"#000000\" fill-rule=\"nonzero\" fill-opacity=\"1\" /><path clip-path=\"url(#clip650)\" d=\"M1411.52 1546.53 L1411.52 1568.04 L1405.66 1568.04 L1405.66 1546.72 Q1405.66 1541.66 1403.69 1539.14 Q1401.71 1536.63 1397.77 1536.63 Q1393.02 1536.63 1390.29 1539.65 Q1387.55 1542.68 1387.55 1547.9 L1387.55 1568.04 L1381.66 1568.04 L1381.66 1532.4 L1387.55 1532.4 L1387.55 1537.93 Q1389.65 1534.72 1392.48 1533.13 Q1395.35 1531.54 1399.07 1531.54 Q1405.21 1531.54 1408.36 1535.36 Q1411.52 1539.14 1411.52 1546.53 Z\" fill=\"#000000\" fill-rule=\"nonzero\" fill-opacity=\"1\" /><path clip-path=\"url(#clip650)\" d=\"M1446.65 1537.81 L1446.65 1518.52 L1452.51 1518.52 L1452.51 1568.04 L1446.65 1568.04 L1446.65 1562.7 Q1444.81 1565.88 1441.98 1567.44 Q1439.17 1568.97 1435.23 1568.97 Q1428.77 1568.97 1424.69 1563.81 Q1420.65 1558.65 1420.65 1550.25 Q1420.65 1541.85 1424.69 1536.69 Q1428.77 1531.54 1435.23 1531.54 Q1439.17 1531.54 1441.98 1533.1 Q1444.81 1534.62 1446.65 1537.81 M1426.7 1550.25 Q1426.7 1556.71 1429.34 1560.4 Q1432.01 1564.07 1436.66 1564.07 Q1441.31 1564.07 1443.98 1560.4 Q1446.65 1556.71 1446.65 1550.25 Q1446.65 1543.79 1443.98 1540.13 Q1441.31 1536.44 1436.66 1536.44 Q1432.01 1536.44 1429.34 1540.13 Q1426.7 1543.79 1426.7 1550.25 Z\" fill=\"#000000\" fill-rule=\"nonzero\" fill-opacity=\"1\" /><path clip-path=\"url(#clip650)\" d=\"M1487.3 1533.45 L1487.3 1538.98 Q1484.82 1537.71 1482.14 1537.07 Q1479.47 1536.44 1476.61 1536.44 Q1472.24 1536.44 1470.05 1537.77 Q1467.88 1539.11 1467.88 1541.79 Q1467.88 1543.82 1469.44 1545 Q1471 1546.15 1475.71 1547.2 L1477.72 1547.64 Q1483.96 1548.98 1486.57 1551.43 Q1489.21 1553.85 1489.21 1558.21 Q1489.21 1563.17 1485.26 1566.07 Q1481.35 1568.97 1474.47 1568.97 Q1471.61 1568.97 1468.49 1568.39 Q1465.4 1567.85 1461.96 1566.74 L1461.96 1560.69 Q1465.21 1562.38 1468.36 1563.24 Q1471.51 1564.07 1474.6 1564.07 Q1478.74 1564.07 1480.97 1562.66 Q1483.19 1561.23 1483.19 1558.65 Q1483.19 1556.27 1481.57 1554.99 Q1479.98 1553.72 1474.54 1552.54 L1472.5 1552.07 Q1467.06 1550.92 1464.64 1548.56 Q1462.22 1546.18 1462.22 1542.04 Q1462.22 1537.01 1465.78 1534.27 Q1469.35 1531.54 1475.9 1531.54 Q1479.15 1531.54 1482.02 1532.01 Q1484.88 1532.49 1487.3 1533.45 Z\" fill=\"#000000\" fill-rule=\"nonzero\" fill-opacity=\"1\" /><polyline clip-path=\"url(#clip652)\" style=\"stroke:#000000; stroke-linecap:round; stroke-linejoin:round; stroke-width:2; stroke-opacity:0.1; fill:none\" points=\"232.389,1423.18 2352.76,1423.18 \"/>\n",
       "<polyline clip-path=\"url(#clip652)\" style=\"stroke:#000000; stroke-linecap:round; stroke-linejoin:round; stroke-width:2; stroke-opacity:0.1; fill:none\" points=\"232.389,1023.2 2352.76,1023.2 \"/>\n",
       "<polyline clip-path=\"url(#clip652)\" style=\"stroke:#000000; stroke-linecap:round; stroke-linejoin:round; stroke-width:2; stroke-opacity:0.1; fill:none\" points=\"232.389,623.217 2352.76,623.217 \"/>\n",
       "<polyline clip-path=\"url(#clip652)\" style=\"stroke:#000000; stroke-linecap:round; stroke-linejoin:round; stroke-width:2; stroke-opacity:0.1; fill:none\" points=\"232.389,223.236 2352.76,223.236 \"/>\n",
       "<polyline clip-path=\"url(#clip650)\" style=\"stroke:#000000; stroke-linecap:round; stroke-linejoin:round; stroke-width:4; stroke-opacity:1; fill:none\" points=\"232.389,1423.18 232.389,47.2441 \"/>\n",
       "<polyline clip-path=\"url(#clip650)\" style=\"stroke:#000000; stroke-linecap:round; stroke-linejoin:round; stroke-width:4; stroke-opacity:1; fill:none\" points=\"232.389,1423.18 251.287,1423.18 \"/>\n",
       "<polyline clip-path=\"url(#clip650)\" style=\"stroke:#000000; stroke-linecap:round; stroke-linejoin:round; stroke-width:4; stroke-opacity:1; fill:none\" points=\"232.389,1023.2 251.287,1023.2 \"/>\n",
       "<polyline clip-path=\"url(#clip650)\" style=\"stroke:#000000; stroke-linecap:round; stroke-linejoin:round; stroke-width:4; stroke-opacity:1; fill:none\" points=\"232.389,623.217 251.287,623.217 \"/>\n",
       "<polyline clip-path=\"url(#clip650)\" style=\"stroke:#000000; stroke-linecap:round; stroke-linejoin:round; stroke-width:4; stroke-opacity:1; fill:none\" points=\"232.389,223.236 251.287,223.236 \"/>\n",
       "<path clip-path=\"url(#clip650)\" d=\"M184.445 1408.98 Q180.834 1408.98 179.005 1412.54 Q177.2 1416.08 177.2 1423.21 Q177.2 1430.32 179.005 1433.89 Q180.834 1437.43 184.445 1437.43 Q188.079 1437.43 189.885 1433.89 Q191.713 1430.32 191.713 1423.21 Q191.713 1416.08 189.885 1412.54 Q188.079 1408.98 184.445 1408.98 M184.445 1405.27 Q190.255 1405.27 193.311 1409.88 Q196.389 1414.46 196.389 1423.21 Q196.389 1431.94 193.311 1436.55 Q190.255 1441.13 184.445 1441.13 Q178.635 1441.13 175.556 1436.55 Q172.501 1431.94 172.501 1423.21 Q172.501 1414.46 175.556 1409.88 Q178.635 1405.27 184.445 1405.27 Z\" fill=\"#000000\" fill-rule=\"nonzero\" fill-opacity=\"1\" /><path clip-path=\"url(#clip650)\" d=\"M144.329 1005.92 L162.686 1005.92 L162.686 1009.85 L148.612 1009.85 L148.612 1018.33 Q149.63 1017.98 150.649 1017.82 Q151.667 1017.63 152.686 1017.63 Q158.473 1017.63 161.852 1020.8 Q165.232 1023.97 165.232 1029.39 Q165.232 1034.97 161.76 1038.07 Q158.288 1041.15 151.968 1041.15 Q149.792 1041.15 147.524 1040.78 Q145.279 1040.41 142.871 1039.67 L142.871 1034.97 Q144.954 1036.1 147.177 1036.66 Q149.399 1037.21 151.876 1037.21 Q155.88 1037.21 158.218 1035.11 Q160.556 1033 160.556 1029.39 Q160.556 1025.78 158.218 1023.67 Q155.88 1021.57 151.876 1021.57 Q150.001 1021.57 148.126 1021.98 Q146.274 1022.4 144.329 1023.28 L144.329 1005.92 Z\" fill=\"#000000\" fill-rule=\"nonzero\" fill-opacity=\"1\" /><path clip-path=\"url(#clip650)\" d=\"M184.445 1009 Q180.834 1009 179.005 1012.56 Q177.2 1016.1 177.2 1023.23 Q177.2 1030.34 179.005 1033.9 Q180.834 1037.45 184.445 1037.45 Q188.079 1037.45 189.885 1033.9 Q191.713 1030.34 191.713 1023.23 Q191.713 1016.1 189.885 1012.56 Q188.079 1009 184.445 1009 M184.445 1005.29 Q190.255 1005.29 193.311 1009.9 Q196.389 1014.48 196.389 1023.23 Q196.389 1031.96 193.311 1036.57 Q190.255 1041.15 184.445 1041.15 Q178.635 1041.15 175.556 1036.57 Q172.501 1031.96 172.501 1023.23 Q172.501 1014.48 175.556 1009.9 Q178.635 1005.29 184.445 1005.29 Z\" fill=\"#000000\" fill-rule=\"nonzero\" fill-opacity=\"1\" /><path clip-path=\"url(#clip650)\" d=\"M114.931 636.562 L122.57 636.562 L122.57 610.196 L114.26 611.863 L114.26 607.604 L122.524 605.937 L127.2 605.937 L127.2 636.562 L134.839 636.562 L134.839 640.497 L114.931 640.497 L114.931 636.562 Z\" fill=\"#000000\" fill-rule=\"nonzero\" fill-opacity=\"1\" /><path clip-path=\"url(#clip650)\" d=\"M154.283 609.016 Q150.672 609.016 148.843 612.581 Q147.038 616.122 147.038 623.252 Q147.038 630.358 148.843 633.923 Q150.672 637.465 154.283 637.465 Q157.917 637.465 159.723 633.923 Q161.552 630.358 161.552 623.252 Q161.552 616.122 159.723 612.581 Q157.917 609.016 154.283 609.016 M154.283 605.312 Q160.093 605.312 163.149 609.919 Q166.227 614.502 166.227 623.252 Q166.227 631.979 163.149 636.585 Q160.093 641.168 154.283 641.168 Q148.473 641.168 145.394 636.585 Q142.339 631.979 142.339 623.252 Q142.339 614.502 145.394 609.919 Q148.473 605.312 154.283 605.312 Z\" fill=\"#000000\" fill-rule=\"nonzero\" fill-opacity=\"1\" /><path clip-path=\"url(#clip650)\" d=\"M184.445 609.016 Q180.834 609.016 179.005 612.581 Q177.2 616.122 177.2 623.252 Q177.2 630.358 179.005 633.923 Q180.834 637.465 184.445 637.465 Q188.079 637.465 189.885 633.923 Q191.713 630.358 191.713 623.252 Q191.713 616.122 189.885 612.581 Q188.079 609.016 184.445 609.016 M184.445 605.312 Q190.255 605.312 193.311 609.919 Q196.389 614.502 196.389 623.252 Q196.389 631.979 193.311 636.585 Q190.255 641.168 184.445 641.168 Q178.635 641.168 175.556 636.585 Q172.501 631.979 172.501 623.252 Q172.501 614.502 175.556 609.919 Q178.635 605.312 184.445 605.312 Z\" fill=\"#000000\" fill-rule=\"nonzero\" fill-opacity=\"1\" /><path clip-path=\"url(#clip650)\" d=\"M114.931 236.581 L122.57 236.581 L122.57 210.215 L114.26 211.882 L114.26 207.623 L122.524 205.956 L127.2 205.956 L127.2 236.581 L134.839 236.581 L134.839 240.516 L114.931 240.516 L114.931 236.581 Z\" fill=\"#000000\" fill-rule=\"nonzero\" fill-opacity=\"1\" /><path clip-path=\"url(#clip650)\" d=\"M144.329 205.956 L162.686 205.956 L162.686 209.891 L148.612 209.891 L148.612 218.363 Q149.63 218.016 150.649 217.854 Q151.667 217.669 152.686 217.669 Q158.473 217.669 161.852 220.84 Q165.232 224.011 165.232 229.428 Q165.232 235.007 161.76 238.108 Q158.288 241.187 151.968 241.187 Q149.792 241.187 147.524 240.817 Q145.279 240.446 142.871 239.706 L142.871 235.007 Q144.954 236.141 147.177 236.696 Q149.399 237.252 151.876 237.252 Q155.88 237.252 158.218 235.146 Q160.556 233.039 160.556 229.428 Q160.556 225.817 158.218 223.71 Q155.88 221.604 151.876 221.604 Q150.001 221.604 148.126 222.021 Q146.274 222.437 144.329 223.317 L144.329 205.956 Z\" fill=\"#000000\" fill-rule=\"nonzero\" fill-opacity=\"1\" /><path clip-path=\"url(#clip650)\" d=\"M184.445 209.035 Q180.834 209.035 179.005 212.599 Q177.2 216.141 177.2 223.271 Q177.2 230.377 179.005 233.942 Q180.834 237.483 184.445 237.483 Q188.079 237.483 189.885 233.942 Q191.713 230.377 191.713 223.271 Q191.713 216.141 189.885 212.599 Q188.079 209.035 184.445 209.035 M184.445 205.331 Q190.255 205.331 193.311 209.937 Q196.389 214.521 196.389 223.271 Q196.389 231.997 193.311 236.604 Q190.255 241.187 184.445 241.187 Q178.635 241.187 175.556 236.604 Q172.501 231.997 172.501 223.271 Q172.501 214.521 175.556 209.937 Q178.635 205.331 184.445 205.331 Z\" fill=\"#000000\" fill-rule=\"nonzero\" fill-opacity=\"1\" /><path clip-path=\"url(#clip650)\" d=\"M29.7248 796.386 L35.1993 796.386 Q33.8307 798.869 33.1623 801.383 Q32.4621 803.866 32.4621 806.412 Q32.4621 812.11 36.0905 815.261 Q39.6872 818.412 46.212 818.412 Q52.7369 818.412 56.3653 815.261 Q59.9619 812.11 59.9619 806.412 Q59.9619 803.866 59.2935 801.383 Q58.5933 798.869 57.2247 796.386 L62.6355 796.386 Q63.7814 798.837 64.3543 801.479 Q64.9272 804.089 64.9272 807.049 Q64.9272 815.102 59.8664 819.844 Q54.8057 824.586 46.212 824.586 Q37.491 824.586 32.4939 819.812 Q27.4968 815.006 27.4968 806.667 Q27.4968 803.962 28.0697 801.383 Q28.6108 798.805 29.7248 796.386 Z\" fill=\"#000000\" fill-rule=\"nonzero\" fill-opacity=\"1\" /><path clip-path=\"url(#clip650)\" d=\"M32.4621 772.388 Q32.4621 777.098 36.1542 779.836 Q39.8145 782.573 46.212 782.573 Q52.6095 782.573 56.3017 779.867 Q59.9619 777.13 59.9619 772.388 Q59.9619 767.709 56.2698 764.972 Q52.5777 762.234 46.212 762.234 Q39.8781 762.234 36.186 764.972 Q32.4621 767.709 32.4621 772.388 M27.4968 772.388 Q27.4968 764.749 32.4621 760.388 Q37.4273 756.028 46.212 756.028 Q54.9649 756.028 59.9619 760.388 Q64.9272 764.749 64.9272 772.388 Q64.9272 780.058 59.9619 784.419 Q54.9649 788.748 46.212 788.748 Q37.4273 788.748 32.4621 784.419 Q27.4968 780.058 27.4968 772.388 Z\" fill=\"#000000\" fill-rule=\"nonzero\" fill-opacity=\"1\" /><path clip-path=\"url(#clip650)\" d=\"M49.9359 746.925 L28.3562 746.925 L28.3562 741.068 L49.7131 741.068 Q54.7739 741.068 57.3202 739.095 Q59.8346 737.122 59.8346 733.175 Q59.8346 728.432 56.8109 725.695 Q53.7872 722.926 48.5673 722.926 L28.3562 722.926 L28.3562 717.07 L64.0042 717.07 L64.0042 722.926 L58.5296 722.926 Q61.7762 725.059 63.3676 727.891 Q64.9272 730.692 64.9272 734.416 Q64.9272 740.559 61.1078 743.742 Q57.2883 746.925 49.9359 746.925 M27.4968 732.188 L27.4968 732.188 Z\" fill=\"#000000\" fill-rule=\"nonzero\" fill-opacity=\"1\" /><path clip-path=\"url(#clip650)\" d=\"M42.4881 675.374 L64.0042 675.374 L64.0042 681.231 L42.679 681.231 Q37.6183 681.231 35.1038 683.204 Q32.5894 685.178 32.5894 689.124 Q32.5894 693.867 35.6131 696.604 Q38.6368 699.341 43.8567 699.341 L64.0042 699.341 L64.0042 705.229 L28.3562 705.229 L28.3562 699.341 L33.8944 699.341 Q30.6797 697.241 29.0883 694.408 Q27.4968 691.543 27.4968 687.819 Q27.4968 681.676 31.3163 678.525 Q35.1038 675.374 42.4881 675.374 Z\" fill=\"#000000\" fill-rule=\"nonzero\" fill-opacity=\"1\" /><path clip-path=\"url(#clip650)\" d=\"M18.2347 657.9 L28.3562 657.9 L28.3562 645.837 L32.9077 645.837 L32.9077 657.9 L52.2594 657.9 Q56.6199 657.9 57.8613 656.723 Q59.1026 655.513 59.1026 651.853 L59.1026 645.837 L64.0042 645.837 L64.0042 651.853 Q64.0042 658.633 61.4897 661.211 Q58.9434 663.789 52.2594 663.789 L32.9077 663.789 L32.9077 668.086 L28.3562 668.086 L28.3562 663.789 L18.2347 663.789 L18.2347 657.9 Z\" fill=\"#000000\" fill-rule=\"nonzero\" fill-opacity=\"1\" /><path clip-path=\"url(#clip652)\" d=\"M170.346 1239.19 L170.346 1423.18 L350.695 1423.18 L350.695 1239.19 L170.346 1239.19 L170.346 1239.19  Z\" fill=\"#009af9\" fill-rule=\"evenodd\" fill-opacity=\"1\"/>\n",
       "<polyline clip-path=\"url(#clip652)\" style=\"stroke:#000000; stroke-linecap:round; stroke-linejoin:round; stroke-width:4; stroke-opacity:1; fill:none\" points=\"170.346,1239.19 170.346,1423.18 350.695,1423.18 350.695,1239.19 170.346,1239.19 \"/>\n",
       "<path clip-path=\"url(#clip652)\" d=\"M350.695 47.2441 L350.695 1423.18 L531.044 1423.18 L531.044 47.2441 L350.695 47.2441 L350.695 47.2441  Z\" fill=\"#009af9\" fill-rule=\"evenodd\" fill-opacity=\"1\"/>\n",
       "<polyline clip-path=\"url(#clip652)\" style=\"stroke:#000000; stroke-linecap:round; stroke-linejoin:round; stroke-width:4; stroke-opacity:1; fill:none\" points=\"350.695,47.2441 350.695,1423.18 531.044,1423.18 531.044,47.2441 350.695,47.2441 \"/>\n",
       "<path clip-path=\"url(#clip652)\" d=\"M531.044 639.216 L531.044 1423.18 L711.393 1423.18 L711.393 639.216 L531.044 639.216 L531.044 639.216  Z\" fill=\"#009af9\" fill-rule=\"evenodd\" fill-opacity=\"1\"/>\n",
       "<polyline clip-path=\"url(#clip652)\" style=\"stroke:#000000; stroke-linecap:round; stroke-linejoin:round; stroke-width:4; stroke-opacity:1; fill:none\" points=\"531.044,639.216 531.044,1423.18 711.393,1423.18 711.393,639.216 531.044,639.216 \"/>\n",
       "<path clip-path=\"url(#clip652)\" d=\"M711.393 839.207 L711.393 1423.18 L891.742 1423.18 L891.742 839.207 L711.393 839.207 L711.393 839.207  Z\" fill=\"#009af9\" fill-rule=\"evenodd\" fill-opacity=\"1\"/>\n",
       "<polyline clip-path=\"url(#clip652)\" style=\"stroke:#000000; stroke-linecap:round; stroke-linejoin:round; stroke-width:4; stroke-opacity:1; fill:none\" points=\"711.393,839.207 711.393,1423.18 891.742,1423.18 891.742,839.207 711.393,839.207 \"/>\n",
       "<path clip-path=\"url(#clip652)\" d=\"M891.742 991.2 L891.742 1423.18 L1072.09 1423.18 L1072.09 991.2 L891.742 991.2 L891.742 991.2  Z\" fill=\"#009af9\" fill-rule=\"evenodd\" fill-opacity=\"1\"/>\n",
       "<polyline clip-path=\"url(#clip652)\" style=\"stroke:#000000; stroke-linecap:round; stroke-linejoin:round; stroke-width:4; stroke-opacity:1; fill:none\" points=\"891.742,991.2 891.742,1423.18 1072.09,1423.18 1072.09,991.2 891.742,991.2 \"/>\n",
       "<path clip-path=\"url(#clip652)\" d=\"M1072.09 1311.19 L1072.09 1423.18 L1252.44 1423.18 L1252.44 1311.19 L1072.09 1311.19 L1072.09 1311.19  Z\" fill=\"#009af9\" fill-rule=\"evenodd\" fill-opacity=\"1\"/>\n",
       "<polyline clip-path=\"url(#clip652)\" style=\"stroke:#000000; stroke-linecap:round; stroke-linejoin:round; stroke-width:4; stroke-opacity:1; fill:none\" points=\"1072.09,1311.19 1072.09,1423.18 1252.44,1423.18 1252.44,1311.19 1072.09,1311.19 \"/>\n",
       "<path clip-path=\"url(#clip652)\" d=\"M1252.44 1391.18 L1252.44 1423.18 L1432.79 1423.18 L1432.79 1391.18 L1252.44 1391.18 L1252.44 1391.18  Z\" fill=\"#009af9\" fill-rule=\"evenodd\" fill-opacity=\"1\"/>\n",
       "<polyline clip-path=\"url(#clip652)\" style=\"stroke:#000000; stroke-linecap:round; stroke-linejoin:round; stroke-width:4; stroke-opacity:1; fill:none\" points=\"1252.44,1391.18 1252.44,1423.18 1432.79,1423.18 1432.79,1391.18 1252.44,1391.18 \"/>\n",
       "<path clip-path=\"url(#clip652)\" d=\"M1432.79 1351.18 L1432.79 1423.18 L1613.14 1423.18 L1613.14 1351.18 L1432.79 1351.18 L1432.79 1351.18  Z\" fill=\"#009af9\" fill-rule=\"evenodd\" fill-opacity=\"1\"/>\n",
       "<polyline clip-path=\"url(#clip652)\" style=\"stroke:#000000; stroke-linecap:round; stroke-linejoin:round; stroke-width:4; stroke-opacity:1; fill:none\" points=\"1432.79,1351.18 1432.79,1423.18 1613.14,1423.18 1613.14,1351.18 1432.79,1351.18 \"/>\n",
       "<path clip-path=\"url(#clip652)\" d=\"M1613.14 1399.18 L1613.14 1423.18 L1793.49 1423.18 L1793.49 1399.18 L1613.14 1399.18 L1613.14 1399.18  Z\" fill=\"#009af9\" fill-rule=\"evenodd\" fill-opacity=\"1\"/>\n",
       "<polyline clip-path=\"url(#clip652)\" style=\"stroke:#000000; stroke-linecap:round; stroke-linejoin:round; stroke-width:4; stroke-opacity:1; fill:none\" points=\"1613.14,1399.18 1613.14,1423.18 1793.49,1423.18 1793.49,1399.18 1613.14,1399.18 \"/>\n",
       "<path clip-path=\"url(#clip652)\" d=\"M1793.49 1415.18 L1793.49 1423.18 L1973.84 1423.18 L1973.84 1415.18 L1793.49 1415.18 L1793.49 1415.18  Z\" fill=\"#009af9\" fill-rule=\"evenodd\" fill-opacity=\"1\"/>\n",
       "<polyline clip-path=\"url(#clip652)\" style=\"stroke:#000000; stroke-linecap:round; stroke-linejoin:round; stroke-width:4; stroke-opacity:1; fill:none\" points=\"1793.49,1415.18 1793.49,1423.18 1973.84,1423.18 1973.84,1415.18 1793.49,1415.18 \"/>\n",
       "<path clip-path=\"url(#clip652)\" d=\"M1973.84 1415.18 L1973.84 1423.18 L2154.18 1423.18 L2154.18 1415.18 L1973.84 1415.18 L1973.84 1415.18  Z\" fill=\"#009af9\" fill-rule=\"evenodd\" fill-opacity=\"1\"/>\n",
       "<polyline clip-path=\"url(#clip652)\" style=\"stroke:#000000; stroke-linecap:round; stroke-linejoin:round; stroke-width:4; stroke-opacity:1; fill:none\" points=\"1973.84,1415.18 1973.84,1423.18 2154.18,1423.18 2154.18,1415.18 1973.84,1415.18 \"/>\n",
       "<path clip-path=\"url(#clip652)\" d=\"M2154.18 1423.18 L2154.18 1423.18 L2334.53 1423.18 L2334.53 1423.18 L2154.18 1423.18 L2154.18 1423.18  Z\" fill=\"#009af9\" fill-rule=\"evenodd\" fill-opacity=\"1\"/>\n",
       "<polyline clip-path=\"url(#clip652)\" style=\"stroke:#000000; stroke-linecap:round; stroke-linejoin:round; stroke-width:4; stroke-opacity:1; fill:none\" points=\"2154.18,1423.18 2154.18,1423.18 2334.53,1423.18 2154.18,1423.18 \"/>\n",
       "<path clip-path=\"url(#clip652)\" d=\"M2334.53 1415.18 L2334.53 1423.18 L2514.88 1423.18 L2514.88 1415.18 L2334.53 1415.18 L2334.53 1415.18  Z\" fill=\"#009af9\" fill-rule=\"evenodd\" fill-opacity=\"1\"/>\n",
       "<polyline clip-path=\"url(#clip652)\" style=\"stroke:#000000; stroke-linecap:round; stroke-linejoin:round; stroke-width:4; stroke-opacity:1; fill:none\" points=\"2334.53,1415.18 2334.53,1423.18 2514.88,1423.18 2514.88,1415.18 2334.53,1415.18 \"/>\n",
       "<path clip-path=\"url(#clip652)\" d=\"M2514.88 1423.18 L2514.88 1423.18 L2695.23 1423.18 L2695.23 1423.18 L2514.88 1423.18 L2514.88 1423.18  Z\" fill=\"#009af9\" fill-rule=\"evenodd\" fill-opacity=\"1\"/>\n",
       "<polyline clip-path=\"url(#clip652)\" style=\"stroke:#000000; stroke-linecap:round; stroke-linejoin:round; stroke-width:4; stroke-opacity:1; fill:none\" points=\"2514.88,1423.18 2514.88,1423.18 2695.23,1423.18 2514.88,1423.18 \"/>\n",
       "<path clip-path=\"url(#clip652)\" d=\"M2695.23 1415.18 L2695.23 1423.18 L2875.58 1423.18 L2875.58 1415.18 L2695.23 1415.18 L2695.23 1415.18  Z\" fill=\"#009af9\" fill-rule=\"evenodd\" fill-opacity=\"1\"/>\n",
       "<polyline clip-path=\"url(#clip652)\" style=\"stroke:#000000; stroke-linecap:round; stroke-linejoin:round; stroke-width:4; stroke-opacity:1; fill:none\" points=\"2695.23,1415.18 2695.23,1423.18 2875.58,1423.18 2875.58,1415.18 2695.23,1415.18 \"/>\n",
       "<path clip-path=\"url(#clip652)\" d=\"M2875.58 1415.18 L2875.58 1423.18 L3055.93 1423.18 L3055.93 1415.18 L2875.58 1415.18 L2875.58 1415.18  Z\" fill=\"#009af9\" fill-rule=\"evenodd\" fill-opacity=\"1\"/>\n",
       "<polyline clip-path=\"url(#clip652)\" style=\"stroke:#000000; stroke-linecap:round; stroke-linejoin:round; stroke-width:4; stroke-opacity:1; fill:none\" points=\"2875.58,1415.18 2875.58,1423.18 3055.93,1423.18 3055.93,1415.18 2875.58,1415.18 \"/>\n",
       "<path clip-path=\"url(#clip652)\" d=\"M3055.93 1415.18 L3055.93 1423.18 L3236.28 1423.18 L3236.28 1415.18 L3055.93 1415.18 L3055.93 1415.18  Z\" fill=\"#009af9\" fill-rule=\"evenodd\" fill-opacity=\"1\"/>\n",
       "<polyline clip-path=\"url(#clip652)\" style=\"stroke:#000000; stroke-linecap:round; stroke-linejoin:round; stroke-width:4; stroke-opacity:1; fill:none\" points=\"3055.93,1415.18 3055.93,1423.18 3236.28,1423.18 3236.28,1415.18 3055.93,1415.18 \"/>\n",
       "<path clip-path=\"url(#clip652)\" d=\"M3236.28 1423.18 L3236.28 1423.18 L3416.63 1423.18 L3416.63 1423.18 L3236.28 1423.18 L3236.28 1423.18  Z\" fill=\"#009af9\" fill-rule=\"evenodd\" fill-opacity=\"1\"/>\n",
       "<polyline clip-path=\"url(#clip652)\" style=\"stroke:#000000; stroke-linecap:round; stroke-linejoin:round; stroke-width:4; stroke-opacity:1; fill:none\" points=\"3236.28,1423.18 3236.28,1423.18 3416.63,1423.18 3236.28,1423.18 \"/>\n",
       "<path clip-path=\"url(#clip652)\" d=\"M3416.63 1415.18 L3416.63 1423.18 L3596.98 1423.18 L3596.98 1415.18 L3416.63 1415.18 L3416.63 1415.18  Z\" fill=\"#009af9\" fill-rule=\"evenodd\" fill-opacity=\"1\"/>\n",
       "<polyline clip-path=\"url(#clip652)\" style=\"stroke:#000000; stroke-linecap:round; stroke-linejoin:round; stroke-width:4; stroke-opacity:1; fill:none\" points=\"3416.63,1415.18 3416.63,1423.18 3596.98,1423.18 3596.98,1415.18 3416.63,1415.18 \"/>\n",
       "<path clip-path=\"url(#clip652)\" d=\"M3596.98 1423.18 L3596.98 1423.18 L3777.33 1423.18 L3777.33 1423.18 L3596.98 1423.18 L3596.98 1423.18  Z\" fill=\"#009af9\" fill-rule=\"evenodd\" fill-opacity=\"1\"/>\n",
       "<polyline clip-path=\"url(#clip652)\" style=\"stroke:#000000; stroke-linecap:round; stroke-linejoin:round; stroke-width:4; stroke-opacity:1; fill:none\" points=\"3596.98,1423.18 3596.98,1423.18 3777.33,1423.18 3596.98,1423.18 \"/>\n",
       "<path clip-path=\"url(#clip652)\" d=\"M3777.33 1415.18 L3777.33 1423.18 L3957.67 1423.18 L3957.67 1415.18 L3777.33 1415.18 L3777.33 1415.18  Z\" fill=\"#009af9\" fill-rule=\"evenodd\" fill-opacity=\"1\"/>\n",
       "<polyline clip-path=\"url(#clip652)\" style=\"stroke:#000000; stroke-linecap:round; stroke-linejoin:round; stroke-width:4; stroke-opacity:1; fill:none\" points=\"3777.33,1415.18 3777.33,1423.18 3957.67,1423.18 3957.67,1415.18 3777.33,1415.18 \"/>\n",
       "<path clip-path=\"url(#clip652)\" d=\"M3957.67 1423.18 L3957.67 1423.18 L4138.02 1423.18 L4138.02 1423.18 L3957.67 1423.18 L3957.67 1423.18  Z\" fill=\"#009af9\" fill-rule=\"evenodd\" fill-opacity=\"1\"/>\n",
       "<polyline clip-path=\"url(#clip652)\" style=\"stroke:#000000; stroke-linecap:round; stroke-linejoin:round; stroke-width:4; stroke-opacity:1; fill:none\" points=\"3957.67,1423.18 3957.67,1423.18 4138.02,1423.18 3957.67,1423.18 \"/>\n",
       "<path clip-path=\"url(#clip652)\" d=\"M4138.02 1423.18 L4138.02 1423.18 L4318.37 1423.18 L4318.37 1423.18 L4138.02 1423.18 L4138.02 1423.18  Z\" fill=\"#009af9\" fill-rule=\"evenodd\" fill-opacity=\"1\"/>\n",
       "<polyline clip-path=\"url(#clip652)\" style=\"stroke:#000000; stroke-linecap:round; stroke-linejoin:round; stroke-width:4; stroke-opacity:1; fill:none\" points=\"4138.02,1423.18 4138.02,1423.18 4318.37,1423.18 4138.02,1423.18 \"/>\n",
       "<path clip-path=\"url(#clip652)\" d=\"M4318.37 1415.18 L4318.37 1423.18 L4498.72 1423.18 L4498.72 1415.18 L4318.37 1415.18 L4318.37 1415.18  Z\" fill=\"#009af9\" fill-rule=\"evenodd\" fill-opacity=\"1\"/>\n",
       "<polyline clip-path=\"url(#clip652)\" style=\"stroke:#000000; stroke-linecap:round; stroke-linejoin:round; stroke-width:4; stroke-opacity:1; fill:none\" points=\"4318.37,1415.18 4318.37,1423.18 4498.72,1423.18 4498.72,1415.18 4318.37,1415.18 \"/>\n",
       "<path clip-path=\"url(#clip652)\" d=\"M4498.72 1415.18 L4498.72 1423.18 L4679.07 1423.18 L4679.07 1415.18 L4498.72 1415.18 L4498.72 1415.18  Z\" fill=\"#009af9\" fill-rule=\"evenodd\" fill-opacity=\"1\"/>\n",
       "<polyline clip-path=\"url(#clip652)\" style=\"stroke:#000000; stroke-linecap:round; stroke-linejoin:round; stroke-width:4; stroke-opacity:1; fill:none\" points=\"4498.72,1415.18 4498.72,1423.18 4679.07,1423.18 4679.07,1415.18 4498.72,1415.18 \"/>\n",
       "<path clip-path=\"url(#clip652)\" d=\"M4679.07 1423.18 L4679.07 1423.18 L4859.42 1423.18 L4859.42 1423.18 L4679.07 1423.18 L4679.07 1423.18  Z\" fill=\"#009af9\" fill-rule=\"evenodd\" fill-opacity=\"1\"/>\n",
       "<polyline clip-path=\"url(#clip652)\" style=\"stroke:#000000; stroke-linecap:round; stroke-linejoin:round; stroke-width:4; stroke-opacity:1; fill:none\" points=\"4679.07,1423.18 4679.07,1423.18 4859.42,1423.18 4679.07,1423.18 \"/>\n",
       "<path clip-path=\"url(#clip652)\" d=\"M4859.42 1415.18 L4859.42 1423.18 L5039.77 1423.18 L5039.77 1415.18 L4859.42 1415.18 L4859.42 1415.18  Z\" fill=\"#009af9\" fill-rule=\"evenodd\" fill-opacity=\"1\"/>\n",
       "<polyline clip-path=\"url(#clip652)\" style=\"stroke:#000000; stroke-linecap:round; stroke-linejoin:round; stroke-width:4; stroke-opacity:1; fill:none\" points=\"4859.42,1415.18 4859.42,1423.18 5039.77,1423.18 5039.77,1415.18 4859.42,1415.18 \"/>\n",
       "<path clip-path=\"url(#clip652)\" d=\"M5039.77 1423.18 L5039.77 1423.18 L5220.12 1423.18 L5220.12 1423.18 L5039.77 1423.18 L5039.77 1423.18  Z\" fill=\"#009af9\" fill-rule=\"evenodd\" fill-opacity=\"1\"/>\n",
       "<polyline clip-path=\"url(#clip652)\" style=\"stroke:#000000; stroke-linecap:round; stroke-linejoin:round; stroke-width:4; stroke-opacity:1; fill:none\" points=\"5039.77,1423.18 5039.77,1423.18 5220.12,1423.18 5039.77,1423.18 \"/>\n",
       "<path clip-path=\"url(#clip652)\" d=\"M5220.12 1415.18 L5220.12 1423.18 L5400.47 1423.18 L5400.47 1415.18 L5220.12 1415.18 L5220.12 1415.18  Z\" fill=\"#009af9\" fill-rule=\"evenodd\" fill-opacity=\"1\"/>\n",
       "<polyline clip-path=\"url(#clip652)\" style=\"stroke:#000000; stroke-linecap:round; stroke-linejoin:round; stroke-width:4; stroke-opacity:1; fill:none\" points=\"5220.12,1415.18 5220.12,1423.18 5400.47,1423.18 5400.47,1415.18 5220.12,1415.18 \"/>\n",
       "<path clip-path=\"url(#clip652)\" d=\"M5400.47 1423.18 L5400.47 1423.18 L5580.82 1423.18 L5580.82 1423.18 L5400.47 1423.18 L5400.47 1423.18  Z\" fill=\"#009af9\" fill-rule=\"evenodd\" fill-opacity=\"1\"/>\n",
       "<polyline clip-path=\"url(#clip652)\" style=\"stroke:#000000; stroke-linecap:round; stroke-linejoin:round; stroke-width:4; stroke-opacity:1; fill:none\" points=\"5400.47,1423.18 5400.47,1423.18 5580.82,1423.18 5400.47,1423.18 \"/>\n",
       "<path clip-path=\"url(#clip652)\" d=\"M5580.82 1423.18 L5580.82 1423.18 L5761.16 1423.18 L5761.16 1423.18 L5580.82 1423.18 L5580.82 1423.18  Z\" fill=\"#009af9\" fill-rule=\"evenodd\" fill-opacity=\"1\"/>\n",
       "<polyline clip-path=\"url(#clip652)\" style=\"stroke:#000000; stroke-linecap:round; stroke-linejoin:round; stroke-width:4; stroke-opacity:1; fill:none\" points=\"5580.82,1423.18 5580.82,1423.18 5761.16,1423.18 5580.82,1423.18 \"/>\n",
       "<path clip-path=\"url(#clip652)\" d=\"M5761.16 1423.18 L5761.16 1423.18 L5941.51 1423.18 L5941.51 1423.18 L5761.16 1423.18 L5761.16 1423.18  Z\" fill=\"#009af9\" fill-rule=\"evenodd\" fill-opacity=\"1\"/>\n",
       "<polyline clip-path=\"url(#clip652)\" style=\"stroke:#000000; stroke-linecap:round; stroke-linejoin:round; stroke-width:4; stroke-opacity:1; fill:none\" points=\"5761.16,1423.18 5761.16,1423.18 5941.51,1423.18 5761.16,1423.18 \"/>\n",
       "<path clip-path=\"url(#clip652)\" d=\"M5941.51 1423.18 L5941.51 1423.18 L6121.86 1423.18 L6121.86 1423.18 L5941.51 1423.18 L5941.51 1423.18  Z\" fill=\"#009af9\" fill-rule=\"evenodd\" fill-opacity=\"1\"/>\n",
       "<polyline clip-path=\"url(#clip652)\" style=\"stroke:#000000; stroke-linecap:round; stroke-linejoin:round; stroke-width:4; stroke-opacity:1; fill:none\" points=\"5941.51,1423.18 5941.51,1423.18 6121.86,1423.18 5941.51,1423.18 \"/>\n",
       "<path clip-path=\"url(#clip652)\" d=\"M6121.86 1423.18 L6121.86 1423.18 L6302.21 1423.18 L6302.21 1423.18 L6121.86 1423.18 L6121.86 1423.18  Z\" fill=\"#009af9\" fill-rule=\"evenodd\" fill-opacity=\"1\"/>\n",
       "<polyline clip-path=\"url(#clip652)\" style=\"stroke:#000000; stroke-linecap:round; stroke-linejoin:round; stroke-width:4; stroke-opacity:1; fill:none\" points=\"6121.86,1423.18 6121.86,1423.18 6302.21,1423.18 6121.86,1423.18 \"/>\n",
       "<path clip-path=\"url(#clip652)\" d=\"M6302.21 1423.18 L6302.21 1423.18 L6482.56 1423.18 L6482.56 1423.18 L6302.21 1423.18 L6302.21 1423.18  Z\" fill=\"#009af9\" fill-rule=\"evenodd\" fill-opacity=\"1\"/>\n",
       "<polyline clip-path=\"url(#clip652)\" style=\"stroke:#000000; stroke-linecap:round; stroke-linejoin:round; stroke-width:4; stroke-opacity:1; fill:none\" points=\"6302.21,1423.18 6302.21,1423.18 6482.56,1423.18 6302.21,1423.18 \"/>\n",
       "<path clip-path=\"url(#clip652)\" d=\"M6482.56 1423.18 L6482.56 1423.18 L6662.91 1423.18 L6662.91 1423.18 L6482.56 1423.18 L6482.56 1423.18  Z\" fill=\"#009af9\" fill-rule=\"evenodd\" fill-opacity=\"1\"/>\n",
       "<polyline clip-path=\"url(#clip652)\" style=\"stroke:#000000; stroke-linecap:round; stroke-linejoin:round; stroke-width:4; stroke-opacity:1; fill:none\" points=\"6482.56,1423.18 6482.56,1423.18 6662.91,1423.18 6482.56,1423.18 \"/>\n",
       "<path clip-path=\"url(#clip652)\" d=\"M6662.91 1423.18 L6662.91 1423.18 L6843.26 1423.18 L6843.26 1423.18 L6662.91 1423.18 L6662.91 1423.18  Z\" fill=\"#009af9\" fill-rule=\"evenodd\" fill-opacity=\"1\"/>\n",
       "<polyline clip-path=\"url(#clip652)\" style=\"stroke:#000000; stroke-linecap:round; stroke-linejoin:round; stroke-width:4; stroke-opacity:1; fill:none\" points=\"6662.91,1423.18 6662.91,1423.18 6843.26,1423.18 6662.91,1423.18 \"/>\n",
       "<path clip-path=\"url(#clip652)\" d=\"M6843.26 1423.18 L6843.26 1423.18 L7023.61 1423.18 L7023.61 1423.18 L6843.26 1423.18 L6843.26 1423.18  Z\" fill=\"#009af9\" fill-rule=\"evenodd\" fill-opacity=\"1\"/>\n",
       "<polyline clip-path=\"url(#clip652)\" style=\"stroke:#000000; stroke-linecap:round; stroke-linejoin:round; stroke-width:4; stroke-opacity:1; fill:none\" points=\"6843.26,1423.18 6843.26,1423.18 7023.61,1423.18 6843.26,1423.18 \"/>\n",
       "<path clip-path=\"url(#clip652)\" d=\"M7023.61 1423.18 L7023.61 1423.18 L7203.96 1423.18 L7203.96 1423.18 L7023.61 1423.18 L7023.61 1423.18  Z\" fill=\"#009af9\" fill-rule=\"evenodd\" fill-opacity=\"1\"/>\n",
       "<polyline clip-path=\"url(#clip652)\" style=\"stroke:#000000; stroke-linecap:round; stroke-linejoin:round; stroke-width:4; stroke-opacity:1; fill:none\" points=\"7023.61,1423.18 7023.61,1423.18 7203.96,1423.18 7023.61,1423.18 \"/>\n",
       "<path clip-path=\"url(#clip652)\" d=\"M7203.96 1423.18 L7203.96 1423.18 L7384.3 1423.18 L7384.3 1423.18 L7203.96 1423.18 L7203.96 1423.18  Z\" fill=\"#009af9\" fill-rule=\"evenodd\" fill-opacity=\"1\"/>\n",
       "<polyline clip-path=\"url(#clip652)\" style=\"stroke:#000000; stroke-linecap:round; stroke-linejoin:round; stroke-width:4; stroke-opacity:1; fill:none\" points=\"7203.96,1423.18 7203.96,1423.18 7384.3,1423.18 7203.96,1423.18 \"/>\n",
       "<path clip-path=\"url(#clip652)\" d=\"M7384.3 1423.18 L7384.3 1423.18 L7564.65 1423.18 L7564.65 1423.18 L7384.3 1423.18 L7384.3 1423.18  Z\" fill=\"#009af9\" fill-rule=\"evenodd\" fill-opacity=\"1\"/>\n",
       "<polyline clip-path=\"url(#clip652)\" style=\"stroke:#000000; stroke-linecap:round; stroke-linejoin:round; stroke-width:4; stroke-opacity:1; fill:none\" points=\"7384.3,1423.18 7384.3,1423.18 7564.65,1423.18 7384.3,1423.18 \"/>\n",
       "<path clip-path=\"url(#clip652)\" d=\"M7564.65 1423.18 L7564.65 1423.18 L7745 1423.18 L7745 1423.18 L7564.65 1423.18 L7564.65 1423.18  Z\" fill=\"#009af9\" fill-rule=\"evenodd\" fill-opacity=\"1\"/>\n",
       "<polyline clip-path=\"url(#clip652)\" style=\"stroke:#000000; stroke-linecap:round; stroke-linejoin:round; stroke-width:4; stroke-opacity:1; fill:none\" points=\"7564.65,1423.18 7564.65,1423.18 7745,1423.18 7564.65,1423.18 \"/>\n",
       "<path clip-path=\"url(#clip652)\" d=\"M7745 1415.18 L7745 1423.18 L7925.35 1423.18 L7925.35 1415.18 L7745 1415.18 L7745 1415.18  Z\" fill=\"#009af9\" fill-rule=\"evenodd\" fill-opacity=\"1\"/>\n",
       "<polyline clip-path=\"url(#clip652)\" style=\"stroke:#000000; stroke-linecap:round; stroke-linejoin:round; stroke-width:4; stroke-opacity:1; fill:none\" points=\"7745,1415.18 7745,1423.18 7925.35,1423.18 7925.35,1415.18 7745,1415.18 \"/>\n",
       "<path clip-path=\"url(#clip652)\" d=\"M7925.35 1423.18 L7925.35 1423.18 L8105.7 1423.18 L8105.7 1423.18 L7925.35 1423.18 L7925.35 1423.18  Z\" fill=\"#009af9\" fill-rule=\"evenodd\" fill-opacity=\"1\"/>\n",
       "<polyline clip-path=\"url(#clip652)\" style=\"stroke:#000000; stroke-linecap:round; stroke-linejoin:round; stroke-width:4; stroke-opacity:1; fill:none\" points=\"7925.35,1423.18 7925.35,1423.18 8105.7,1423.18 7925.35,1423.18 \"/>\n",
       "<path clip-path=\"url(#clip652)\" d=\"M8105.7 1423.18 L8105.7 1423.18 L8286.05 1423.18 L8286.05 1423.18 L8105.7 1423.18 L8105.7 1423.18  Z\" fill=\"#009af9\" fill-rule=\"evenodd\" fill-opacity=\"1\"/>\n",
       "<polyline clip-path=\"url(#clip652)\" style=\"stroke:#000000; stroke-linecap:round; stroke-linejoin:round; stroke-width:4; stroke-opacity:1; fill:none\" points=\"8105.7,1423.18 8105.7,1423.18 8286.05,1423.18 8105.7,1423.18 \"/>\n",
       "<path clip-path=\"url(#clip652)\" d=\"M8286.05 1423.18 L8286.05 1423.18 L8466.4 1423.18 L8466.4 1423.18 L8286.05 1423.18 L8286.05 1423.18  Z\" fill=\"#009af9\" fill-rule=\"evenodd\" fill-opacity=\"1\"/>\n",
       "<polyline clip-path=\"url(#clip652)\" style=\"stroke:#000000; stroke-linecap:round; stroke-linejoin:round; stroke-width:4; stroke-opacity:1; fill:none\" points=\"8286.05,1423.18 8286.05,1423.18 8466.4,1423.18 8286.05,1423.18 \"/>\n",
       "<path clip-path=\"url(#clip652)\" d=\"M8466.4 1423.18 L8466.4 1423.18 L8646.75 1423.18 L8646.75 1423.18 L8466.4 1423.18 L8466.4 1423.18  Z\" fill=\"#009af9\" fill-rule=\"evenodd\" fill-opacity=\"1\"/>\n",
       "<polyline clip-path=\"url(#clip652)\" style=\"stroke:#000000; stroke-linecap:round; stroke-linejoin:round; stroke-width:4; stroke-opacity:1; fill:none\" points=\"8466.4,1423.18 8466.4,1423.18 8646.75,1423.18 8466.4,1423.18 \"/>\n",
       "<path clip-path=\"url(#clip652)\" d=\"M8646.75 1423.18 L8646.75 1423.18 L8827.1 1423.18 L8827.1 1423.18 L8646.75 1423.18 L8646.75 1423.18  Z\" fill=\"#009af9\" fill-rule=\"evenodd\" fill-opacity=\"1\"/>\n",
       "<polyline clip-path=\"url(#clip652)\" style=\"stroke:#000000; stroke-linecap:round; stroke-linejoin:round; stroke-width:4; stroke-opacity:1; fill:none\" points=\"8646.75,1423.18 8646.75,1423.18 8827.1,1423.18 8646.75,1423.18 \"/>\n",
       "<path clip-path=\"url(#clip652)\" d=\"M8827.1 1423.18 L8827.1 1423.18 L9007.45 1423.18 L9007.45 1423.18 L8827.1 1423.18 L8827.1 1423.18  Z\" fill=\"#009af9\" fill-rule=\"evenodd\" fill-opacity=\"1\"/>\n",
       "<polyline clip-path=\"url(#clip652)\" style=\"stroke:#000000; stroke-linecap:round; stroke-linejoin:round; stroke-width:4; stroke-opacity:1; fill:none\" points=\"8827.1,1423.18 8827.1,1423.18 9007.45,1423.18 8827.1,1423.18 \"/>\n",
       "<path clip-path=\"url(#clip652)\" d=\"M9007.45 1423.18 L9007.45 1423.18 L9187.79 1423.18 L9187.79 1423.18 L9007.45 1423.18 L9007.45 1423.18  Z\" fill=\"#009af9\" fill-rule=\"evenodd\" fill-opacity=\"1\"/>\n",
       "<polyline clip-path=\"url(#clip652)\" style=\"stroke:#000000; stroke-linecap:round; stroke-linejoin:round; stroke-width:4; stroke-opacity:1; fill:none\" points=\"9007.45,1423.18 9007.45,1423.18 9187.79,1423.18 9007.45,1423.18 \"/>\n",
       "<path clip-path=\"url(#clip652)\" d=\"M9187.79 1423.18 L9187.79 1423.18 L9368.14 1423.18 L9368.14 1423.18 L9187.79 1423.18 L9187.79 1423.18  Z\" fill=\"#009af9\" fill-rule=\"evenodd\" fill-opacity=\"1\"/>\n",
       "<polyline clip-path=\"url(#clip652)\" style=\"stroke:#000000; stroke-linecap:round; stroke-linejoin:round; stroke-width:4; stroke-opacity:1; fill:none\" points=\"9187.79,1423.18 9187.79,1423.18 9368.14,1423.18 9187.79,1423.18 \"/>\n",
       "<path clip-path=\"url(#clip652)\" d=\"M9368.14 1423.18 L9368.14 1423.18 L9548.49 1423.18 L9548.49 1423.18 L9368.14 1423.18 L9368.14 1423.18  Z\" fill=\"#009af9\" fill-rule=\"evenodd\" fill-opacity=\"1\"/>\n",
       "<polyline clip-path=\"url(#clip652)\" style=\"stroke:#000000; stroke-linecap:round; stroke-linejoin:round; stroke-width:4; stroke-opacity:1; fill:none\" points=\"9368.14,1423.18 9368.14,1423.18 9548.49,1423.18 9368.14,1423.18 \"/>\n",
       "<path clip-path=\"url(#clip652)\" d=\"M9548.49 1423.18 L9548.49 1423.18 L9728.84 1423.18 L9728.84 1423.18 L9548.49 1423.18 L9548.49 1423.18  Z\" fill=\"#009af9\" fill-rule=\"evenodd\" fill-opacity=\"1\"/>\n",
       "<polyline clip-path=\"url(#clip652)\" style=\"stroke:#000000; stroke-linecap:round; stroke-linejoin:round; stroke-width:4; stroke-opacity:1; fill:none\" points=\"9548.49,1423.18 9548.49,1423.18 9728.84,1423.18 9548.49,1423.18 \"/>\n",
       "<path clip-path=\"url(#clip652)\" d=\"M9728.84 1423.18 L9728.84 1423.18 L9909.19 1423.18 L9909.19 1423.18 L9728.84 1423.18 L9728.84 1423.18  Z\" fill=\"#009af9\" fill-rule=\"evenodd\" fill-opacity=\"1\"/>\n",
       "<polyline clip-path=\"url(#clip652)\" style=\"stroke:#000000; stroke-linecap:round; stroke-linejoin:round; stroke-width:4; stroke-opacity:1; fill:none\" points=\"9728.84,1423.18 9728.84,1423.18 9909.19,1423.18 9728.84,1423.18 \"/>\n",
       "<path clip-path=\"url(#clip652)\" d=\"M9909.19 1423.18 L9909.19 1423.18 L10089.5 1423.18 L10089.5 1423.18 L9909.19 1423.18 L9909.19 1423.18  Z\" fill=\"#009af9\" fill-rule=\"evenodd\" fill-opacity=\"1\"/>\n",
       "<polyline clip-path=\"url(#clip652)\" style=\"stroke:#000000; stroke-linecap:round; stroke-linejoin:round; stroke-width:4; stroke-opacity:1; fill:none\" points=\"9909.19,1423.18 9909.19,1423.18 10089.5,1423.18 9909.19,1423.18 \"/>\n",
       "<path clip-path=\"url(#clip652)\" d=\"M10089.5 1423.18 L10089.5 1423.18 L10269.9 1423.18 L10269.9 1423.18 L10089.5 1423.18 L10089.5 1423.18  Z\" fill=\"#009af9\" fill-rule=\"evenodd\" fill-opacity=\"1\"/>\n",
       "<polyline clip-path=\"url(#clip652)\" style=\"stroke:#000000; stroke-linecap:round; stroke-linejoin:round; stroke-width:4; stroke-opacity:1; fill:none\" points=\"10089.5,1423.18 10089.5,1423.18 10269.9,1423.18 10089.5,1423.18 \"/>\n",
       "<path clip-path=\"url(#clip652)\" d=\"M10269.9 1423.18 L10269.9 1423.18 L10450.2 1423.18 L10450.2 1423.18 L10269.9 1423.18 L10269.9 1423.18  Z\" fill=\"#009af9\" fill-rule=\"evenodd\" fill-opacity=\"1\"/>\n",
       "<polyline clip-path=\"url(#clip652)\" style=\"stroke:#000000; stroke-linecap:round; stroke-linejoin:round; stroke-width:4; stroke-opacity:1; fill:none\" points=\"10269.9,1423.18 10269.9,1423.18 10450.2,1423.18 10269.9,1423.18 \"/>\n",
       "<path clip-path=\"url(#clip652)\" d=\"M10450.2 1423.18 L10450.2 1423.18 L10630.6 1423.18 L10630.6 1423.18 L10450.2 1423.18 L10450.2 1423.18  Z\" fill=\"#009af9\" fill-rule=\"evenodd\" fill-opacity=\"1\"/>\n",
       "<polyline clip-path=\"url(#clip652)\" style=\"stroke:#000000; stroke-linecap:round; stroke-linejoin:round; stroke-width:4; stroke-opacity:1; fill:none\" points=\"10450.2,1423.18 10450.2,1423.18 10630.6,1423.18 10450.2,1423.18 \"/>\n",
       "<path clip-path=\"url(#clip652)\" d=\"M10630.6 1423.18 L10630.6 1423.18 L10810.9 1423.18 L10810.9 1423.18 L10630.6 1423.18 L10630.6 1423.18  Z\" fill=\"#009af9\" fill-rule=\"evenodd\" fill-opacity=\"1\"/>\n",
       "<polyline clip-path=\"url(#clip652)\" style=\"stroke:#000000; stroke-linecap:round; stroke-linejoin:round; stroke-width:4; stroke-opacity:1; fill:none\" points=\"10630.6,1423.18 10630.6,1423.18 10810.9,1423.18 10630.6,1423.18 \"/>\n",
       "<path clip-path=\"url(#clip652)\" d=\"M10810.9 1423.18 L10810.9 1423.18 L10991.3 1423.18 L10991.3 1423.18 L10810.9 1423.18 L10810.9 1423.18  Z\" fill=\"#009af9\" fill-rule=\"evenodd\" fill-opacity=\"1\"/>\n",
       "<polyline clip-path=\"url(#clip652)\" style=\"stroke:#000000; stroke-linecap:round; stroke-linejoin:round; stroke-width:4; stroke-opacity:1; fill:none\" points=\"10810.9,1423.18 10810.9,1423.18 10991.3,1423.18 10810.9,1423.18 \"/>\n",
       "<path clip-path=\"url(#clip652)\" d=\"M10991.3 1423.18 L10991.3 1423.18 L11171.6 1423.18 L11171.6 1423.18 L10991.3 1423.18 L10991.3 1423.18  Z\" fill=\"#009af9\" fill-rule=\"evenodd\" fill-opacity=\"1\"/>\n",
       "<polyline clip-path=\"url(#clip652)\" style=\"stroke:#000000; stroke-linecap:round; stroke-linejoin:round; stroke-width:4; stroke-opacity:1; fill:none\" points=\"10991.3,1423.18 10991.3,1423.18 11171.6,1423.18 10991.3,1423.18 \"/>\n",
       "<path clip-path=\"url(#clip652)\" d=\"M11171.6 1423.18 L11171.6 1423.18 L11352 1423.18 L11352 1423.18 L11171.6 1423.18 L11171.6 1423.18  Z\" fill=\"#009af9\" fill-rule=\"evenodd\" fill-opacity=\"1\"/>\n",
       "<polyline clip-path=\"url(#clip652)\" style=\"stroke:#000000; stroke-linecap:round; stroke-linejoin:round; stroke-width:4; stroke-opacity:1; fill:none\" points=\"11171.6,1423.18 11171.6,1423.18 11352,1423.18 11171.6,1423.18 \"/>\n",
       "<path clip-path=\"url(#clip652)\" d=\"M11352 1423.18 L11352 1423.18 L11532.3 1423.18 L11532.3 1423.18 L11352 1423.18 L11352 1423.18  Z\" fill=\"#009af9\" fill-rule=\"evenodd\" fill-opacity=\"1\"/>\n",
       "<polyline clip-path=\"url(#clip652)\" style=\"stroke:#000000; stroke-linecap:round; stroke-linejoin:round; stroke-width:4; stroke-opacity:1; fill:none\" points=\"11352,1423.18 11352,1423.18 11532.3,1423.18 11352,1423.18 \"/>\n",
       "<path clip-path=\"url(#clip652)\" d=\"M11532.3 1423.18 L11532.3 1423.18 L11712.7 1423.18 L11712.7 1423.18 L11532.3 1423.18 L11532.3 1423.18  Z\" fill=\"#009af9\" fill-rule=\"evenodd\" fill-opacity=\"1\"/>\n",
       "<polyline clip-path=\"url(#clip652)\" style=\"stroke:#000000; stroke-linecap:round; stroke-linejoin:round; stroke-width:4; stroke-opacity:1; fill:none\" points=\"11532.3,1423.18 11532.3,1423.18 11712.7,1423.18 11532.3,1423.18 \"/>\n",
       "<path clip-path=\"url(#clip652)\" d=\"M11712.7 1423.18 L11712.7 1423.18 L11893 1423.18 L11893 1423.18 L11712.7 1423.18 L11712.7 1423.18  Z\" fill=\"#009af9\" fill-rule=\"evenodd\" fill-opacity=\"1\"/>\n",
       "<polyline clip-path=\"url(#clip652)\" style=\"stroke:#000000; stroke-linecap:round; stroke-linejoin:round; stroke-width:4; stroke-opacity:1; fill:none\" points=\"11712.7,1423.18 11712.7,1423.18 11893,1423.18 11712.7,1423.18 \"/>\n",
       "<path clip-path=\"url(#clip652)\" d=\"M11893 1423.18 L11893 1423.18 L12073.4 1423.18 L12073.4 1423.18 L11893 1423.18 L11893 1423.18  Z\" fill=\"#009af9\" fill-rule=\"evenodd\" fill-opacity=\"1\"/>\n",
       "<polyline clip-path=\"url(#clip652)\" style=\"stroke:#000000; stroke-linecap:round; stroke-linejoin:round; stroke-width:4; stroke-opacity:1; fill:none\" points=\"11893,1423.18 11893,1423.18 12073.4,1423.18 11893,1423.18 \"/>\n",
       "<path clip-path=\"url(#clip652)\" d=\"M12073.4 1423.18 L12073.4 1423.18 L12253.7 1423.18 L12253.7 1423.18 L12073.4 1423.18 L12073.4 1423.18  Z\" fill=\"#009af9\" fill-rule=\"evenodd\" fill-opacity=\"1\"/>\n",
       "<polyline clip-path=\"url(#clip652)\" style=\"stroke:#000000; stroke-linecap:round; stroke-linejoin:round; stroke-width:4; stroke-opacity:1; fill:none\" points=\"12073.4,1423.18 12073.4,1423.18 12253.7,1423.18 12073.4,1423.18 \"/>\n",
       "<path clip-path=\"url(#clip652)\" d=\"M12253.7 1423.18 L12253.7 1423.18 L12434.1 1423.18 L12434.1 1423.18 L12253.7 1423.18 L12253.7 1423.18  Z\" fill=\"#009af9\" fill-rule=\"evenodd\" fill-opacity=\"1\"/>\n",
       "<polyline clip-path=\"url(#clip652)\" style=\"stroke:#000000; stroke-linecap:round; stroke-linejoin:round; stroke-width:4; stroke-opacity:1; fill:none\" points=\"12253.7,1423.18 12253.7,1423.18 12434.1,1423.18 12253.7,1423.18 \"/>\n",
       "<path clip-path=\"url(#clip652)\" d=\"M12434.1 1423.18 L12434.1 1423.18 L12614.4 1423.18 L12614.4 1423.18 L12434.1 1423.18 L12434.1 1423.18  Z\" fill=\"#009af9\" fill-rule=\"evenodd\" fill-opacity=\"1\"/>\n",
       "<polyline clip-path=\"url(#clip652)\" style=\"stroke:#000000; stroke-linecap:round; stroke-linejoin:round; stroke-width:4; stroke-opacity:1; fill:none\" points=\"12434.1,1423.18 12434.1,1423.18 12614.4,1423.18 12434.1,1423.18 \"/>\n",
       "<path clip-path=\"url(#clip652)\" d=\"M12614.4 1423.18 L12614.4 1423.18 L12794.8 1423.18 L12794.8 1423.18 L12614.4 1423.18 L12614.4 1423.18  Z\" fill=\"#009af9\" fill-rule=\"evenodd\" fill-opacity=\"1\"/>\n",
       "<polyline clip-path=\"url(#clip652)\" style=\"stroke:#000000; stroke-linecap:round; stroke-linejoin:round; stroke-width:4; stroke-opacity:1; fill:none\" points=\"12614.4,1423.18 12614.4,1423.18 12794.8,1423.18 12614.4,1423.18 \"/>\n",
       "<path clip-path=\"url(#clip652)\" d=\"M12794.8 1423.18 L12794.8 1423.18 L12975.1 1423.18 L12975.1 1423.18 L12794.8 1423.18 L12794.8 1423.18  Z\" fill=\"#009af9\" fill-rule=\"evenodd\" fill-opacity=\"1\"/>\n",
       "<polyline clip-path=\"url(#clip652)\" style=\"stroke:#000000; stroke-linecap:round; stroke-linejoin:round; stroke-width:4; stroke-opacity:1; fill:none\" points=\"12794.8,1423.18 12794.8,1423.18 12975.1,1423.18 12794.8,1423.18 \"/>\n",
       "<path clip-path=\"url(#clip652)\" d=\"M12975.1 1423.18 L12975.1 1423.18 L13155.5 1423.18 L13155.5 1423.18 L12975.1 1423.18 L12975.1 1423.18  Z\" fill=\"#009af9\" fill-rule=\"evenodd\" fill-opacity=\"1\"/>\n",
       "<polyline clip-path=\"url(#clip652)\" style=\"stroke:#000000; stroke-linecap:round; stroke-linejoin:round; stroke-width:4; stroke-opacity:1; fill:none\" points=\"12975.1,1423.18 12975.1,1423.18 13155.5,1423.18 12975.1,1423.18 \"/>\n",
       "<path clip-path=\"url(#clip652)\" d=\"M13155.5 1423.18 L13155.5 1423.18 L13335.8 1423.18 L13335.8 1423.18 L13155.5 1423.18 L13155.5 1423.18  Z\" fill=\"#009af9\" fill-rule=\"evenodd\" fill-opacity=\"1\"/>\n",
       "<polyline clip-path=\"url(#clip652)\" style=\"stroke:#000000; stroke-linecap:round; stroke-linejoin:round; stroke-width:4; stroke-opacity:1; fill:none\" points=\"13155.5,1423.18 13155.5,1423.18 13335.8,1423.18 13155.5,1423.18 \"/>\n",
       "<path clip-path=\"url(#clip652)\" d=\"M13335.8 1423.18 L13335.8 1423.18 L13516.2 1423.18 L13516.2 1423.18 L13335.8 1423.18 L13335.8 1423.18  Z\" fill=\"#009af9\" fill-rule=\"evenodd\" fill-opacity=\"1\"/>\n",
       "<polyline clip-path=\"url(#clip652)\" style=\"stroke:#000000; stroke-linecap:round; stroke-linejoin:round; stroke-width:4; stroke-opacity:1; fill:none\" points=\"13335.8,1423.18 13335.8,1423.18 13516.2,1423.18 13335.8,1423.18 \"/>\n",
       "<path clip-path=\"url(#clip652)\" d=\"M13516.2 1423.18 L13516.2 1423.18 L13696.5 1423.18 L13696.5 1423.18 L13516.2 1423.18 L13516.2 1423.18  Z\" fill=\"#009af9\" fill-rule=\"evenodd\" fill-opacity=\"1\"/>\n",
       "<polyline clip-path=\"url(#clip652)\" style=\"stroke:#000000; stroke-linecap:round; stroke-linejoin:round; stroke-width:4; stroke-opacity:1; fill:none\" points=\"13516.2,1423.18 13516.2,1423.18 13696.5,1423.18 13516.2,1423.18 \"/>\n",
       "<path clip-path=\"url(#clip652)\" d=\"M13696.5 1423.18 L13696.5 1423.18 L13876.9 1423.18 L13876.9 1423.18 L13696.5 1423.18 L13696.5 1423.18  Z\" fill=\"#009af9\" fill-rule=\"evenodd\" fill-opacity=\"1\"/>\n",
       "<polyline clip-path=\"url(#clip652)\" style=\"stroke:#000000; stroke-linecap:round; stroke-linejoin:round; stroke-width:4; stroke-opacity:1; fill:none\" points=\"13696.5,1423.18 13696.5,1423.18 13876.9,1423.18 13696.5,1423.18 \"/>\n",
       "<path clip-path=\"url(#clip652)\" d=\"M13876.9 1423.18 L13876.9 1423.18 L14057.2 1423.18 L14057.2 1423.18 L13876.9 1423.18 L13876.9 1423.18  Z\" fill=\"#009af9\" fill-rule=\"evenodd\" fill-opacity=\"1\"/>\n",
       "<polyline clip-path=\"url(#clip652)\" style=\"stroke:#000000; stroke-linecap:round; stroke-linejoin:round; stroke-width:4; stroke-opacity:1; fill:none\" points=\"13876.9,1423.18 13876.9,1423.18 14057.2,1423.18 13876.9,1423.18 \"/>\n",
       "<path clip-path=\"url(#clip652)\" d=\"M14057.2 1423.18 L14057.2 1423.18 L14237.6 1423.18 L14237.6 1423.18 L14057.2 1423.18 L14057.2 1423.18  Z\" fill=\"#009af9\" fill-rule=\"evenodd\" fill-opacity=\"1\"/>\n",
       "<polyline clip-path=\"url(#clip652)\" style=\"stroke:#000000; stroke-linecap:round; stroke-linejoin:round; stroke-width:4; stroke-opacity:1; fill:none\" points=\"14057.2,1423.18 14057.2,1423.18 14237.6,1423.18 14057.2,1423.18 \"/>\n",
       "<path clip-path=\"url(#clip652)\" d=\"M14237.6 1423.18 L14237.6 1423.18 L14417.9 1423.18 L14417.9 1423.18 L14237.6 1423.18 L14237.6 1423.18  Z\" fill=\"#009af9\" fill-rule=\"evenodd\" fill-opacity=\"1\"/>\n",
       "<polyline clip-path=\"url(#clip652)\" style=\"stroke:#000000; stroke-linecap:round; stroke-linejoin:round; stroke-width:4; stroke-opacity:1; fill:none\" points=\"14237.6,1423.18 14237.6,1423.18 14417.9,1423.18 14237.6,1423.18 \"/>\n",
       "<path clip-path=\"url(#clip652)\" d=\"M14417.9 1423.18 L14417.9 1423.18 L14598.3 1423.18 L14598.3 1423.18 L14417.9 1423.18 L14417.9 1423.18  Z\" fill=\"#009af9\" fill-rule=\"evenodd\" fill-opacity=\"1\"/>\n",
       "<polyline clip-path=\"url(#clip652)\" style=\"stroke:#000000; stroke-linecap:round; stroke-linejoin:round; stroke-width:4; stroke-opacity:1; fill:none\" points=\"14417.9,1423.18 14417.9,1423.18 14598.3,1423.18 14417.9,1423.18 \"/>\n",
       "<path clip-path=\"url(#clip652)\" d=\"M14598.3 1423.18 L14598.3 1423.18 L14778.6 1423.18 L14778.6 1423.18 L14598.3 1423.18 L14598.3 1423.18  Z\" fill=\"#009af9\" fill-rule=\"evenodd\" fill-opacity=\"1\"/>\n",
       "<polyline clip-path=\"url(#clip652)\" style=\"stroke:#000000; stroke-linecap:round; stroke-linejoin:round; stroke-width:4; stroke-opacity:1; fill:none\" points=\"14598.3,1423.18 14598.3,1423.18 14778.6,1423.18 14598.3,1423.18 \"/>\n",
       "<path clip-path=\"url(#clip652)\" d=\"M14778.6 1423.18 L14778.6 1423.18 L14959 1423.18 L14959 1423.18 L14778.6 1423.18 L14778.6 1423.18  Z\" fill=\"#009af9\" fill-rule=\"evenodd\" fill-opacity=\"1\"/>\n",
       "<polyline clip-path=\"url(#clip652)\" style=\"stroke:#000000; stroke-linecap:round; stroke-linejoin:round; stroke-width:4; stroke-opacity:1; fill:none\" points=\"14778.6,1423.18 14778.6,1423.18 14959,1423.18 14778.6,1423.18 \"/>\n",
       "<path clip-path=\"url(#clip652)\" d=\"M14959 1423.18 L14959 1423.18 L15139.3 1423.18 L15139.3 1423.18 L14959 1423.18 L14959 1423.18  Z\" fill=\"#009af9\" fill-rule=\"evenodd\" fill-opacity=\"1\"/>\n",
       "<polyline clip-path=\"url(#clip652)\" style=\"stroke:#000000; stroke-linecap:round; stroke-linejoin:round; stroke-width:4; stroke-opacity:1; fill:none\" points=\"14959,1423.18 14959,1423.18 15139.3,1423.18 14959,1423.18 \"/>\n",
       "<path clip-path=\"url(#clip652)\" d=\"M15139.3 1423.18 L15139.3 1423.18 L15319.7 1423.18 L15319.7 1423.18 L15139.3 1423.18 L15139.3 1423.18  Z\" fill=\"#009af9\" fill-rule=\"evenodd\" fill-opacity=\"1\"/>\n",
       "<polyline clip-path=\"url(#clip652)\" style=\"stroke:#000000; stroke-linecap:round; stroke-linejoin:round; stroke-width:4; stroke-opacity:1; fill:none\" points=\"15139.3,1423.18 15139.3,1423.18 15319.7,1423.18 15139.3,1423.18 \"/>\n",
       "<path clip-path=\"url(#clip652)\" d=\"M15319.7 1423.18 L15319.7 1423.18 L15500 1423.18 L15500 1423.18 L15319.7 1423.18 L15319.7 1423.18  Z\" fill=\"#009af9\" fill-rule=\"evenodd\" fill-opacity=\"1\"/>\n",
       "<polyline clip-path=\"url(#clip652)\" style=\"stroke:#000000; stroke-linecap:round; stroke-linejoin:round; stroke-width:4; stroke-opacity:1; fill:none\" points=\"15319.7,1423.18 15319.7,1423.18 15500,1423.18 15319.7,1423.18 \"/>\n",
       "<path clip-path=\"url(#clip652)\" d=\"M15500 1423.18 L15500 1423.18 L15680.4 1423.18 L15680.4 1423.18 L15500 1423.18 L15500 1423.18  Z\" fill=\"#009af9\" fill-rule=\"evenodd\" fill-opacity=\"1\"/>\n",
       "<polyline clip-path=\"url(#clip652)\" style=\"stroke:#000000; stroke-linecap:round; stroke-linejoin:round; stroke-width:4; stroke-opacity:1; fill:none\" points=\"15500,1423.18 15500,1423.18 15680.4,1423.18 15500,1423.18 \"/>\n",
       "<path clip-path=\"url(#clip652)\" d=\"M15680.4 1423.18 L15680.4 1423.18 L15860.7 1423.18 L15860.7 1423.18 L15680.4 1423.18 L15680.4 1423.18  Z\" fill=\"#009af9\" fill-rule=\"evenodd\" fill-opacity=\"1\"/>\n",
       "<polyline clip-path=\"url(#clip652)\" style=\"stroke:#000000; stroke-linecap:round; stroke-linejoin:round; stroke-width:4; stroke-opacity:1; fill:none\" points=\"15680.4,1423.18 15680.4,1423.18 15860.7,1423.18 15680.4,1423.18 \"/>\n",
       "<path clip-path=\"url(#clip652)\" d=\"M15860.7 1423.18 L15860.7 1423.18 L16041.1 1423.18 L16041.1 1423.18 L15860.7 1423.18 L15860.7 1423.18  Z\" fill=\"#009af9\" fill-rule=\"evenodd\" fill-opacity=\"1\"/>\n",
       "<polyline clip-path=\"url(#clip652)\" style=\"stroke:#000000; stroke-linecap:round; stroke-linejoin:round; stroke-width:4; stroke-opacity:1; fill:none\" points=\"15860.7,1423.18 15860.7,1423.18 16041.1,1423.18 15860.7,1423.18 \"/>\n",
       "<path clip-path=\"url(#clip652)\" d=\"M16041.1 1423.18 L16041.1 1423.18 L16221.4 1423.18 L16221.4 1423.18 L16041.1 1423.18 L16041.1 1423.18  Z\" fill=\"#009af9\" fill-rule=\"evenodd\" fill-opacity=\"1\"/>\n",
       "<polyline clip-path=\"url(#clip652)\" style=\"stroke:#000000; stroke-linecap:round; stroke-linejoin:round; stroke-width:4; stroke-opacity:1; fill:none\" points=\"16041.1,1423.18 16041.1,1423.18 16221.4,1423.18 16041.1,1423.18 \"/>\n",
       "<path clip-path=\"url(#clip652)\" d=\"M16221.4 1423.18 L16221.4 1423.18 L16401.8 1423.18 L16401.8 1423.18 L16221.4 1423.18 L16221.4 1423.18  Z\" fill=\"#009af9\" fill-rule=\"evenodd\" fill-opacity=\"1\"/>\n",
       "<polyline clip-path=\"url(#clip652)\" style=\"stroke:#000000; stroke-linecap:round; stroke-linejoin:round; stroke-width:4; stroke-opacity:1; fill:none\" points=\"16221.4,1423.18 16221.4,1423.18 16401.8,1423.18 16221.4,1423.18 \"/>\n",
       "<path clip-path=\"url(#clip652)\" d=\"M16401.8 1423.18 L16401.8 1423.18 L16582.1 1423.18 L16582.1 1423.18 L16401.8 1423.18 L16401.8 1423.18  Z\" fill=\"#009af9\" fill-rule=\"evenodd\" fill-opacity=\"1\"/>\n",
       "<polyline clip-path=\"url(#clip652)\" style=\"stroke:#000000; stroke-linecap:round; stroke-linejoin:round; stroke-width:4; stroke-opacity:1; fill:none\" points=\"16401.8,1423.18 16401.8,1423.18 16582.1,1423.18 16401.8,1423.18 \"/>\n",
       "<path clip-path=\"url(#clip652)\" d=\"M16582.1 1423.18 L16582.1 1423.18 L16762.5 1423.18 L16762.5 1423.18 L16582.1 1423.18 L16582.1 1423.18  Z\" fill=\"#009af9\" fill-rule=\"evenodd\" fill-opacity=\"1\"/>\n",
       "<polyline clip-path=\"url(#clip652)\" style=\"stroke:#000000; stroke-linecap:round; stroke-linejoin:round; stroke-width:4; stroke-opacity:1; fill:none\" points=\"16582.1,1423.18 16582.1,1423.18 16762.5,1423.18 16582.1,1423.18 \"/>\n",
       "<path clip-path=\"url(#clip652)\" d=\"M16762.5 1423.18 L16762.5 1423.18 L16942.8 1423.18 L16942.8 1423.18 L16762.5 1423.18 L16762.5 1423.18  Z\" fill=\"#009af9\" fill-rule=\"evenodd\" fill-opacity=\"1\"/>\n",
       "<polyline clip-path=\"url(#clip652)\" style=\"stroke:#000000; stroke-linecap:round; stroke-linejoin:round; stroke-width:4; stroke-opacity:1; fill:none\" points=\"16762.5,1423.18 16762.5,1423.18 16942.8,1423.18 16762.5,1423.18 \"/>\n",
       "<path clip-path=\"url(#clip652)\" d=\"M16942.8 1423.18 L16942.8 1423.18 L17123.1 1423.18 L17123.1 1423.18 L16942.8 1423.18 L16942.8 1423.18  Z\" fill=\"#009af9\" fill-rule=\"evenodd\" fill-opacity=\"1\"/>\n",
       "<polyline clip-path=\"url(#clip652)\" style=\"stroke:#000000; stroke-linecap:round; stroke-linejoin:round; stroke-width:4; stroke-opacity:1; fill:none\" points=\"16942.8,1423.18 16942.8,1423.18 17123.1,1423.18 16942.8,1423.18 \"/>\n",
       "<path clip-path=\"url(#clip652)\" d=\"M17123.1 1423.18 L17123.1 1423.18 L17303.5 1423.18 L17303.5 1423.18 L17123.1 1423.18 L17123.1 1423.18  Z\" fill=\"#009af9\" fill-rule=\"evenodd\" fill-opacity=\"1\"/>\n",
       "<polyline clip-path=\"url(#clip652)\" style=\"stroke:#000000; stroke-linecap:round; stroke-linejoin:round; stroke-width:4; stroke-opacity:1; fill:none\" points=\"17123.1,1423.18 17123.1,1423.18 17303.5,1423.18 17123.1,1423.18 \"/>\n",
       "<path clip-path=\"url(#clip652)\" d=\"M17303.5 1423.18 L17303.5 1423.18 L17483.8 1423.18 L17483.8 1423.18 L17303.5 1423.18 L17303.5 1423.18  Z\" fill=\"#009af9\" fill-rule=\"evenodd\" fill-opacity=\"1\"/>\n",
       "<polyline clip-path=\"url(#clip652)\" style=\"stroke:#000000; stroke-linecap:round; stroke-linejoin:round; stroke-width:4; stroke-opacity:1; fill:none\" points=\"17303.5,1423.18 17303.5,1423.18 17483.8,1423.18 17303.5,1423.18 \"/>\n",
       "<path clip-path=\"url(#clip652)\" d=\"M17483.8 1423.18 L17483.8 1423.18 L17664.2 1423.18 L17664.2 1423.18 L17483.8 1423.18 L17483.8 1423.18  Z\" fill=\"#009af9\" fill-rule=\"evenodd\" fill-opacity=\"1\"/>\n",
       "<polyline clip-path=\"url(#clip652)\" style=\"stroke:#000000; stroke-linecap:round; stroke-linejoin:round; stroke-width:4; stroke-opacity:1; fill:none\" points=\"17483.8,1423.18 17483.8,1423.18 17664.2,1423.18 17483.8,1423.18 \"/>\n",
       "<path clip-path=\"url(#clip652)\" d=\"M17664.2 1423.18 L17664.2 1423.18 L17844.5 1423.18 L17844.5 1423.18 L17664.2 1423.18 L17664.2 1423.18  Z\" fill=\"#009af9\" fill-rule=\"evenodd\" fill-opacity=\"1\"/>\n",
       "<polyline clip-path=\"url(#clip652)\" style=\"stroke:#000000; stroke-linecap:round; stroke-linejoin:round; stroke-width:4; stroke-opacity:1; fill:none\" points=\"17664.2,1423.18 17664.2,1423.18 17844.5,1423.18 17664.2,1423.18 \"/>\n",
       "<path clip-path=\"url(#clip652)\" d=\"M17844.5 1423.18 L17844.5 1423.18 L18024.9 1423.18 L18024.9 1423.18 L17844.5 1423.18 L17844.5 1423.18  Z\" fill=\"#009af9\" fill-rule=\"evenodd\" fill-opacity=\"1\"/>\n",
       "<polyline clip-path=\"url(#clip652)\" style=\"stroke:#000000; stroke-linecap:round; stroke-linejoin:round; stroke-width:4; stroke-opacity:1; fill:none\" points=\"17844.5,1423.18 17844.5,1423.18 18024.9,1423.18 17844.5,1423.18 \"/>\n",
       "<path clip-path=\"url(#clip652)\" d=\"M18024.9 1423.18 L18024.9 1423.18 L18205.2 1423.18 L18205.2 1423.18 L18024.9 1423.18 L18024.9 1423.18  Z\" fill=\"#009af9\" fill-rule=\"evenodd\" fill-opacity=\"1\"/>\n",
       "<polyline clip-path=\"url(#clip652)\" style=\"stroke:#000000; stroke-linecap:round; stroke-linejoin:round; stroke-width:4; stroke-opacity:1; fill:none\" points=\"18024.9,1423.18 18024.9,1423.18 18205.2,1423.18 18024.9,1423.18 \"/>\n",
       "<path clip-path=\"url(#clip652)\" d=\"M18205.2 1423.18 L18205.2 1423.18 L18385.6 1423.18 L18385.6 1423.18 L18205.2 1423.18 L18205.2 1423.18  Z\" fill=\"#009af9\" fill-rule=\"evenodd\" fill-opacity=\"1\"/>\n",
       "<polyline clip-path=\"url(#clip652)\" style=\"stroke:#000000; stroke-linecap:round; stroke-linejoin:round; stroke-width:4; stroke-opacity:1; fill:none\" points=\"18205.2,1423.18 18205.2,1423.18 18385.6,1423.18 18205.2,1423.18 \"/>\n",
       "<path clip-path=\"url(#clip652)\" d=\"M18385.6 1423.18 L18385.6 1423.18 L18565.9 1423.18 L18565.9 1423.18 L18385.6 1423.18 L18385.6 1423.18  Z\" fill=\"#009af9\" fill-rule=\"evenodd\" fill-opacity=\"1\"/>\n",
       "<polyline clip-path=\"url(#clip652)\" style=\"stroke:#000000; stroke-linecap:round; stroke-linejoin:round; stroke-width:4; stroke-opacity:1; fill:none\" points=\"18385.6,1423.18 18385.6,1423.18 18565.9,1423.18 18385.6,1423.18 \"/>\n",
       "<path clip-path=\"url(#clip652)\" d=\"M18565.9 1423.18 L18565.9 1423.18 L18746.3 1423.18 L18746.3 1423.18 L18565.9 1423.18 L18565.9 1423.18  Z\" fill=\"#009af9\" fill-rule=\"evenodd\" fill-opacity=\"1\"/>\n",
       "<polyline clip-path=\"url(#clip652)\" style=\"stroke:#000000; stroke-linecap:round; stroke-linejoin:round; stroke-width:4; stroke-opacity:1; fill:none\" points=\"18565.9,1423.18 18565.9,1423.18 18746.3,1423.18 18565.9,1423.18 \"/>\n",
       "<path clip-path=\"url(#clip652)\" d=\"M18746.3 1423.18 L18746.3 1423.18 L18926.6 1423.18 L18926.6 1423.18 L18746.3 1423.18 L18746.3 1423.18  Z\" fill=\"#009af9\" fill-rule=\"evenodd\" fill-opacity=\"1\"/>\n",
       "<polyline clip-path=\"url(#clip652)\" style=\"stroke:#000000; stroke-linecap:round; stroke-linejoin:round; stroke-width:4; stroke-opacity:1; fill:none\" points=\"18746.3,1423.18 18746.3,1423.18 18926.6,1423.18 18746.3,1423.18 \"/>\n",
       "<path clip-path=\"url(#clip652)\" d=\"M18926.6 1423.18 L18926.6 1423.18 L19107 1423.18 L19107 1423.18 L18926.6 1423.18 L18926.6 1423.18  Z\" fill=\"#009af9\" fill-rule=\"evenodd\" fill-opacity=\"1\"/>\n",
       "<polyline clip-path=\"url(#clip652)\" style=\"stroke:#000000; stroke-linecap:round; stroke-linejoin:round; stroke-width:4; stroke-opacity:1; fill:none\" points=\"18926.6,1423.18 18926.6,1423.18 19107,1423.18 18926.6,1423.18 \"/>\n",
       "<path clip-path=\"url(#clip652)\" d=\"M19107 1423.18 L19107 1423.18 L19287.3 1423.18 L19287.3 1423.18 L19107 1423.18 L19107 1423.18  Z\" fill=\"#009af9\" fill-rule=\"evenodd\" fill-opacity=\"1\"/>\n",
       "<polyline clip-path=\"url(#clip652)\" style=\"stroke:#000000; stroke-linecap:round; stroke-linejoin:round; stroke-width:4; stroke-opacity:1; fill:none\" points=\"19107,1423.18 19107,1423.18 19287.3,1423.18 19107,1423.18 \"/>\n",
       "<path clip-path=\"url(#clip652)\" d=\"M19287.3 1423.18 L19287.3 1423.18 L19467.7 1423.18 L19467.7 1423.18 L19287.3 1423.18 L19287.3 1423.18  Z\" fill=\"#009af9\" fill-rule=\"evenodd\" fill-opacity=\"1\"/>\n",
       "<polyline clip-path=\"url(#clip652)\" style=\"stroke:#000000; stroke-linecap:round; stroke-linejoin:round; stroke-width:4; stroke-opacity:1; fill:none\" points=\"19287.3,1423.18 19287.3,1423.18 19467.7,1423.18 19287.3,1423.18 \"/>\n",
       "<path clip-path=\"url(#clip652)\" d=\"M19467.7 1423.18 L19467.7 1423.18 L19648 1423.18 L19648 1423.18 L19467.7 1423.18 L19467.7 1423.18  Z\" fill=\"#009af9\" fill-rule=\"evenodd\" fill-opacity=\"1\"/>\n",
       "<polyline clip-path=\"url(#clip652)\" style=\"stroke:#000000; stroke-linecap:round; stroke-linejoin:round; stroke-width:4; stroke-opacity:1; fill:none\" points=\"19467.7,1423.18 19467.7,1423.18 19648,1423.18 19467.7,1423.18 \"/>\n",
       "<path clip-path=\"url(#clip652)\" d=\"M19648 1423.18 L19648 1423.18 L19828.4 1423.18 L19828.4 1423.18 L19648 1423.18 L19648 1423.18  Z\" fill=\"#009af9\" fill-rule=\"evenodd\" fill-opacity=\"1\"/>\n",
       "<polyline clip-path=\"url(#clip652)\" style=\"stroke:#000000; stroke-linecap:round; stroke-linejoin:round; stroke-width:4; stroke-opacity:1; fill:none\" points=\"19648,1423.18 19648,1423.18 19828.4,1423.18 19648,1423.18 \"/>\n",
       "<path clip-path=\"url(#clip652)\" d=\"M19828.4 1423.18 L19828.4 1423.18 L20008.7 1423.18 L20008.7 1423.18 L19828.4 1423.18 L19828.4 1423.18  Z\" fill=\"#009af9\" fill-rule=\"evenodd\" fill-opacity=\"1\"/>\n",
       "<polyline clip-path=\"url(#clip652)\" style=\"stroke:#000000; stroke-linecap:round; stroke-linejoin:round; stroke-width:4; stroke-opacity:1; fill:none\" points=\"19828.4,1423.18 19828.4,1423.18 20008.7,1423.18 19828.4,1423.18 \"/>\n",
       "<path clip-path=\"url(#clip652)\" d=\"M20008.7 1423.18 L20008.7 1423.18 L20189.1 1423.18 L20189.1 1423.18 L20008.7 1423.18 L20008.7 1423.18  Z\" fill=\"#009af9\" fill-rule=\"evenodd\" fill-opacity=\"1\"/>\n",
       "<polyline clip-path=\"url(#clip652)\" style=\"stroke:#000000; stroke-linecap:round; stroke-linejoin:round; stroke-width:4; stroke-opacity:1; fill:none\" points=\"20008.7,1423.18 20008.7,1423.18 20189.1,1423.18 20008.7,1423.18 \"/>\n",
       "<path clip-path=\"url(#clip652)\" d=\"M20189.1 1423.18 L20189.1 1423.18 L20369.4 1423.18 L20369.4 1423.18 L20189.1 1423.18 L20189.1 1423.18  Z\" fill=\"#009af9\" fill-rule=\"evenodd\" fill-opacity=\"1\"/>\n",
       "<polyline clip-path=\"url(#clip652)\" style=\"stroke:#000000; stroke-linecap:round; stroke-linejoin:round; stroke-width:4; stroke-opacity:1; fill:none\" points=\"20189.1,1423.18 20189.1,1423.18 20369.4,1423.18 20189.1,1423.18 \"/>\n",
       "<path clip-path=\"url(#clip652)\" d=\"M20369.4 1423.18 L20369.4 1423.18 L20549.8 1423.18 L20549.8 1423.18 L20369.4 1423.18 L20369.4 1423.18  Z\" fill=\"#009af9\" fill-rule=\"evenodd\" fill-opacity=\"1\"/>\n",
       "<polyline clip-path=\"url(#clip652)\" style=\"stroke:#000000; stroke-linecap:round; stroke-linejoin:round; stroke-width:4; stroke-opacity:1; fill:none\" points=\"20369.4,1423.18 20369.4,1423.18 20549.8,1423.18 20369.4,1423.18 \"/>\n",
       "<path clip-path=\"url(#clip652)\" d=\"M20549.8 1423.18 L20549.8 1423.18 L20730.1 1423.18 L20730.1 1423.18 L20549.8 1423.18 L20549.8 1423.18  Z\" fill=\"#009af9\" fill-rule=\"evenodd\" fill-opacity=\"1\"/>\n",
       "<polyline clip-path=\"url(#clip652)\" style=\"stroke:#000000; stroke-linecap:round; stroke-linejoin:round; stroke-width:4; stroke-opacity:1; fill:none\" points=\"20549.8,1423.18 20549.8,1423.18 20730.1,1423.18 20549.8,1423.18 \"/>\n",
       "<path clip-path=\"url(#clip652)\" d=\"M20730.1 1423.18 L20730.1 1423.18 L20910.5 1423.18 L20910.5 1423.18 L20730.1 1423.18 L20730.1 1423.18  Z\" fill=\"#009af9\" fill-rule=\"evenodd\" fill-opacity=\"1\"/>\n",
       "<polyline clip-path=\"url(#clip652)\" style=\"stroke:#000000; stroke-linecap:round; stroke-linejoin:round; stroke-width:4; stroke-opacity:1; fill:none\" points=\"20730.1,1423.18 20730.1,1423.18 20910.5,1423.18 20730.1,1423.18 \"/>\n",
       "<path clip-path=\"url(#clip652)\" d=\"M20910.5 1423.18 L20910.5 1423.18 L21090.8 1423.18 L21090.8 1423.18 L20910.5 1423.18 L20910.5 1423.18  Z\" fill=\"#009af9\" fill-rule=\"evenodd\" fill-opacity=\"1\"/>\n",
       "<polyline clip-path=\"url(#clip652)\" style=\"stroke:#000000; stroke-linecap:round; stroke-linejoin:round; stroke-width:4; stroke-opacity:1; fill:none\" points=\"20910.5,1423.18 20910.5,1423.18 21090.8,1423.18 20910.5,1423.18 \"/>\n",
       "<path clip-path=\"url(#clip652)\" d=\"M21090.8 1423.18 L21090.8 1423.18 L21271.2 1423.18 L21271.2 1423.18 L21090.8 1423.18 L21090.8 1423.18  Z\" fill=\"#009af9\" fill-rule=\"evenodd\" fill-opacity=\"1\"/>\n",
       "<polyline clip-path=\"url(#clip652)\" style=\"stroke:#000000; stroke-linecap:round; stroke-linejoin:round; stroke-width:4; stroke-opacity:1; fill:none\" points=\"21090.8,1423.18 21090.8,1423.18 21271.2,1423.18 21090.8,1423.18 \"/>\n",
       "<path clip-path=\"url(#clip652)\" d=\"M21271.2 1423.18 L21271.2 1423.18 L21451.5 1423.18 L21451.5 1423.18 L21271.2 1423.18 L21271.2 1423.18  Z\" fill=\"#009af9\" fill-rule=\"evenodd\" fill-opacity=\"1\"/>\n",
       "<polyline clip-path=\"url(#clip652)\" style=\"stroke:#000000; stroke-linecap:round; stroke-linejoin:round; stroke-width:4; stroke-opacity:1; fill:none\" points=\"21271.2,1423.18 21271.2,1423.18 21451.5,1423.18 21271.2,1423.18 \"/>\n",
       "<path clip-path=\"url(#clip652)\" d=\"M21451.5 1423.18 L21451.5 1423.18 L21631.9 1423.18 L21631.9 1423.18 L21451.5 1423.18 L21451.5 1423.18  Z\" fill=\"#009af9\" fill-rule=\"evenodd\" fill-opacity=\"1\"/>\n",
       "<polyline clip-path=\"url(#clip652)\" style=\"stroke:#000000; stroke-linecap:round; stroke-linejoin:round; stroke-width:4; stroke-opacity:1; fill:none\" points=\"21451.5,1423.18 21451.5,1423.18 21631.9,1423.18 21451.5,1423.18 \"/>\n",
       "<path clip-path=\"url(#clip652)\" d=\"M21631.9 1423.18 L21631.9 1423.18 L21812.2 1423.18 L21812.2 1423.18 L21631.9 1423.18 L21631.9 1423.18  Z\" fill=\"#009af9\" fill-rule=\"evenodd\" fill-opacity=\"1\"/>\n",
       "<polyline clip-path=\"url(#clip652)\" style=\"stroke:#000000; stroke-linecap:round; stroke-linejoin:round; stroke-width:4; stroke-opacity:1; fill:none\" points=\"21631.9,1423.18 21631.9,1423.18 21812.2,1423.18 21631.9,1423.18 \"/>\n",
       "<path clip-path=\"url(#clip652)\" d=\"M21812.2 1423.18 L21812.2 1423.18 L21992.6 1423.18 L21992.6 1423.18 L21812.2 1423.18 L21812.2 1423.18  Z\" fill=\"#009af9\" fill-rule=\"evenodd\" fill-opacity=\"1\"/>\n",
       "<polyline clip-path=\"url(#clip652)\" style=\"stroke:#000000; stroke-linecap:round; stroke-linejoin:round; stroke-width:4; stroke-opacity:1; fill:none\" points=\"21812.2,1423.18 21812.2,1423.18 21992.6,1423.18 21812.2,1423.18 \"/>\n",
       "<path clip-path=\"url(#clip652)\" d=\"M21992.6 1423.18 L21992.6 1423.18 L22172.9 1423.18 L22172.9 1423.18 L21992.6 1423.18 L21992.6 1423.18  Z\" fill=\"#009af9\" fill-rule=\"evenodd\" fill-opacity=\"1\"/>\n",
       "<polyline clip-path=\"url(#clip652)\" style=\"stroke:#000000; stroke-linecap:round; stroke-linejoin:round; stroke-width:4; stroke-opacity:1; fill:none\" points=\"21992.6,1423.18 21992.6,1423.18 22172.9,1423.18 21992.6,1423.18 \"/>\n",
       "<path clip-path=\"url(#clip652)\" d=\"M22172.9 1423.18 L22172.9 1423.18 L22353.3 1423.18 L22353.3 1423.18 L22172.9 1423.18 L22172.9 1423.18  Z\" fill=\"#009af9\" fill-rule=\"evenodd\" fill-opacity=\"1\"/>\n",
       "<polyline clip-path=\"url(#clip652)\" style=\"stroke:#000000; stroke-linecap:round; stroke-linejoin:round; stroke-width:4; stroke-opacity:1; fill:none\" points=\"22172.9,1423.18 22172.9,1423.18 22353.3,1423.18 22172.9,1423.18 \"/>\n",
       "<path clip-path=\"url(#clip652)\" d=\"M22353.3 1423.18 L22353.3 1423.18 L22533.6 1423.18 L22533.6 1423.18 L22353.3 1423.18 L22353.3 1423.18  Z\" fill=\"#009af9\" fill-rule=\"evenodd\" fill-opacity=\"1\"/>\n",
       "<polyline clip-path=\"url(#clip652)\" style=\"stroke:#000000; stroke-linecap:round; stroke-linejoin:round; stroke-width:4; stroke-opacity:1; fill:none\" points=\"22353.3,1423.18 22353.3,1423.18 22533.6,1423.18 22353.3,1423.18 \"/>\n",
       "<path clip-path=\"url(#clip652)\" d=\"M22533.6 1423.18 L22533.6 1423.18 L22714 1423.18 L22714 1423.18 L22533.6 1423.18 L22533.6 1423.18  Z\" fill=\"#009af9\" fill-rule=\"evenodd\" fill-opacity=\"1\"/>\n",
       "<polyline clip-path=\"url(#clip652)\" style=\"stroke:#000000; stroke-linecap:round; stroke-linejoin:round; stroke-width:4; stroke-opacity:1; fill:none\" points=\"22533.6,1423.18 22533.6,1423.18 22714,1423.18 22533.6,1423.18 \"/>\n",
       "<path clip-path=\"url(#clip652)\" d=\"M22714 1423.18 L22714 1423.18 L22894.3 1423.18 L22894.3 1423.18 L22714 1423.18 L22714 1423.18  Z\" fill=\"#009af9\" fill-rule=\"evenodd\" fill-opacity=\"1\"/>\n",
       "<polyline clip-path=\"url(#clip652)\" style=\"stroke:#000000; stroke-linecap:round; stroke-linejoin:round; stroke-width:4; stroke-opacity:1; fill:none\" points=\"22714,1423.18 22714,1423.18 22894.3,1423.18 22714,1423.18 \"/>\n",
       "<path clip-path=\"url(#clip652)\" d=\"M22894.3 1423.18 L22894.3 1423.18 L23074.7 1423.18 L23074.7 1423.18 L22894.3 1423.18 L22894.3 1423.18  Z\" fill=\"#009af9\" fill-rule=\"evenodd\" fill-opacity=\"1\"/>\n",
       "<polyline clip-path=\"url(#clip652)\" style=\"stroke:#000000; stroke-linecap:round; stroke-linejoin:round; stroke-width:4; stroke-opacity:1; fill:none\" points=\"22894.3,1423.18 22894.3,1423.18 23074.7,1423.18 22894.3,1423.18 \"/>\n",
       "<path clip-path=\"url(#clip652)\" d=\"M23074.7 1423.18 L23074.7 1423.18 L23255 1423.18 L23255 1423.18 L23074.7 1423.18 L23074.7 1423.18  Z\" fill=\"#009af9\" fill-rule=\"evenodd\" fill-opacity=\"1\"/>\n",
       "<polyline clip-path=\"url(#clip652)\" style=\"stroke:#000000; stroke-linecap:round; stroke-linejoin:round; stroke-width:4; stroke-opacity:1; fill:none\" points=\"23074.7,1423.18 23074.7,1423.18 23255,1423.18 23074.7,1423.18 \"/>\n",
       "<path clip-path=\"url(#clip652)\" d=\"M23255 1423.18 L23255 1423.18 L23435.4 1423.18 L23435.4 1423.18 L23255 1423.18 L23255 1423.18  Z\" fill=\"#009af9\" fill-rule=\"evenodd\" fill-opacity=\"1\"/>\n",
       "<polyline clip-path=\"url(#clip652)\" style=\"stroke:#000000; stroke-linecap:round; stroke-linejoin:round; stroke-width:4; stroke-opacity:1; fill:none\" points=\"23255,1423.18 23255,1423.18 23435.4,1423.18 23255,1423.18 \"/>\n",
       "<path clip-path=\"url(#clip652)\" d=\"M23435.4 1423.18 L23435.4 1423.18 L23615.7 1423.18 L23615.7 1423.18 L23435.4 1423.18 L23435.4 1423.18  Z\" fill=\"#009af9\" fill-rule=\"evenodd\" fill-opacity=\"1\"/>\n",
       "<polyline clip-path=\"url(#clip652)\" style=\"stroke:#000000; stroke-linecap:round; stroke-linejoin:round; stroke-width:4; stroke-opacity:1; fill:none\" points=\"23435.4,1423.18 23435.4,1423.18 23615.7,1423.18 23435.4,1423.18 \"/>\n",
       "<path clip-path=\"url(#clip652)\" d=\"M23615.7 1423.18 L23615.7 1423.18 L23796.1 1423.18 L23796.1 1423.18 L23615.7 1423.18 L23615.7 1423.18  Z\" fill=\"#009af9\" fill-rule=\"evenodd\" fill-opacity=\"1\"/>\n",
       "<polyline clip-path=\"url(#clip652)\" style=\"stroke:#000000; stroke-linecap:round; stroke-linejoin:round; stroke-width:4; stroke-opacity:1; fill:none\" points=\"23615.7,1423.18 23615.7,1423.18 23796.1,1423.18 23615.7,1423.18 \"/>\n",
       "<path clip-path=\"url(#clip652)\" d=\"M23796.1 1423.18 L23796.1 1423.18 L23976.4 1423.18 L23976.4 1423.18 L23796.1 1423.18 L23796.1 1423.18  Z\" fill=\"#009af9\" fill-rule=\"evenodd\" fill-opacity=\"1\"/>\n",
       "<polyline clip-path=\"url(#clip652)\" style=\"stroke:#000000; stroke-linecap:round; stroke-linejoin:round; stroke-width:4; stroke-opacity:1; fill:none\" points=\"23796.1,1423.18 23796.1,1423.18 23976.4,1423.18 23796.1,1423.18 \"/>\n",
       "<path clip-path=\"url(#clip652)\" d=\"M23976.4 1423.18 L23976.4 1423.18 L24156.8 1423.18 L24156.8 1423.18 L23976.4 1423.18 L23976.4 1423.18  Z\" fill=\"#009af9\" fill-rule=\"evenodd\" fill-opacity=\"1\"/>\n",
       "<polyline clip-path=\"url(#clip652)\" style=\"stroke:#000000; stroke-linecap:round; stroke-linejoin:round; stroke-width:4; stroke-opacity:1; fill:none\" points=\"23976.4,1423.18 23976.4,1423.18 24156.8,1423.18 23976.4,1423.18 \"/>\n",
       "<path clip-path=\"url(#clip652)\" d=\"M24156.8 1423.18 L24156.8 1423.18 L24337.1 1423.18 L24337.1 1423.18 L24156.8 1423.18 L24156.8 1423.18  Z\" fill=\"#009af9\" fill-rule=\"evenodd\" fill-opacity=\"1\"/>\n",
       "<polyline clip-path=\"url(#clip652)\" style=\"stroke:#000000; stroke-linecap:round; stroke-linejoin:round; stroke-width:4; stroke-opacity:1; fill:none\" points=\"24156.8,1423.18 24156.8,1423.18 24337.1,1423.18 24156.8,1423.18 \"/>\n",
       "<path clip-path=\"url(#clip652)\" d=\"M24337.1 1423.18 L24337.1 1423.18 L24517.5 1423.18 L24517.5 1423.18 L24337.1 1423.18 L24337.1 1423.18  Z\" fill=\"#009af9\" fill-rule=\"evenodd\" fill-opacity=\"1\"/>\n",
       "<polyline clip-path=\"url(#clip652)\" style=\"stroke:#000000; stroke-linecap:round; stroke-linejoin:round; stroke-width:4; stroke-opacity:1; fill:none\" points=\"24337.1,1423.18 24337.1,1423.18 24517.5,1423.18 24337.1,1423.18 \"/>\n",
       "<path clip-path=\"url(#clip652)\" d=\"M24517.5 1423.18 L24517.5 1423.18 L24697.8 1423.18 L24697.8 1423.18 L24517.5 1423.18 L24517.5 1423.18  Z\" fill=\"#009af9\" fill-rule=\"evenodd\" fill-opacity=\"1\"/>\n",
       "<polyline clip-path=\"url(#clip652)\" style=\"stroke:#000000; stroke-linecap:round; stroke-linejoin:round; stroke-width:4; stroke-opacity:1; fill:none\" points=\"24517.5,1423.18 24517.5,1423.18 24697.8,1423.18 24517.5,1423.18 \"/>\n",
       "<path clip-path=\"url(#clip652)\" d=\"M24697.8 1423.18 L24697.8 1423.18 L24878.2 1423.18 L24878.2 1423.18 L24697.8 1423.18 L24697.8 1423.18  Z\" fill=\"#009af9\" fill-rule=\"evenodd\" fill-opacity=\"1\"/>\n",
       "<polyline clip-path=\"url(#clip652)\" style=\"stroke:#000000; stroke-linecap:round; stroke-linejoin:round; stroke-width:4; stroke-opacity:1; fill:none\" points=\"24697.8,1423.18 24697.8,1423.18 24878.2,1423.18 24697.8,1423.18 \"/>\n",
       "<path clip-path=\"url(#clip652)\" d=\"M24878.2 1423.18 L24878.2 1423.18 L25058.5 1423.18 L25058.5 1423.18 L24878.2 1423.18 L24878.2 1423.18  Z\" fill=\"#009af9\" fill-rule=\"evenodd\" fill-opacity=\"1\"/>\n",
       "<polyline clip-path=\"url(#clip652)\" style=\"stroke:#000000; stroke-linecap:round; stroke-linejoin:round; stroke-width:4; stroke-opacity:1; fill:none\" points=\"24878.2,1423.18 24878.2,1423.18 25058.5,1423.18 24878.2,1423.18 \"/>\n",
       "<path clip-path=\"url(#clip652)\" d=\"M25058.5 1423.18 L25058.5 1423.18 L25238.9 1423.18 L25238.9 1423.18 L25058.5 1423.18 L25058.5 1423.18  Z\" fill=\"#009af9\" fill-rule=\"evenodd\" fill-opacity=\"1\"/>\n",
       "<polyline clip-path=\"url(#clip652)\" style=\"stroke:#000000; stroke-linecap:round; stroke-linejoin:round; stroke-width:4; stroke-opacity:1; fill:none\" points=\"25058.5,1423.18 25058.5,1423.18 25238.9,1423.18 25058.5,1423.18 \"/>\n",
       "<path clip-path=\"url(#clip652)\" d=\"M25238.9 1423.18 L25238.9 1423.18 L25419.2 1423.18 L25419.2 1423.18 L25238.9 1423.18 L25238.9 1423.18  Z\" fill=\"#009af9\" fill-rule=\"evenodd\" fill-opacity=\"1\"/>\n",
       "<polyline clip-path=\"url(#clip652)\" style=\"stroke:#000000; stroke-linecap:round; stroke-linejoin:round; stroke-width:4; stroke-opacity:1; fill:none\" points=\"25238.9,1423.18 25238.9,1423.18 25419.2,1423.18 25238.9,1423.18 \"/>\n",
       "<path clip-path=\"url(#clip652)\" d=\"M25419.2 1423.18 L25419.2 1423.18 L25599.6 1423.18 L25599.6 1423.18 L25419.2 1423.18 L25419.2 1423.18  Z\" fill=\"#009af9\" fill-rule=\"evenodd\" fill-opacity=\"1\"/>\n",
       "<polyline clip-path=\"url(#clip652)\" style=\"stroke:#000000; stroke-linecap:round; stroke-linejoin:round; stroke-width:4; stroke-opacity:1; fill:none\" points=\"25419.2,1423.18 25419.2,1423.18 25599.6,1423.18 25419.2,1423.18 \"/>\n",
       "<path clip-path=\"url(#clip652)\" d=\"M25599.6 1423.18 L25599.6 1423.18 L25779.9 1423.18 L25779.9 1423.18 L25599.6 1423.18 L25599.6 1423.18  Z\" fill=\"#009af9\" fill-rule=\"evenodd\" fill-opacity=\"1\"/>\n",
       "<polyline clip-path=\"url(#clip652)\" style=\"stroke:#000000; stroke-linecap:round; stroke-linejoin:round; stroke-width:4; stroke-opacity:1; fill:none\" points=\"25599.6,1423.18 25599.6,1423.18 25779.9,1423.18 25599.6,1423.18 \"/>\n",
       "<path clip-path=\"url(#clip652)\" d=\"M25779.9 1423.18 L25779.9 1423.18 L25960.2 1423.18 L25960.2 1423.18 L25779.9 1423.18 L25779.9 1423.18  Z\" fill=\"#009af9\" fill-rule=\"evenodd\" fill-opacity=\"1\"/>\n",
       "<polyline clip-path=\"url(#clip652)\" style=\"stroke:#000000; stroke-linecap:round; stroke-linejoin:round; stroke-width:4; stroke-opacity:1; fill:none\" points=\"25779.9,1423.18 25779.9,1423.18 25960.2,1423.18 25779.9,1423.18 \"/>\n",
       "<path clip-path=\"url(#clip652)\" d=\"M25960.2 1423.18 L25960.2 1423.18 L26140.6 1423.18 L26140.6 1423.18 L25960.2 1423.18 L25960.2 1423.18  Z\" fill=\"#009af9\" fill-rule=\"evenodd\" fill-opacity=\"1\"/>\n",
       "<polyline clip-path=\"url(#clip652)\" style=\"stroke:#000000; stroke-linecap:round; stroke-linejoin:round; stroke-width:4; stroke-opacity:1; fill:none\" points=\"25960.2,1423.18 25960.2,1423.18 26140.6,1423.18 25960.2,1423.18 \"/>\n",
       "<path clip-path=\"url(#clip652)\" d=\"M26140.6 1423.18 L26140.6 1423.18 L26320.9 1423.18 L26320.9 1423.18 L26140.6 1423.18 L26140.6 1423.18  Z\" fill=\"#009af9\" fill-rule=\"evenodd\" fill-opacity=\"1\"/>\n",
       "<polyline clip-path=\"url(#clip652)\" style=\"stroke:#000000; stroke-linecap:round; stroke-linejoin:round; stroke-width:4; stroke-opacity:1; fill:none\" points=\"26140.6,1423.18 26140.6,1423.18 26320.9,1423.18 26140.6,1423.18 \"/>\n",
       "<path clip-path=\"url(#clip652)\" d=\"M26320.9 1423.18 L26320.9 1423.18 L26501.3 1423.18 L26501.3 1423.18 L26320.9 1423.18 L26320.9 1423.18  Z\" fill=\"#009af9\" fill-rule=\"evenodd\" fill-opacity=\"1\"/>\n",
       "<polyline clip-path=\"url(#clip652)\" style=\"stroke:#000000; stroke-linecap:round; stroke-linejoin:round; stroke-width:4; stroke-opacity:1; fill:none\" points=\"26320.9,1423.18 26320.9,1423.18 26501.3,1423.18 26320.9,1423.18 \"/>\n",
       "<path clip-path=\"url(#clip652)\" d=\"M26501.3 1423.18 L26501.3 1423.18 L26681.6 1423.18 L26681.6 1423.18 L26501.3 1423.18 L26501.3 1423.18  Z\" fill=\"#009af9\" fill-rule=\"evenodd\" fill-opacity=\"1\"/>\n",
       "<polyline clip-path=\"url(#clip652)\" style=\"stroke:#000000; stroke-linecap:round; stroke-linejoin:round; stroke-width:4; stroke-opacity:1; fill:none\" points=\"26501.3,1423.18 26501.3,1423.18 26681.6,1423.18 26501.3,1423.18 \"/>\n",
       "<path clip-path=\"url(#clip652)\" d=\"M26681.6 1423.18 L26681.6 1423.18 L26862 1423.18 L26862 1423.18 L26681.6 1423.18 L26681.6 1423.18  Z\" fill=\"#009af9\" fill-rule=\"evenodd\" fill-opacity=\"1\"/>\n",
       "<polyline clip-path=\"url(#clip652)\" style=\"stroke:#000000; stroke-linecap:round; stroke-linejoin:round; stroke-width:4; stroke-opacity:1; fill:none\" points=\"26681.6,1423.18 26681.6,1423.18 26862,1423.18 26681.6,1423.18 \"/>\n",
       "<path clip-path=\"url(#clip652)\" d=\"M26862 1423.18 L26862 1423.18 L27042.3 1423.18 L27042.3 1423.18 L26862 1423.18 L26862 1423.18  Z\" fill=\"#009af9\" fill-rule=\"evenodd\" fill-opacity=\"1\"/>\n",
       "<polyline clip-path=\"url(#clip652)\" style=\"stroke:#000000; stroke-linecap:round; stroke-linejoin:round; stroke-width:4; stroke-opacity:1; fill:none\" points=\"26862,1423.18 26862,1423.18 27042.3,1423.18 26862,1423.18 \"/>\n",
       "<path clip-path=\"url(#clip652)\" d=\"M27042.3 1423.18 L27042.3 1423.18 L27222.7 1423.18 L27222.7 1423.18 L27042.3 1423.18 L27042.3 1423.18  Z\" fill=\"#009af9\" fill-rule=\"evenodd\" fill-opacity=\"1\"/>\n",
       "<polyline clip-path=\"url(#clip652)\" style=\"stroke:#000000; stroke-linecap:round; stroke-linejoin:round; stroke-width:4; stroke-opacity:1; fill:none\" points=\"27042.3,1423.18 27042.3,1423.18 27222.7,1423.18 27042.3,1423.18 \"/>\n",
       "<path clip-path=\"url(#clip652)\" d=\"M27222.7 1423.18 L27222.7 1423.18 L27403 1423.18 L27403 1423.18 L27222.7 1423.18 L27222.7 1423.18  Z\" fill=\"#009af9\" fill-rule=\"evenodd\" fill-opacity=\"1\"/>\n",
       "<polyline clip-path=\"url(#clip652)\" style=\"stroke:#000000; stroke-linecap:round; stroke-linejoin:round; stroke-width:4; stroke-opacity:1; fill:none\" points=\"27222.7,1423.18 27222.7,1423.18 27403,1423.18 27222.7,1423.18 \"/>\n",
       "<path clip-path=\"url(#clip652)\" d=\"M27403 1423.18 L27403 1423.18 L27583.4 1423.18 L27583.4 1423.18 L27403 1423.18 L27403 1423.18  Z\" fill=\"#009af9\" fill-rule=\"evenodd\" fill-opacity=\"1\"/>\n",
       "<polyline clip-path=\"url(#clip652)\" style=\"stroke:#000000; stroke-linecap:round; stroke-linejoin:round; stroke-width:4; stroke-opacity:1; fill:none\" points=\"27403,1423.18 27403,1423.18 27583.4,1423.18 27403,1423.18 \"/>\n",
       "<path clip-path=\"url(#clip652)\" d=\"M27583.4 1423.18 L27583.4 1423.18 L27763.7 1423.18 L27763.7 1423.18 L27583.4 1423.18 L27583.4 1423.18  Z\" fill=\"#009af9\" fill-rule=\"evenodd\" fill-opacity=\"1\"/>\n",
       "<polyline clip-path=\"url(#clip652)\" style=\"stroke:#000000; stroke-linecap:round; stroke-linejoin:round; stroke-width:4; stroke-opacity:1; fill:none\" points=\"27583.4,1423.18 27583.4,1423.18 27763.7,1423.18 27583.4,1423.18 \"/>\n",
       "<path clip-path=\"url(#clip652)\" d=\"M27763.7 1423.18 L27763.7 1423.18 L27944.1 1423.18 L27944.1 1423.18 L27763.7 1423.18 L27763.7 1423.18  Z\" fill=\"#009af9\" fill-rule=\"evenodd\" fill-opacity=\"1\"/>\n",
       "<polyline clip-path=\"url(#clip652)\" style=\"stroke:#000000; stroke-linecap:round; stroke-linejoin:round; stroke-width:4; stroke-opacity:1; fill:none\" points=\"27763.7,1423.18 27763.7,1423.18 27944.1,1423.18 27763.7,1423.18 \"/>\n",
       "<path clip-path=\"url(#clip652)\" d=\"M27944.1 1423.18 L27944.1 1423.18 L28124.4 1423.18 L28124.4 1423.18 L27944.1 1423.18 L27944.1 1423.18  Z\" fill=\"#009af9\" fill-rule=\"evenodd\" fill-opacity=\"1\"/>\n",
       "<polyline clip-path=\"url(#clip652)\" style=\"stroke:#000000; stroke-linecap:round; stroke-linejoin:round; stroke-width:4; stroke-opacity:1; fill:none\" points=\"27944.1,1423.18 27944.1,1423.18 28124.4,1423.18 27944.1,1423.18 \"/>\n",
       "<path clip-path=\"url(#clip652)\" d=\"M28124.4 1423.18 L28124.4 1423.18 L28304.8 1423.18 L28304.8 1423.18 L28124.4 1423.18 L28124.4 1423.18  Z\" fill=\"#009af9\" fill-rule=\"evenodd\" fill-opacity=\"1\"/>\n",
       "<polyline clip-path=\"url(#clip652)\" style=\"stroke:#000000; stroke-linecap:round; stroke-linejoin:round; stroke-width:4; stroke-opacity:1; fill:none\" points=\"28124.4,1423.18 28124.4,1423.18 28304.8,1423.18 28124.4,1423.18 \"/>\n",
       "<path clip-path=\"url(#clip652)\" d=\"M28304.8 1423.18 L28304.8 1423.18 L28485.1 1423.18 L28485.1 1423.18 L28304.8 1423.18 L28304.8 1423.18  Z\" fill=\"#009af9\" fill-rule=\"evenodd\" fill-opacity=\"1\"/>\n",
       "<polyline clip-path=\"url(#clip652)\" style=\"stroke:#000000; stroke-linecap:round; stroke-linejoin:round; stroke-width:4; stroke-opacity:1; fill:none\" points=\"28304.8,1423.18 28304.8,1423.18 28485.1,1423.18 28304.8,1423.18 \"/>\n",
       "<path clip-path=\"url(#clip652)\" d=\"M28485.1 1423.18 L28485.1 1423.18 L28665.5 1423.18 L28665.5 1423.18 L28485.1 1423.18 L28485.1 1423.18  Z\" fill=\"#009af9\" fill-rule=\"evenodd\" fill-opacity=\"1\"/>\n",
       "<polyline clip-path=\"url(#clip652)\" style=\"stroke:#000000; stroke-linecap:round; stroke-linejoin:round; stroke-width:4; stroke-opacity:1; fill:none\" points=\"28485.1,1423.18 28485.1,1423.18 28665.5,1423.18 28485.1,1423.18 \"/>\n",
       "<path clip-path=\"url(#clip652)\" d=\"M28665.5 1423.18 L28665.5 1423.18 L28845.8 1423.18 L28845.8 1423.18 L28665.5 1423.18 L28665.5 1423.18  Z\" fill=\"#009af9\" fill-rule=\"evenodd\" fill-opacity=\"1\"/>\n",
       "<polyline clip-path=\"url(#clip652)\" style=\"stroke:#000000; stroke-linecap:round; stroke-linejoin:round; stroke-width:4; stroke-opacity:1; fill:none\" points=\"28665.5,1423.18 28665.5,1423.18 28845.8,1423.18 28665.5,1423.18 \"/>\n",
       "<path clip-path=\"url(#clip652)\" d=\"M28845.8 1423.18 L28845.8 1423.18 L29026.2 1423.18 L29026.2 1423.18 L28845.8 1423.18 L28845.8 1423.18  Z\" fill=\"#009af9\" fill-rule=\"evenodd\" fill-opacity=\"1\"/>\n",
       "<polyline clip-path=\"url(#clip652)\" style=\"stroke:#000000; stroke-linecap:round; stroke-linejoin:round; stroke-width:4; stroke-opacity:1; fill:none\" points=\"28845.8,1423.18 28845.8,1423.18 29026.2,1423.18 28845.8,1423.18 \"/>\n",
       "<path clip-path=\"url(#clip652)\" d=\"M29026.2 1423.18 L29026.2 1423.18 L29206.5 1423.18 L29206.5 1423.18 L29026.2 1423.18 L29026.2 1423.18  Z\" fill=\"#009af9\" fill-rule=\"evenodd\" fill-opacity=\"1\"/>\n",
       "<polyline clip-path=\"url(#clip652)\" style=\"stroke:#000000; stroke-linecap:round; stroke-linejoin:round; stroke-width:4; stroke-opacity:1; fill:none\" points=\"29026.2,1423.18 29026.2,1423.18 29206.5,1423.18 29026.2,1423.18 \"/>\n",
       "<path clip-path=\"url(#clip652)\" d=\"M29206.5 1423.18 L29206.5 1423.18 L29386.9 1423.18 L29386.9 1423.18 L29206.5 1423.18 L29206.5 1423.18  Z\" fill=\"#009af9\" fill-rule=\"evenodd\" fill-opacity=\"1\"/>\n",
       "<polyline clip-path=\"url(#clip652)\" style=\"stroke:#000000; stroke-linecap:round; stroke-linejoin:round; stroke-width:4; stroke-opacity:1; fill:none\" points=\"29206.5,1423.18 29206.5,1423.18 29386.9,1423.18 29206.5,1423.18 \"/>\n",
       "<path clip-path=\"url(#clip652)\" d=\"M29386.9 1423.18 L29386.9 1423.18 L29567.2 1423.18 L29567.2 1423.18 L29386.9 1423.18 L29386.9 1423.18  Z\" fill=\"#009af9\" fill-rule=\"evenodd\" fill-opacity=\"1\"/>\n",
       "<polyline clip-path=\"url(#clip652)\" style=\"stroke:#000000; stroke-linecap:round; stroke-linejoin:round; stroke-width:4; stroke-opacity:1; fill:none\" points=\"29386.9,1423.18 29386.9,1423.18 29567.2,1423.18 29386.9,1423.18 \"/>\n",
       "<path clip-path=\"url(#clip652)\" d=\"M29567.2 1423.18 L29567.2 1423.18 L29747.6 1423.18 L29747.6 1423.18 L29567.2 1423.18 L29567.2 1423.18  Z\" fill=\"#009af9\" fill-rule=\"evenodd\" fill-opacity=\"1\"/>\n",
       "<polyline clip-path=\"url(#clip652)\" style=\"stroke:#000000; stroke-linecap:round; stroke-linejoin:round; stroke-width:4; stroke-opacity:1; fill:none\" points=\"29567.2,1423.18 29567.2,1423.18 29747.6,1423.18 29567.2,1423.18 \"/>\n",
       "<path clip-path=\"url(#clip652)\" d=\"M29747.6 1423.18 L29747.6 1423.18 L29927.9 1423.18 L29927.9 1423.18 L29747.6 1423.18 L29747.6 1423.18  Z\" fill=\"#009af9\" fill-rule=\"evenodd\" fill-opacity=\"1\"/>\n",
       "<polyline clip-path=\"url(#clip652)\" style=\"stroke:#000000; stroke-linecap:round; stroke-linejoin:round; stroke-width:4; stroke-opacity:1; fill:none\" points=\"29747.6,1423.18 29747.6,1423.18 29927.9,1423.18 29747.6,1423.18 \"/>\n",
       "<path clip-path=\"url(#clip652)\" d=\"M29927.9 1423.18 L29927.9 1423.18 L30108.3 1423.18 L30108.3 1423.18 L29927.9 1423.18 L29927.9 1423.18  Z\" fill=\"#009af9\" fill-rule=\"evenodd\" fill-opacity=\"1\"/>\n",
       "<polyline clip-path=\"url(#clip652)\" style=\"stroke:#000000; stroke-linecap:round; stroke-linejoin:round; stroke-width:4; stroke-opacity:1; fill:none\" points=\"29927.9,1423.18 29927.9,1423.18 30108.3,1423.18 29927.9,1423.18 \"/>\n",
       "<path clip-path=\"url(#clip652)\" d=\"M30108.3 1423.18 L30108.3 1423.18 L30288.6 1423.18 L30288.6 1423.18 L30108.3 1423.18 L30108.3 1423.18  Z\" fill=\"#009af9\" fill-rule=\"evenodd\" fill-opacity=\"1\"/>\n",
       "<polyline clip-path=\"url(#clip652)\" style=\"stroke:#000000; stroke-linecap:round; stroke-linejoin:round; stroke-width:4; stroke-opacity:1; fill:none\" points=\"30108.3,1423.18 30108.3,1423.18 30288.6,1423.18 30108.3,1423.18 \"/>\n",
       "<path clip-path=\"url(#clip652)\" d=\"M30288.6 1423.18 L30288.6 1423.18 L30469 1423.18 L30469 1423.18 L30288.6 1423.18 L30288.6 1423.18  Z\" fill=\"#009af9\" fill-rule=\"evenodd\" fill-opacity=\"1\"/>\n",
       "<polyline clip-path=\"url(#clip652)\" style=\"stroke:#000000; stroke-linecap:round; stroke-linejoin:round; stroke-width:4; stroke-opacity:1; fill:none\" points=\"30288.6,1423.18 30288.6,1423.18 30469,1423.18 30288.6,1423.18 \"/>\n",
       "<path clip-path=\"url(#clip652)\" d=\"M30469 1423.18 L30469 1423.18 L30649.3 1423.18 L30649.3 1423.18 L30469 1423.18 L30469 1423.18  Z\" fill=\"#009af9\" fill-rule=\"evenodd\" fill-opacity=\"1\"/>\n",
       "<polyline clip-path=\"url(#clip652)\" style=\"stroke:#000000; stroke-linecap:round; stroke-linejoin:round; stroke-width:4; stroke-opacity:1; fill:none\" points=\"30469,1423.18 30469,1423.18 30649.3,1423.18 30469,1423.18 \"/>\n",
       "<path clip-path=\"url(#clip652)\" d=\"M30649.3 1423.18 L30649.3 1423.18 L30829.7 1423.18 L30829.7 1423.18 L30649.3 1423.18 L30649.3 1423.18  Z\" fill=\"#009af9\" fill-rule=\"evenodd\" fill-opacity=\"1\"/>\n",
       "<polyline clip-path=\"url(#clip652)\" style=\"stroke:#000000; stroke-linecap:round; stroke-linejoin:round; stroke-width:4; stroke-opacity:1; fill:none\" points=\"30649.3,1423.18 30649.3,1423.18 30829.7,1423.18 30649.3,1423.18 \"/>\n",
       "<path clip-path=\"url(#clip652)\" d=\"M30829.7 1423.18 L30829.7 1423.18 L31010 1423.18 L31010 1423.18 L30829.7 1423.18 L30829.7 1423.18  Z\" fill=\"#009af9\" fill-rule=\"evenodd\" fill-opacity=\"1\"/>\n",
       "<polyline clip-path=\"url(#clip652)\" style=\"stroke:#000000; stroke-linecap:round; stroke-linejoin:round; stroke-width:4; stroke-opacity:1; fill:none\" points=\"30829.7,1423.18 30829.7,1423.18 31010,1423.18 30829.7,1423.18 \"/>\n",
       "<path clip-path=\"url(#clip652)\" d=\"M31010 1423.18 L31010 1423.18 L31190.4 1423.18 L31190.4 1423.18 L31010 1423.18 L31010 1423.18  Z\" fill=\"#009af9\" fill-rule=\"evenodd\" fill-opacity=\"1\"/>\n",
       "<polyline clip-path=\"url(#clip652)\" style=\"stroke:#000000; stroke-linecap:round; stroke-linejoin:round; stroke-width:4; stroke-opacity:1; fill:none\" points=\"31010,1423.18 31010,1423.18 31190.4,1423.18 31010,1423.18 \"/>\n",
       "<path clip-path=\"url(#clip652)\" d=\"M31190.4 1423.18 L31190.4 1423.18 L31370.7 1423.18 L31370.7 1423.18 L31190.4 1423.18 L31190.4 1423.18  Z\" fill=\"#009af9\" fill-rule=\"evenodd\" fill-opacity=\"1\"/>\n",
       "<polyline clip-path=\"url(#clip652)\" style=\"stroke:#000000; stroke-linecap:round; stroke-linejoin:round; stroke-width:4; stroke-opacity:1; fill:none\" points=\"31190.4,1423.18 31190.4,1423.18 31370.7,1423.18 31190.4,1423.18 \"/>\n",
       "<path clip-path=\"url(#clip652)\" d=\"M31370.7 1423.18 L31370.7 1423.18 L31551.1 1423.18 L31551.1 1423.18 L31370.7 1423.18 L31370.7 1423.18  Z\" fill=\"#009af9\" fill-rule=\"evenodd\" fill-opacity=\"1\"/>\n",
       "<polyline clip-path=\"url(#clip652)\" style=\"stroke:#000000; stroke-linecap:round; stroke-linejoin:round; stroke-width:4; stroke-opacity:1; fill:none\" points=\"31370.7,1423.18 31370.7,1423.18 31551.1,1423.18 31370.7,1423.18 \"/>\n",
       "<path clip-path=\"url(#clip652)\" d=\"M31551.1 1423.18 L31551.1 1423.18 L31731.4 1423.18 L31731.4 1423.18 L31551.1 1423.18 L31551.1 1423.18  Z\" fill=\"#009af9\" fill-rule=\"evenodd\" fill-opacity=\"1\"/>\n",
       "<polyline clip-path=\"url(#clip652)\" style=\"stroke:#000000; stroke-linecap:round; stroke-linejoin:round; stroke-width:4; stroke-opacity:1; fill:none\" points=\"31551.1,1423.18 31551.1,1423.18 31731.4,1423.18 31551.1,1423.18 \"/>\n",
       "<path clip-path=\"url(#clip652)\" d=\"M31731.4 1423.18 L31731.4 1423.18 L31911.8 1423.18 L31911.8 1423.18 L31731.4 1423.18 L31731.4 1423.18  Z\" fill=\"#009af9\" fill-rule=\"evenodd\" fill-opacity=\"1\"/>\n",
       "<polyline clip-path=\"url(#clip652)\" style=\"stroke:#000000; stroke-linecap:round; stroke-linejoin:round; stroke-width:4; stroke-opacity:1; fill:none\" points=\"31731.4,1423.18 31731.4,1423.18 31911.8,1423.18 31731.4,1423.18 \"/>\n",
       "<path clip-path=\"url(#clip652)\" d=\"M31911.8 1423.18 L31911.8 1423.18 L32092.1 1423.18 L32092.1 1423.18 L31911.8 1423.18 L31911.8 1423.18  Z\" fill=\"#009af9\" fill-rule=\"evenodd\" fill-opacity=\"1\"/>\n",
       "<polyline clip-path=\"url(#clip652)\" style=\"stroke:#000000; stroke-linecap:round; stroke-linejoin:round; stroke-width:4; stroke-opacity:1; fill:none\" points=\"31911.8,1423.18 31911.8,1423.18 32092.1,1423.18 31911.8,1423.18 \"/>\n",
       "<path clip-path=\"url(#clip652)\" d=\"M32092.1 1423.18 L32092.1 1423.18 L32272.5 1423.18 L32272.5 1423.18 L32092.1 1423.18 L32092.1 1423.18  Z\" fill=\"#009af9\" fill-rule=\"evenodd\" fill-opacity=\"1\"/>\n",
       "<polyline clip-path=\"url(#clip652)\" style=\"stroke:#000000; stroke-linecap:round; stroke-linejoin:round; stroke-width:4; stroke-opacity:1; fill:none\" points=\"32092.1,1423.18 32092.1,1423.18 32272.5,1423.18 32092.1,1423.18 \"/>\n",
       "<path clip-path=\"url(#clip652)\" d=\"M32272.5 1423.18 L32272.5 1423.18 L32452.8 1423.18 L32452.8 1423.18 L32272.5 1423.18 L32272.5 1423.18  Z\" fill=\"#009af9\" fill-rule=\"evenodd\" fill-opacity=\"1\"/>\n",
       "<polyline clip-path=\"url(#clip652)\" style=\"stroke:#000000; stroke-linecap:round; stroke-linejoin:round; stroke-width:4; stroke-opacity:1; fill:none\" points=\"32272.5,1423.18 32272.5,1423.18 32452.8,1423.18 32272.5,1423.18 \"/>\n",
       "<path clip-path=\"url(#clip652)\" d=\"M32452.8 1423.18 L32452.8 1423.18 L32633.2 1423.18 L32633.2 1423.18 L32452.8 1423.18 L32452.8 1423.18  Z\" fill=\"#009af9\" fill-rule=\"evenodd\" fill-opacity=\"1\"/>\n",
       "<polyline clip-path=\"url(#clip652)\" style=\"stroke:#000000; stroke-linecap:round; stroke-linejoin:round; stroke-width:4; stroke-opacity:1; fill:none\" points=\"32452.8,1423.18 32452.8,1423.18 32633.2,1423.18 32452.8,1423.18 \"/>\n",
       "<path clip-path=\"url(#clip652)\" d=\"M32633.2 1423.18 L32633.2 1423.18 L32813.5 1423.18 L32813.5 1423.18 L32633.2 1423.18 L32633.2 1423.18  Z\" fill=\"#009af9\" fill-rule=\"evenodd\" fill-opacity=\"1\"/>\n",
       "<polyline clip-path=\"url(#clip652)\" style=\"stroke:#000000; stroke-linecap:round; stroke-linejoin:round; stroke-width:4; stroke-opacity:1; fill:none\" points=\"32633.2,1423.18 32633.2,1423.18 32813.5,1423.18 32633.2,1423.18 \"/>\n",
       "<path clip-path=\"url(#clip652)\" d=\"M32813.5 1423.18 L32813.5 1423.18 L32993.9 1423.18 L32993.9 1423.18 L32813.5 1423.18 L32813.5 1423.18  Z\" fill=\"#009af9\" fill-rule=\"evenodd\" fill-opacity=\"1\"/>\n",
       "<polyline clip-path=\"url(#clip652)\" style=\"stroke:#000000; stroke-linecap:round; stroke-linejoin:round; stroke-width:4; stroke-opacity:1; fill:none\" points=\"32813.5,1423.18 32813.5,1423.18 32993.9,1423.18 32813.5,1423.18 \"/>\n",
       "<path clip-path=\"url(#clip652)\" d=\"M32993.9 1423.18 L32993.9 1423.18 L33174.2 1423.18 L33174.2 1423.18 L32993.9 1423.18 L32993.9 1423.18  Z\" fill=\"#009af9\" fill-rule=\"evenodd\" fill-opacity=\"1\"/>\n",
       "<polyline clip-path=\"url(#clip652)\" style=\"stroke:#000000; stroke-linecap:round; stroke-linejoin:round; stroke-width:4; stroke-opacity:1; fill:none\" points=\"32993.9,1423.18 32993.9,1423.18 33174.2,1423.18 32993.9,1423.18 \"/>\n",
       "<path clip-path=\"url(#clip652)\" d=\"M33174.2 1423.18 L33174.2 1423.18 L33354.6 1423.18 L33354.6 1423.18 L33174.2 1423.18 L33174.2 1423.18  Z\" fill=\"#009af9\" fill-rule=\"evenodd\" fill-opacity=\"1\"/>\n",
       "<polyline clip-path=\"url(#clip652)\" style=\"stroke:#000000; stroke-linecap:round; stroke-linejoin:round; stroke-width:4; stroke-opacity:1; fill:none\" points=\"33174.2,1423.18 33174.2,1423.18 33354.6,1423.18 33174.2,1423.18 \"/>\n",
       "<path clip-path=\"url(#clip652)\" d=\"M33354.6 1423.18 L33354.6 1423.18 L33534.9 1423.18 L33534.9 1423.18 L33354.6 1423.18 L33354.6 1423.18  Z\" fill=\"#009af9\" fill-rule=\"evenodd\" fill-opacity=\"1\"/>\n",
       "<polyline clip-path=\"url(#clip652)\" style=\"stroke:#000000; stroke-linecap:round; stroke-linejoin:round; stroke-width:4; stroke-opacity:1; fill:none\" points=\"33354.6,1423.18 33354.6,1423.18 33534.9,1423.18 33354.6,1423.18 \"/>\n",
       "<path clip-path=\"url(#clip652)\" d=\"M33534.9 1423.18 L33534.9 1423.18 L33715.3 1423.18 L33715.3 1423.18 L33534.9 1423.18 L33534.9 1423.18  Z\" fill=\"#009af9\" fill-rule=\"evenodd\" fill-opacity=\"1\"/>\n",
       "<polyline clip-path=\"url(#clip652)\" style=\"stroke:#000000; stroke-linecap:round; stroke-linejoin:round; stroke-width:4; stroke-opacity:1; fill:none\" points=\"33534.9,1423.18 33534.9,1423.18 33715.3,1423.18 33534.9,1423.18 \"/>\n",
       "<path clip-path=\"url(#clip652)\" d=\"M33715.3 1423.18 L33715.3 1423.18 L33895.6 1423.18 L33895.6 1423.18 L33715.3 1423.18 L33715.3 1423.18  Z\" fill=\"#009af9\" fill-rule=\"evenodd\" fill-opacity=\"1\"/>\n",
       "<polyline clip-path=\"url(#clip652)\" style=\"stroke:#000000; stroke-linecap:round; stroke-linejoin:round; stroke-width:4; stroke-opacity:1; fill:none\" points=\"33715.3,1423.18 33715.3,1423.18 33895.6,1423.18 33715.3,1423.18 \"/>\n",
       "<path clip-path=\"url(#clip652)\" d=\"M33895.6 1423.18 L33895.6 1423.18 L34076 1423.18 L34076 1423.18 L33895.6 1423.18 L33895.6 1423.18  Z\" fill=\"#009af9\" fill-rule=\"evenodd\" fill-opacity=\"1\"/>\n",
       "<polyline clip-path=\"url(#clip652)\" style=\"stroke:#000000; stroke-linecap:round; stroke-linejoin:round; stroke-width:4; stroke-opacity:1; fill:none\" points=\"33895.6,1423.18 33895.6,1423.18 34076,1423.18 33895.6,1423.18 \"/>\n",
       "<path clip-path=\"url(#clip652)\" d=\"M34076 1423.18 L34076 1423.18 L34256.3 1423.18 L34256.3 1423.18 L34076 1423.18 L34076 1423.18  Z\" fill=\"#009af9\" fill-rule=\"evenodd\" fill-opacity=\"1\"/>\n",
       "<polyline clip-path=\"url(#clip652)\" style=\"stroke:#000000; stroke-linecap:round; stroke-linejoin:round; stroke-width:4; stroke-opacity:1; fill:none\" points=\"34076,1423.18 34076,1423.18 34256.3,1423.18 34076,1423.18 \"/>\n",
       "<path clip-path=\"url(#clip652)\" d=\"M34256.3 1423.18 L34256.3 1423.18 L34436.7 1423.18 L34436.7 1423.18 L34256.3 1423.18 L34256.3 1423.18  Z\" fill=\"#009af9\" fill-rule=\"evenodd\" fill-opacity=\"1\"/>\n",
       "<polyline clip-path=\"url(#clip652)\" style=\"stroke:#000000; stroke-linecap:round; stroke-linejoin:round; stroke-width:4; stroke-opacity:1; fill:none\" points=\"34256.3,1423.18 34256.3,1423.18 34436.7,1423.18 34256.3,1423.18 \"/>\n",
       "<path clip-path=\"url(#clip652)\" d=\"M34436.7 1423.18 L34436.7 1423.18 L34617 1423.18 L34617 1423.18 L34436.7 1423.18 L34436.7 1423.18  Z\" fill=\"#009af9\" fill-rule=\"evenodd\" fill-opacity=\"1\"/>\n",
       "<polyline clip-path=\"url(#clip652)\" style=\"stroke:#000000; stroke-linecap:round; stroke-linejoin:round; stroke-width:4; stroke-opacity:1; fill:none\" points=\"34436.7,1423.18 34436.7,1423.18 34617,1423.18 34436.7,1423.18 \"/>\n",
       "<path clip-path=\"url(#clip652)\" d=\"M34617 1423.18 L34617 1423.18 L34797.4 1423.18 L34797.4 1423.18 L34617 1423.18 L34617 1423.18  Z\" fill=\"#009af9\" fill-rule=\"evenodd\" fill-opacity=\"1\"/>\n",
       "<polyline clip-path=\"url(#clip652)\" style=\"stroke:#000000; stroke-linecap:round; stroke-linejoin:round; stroke-width:4; stroke-opacity:1; fill:none\" points=\"34617,1423.18 34617,1423.18 34797.4,1423.18 34617,1423.18 \"/>\n",
       "<path clip-path=\"url(#clip652)\" d=\"M34797.4 1423.18 L34797.4 1423.18 L34977.7 1423.18 L34977.7 1423.18 L34797.4 1423.18 L34797.4 1423.18  Z\" fill=\"#009af9\" fill-rule=\"evenodd\" fill-opacity=\"1\"/>\n",
       "<polyline clip-path=\"url(#clip652)\" style=\"stroke:#000000; stroke-linecap:round; stroke-linejoin:round; stroke-width:4; stroke-opacity:1; fill:none\" points=\"34797.4,1423.18 34797.4,1423.18 34977.7,1423.18 34797.4,1423.18 \"/>\n",
       "<path clip-path=\"url(#clip652)\" d=\"M34977.7 1423.18 L34977.7 1423.18 L35158 1423.18 L35158 1423.18 L34977.7 1423.18 L34977.7 1423.18  Z\" fill=\"#009af9\" fill-rule=\"evenodd\" fill-opacity=\"1\"/>\n",
       "<polyline clip-path=\"url(#clip652)\" style=\"stroke:#000000; stroke-linecap:round; stroke-linejoin:round; stroke-width:4; stroke-opacity:1; fill:none\" points=\"34977.7,1423.18 34977.7,1423.18 35158,1423.18 34977.7,1423.18 \"/>\n",
       "<path clip-path=\"url(#clip652)\" d=\"M35158 1423.18 L35158 1423.18 L35338.4 1423.18 L35338.4 1423.18 L35158 1423.18 L35158 1423.18  Z\" fill=\"#009af9\" fill-rule=\"evenodd\" fill-opacity=\"1\"/>\n",
       "<polyline clip-path=\"url(#clip652)\" style=\"stroke:#000000; stroke-linecap:round; stroke-linejoin:round; stroke-width:4; stroke-opacity:1; fill:none\" points=\"35158,1423.18 35158,1423.18 35338.4,1423.18 35158,1423.18 \"/>\n",
       "<path clip-path=\"url(#clip652)\" d=\"M35338.4 1423.18 L35338.4 1423.18 L35518.7 1423.18 L35518.7 1423.18 L35338.4 1423.18 L35338.4 1423.18  Z\" fill=\"#009af9\" fill-rule=\"evenodd\" fill-opacity=\"1\"/>\n",
       "<polyline clip-path=\"url(#clip652)\" style=\"stroke:#000000; stroke-linecap:round; stroke-linejoin:round; stroke-width:4; stroke-opacity:1; fill:none\" points=\"35338.4,1423.18 35338.4,1423.18 35518.7,1423.18 35338.4,1423.18 \"/>\n",
       "<path clip-path=\"url(#clip652)\" d=\"M35518.7 1423.18 L35518.7 1423.18 L35699.1 1423.18 L35699.1 1423.18 L35518.7 1423.18 L35518.7 1423.18  Z\" fill=\"#009af9\" fill-rule=\"evenodd\" fill-opacity=\"1\"/>\n",
       "<polyline clip-path=\"url(#clip652)\" style=\"stroke:#000000; stroke-linecap:round; stroke-linejoin:round; stroke-width:4; stroke-opacity:1; fill:none\" points=\"35518.7,1423.18 35518.7,1423.18 35699.1,1423.18 35518.7,1423.18 \"/>\n",
       "<path clip-path=\"url(#clip652)\" d=\"M35699.1 1423.18 L35699.1 1423.18 L35879.4 1423.18 L35879.4 1423.18 L35699.1 1423.18 L35699.1 1423.18  Z\" fill=\"#009af9\" fill-rule=\"evenodd\" fill-opacity=\"1\"/>\n",
       "<polyline clip-path=\"url(#clip652)\" style=\"stroke:#000000; stroke-linecap:round; stroke-linejoin:round; stroke-width:4; stroke-opacity:1; fill:none\" points=\"35699.1,1423.18 35699.1,1423.18 35879.4,1423.18 35699.1,1423.18 \"/>\n",
       "<path clip-path=\"url(#clip652)\" d=\"M35879.4 1423.18 L35879.4 1423.18 L36059.8 1423.18 L36059.8 1423.18 L35879.4 1423.18 L35879.4 1423.18  Z\" fill=\"#009af9\" fill-rule=\"evenodd\" fill-opacity=\"1\"/>\n",
       "<polyline clip-path=\"url(#clip652)\" style=\"stroke:#000000; stroke-linecap:round; stroke-linejoin:round; stroke-width:4; stroke-opacity:1; fill:none\" points=\"35879.4,1423.18 35879.4,1423.18 36059.8,1423.18 35879.4,1423.18 \"/>\n",
       "<path clip-path=\"url(#clip652)\" d=\"M36059.8 1423.18 L36059.8 1423.18 L36240.1 1423.18 L36240.1 1423.18 L36059.8 1423.18 L36059.8 1423.18  Z\" fill=\"#009af9\" fill-rule=\"evenodd\" fill-opacity=\"1\"/>\n",
       "<polyline clip-path=\"url(#clip652)\" style=\"stroke:#000000; stroke-linecap:round; stroke-linejoin:round; stroke-width:4; stroke-opacity:1; fill:none\" points=\"36059.8,1423.18 36059.8,1423.18 36240.1,1423.18 36059.8,1423.18 \"/>\n",
       "<path clip-path=\"url(#clip652)\" d=\"M36240.1 1423.18 L36240.1 1423.18 L36420.5 1423.18 L36420.5 1423.18 L36240.1 1423.18 L36240.1 1423.18  Z\" fill=\"#009af9\" fill-rule=\"evenodd\" fill-opacity=\"1\"/>\n",
       "<polyline clip-path=\"url(#clip652)\" style=\"stroke:#000000; stroke-linecap:round; stroke-linejoin:round; stroke-width:4; stroke-opacity:1; fill:none\" points=\"36240.1,1423.18 36240.1,1423.18 36420.5,1423.18 36240.1,1423.18 \"/>\n",
       "<path clip-path=\"url(#clip652)\" d=\"M36420.5 1423.18 L36420.5 1423.18 L36600.8 1423.18 L36600.8 1423.18 L36420.5 1423.18 L36420.5 1423.18  Z\" fill=\"#009af9\" fill-rule=\"evenodd\" fill-opacity=\"1\"/>\n",
       "<polyline clip-path=\"url(#clip652)\" style=\"stroke:#000000; stroke-linecap:round; stroke-linejoin:round; stroke-width:4; stroke-opacity:1; fill:none\" points=\"36420.5,1423.18 36420.5,1423.18 36600.8,1423.18 36420.5,1423.18 \"/>\n",
       "<path clip-path=\"url(#clip652)\" d=\"M36600.8 1423.18 L36600.8 1423.18 L36781.2 1423.18 L36781.2 1423.18 L36600.8 1423.18 L36600.8 1423.18  Z\" fill=\"#009af9\" fill-rule=\"evenodd\" fill-opacity=\"1\"/>\n",
       "<polyline clip-path=\"url(#clip652)\" style=\"stroke:#000000; stroke-linecap:round; stroke-linejoin:round; stroke-width:4; stroke-opacity:1; fill:none\" points=\"36600.8,1423.18 36600.8,1423.18 36781.2,1423.18 36600.8,1423.18 \"/>\n",
       "<path clip-path=\"url(#clip652)\" d=\"M36781.2 1423.18 L36781.2 1423.18 L36961.5 1423.18 L36961.5 1423.18 L36781.2 1423.18 L36781.2 1423.18  Z\" fill=\"#009af9\" fill-rule=\"evenodd\" fill-opacity=\"1\"/>\n",
       "<polyline clip-path=\"url(#clip652)\" style=\"stroke:#000000; stroke-linecap:round; stroke-linejoin:round; stroke-width:4; stroke-opacity:1; fill:none\" points=\"36781.2,1423.18 36781.2,1423.18 36961.5,1423.18 36781.2,1423.18 \"/>\n",
       "<path clip-path=\"url(#clip652)\" d=\"M36961.5 1423.18 L36961.5 1423.18 L37141.9 1423.18 L37141.9 1423.18 L36961.5 1423.18 L36961.5 1423.18  Z\" fill=\"#009af9\" fill-rule=\"evenodd\" fill-opacity=\"1\"/>\n",
       "<polyline clip-path=\"url(#clip652)\" style=\"stroke:#000000; stroke-linecap:round; stroke-linejoin:round; stroke-width:4; stroke-opacity:1; fill:none\" points=\"36961.5,1423.18 36961.5,1423.18 37141.9,1423.18 36961.5,1423.18 \"/>\n",
       "<path clip-path=\"url(#clip652)\" d=\"M37141.9 1423.18 L37141.9 1423.18 L37322.2 1423.18 L37322.2 1423.18 L37141.9 1423.18 L37141.9 1423.18  Z\" fill=\"#009af9\" fill-rule=\"evenodd\" fill-opacity=\"1\"/>\n",
       "<polyline clip-path=\"url(#clip652)\" style=\"stroke:#000000; stroke-linecap:round; stroke-linejoin:round; stroke-width:4; stroke-opacity:1; fill:none\" points=\"37141.9,1423.18 37141.9,1423.18 37322.2,1423.18 37141.9,1423.18 \"/>\n",
       "<path clip-path=\"url(#clip652)\" d=\"M37322.2 1423.18 L37322.2 1423.18 L37502.6 1423.18 L37502.6 1423.18 L37322.2 1423.18 L37322.2 1423.18  Z\" fill=\"#009af9\" fill-rule=\"evenodd\" fill-opacity=\"1\"/>\n",
       "<polyline clip-path=\"url(#clip652)\" style=\"stroke:#000000; stroke-linecap:round; stroke-linejoin:round; stroke-width:4; stroke-opacity:1; fill:none\" points=\"37322.2,1423.18 37322.2,1423.18 37502.6,1423.18 37322.2,1423.18 \"/>\n",
       "<path clip-path=\"url(#clip652)\" d=\"M37502.6 1423.18 L37502.6 1423.18 L37682.9 1423.18 L37682.9 1423.18 L37502.6 1423.18 L37502.6 1423.18  Z\" fill=\"#009af9\" fill-rule=\"evenodd\" fill-opacity=\"1\"/>\n",
       "<polyline clip-path=\"url(#clip652)\" style=\"stroke:#000000; stroke-linecap:round; stroke-linejoin:round; stroke-width:4; stroke-opacity:1; fill:none\" points=\"37502.6,1423.18 37502.6,1423.18 37682.9,1423.18 37502.6,1423.18 \"/>\n",
       "<path clip-path=\"url(#clip652)\" d=\"M37682.9 1423.18 L37682.9 1423.18 L37863.3 1423.18 L37863.3 1423.18 L37682.9 1423.18 L37682.9 1423.18  Z\" fill=\"#009af9\" fill-rule=\"evenodd\" fill-opacity=\"1\"/>\n",
       "<polyline clip-path=\"url(#clip652)\" style=\"stroke:#000000; stroke-linecap:round; stroke-linejoin:round; stroke-width:4; stroke-opacity:1; fill:none\" points=\"37682.9,1423.18 37682.9,1423.18 37863.3,1423.18 37682.9,1423.18 \"/>\n",
       "<path clip-path=\"url(#clip652)\" d=\"M37863.3 1423.18 L37863.3 1423.18 L38043.6 1423.18 L38043.6 1423.18 L37863.3 1423.18 L37863.3 1423.18  Z\" fill=\"#009af9\" fill-rule=\"evenodd\" fill-opacity=\"1\"/>\n",
       "<polyline clip-path=\"url(#clip652)\" style=\"stroke:#000000; stroke-linecap:round; stroke-linejoin:round; stroke-width:4; stroke-opacity:1; fill:none\" points=\"37863.3,1423.18 37863.3,1423.18 38043.6,1423.18 37863.3,1423.18 \"/>\n",
       "<path clip-path=\"url(#clip652)\" d=\"M38043.6 1423.18 L38043.6 1423.18 L38224 1423.18 L38224 1423.18 L38043.6 1423.18 L38043.6 1423.18  Z\" fill=\"#009af9\" fill-rule=\"evenodd\" fill-opacity=\"1\"/>\n",
       "<polyline clip-path=\"url(#clip652)\" style=\"stroke:#000000; stroke-linecap:round; stroke-linejoin:round; stroke-width:4; stroke-opacity:1; fill:none\" points=\"38043.6,1423.18 38043.6,1423.18 38224,1423.18 38043.6,1423.18 \"/>\n",
       "<path clip-path=\"url(#clip652)\" d=\"M38224 1423.18 L38224 1423.18 L38404.3 1423.18 L38404.3 1423.18 L38224 1423.18 L38224 1423.18  Z\" fill=\"#009af9\" fill-rule=\"evenodd\" fill-opacity=\"1\"/>\n",
       "<polyline clip-path=\"url(#clip652)\" style=\"stroke:#000000; stroke-linecap:round; stroke-linejoin:round; stroke-width:4; stroke-opacity:1; fill:none\" points=\"38224,1423.18 38224,1423.18 38404.3,1423.18 38224,1423.18 \"/>\n",
       "<path clip-path=\"url(#clip652)\" d=\"M38404.3 1423.18 L38404.3 1423.18 L38584.7 1423.18 L38584.7 1423.18 L38404.3 1423.18 L38404.3 1423.18  Z\" fill=\"#009af9\" fill-rule=\"evenodd\" fill-opacity=\"1\"/>\n",
       "<polyline clip-path=\"url(#clip652)\" style=\"stroke:#000000; stroke-linecap:round; stroke-linejoin:round; stroke-width:4; stroke-opacity:1; fill:none\" points=\"38404.3,1423.18 38404.3,1423.18 38584.7,1423.18 38404.3,1423.18 \"/>\n",
       "<path clip-path=\"url(#clip652)\" d=\"M38584.7 1423.18 L38584.7 1423.18 L38765 1423.18 L38765 1423.18 L38584.7 1423.18 L38584.7 1423.18  Z\" fill=\"#009af9\" fill-rule=\"evenodd\" fill-opacity=\"1\"/>\n",
       "<polyline clip-path=\"url(#clip652)\" style=\"stroke:#000000; stroke-linecap:round; stroke-linejoin:round; stroke-width:4; stroke-opacity:1; fill:none\" points=\"38584.7,1423.18 38584.7,1423.18 38765,1423.18 38584.7,1423.18 \"/>\n",
       "<path clip-path=\"url(#clip652)\" d=\"M38765 1423.18 L38765 1423.18 L38945.4 1423.18 L38945.4 1423.18 L38765 1423.18 L38765 1423.18  Z\" fill=\"#009af9\" fill-rule=\"evenodd\" fill-opacity=\"1\"/>\n",
       "<polyline clip-path=\"url(#clip652)\" style=\"stroke:#000000; stroke-linecap:round; stroke-linejoin:round; stroke-width:4; stroke-opacity:1; fill:none\" points=\"38765,1423.18 38765,1423.18 38945.4,1423.18 38765,1423.18 \"/>\n",
       "<path clip-path=\"url(#clip652)\" d=\"M38945.4 1423.18 L38945.4 1423.18 L39125.7 1423.18 L39125.7 1423.18 L38945.4 1423.18 L38945.4 1423.18  Z\" fill=\"#009af9\" fill-rule=\"evenodd\" fill-opacity=\"1\"/>\n",
       "<polyline clip-path=\"url(#clip652)\" style=\"stroke:#000000; stroke-linecap:round; stroke-linejoin:round; stroke-width:4; stroke-opacity:1; fill:none\" points=\"38945.4,1423.18 38945.4,1423.18 39125.7,1423.18 38945.4,1423.18 \"/>\n",
       "<path clip-path=\"url(#clip652)\" d=\"M39125.7 1423.18 L39125.7 1423.18 L39306.1 1423.18 L39306.1 1423.18 L39125.7 1423.18 L39125.7 1423.18  Z\" fill=\"#009af9\" fill-rule=\"evenodd\" fill-opacity=\"1\"/>\n",
       "<polyline clip-path=\"url(#clip652)\" style=\"stroke:#000000; stroke-linecap:round; stroke-linejoin:round; stroke-width:4; stroke-opacity:1; fill:none\" points=\"39125.7,1423.18 39125.7,1423.18 39306.1,1423.18 39125.7,1423.18 \"/>\n",
       "<path clip-path=\"url(#clip652)\" d=\"M39306.1 1423.18 L39306.1 1423.18 L39486.4 1423.18 L39486.4 1423.18 L39306.1 1423.18 L39306.1 1423.18  Z\" fill=\"#009af9\" fill-rule=\"evenodd\" fill-opacity=\"1\"/>\n",
       "<polyline clip-path=\"url(#clip652)\" style=\"stroke:#000000; stroke-linecap:round; stroke-linejoin:round; stroke-width:4; stroke-opacity:1; fill:none\" points=\"39306.1,1423.18 39306.1,1423.18 39486.4,1423.18 39306.1,1423.18 \"/>\n",
       "<path clip-path=\"url(#clip652)\" d=\"M39486.4 1423.18 L39486.4 1423.18 L39666.8 1423.18 L39666.8 1423.18 L39486.4 1423.18 L39486.4 1423.18  Z\" fill=\"#009af9\" fill-rule=\"evenodd\" fill-opacity=\"1\"/>\n",
       "<polyline clip-path=\"url(#clip652)\" style=\"stroke:#000000; stroke-linecap:round; stroke-linejoin:round; stroke-width:4; stroke-opacity:1; fill:none\" points=\"39486.4,1423.18 39486.4,1423.18 39666.8,1423.18 39486.4,1423.18 \"/>\n",
       "<path clip-path=\"url(#clip652)\" d=\"M39666.8 1423.18 L39666.8 1423.18 L39847.1 1423.18 L39847.1 1423.18 L39666.8 1423.18 L39666.8 1423.18  Z\" fill=\"#009af9\" fill-rule=\"evenodd\" fill-opacity=\"1\"/>\n",
       "<polyline clip-path=\"url(#clip652)\" style=\"stroke:#000000; stroke-linecap:round; stroke-linejoin:round; stroke-width:4; stroke-opacity:1; fill:none\" points=\"39666.8,1423.18 39666.8,1423.18 39847.1,1423.18 39666.8,1423.18 \"/>\n",
       "<path clip-path=\"url(#clip652)\" d=\"M39847.1 1423.18 L39847.1 1423.18 L40027.5 1423.18 L40027.5 1423.18 L39847.1 1423.18 L39847.1 1423.18  Z\" fill=\"#009af9\" fill-rule=\"evenodd\" fill-opacity=\"1\"/>\n",
       "<polyline clip-path=\"url(#clip652)\" style=\"stroke:#000000; stroke-linecap:round; stroke-linejoin:round; stroke-width:4; stroke-opacity:1; fill:none\" points=\"39847.1,1423.18 39847.1,1423.18 40027.5,1423.18 39847.1,1423.18 \"/>\n",
       "<path clip-path=\"url(#clip652)\" d=\"M40027.5 1423.18 L40027.5 1423.18 L40207.8 1423.18 L40207.8 1423.18 L40027.5 1423.18 L40027.5 1423.18  Z\" fill=\"#009af9\" fill-rule=\"evenodd\" fill-opacity=\"1\"/>\n",
       "<polyline clip-path=\"url(#clip652)\" style=\"stroke:#000000; stroke-linecap:round; stroke-linejoin:round; stroke-width:4; stroke-opacity:1; fill:none\" points=\"40027.5,1423.18 40027.5,1423.18 40207.8,1423.18 40027.5,1423.18 \"/>\n",
       "<path clip-path=\"url(#clip652)\" d=\"M40207.8 1423.18 L40207.8 1423.18 L40388.2 1423.18 L40388.2 1423.18 L40207.8 1423.18 L40207.8 1423.18  Z\" fill=\"#009af9\" fill-rule=\"evenodd\" fill-opacity=\"1\"/>\n",
       "<polyline clip-path=\"url(#clip652)\" style=\"stroke:#000000; stroke-linecap:round; stroke-linejoin:round; stroke-width:4; stroke-opacity:1; fill:none\" points=\"40207.8,1423.18 40207.8,1423.18 40388.2,1423.18 40207.8,1423.18 \"/>\n",
       "<path clip-path=\"url(#clip652)\" d=\"M40388.2 1423.18 L40388.2 1423.18 L40568.5 1423.18 L40568.5 1423.18 L40388.2 1423.18 L40388.2 1423.18  Z\" fill=\"#009af9\" fill-rule=\"evenodd\" fill-opacity=\"1\"/>\n",
       "<polyline clip-path=\"url(#clip652)\" style=\"stroke:#000000; stroke-linecap:round; stroke-linejoin:round; stroke-width:4; stroke-opacity:1; fill:none\" points=\"40388.2,1423.18 40388.2,1423.18 40568.5,1423.18 40388.2,1423.18 \"/>\n",
       "<path clip-path=\"url(#clip652)\" d=\"M40568.5 1423.18 L40568.5 1423.18 L40748.9 1423.18 L40748.9 1423.18 L40568.5 1423.18 L40568.5 1423.18  Z\" fill=\"#009af9\" fill-rule=\"evenodd\" fill-opacity=\"1\"/>\n",
       "<polyline clip-path=\"url(#clip652)\" style=\"stroke:#000000; stroke-linecap:round; stroke-linejoin:round; stroke-width:4; stroke-opacity:1; fill:none\" points=\"40568.5,1423.18 40568.5,1423.18 40748.9,1423.18 40568.5,1423.18 \"/>\n",
       "<path clip-path=\"url(#clip652)\" d=\"M40748.9 1423.18 L40748.9 1423.18 L40929.2 1423.18 L40929.2 1423.18 L40748.9 1423.18 L40748.9 1423.18  Z\" fill=\"#009af9\" fill-rule=\"evenodd\" fill-opacity=\"1\"/>\n",
       "<polyline clip-path=\"url(#clip652)\" style=\"stroke:#000000; stroke-linecap:round; stroke-linejoin:round; stroke-width:4; stroke-opacity:1; fill:none\" points=\"40748.9,1423.18 40748.9,1423.18 40929.2,1423.18 40748.9,1423.18 \"/>\n",
       "<path clip-path=\"url(#clip652)\" d=\"M40929.2 1423.18 L40929.2 1423.18 L41109.6 1423.18 L41109.6 1423.18 L40929.2 1423.18 L40929.2 1423.18  Z\" fill=\"#009af9\" fill-rule=\"evenodd\" fill-opacity=\"1\"/>\n",
       "<polyline clip-path=\"url(#clip652)\" style=\"stroke:#000000; stroke-linecap:round; stroke-linejoin:round; stroke-width:4; stroke-opacity:1; fill:none\" points=\"40929.2,1423.18 40929.2,1423.18 41109.6,1423.18 40929.2,1423.18 \"/>\n",
       "<path clip-path=\"url(#clip652)\" d=\"M41109.6 1423.18 L41109.6 1423.18 L41289.9 1423.18 L41289.9 1423.18 L41109.6 1423.18 L41109.6 1423.18  Z\" fill=\"#009af9\" fill-rule=\"evenodd\" fill-opacity=\"1\"/>\n",
       "<polyline clip-path=\"url(#clip652)\" style=\"stroke:#000000; stroke-linecap:round; stroke-linejoin:round; stroke-width:4; stroke-opacity:1; fill:none\" points=\"41109.6,1423.18 41109.6,1423.18 41289.9,1423.18 41109.6,1423.18 \"/>\n",
       "<path clip-path=\"url(#clip652)\" d=\"M41289.9 1423.18 L41289.9 1423.18 L41470.3 1423.18 L41470.3 1423.18 L41289.9 1423.18 L41289.9 1423.18  Z\" fill=\"#009af9\" fill-rule=\"evenodd\" fill-opacity=\"1\"/>\n",
       "<polyline clip-path=\"url(#clip652)\" style=\"stroke:#000000; stroke-linecap:round; stroke-linejoin:round; stroke-width:4; stroke-opacity:1; fill:none\" points=\"41289.9,1423.18 41289.9,1423.18 41470.3,1423.18 41289.9,1423.18 \"/>\n",
       "<path clip-path=\"url(#clip652)\" d=\"M41470.3 1423.18 L41470.3 1423.18 L41650.6 1423.18 L41650.6 1423.18 L41470.3 1423.18 L41470.3 1423.18  Z\" fill=\"#009af9\" fill-rule=\"evenodd\" fill-opacity=\"1\"/>\n",
       "<polyline clip-path=\"url(#clip652)\" style=\"stroke:#000000; stroke-linecap:round; stroke-linejoin:round; stroke-width:4; stroke-opacity:1; fill:none\" points=\"41470.3,1423.18 41470.3,1423.18 41650.6,1423.18 41470.3,1423.18 \"/>\n",
       "<path clip-path=\"url(#clip652)\" d=\"M41650.6 1423.18 L41650.6 1423.18 L41831 1423.18 L41831 1423.18 L41650.6 1423.18 L41650.6 1423.18  Z\" fill=\"#009af9\" fill-rule=\"evenodd\" fill-opacity=\"1\"/>\n",
       "<polyline clip-path=\"url(#clip652)\" style=\"stroke:#000000; stroke-linecap:round; stroke-linejoin:round; stroke-width:4; stroke-opacity:1; fill:none\" points=\"41650.6,1423.18 41650.6,1423.18 41831,1423.18 41650.6,1423.18 \"/>\n",
       "<path clip-path=\"url(#clip652)\" d=\"M41831 1423.18 L41831 1423.18 L42011.3 1423.18 L42011.3 1423.18 L41831 1423.18 L41831 1423.18  Z\" fill=\"#009af9\" fill-rule=\"evenodd\" fill-opacity=\"1\"/>\n",
       "<polyline clip-path=\"url(#clip652)\" style=\"stroke:#000000; stroke-linecap:round; stroke-linejoin:round; stroke-width:4; stroke-opacity:1; fill:none\" points=\"41831,1423.18 41831,1423.18 42011.3,1423.18 41831,1423.18 \"/>\n",
       "<path clip-path=\"url(#clip652)\" d=\"M42011.3 1423.18 L42011.3 1423.18 L42191.7 1423.18 L42191.7 1423.18 L42011.3 1423.18 L42011.3 1423.18  Z\" fill=\"#009af9\" fill-rule=\"evenodd\" fill-opacity=\"1\"/>\n",
       "<polyline clip-path=\"url(#clip652)\" style=\"stroke:#000000; stroke-linecap:round; stroke-linejoin:round; stroke-width:4; stroke-opacity:1; fill:none\" points=\"42011.3,1423.18 42011.3,1423.18 42191.7,1423.18 42011.3,1423.18 \"/>\n",
       "<path clip-path=\"url(#clip652)\" d=\"M42191.7 1423.18 L42191.7 1423.18 L42372 1423.18 L42372 1423.18 L42191.7 1423.18 L42191.7 1423.18  Z\" fill=\"#009af9\" fill-rule=\"evenodd\" fill-opacity=\"1\"/>\n",
       "<polyline clip-path=\"url(#clip652)\" style=\"stroke:#000000; stroke-linecap:round; stroke-linejoin:round; stroke-width:4; stroke-opacity:1; fill:none\" points=\"42191.7,1423.18 42191.7,1423.18 42372,1423.18 42191.7,1423.18 \"/>\n",
       "<path clip-path=\"url(#clip652)\" d=\"M42372 1423.18 L42372 1423.18 L42552.4 1423.18 L42552.4 1423.18 L42372 1423.18 L42372 1423.18  Z\" fill=\"#009af9\" fill-rule=\"evenodd\" fill-opacity=\"1\"/>\n",
       "<polyline clip-path=\"url(#clip652)\" style=\"stroke:#000000; stroke-linecap:round; stroke-linejoin:round; stroke-width:4; stroke-opacity:1; fill:none\" points=\"42372,1423.18 42372,1423.18 42552.4,1423.18 42372,1423.18 \"/>\n",
       "<path clip-path=\"url(#clip652)\" d=\"M42552.4 1423.18 L42552.4 1423.18 L42732.7 1423.18 L42732.7 1423.18 L42552.4 1423.18 L42552.4 1423.18  Z\" fill=\"#009af9\" fill-rule=\"evenodd\" fill-opacity=\"1\"/>\n",
       "<polyline clip-path=\"url(#clip652)\" style=\"stroke:#000000; stroke-linecap:round; stroke-linejoin:round; stroke-width:4; stroke-opacity:1; fill:none\" points=\"42552.4,1423.18 42552.4,1423.18 42732.7,1423.18 42552.4,1423.18 \"/>\n",
       "<path clip-path=\"url(#clip652)\" d=\"M42732.7 1423.18 L42732.7 1423.18 L42913.1 1423.18 L42913.1 1423.18 L42732.7 1423.18 L42732.7 1423.18  Z\" fill=\"#009af9\" fill-rule=\"evenodd\" fill-opacity=\"1\"/>\n",
       "<polyline clip-path=\"url(#clip652)\" style=\"stroke:#000000; stroke-linecap:round; stroke-linejoin:round; stroke-width:4; stroke-opacity:1; fill:none\" points=\"42732.7,1423.18 42732.7,1423.18 42913.1,1423.18 42732.7,1423.18 \"/>\n",
       "<path clip-path=\"url(#clip652)\" d=\"M42913.1 1423.18 L42913.1 1423.18 L43093.4 1423.18 L43093.4 1423.18 L42913.1 1423.18 L42913.1 1423.18  Z\" fill=\"#009af9\" fill-rule=\"evenodd\" fill-opacity=\"1\"/>\n",
       "<polyline clip-path=\"url(#clip652)\" style=\"stroke:#000000; stroke-linecap:round; stroke-linejoin:round; stroke-width:4; stroke-opacity:1; fill:none\" points=\"42913.1,1423.18 42913.1,1423.18 43093.4,1423.18 42913.1,1423.18 \"/>\n",
       "<path clip-path=\"url(#clip652)\" d=\"M43093.4 1423.18 L43093.4 1423.18 L43273.8 1423.18 L43273.8 1423.18 L43093.4 1423.18 L43093.4 1423.18  Z\" fill=\"#009af9\" fill-rule=\"evenodd\" fill-opacity=\"1\"/>\n",
       "<polyline clip-path=\"url(#clip652)\" style=\"stroke:#000000; stroke-linecap:round; stroke-linejoin:round; stroke-width:4; stroke-opacity:1; fill:none\" points=\"43093.4,1423.18 43093.4,1423.18 43273.8,1423.18 43093.4,1423.18 \"/>\n",
       "<path clip-path=\"url(#clip652)\" d=\"M43273.8 1415.18 L43273.8 1423.18 L43454.1 1423.18 L43454.1 1415.18 L43273.8 1415.18 L43273.8 1415.18  Z\" fill=\"#009af9\" fill-rule=\"evenodd\" fill-opacity=\"1\"/>\n",
       "<polyline clip-path=\"url(#clip652)\" style=\"stroke:#000000; stroke-linecap:round; stroke-linejoin:round; stroke-width:4; stroke-opacity:1; fill:none\" points=\"43273.8,1415.18 43273.8,1423.18 43454.1,1423.18 43454.1,1415.18 43273.8,1415.18 \"/>\n",
       "<circle clip-path=\"url(#clip652)\" style=\"fill:#009af9; stroke:none; fill-opacity:0\" cx=\"260.52\" cy=\"1239.19\" r=\"2\"/>\n",
       "<circle clip-path=\"url(#clip652)\" style=\"fill:#009af9; stroke:none; fill-opacity:0\" cx=\"440.869\" cy=\"47.2441\" r=\"2\"/>\n",
       "<circle clip-path=\"url(#clip652)\" style=\"fill:#009af9; stroke:none; fill-opacity:0\" cx=\"621.218\" cy=\"639.216\" r=\"2\"/>\n",
       "<circle clip-path=\"url(#clip652)\" style=\"fill:#009af9; stroke:none; fill-opacity:0\" cx=\"801.567\" cy=\"839.207\" r=\"2\"/>\n",
       "<circle clip-path=\"url(#clip652)\" style=\"fill:#009af9; stroke:none; fill-opacity:0\" cx=\"981.916\" cy=\"991.2\" r=\"2\"/>\n",
       "<circle clip-path=\"url(#clip652)\" style=\"fill:#009af9; stroke:none; fill-opacity:0\" cx=\"1162.27\" cy=\"1311.19\" r=\"2\"/>\n",
       "<circle clip-path=\"url(#clip652)\" style=\"fill:#009af9; stroke:none; fill-opacity:0\" cx=\"1342.61\" cy=\"1391.18\" r=\"2\"/>\n",
       "<circle clip-path=\"url(#clip652)\" style=\"fill:#009af9; stroke:none; fill-opacity:0\" cx=\"1522.96\" cy=\"1351.18\" r=\"2\"/>\n",
       "<circle clip-path=\"url(#clip652)\" style=\"fill:#009af9; stroke:none; fill-opacity:0\" cx=\"1703.31\" cy=\"1399.18\" r=\"2\"/>\n",
       "<circle clip-path=\"url(#clip652)\" style=\"fill:#009af9; stroke:none; fill-opacity:0\" cx=\"1883.66\" cy=\"1415.18\" r=\"2\"/>\n",
       "<circle clip-path=\"url(#clip652)\" style=\"fill:#009af9; stroke:none; fill-opacity:0\" cx=\"2064.01\" cy=\"1415.18\" r=\"2\"/>\n",
       "<circle clip-path=\"url(#clip652)\" style=\"fill:#009af9; stroke:none; fill-opacity:0\" cx=\"2244.36\" cy=\"1423.18\" r=\"2\"/>\n",
       "</svg>\n"
      ],
      "text/html": [
       "<?xml version=\"1.0\" encoding=\"utf-8\"?>\n",
       "<svg xmlns=\"http://www.w3.org/2000/svg\" xmlns:xlink=\"http://www.w3.org/1999/xlink\" width=\"600\" height=\"400\" viewBox=\"0 0 2400 1600\">\n",
       "<defs>\n",
       "  <clipPath id=\"clip700\">\n",
       "    <rect x=\"0\" y=\"0\" width=\"2400\" height=\"1600\"/>\n",
       "  </clipPath>\n",
       "</defs>\n",
       "<path clip-path=\"url(#clip700)\" d=\"M0 1600 L2400 1600 L2400 0 L0 0  Z\" fill=\"#ffffff\" fill-rule=\"evenodd\" fill-opacity=\"1\"/>\n",
       "<defs>\n",
       "  <clipPath id=\"clip701\">\n",
       "    <rect x=\"480\" y=\"0\" width=\"1681\" height=\"1600\"/>\n",
       "  </clipPath>\n",
       "</defs>\n",
       "<path clip-path=\"url(#clip700)\" d=\"M232.389 1423.18 L2352.76 1423.18 L2352.76 47.2441 L232.389 47.2441  Z\" fill=\"#ffffff\" fill-rule=\"evenodd\" fill-opacity=\"1\"/>\n",
       "<defs>\n",
       "  <clipPath id=\"clip702\">\n",
       "    <rect x=\"232\" y=\"47\" width=\"2121\" height=\"1377\"/>\n",
       "  </clipPath>\n",
       "</defs>\n",
       "<polyline clip-path=\"url(#clip702)\" style=\"stroke:#000000; stroke-linecap:round; stroke-linejoin:round; stroke-width:2; stroke-opacity:0.1; fill:none\" points=\"531.044,1423.18 531.044,47.2441 \"/>\n",
       "<polyline clip-path=\"url(#clip702)\" style=\"stroke:#000000; stroke-linecap:round; stroke-linejoin:round; stroke-width:2; stroke-opacity:0.1; fill:none\" points=\"891.742,1423.18 891.742,47.2441 \"/>\n",
       "<polyline clip-path=\"url(#clip702)\" style=\"stroke:#000000; stroke-linecap:round; stroke-linejoin:round; stroke-width:2; stroke-opacity:0.1; fill:none\" points=\"1252.44,1423.18 1252.44,47.2441 \"/>\n",
       "<polyline clip-path=\"url(#clip702)\" style=\"stroke:#000000; stroke-linecap:round; stroke-linejoin:round; stroke-width:2; stroke-opacity:0.1; fill:none\" points=\"1613.14,1423.18 1613.14,47.2441 \"/>\n",
       "<polyline clip-path=\"url(#clip702)\" style=\"stroke:#000000; stroke-linecap:round; stroke-linejoin:round; stroke-width:2; stroke-opacity:0.1; fill:none\" points=\"1973.84,1423.18 1973.84,47.2441 \"/>\n",
       "<polyline clip-path=\"url(#clip702)\" style=\"stroke:#000000; stroke-linecap:round; stroke-linejoin:round; stroke-width:2; stroke-opacity:0.1; fill:none\" points=\"2334.53,1423.18 2334.53,47.2441 \"/>\n",
       "<polyline clip-path=\"url(#clip700)\" style=\"stroke:#000000; stroke-linecap:round; stroke-linejoin:round; stroke-width:4; stroke-opacity:1; fill:none\" points=\"232.389,1423.18 2352.76,1423.18 \"/>\n",
       "<polyline clip-path=\"url(#clip700)\" style=\"stroke:#000000; stroke-linecap:round; stroke-linejoin:round; stroke-width:4; stroke-opacity:1; fill:none\" points=\"531.044,1423.18 531.044,1404.28 \"/>\n",
       "<polyline clip-path=\"url(#clip700)\" style=\"stroke:#000000; stroke-linecap:round; stroke-linejoin:round; stroke-width:4; stroke-opacity:1; fill:none\" points=\"891.742,1423.18 891.742,1404.28 \"/>\n",
       "<polyline clip-path=\"url(#clip700)\" style=\"stroke:#000000; stroke-linecap:round; stroke-linejoin:round; stroke-width:4; stroke-opacity:1; fill:none\" points=\"1252.44,1423.18 1252.44,1404.28 \"/>\n",
       "<polyline clip-path=\"url(#clip700)\" style=\"stroke:#000000; stroke-linecap:round; stroke-linejoin:round; stroke-width:4; stroke-opacity:1; fill:none\" points=\"1613.14,1423.18 1613.14,1404.28 \"/>\n",
       "<polyline clip-path=\"url(#clip700)\" style=\"stroke:#000000; stroke-linecap:round; stroke-linejoin:round; stroke-width:4; stroke-opacity:1; fill:none\" points=\"1973.84,1423.18 1973.84,1404.28 \"/>\n",
       "<polyline clip-path=\"url(#clip700)\" style=\"stroke:#000000; stroke-linecap:round; stroke-linejoin:round; stroke-width:4; stroke-opacity:1; fill:none\" points=\"2334.53,1423.18 2334.53,1404.28 \"/>\n",
       "<path clip-path=\"url(#clip700)\" d=\"M483.567 1481.64 L491.206 1481.64 L491.206 1455.28 L482.896 1456.95 L482.896 1452.69 L491.16 1451.02 L495.836 1451.02 L495.836 1481.64 L503.474 1481.64 L503.474 1485.58 L483.567 1485.58 L483.567 1481.64 Z\" fill=\"#000000\" fill-rule=\"nonzero\" fill-opacity=\"1\" /><path clip-path=\"url(#clip700)\" d=\"M522.919 1454.1 Q519.308 1454.1 517.479 1457.66 Q515.673 1461.2 515.673 1468.33 Q515.673 1475.44 517.479 1479.01 Q519.308 1482.55 522.919 1482.55 Q526.553 1482.55 528.358 1479.01 Q530.187 1475.44 530.187 1468.33 Q530.187 1461.2 528.358 1457.66 Q526.553 1454.1 522.919 1454.1 M522.919 1450.39 Q528.729 1450.39 531.784 1455 Q534.863 1459.58 534.863 1468.33 Q534.863 1477.06 531.784 1481.67 Q528.729 1486.25 522.919 1486.25 Q517.109 1486.25 514.03 1481.67 Q510.974 1477.06 510.974 1468.33 Q510.974 1459.58 514.03 1455 Q517.109 1450.39 522.919 1450.39 Z\" fill=\"#000000\" fill-rule=\"nonzero\" fill-opacity=\"1\" /><path clip-path=\"url(#clip700)\" d=\"M543.081 1479.7 L547.965 1479.7 L547.965 1485.58 L543.081 1485.58 L543.081 1479.7 Z\" fill=\"#000000\" fill-rule=\"nonzero\" fill-opacity=\"1\" /><path clip-path=\"url(#clip700)\" d=\"M556.969 1451.02 L579.192 1451.02 L579.192 1453.01 L566.645 1485.58 L561.761 1485.58 L573.567 1454.96 L556.969 1454.96 L556.969 1451.02 Z\" fill=\"#000000\" fill-rule=\"nonzero\" fill-opacity=\"1\" /><path clip-path=\"url(#clip700)\" d=\"M843.86 1481.64 L851.499 1481.64 L851.499 1455.28 L843.189 1456.95 L843.189 1452.69 L851.452 1451.02 L856.128 1451.02 L856.128 1481.64 L863.767 1481.64 L863.767 1485.58 L843.86 1485.58 L843.86 1481.64 Z\" fill=\"#000000\" fill-rule=\"nonzero\" fill-opacity=\"1\" /><path clip-path=\"url(#clip700)\" d=\"M883.212 1454.1 Q879.6 1454.1 877.772 1457.66 Q875.966 1461.2 875.966 1468.33 Q875.966 1475.44 877.772 1479.01 Q879.6 1482.55 883.212 1482.55 Q886.846 1482.55 888.651 1479.01 Q890.48 1475.44 890.48 1468.33 Q890.48 1461.2 888.651 1457.66 Q886.846 1454.1 883.212 1454.1 M883.212 1450.39 Q889.022 1450.39 892.077 1455 Q895.156 1459.58 895.156 1468.33 Q895.156 1477.06 892.077 1481.67 Q889.022 1486.25 883.212 1486.25 Q877.401 1486.25 874.323 1481.67 Q871.267 1477.06 871.267 1468.33 Q871.267 1459.58 874.323 1455 Q877.401 1450.39 883.212 1450.39 Z\" fill=\"#000000\" fill-rule=\"nonzero\" fill-opacity=\"1\" /><path clip-path=\"url(#clip700)\" d=\"M903.373 1479.7 L908.258 1479.7 L908.258 1485.58 L903.373 1485.58 L903.373 1479.7 Z\" fill=\"#000000\" fill-rule=\"nonzero\" fill-opacity=\"1\" /><path clip-path=\"url(#clip700)\" d=\"M928.443 1469.17 Q925.109 1469.17 923.188 1470.95 Q921.29 1472.73 921.29 1475.86 Q921.29 1478.98 923.188 1480.77 Q925.109 1482.55 928.443 1482.55 Q931.776 1482.55 933.697 1480.77 Q935.619 1478.96 935.619 1475.86 Q935.619 1472.73 933.697 1470.95 Q931.799 1469.17 928.443 1469.17 M923.767 1467.18 Q920.758 1466.44 919.068 1464.38 Q917.401 1462.32 917.401 1459.35 Q917.401 1455.21 920.341 1452.8 Q923.304 1450.39 928.443 1450.39 Q933.605 1450.39 936.545 1452.8 Q939.484 1455.21 939.484 1459.35 Q939.484 1462.32 937.795 1464.38 Q936.128 1466.44 933.142 1467.18 Q936.521 1467.96 938.396 1470.26 Q940.295 1472.55 940.295 1475.86 Q940.295 1480.88 937.216 1483.57 Q934.16 1486.25 928.443 1486.25 Q922.725 1486.25 919.647 1483.57 Q916.591 1480.88 916.591 1475.86 Q916.591 1472.55 918.489 1470.26 Q920.387 1467.96 923.767 1467.18 M922.054 1459.79 Q922.054 1462.48 923.721 1463.98 Q925.41 1465.49 928.443 1465.49 Q931.452 1465.49 933.142 1463.98 Q934.855 1462.48 934.855 1459.79 Q934.855 1457.11 933.142 1455.6 Q931.452 1454.1 928.443 1454.1 Q925.41 1454.1 923.721 1455.6 Q922.054 1457.11 922.054 1459.79 Z\" fill=\"#000000\" fill-rule=\"nonzero\" fill-opacity=\"1\" /><path clip-path=\"url(#clip700)\" d=\"M1204.6 1481.64 L1212.24 1481.64 L1212.24 1455.28 L1203.93 1456.95 L1203.93 1452.69 L1212.2 1451.02 L1216.87 1451.02 L1216.87 1481.64 L1224.51 1481.64 L1224.51 1485.58 L1204.6 1485.58 L1204.6 1481.64 Z\" fill=\"#000000\" fill-rule=\"nonzero\" fill-opacity=\"1\" /><path clip-path=\"url(#clip700)\" d=\"M1243.96 1454.1 Q1240.34 1454.1 1238.52 1457.66 Q1236.71 1461.2 1236.71 1468.33 Q1236.71 1475.44 1238.52 1479.01 Q1240.34 1482.55 1243.96 1482.55 Q1247.59 1482.55 1249.4 1479.01 Q1251.22 1475.44 1251.22 1468.33 Q1251.22 1461.2 1249.4 1457.66 Q1247.59 1454.1 1243.96 1454.1 M1243.96 1450.39 Q1249.77 1450.39 1252.82 1455 Q1255.9 1459.58 1255.9 1468.33 Q1255.9 1477.06 1252.82 1481.67 Q1249.77 1486.25 1243.96 1486.25 Q1238.15 1486.25 1235.07 1481.67 Q1232.01 1477.06 1232.01 1468.33 Q1232.01 1459.58 1235.07 1455 Q1238.15 1450.39 1243.96 1450.39 Z\" fill=\"#000000\" fill-rule=\"nonzero\" fill-opacity=\"1\" /><path clip-path=\"url(#clip700)\" d=\"M1264.12 1479.7 L1269 1479.7 L1269 1485.58 L1264.12 1485.58 L1264.12 1479.7 Z\" fill=\"#000000\" fill-rule=\"nonzero\" fill-opacity=\"1\" /><path clip-path=\"url(#clip700)\" d=\"M1279.33 1484.86 L1279.33 1480.6 Q1281.09 1481.44 1282.89 1481.88 Q1284.7 1482.32 1286.43 1482.32 Q1291.06 1482.32 1293.49 1479.21 Q1295.95 1476.09 1296.29 1469.75 Q1294.95 1471.74 1292.89 1472.8 Q1290.83 1473.87 1288.33 1473.87 Q1283.15 1473.87 1280.11 1470.74 Q1277.1 1467.59 1277.1 1462.15 Q1277.1 1456.83 1280.25 1453.61 Q1283.4 1450.39 1288.63 1450.39 Q1294.63 1450.39 1297.77 1455 Q1300.95 1459.58 1300.95 1468.33 Q1300.95 1476.51 1297.06 1481.39 Q1293.19 1486.25 1286.64 1486.25 Q1284.88 1486.25 1283.08 1485.9 Q1281.27 1485.56 1279.33 1484.86 M1288.63 1470.21 Q1291.78 1470.21 1293.61 1468.06 Q1295.46 1465.9 1295.46 1462.15 Q1295.46 1458.43 1293.61 1456.27 Q1291.78 1454.1 1288.63 1454.1 Q1285.48 1454.1 1283.63 1456.27 Q1281.8 1458.43 1281.8 1462.15 Q1281.8 1465.9 1283.63 1468.06 Q1285.48 1470.21 1288.63 1470.21 Z\" fill=\"#000000\" fill-rule=\"nonzero\" fill-opacity=\"1\" /><path clip-path=\"url(#clip700)\" d=\"M1565.21 1481.64 L1572.85 1481.64 L1572.85 1455.28 L1564.54 1456.95 L1564.54 1452.69 L1572.8 1451.02 L1577.48 1451.02 L1577.48 1481.64 L1585.12 1481.64 L1585.12 1485.58 L1565.21 1485.58 L1565.21 1481.64 Z\" fill=\"#000000\" fill-rule=\"nonzero\" fill-opacity=\"1\" /><path clip-path=\"url(#clip700)\" d=\"M1595.37 1481.64 L1603.01 1481.64 L1603.01 1455.28 L1594.7 1456.95 L1594.7 1452.69 L1602.96 1451.02 L1607.64 1451.02 L1607.64 1481.64 L1615.28 1481.64 L1615.28 1485.58 L1595.37 1485.58 L1595.37 1481.64 Z\" fill=\"#000000\" fill-rule=\"nonzero\" fill-opacity=\"1\" /><path clip-path=\"url(#clip700)\" d=\"M1624.72 1479.7 L1629.61 1479.7 L1629.61 1485.58 L1624.72 1485.58 L1624.72 1479.7 Z\" fill=\"#000000\" fill-rule=\"nonzero\" fill-opacity=\"1\" /><path clip-path=\"url(#clip700)\" d=\"M1649.79 1454.1 Q1646.18 1454.1 1644.35 1457.66 Q1642.55 1461.2 1642.55 1468.33 Q1642.55 1475.44 1644.35 1479.01 Q1646.18 1482.55 1649.79 1482.55 Q1653.43 1482.55 1655.23 1479.01 Q1657.06 1475.44 1657.06 1468.33 Q1657.06 1461.2 1655.23 1457.66 Q1653.43 1454.1 1649.79 1454.1 M1649.79 1450.39 Q1655.6 1450.39 1658.66 1455 Q1661.74 1459.58 1661.74 1468.33 Q1661.74 1477.06 1658.66 1481.67 Q1655.6 1486.25 1649.79 1486.25 Q1643.98 1486.25 1640.9 1481.67 Q1637.85 1477.06 1637.85 1468.33 Q1637.85 1459.58 1640.9 1455 Q1643.98 1450.39 1649.79 1450.39 Z\" fill=\"#000000\" fill-rule=\"nonzero\" fill-opacity=\"1\" /><path clip-path=\"url(#clip700)\" d=\"M1926.52 1481.64 L1934.16 1481.64 L1934.16 1455.28 L1925.85 1456.95 L1925.85 1452.69 L1934.11 1451.02 L1938.79 1451.02 L1938.79 1481.64 L1946.43 1481.64 L1946.43 1485.58 L1926.52 1485.58 L1926.52 1481.64 Z\" fill=\"#000000\" fill-rule=\"nonzero\" fill-opacity=\"1\" /><path clip-path=\"url(#clip700)\" d=\"M1956.68 1481.64 L1964.32 1481.64 L1964.32 1455.28 L1956.01 1456.95 L1956.01 1452.69 L1964.28 1451.02 L1968.95 1451.02 L1968.95 1481.64 L1976.59 1481.64 L1976.59 1485.58 L1956.68 1485.58 L1956.68 1481.64 Z\" fill=\"#000000\" fill-rule=\"nonzero\" fill-opacity=\"1\" /><path clip-path=\"url(#clip700)\" d=\"M1986.03 1479.7 L1990.92 1479.7 L1990.92 1485.58 L1986.03 1485.58 L1986.03 1479.7 Z\" fill=\"#000000\" fill-rule=\"nonzero\" fill-opacity=\"1\" /><path clip-path=\"url(#clip700)\" d=\"M2001.91 1481.64 L2009.55 1481.64 L2009.55 1455.28 L2001.24 1456.95 L2001.24 1452.69 L2009.51 1451.02 L2014.18 1451.02 L2014.18 1481.64 L2021.82 1481.64 L2021.82 1485.58 L2001.91 1485.58 L2001.91 1481.64 Z\" fill=\"#000000\" fill-rule=\"nonzero\" fill-opacity=\"1\" /><path clip-path=\"url(#clip700)\" d=\"M2287.4 1481.64 L2295.04 1481.64 L2295.04 1455.28 L2286.73 1456.95 L2286.73 1452.69 L2295 1451.02 L2299.67 1451.02 L2299.67 1481.64 L2307.31 1481.64 L2307.31 1485.58 L2287.4 1485.58 L2287.4 1481.64 Z\" fill=\"#000000\" fill-rule=\"nonzero\" fill-opacity=\"1\" /><path clip-path=\"url(#clip700)\" d=\"M2317.57 1481.64 L2325.2 1481.64 L2325.2 1455.28 L2316.89 1456.95 L2316.89 1452.69 L2325.16 1451.02 L2329.83 1451.02 L2329.83 1481.64 L2337.47 1481.64 L2337.47 1485.58 L2317.57 1485.58 L2317.57 1481.64 Z\" fill=\"#000000\" fill-rule=\"nonzero\" fill-opacity=\"1\" /><path clip-path=\"url(#clip700)\" d=\"M2346.92 1479.7 L2351.8 1479.7 L2351.8 1485.58 L2346.92 1485.58 L2346.92 1479.7 Z\" fill=\"#000000\" fill-rule=\"nonzero\" fill-opacity=\"1\" /><path clip-path=\"url(#clip700)\" d=\"M2366.01 1481.64 L2382.33 1481.64 L2382.33 1485.58 L2360.39 1485.58 L2360.39 1481.64 Q2363.05 1478.89 2367.64 1474.26 Q2372.24 1469.61 2373.42 1468.27 Q2375.67 1465.74 2376.55 1464.01 Q2377.45 1462.25 2377.45 1460.56 Q2377.45 1457.8 2375.51 1456.07 Q2373.58 1454.33 2370.48 1454.33 Q2368.28 1454.33 2365.83 1455.09 Q2363.4 1455.86 2360.62 1457.41 L2360.62 1452.69 Q2363.45 1451.55 2365.9 1450.97 Q2368.35 1450.39 2370.39 1450.39 Q2375.76 1450.39 2378.95 1453.08 Q2382.15 1455.77 2382.15 1460.26 Q2382.15 1462.39 2381.34 1464.31 Q2380.55 1466.2 2378.45 1468.8 Q2377.87 1469.47 2374.76 1472.69 Q2371.66 1475.88 2366.01 1481.64 Z\" fill=\"#000000\" fill-rule=\"nonzero\" fill-opacity=\"1\" /><path clip-path=\"url(#clip700)\" d=\"M1123.91 1539.24 Q1126.11 1535.29 1129.16 1533.41 Q1132.22 1531.54 1136.36 1531.54 Q1141.93 1531.54 1144.95 1535.45 Q1147.98 1539.33 1147.98 1546.53 L1147.98 1568.04 L1142.09 1568.04 L1142.09 1546.72 Q1142.09 1541.59 1140.27 1539.11 Q1138.46 1536.63 1134.73 1536.63 Q1130.18 1536.63 1127.54 1539.65 Q1124.9 1542.68 1124.9 1547.9 L1124.9 1568.04 L1119.01 1568.04 L1119.01 1546.72 Q1119.01 1541.56 1117.2 1539.11 Q1115.38 1536.63 1111.6 1536.63 Q1107.11 1536.63 1104.47 1539.68 Q1101.82 1542.71 1101.82 1547.9 L1101.82 1568.04 L1095.94 1568.04 L1095.94 1532.4 L1101.82 1532.4 L1101.82 1537.93 Q1103.83 1534.66 1106.63 1533.1 Q1109.43 1531.54 1113.28 1531.54 Q1117.17 1531.54 1119.87 1533.51 Q1122.61 1535.48 1123.91 1539.24 Z\" fill=\"#000000\" fill-rule=\"nonzero\" fill-opacity=\"1\" /><path clip-path=\"url(#clip700)\" d=\"M1159.66 1532.4 L1165.51 1532.4 L1165.51 1568.04 L1159.66 1568.04 L1159.66 1532.4 M1159.66 1518.52 L1165.51 1518.52 L1165.51 1525.93 L1159.66 1525.93 L1159.66 1518.52 Z\" fill=\"#000000\" fill-rule=\"nonzero\" fill-opacity=\"1\" /><path clip-path=\"url(#clip700)\" d=\"M1177.77 1518.52 L1183.62 1518.52 L1183.62 1568.04 L1177.77 1568.04 L1177.77 1518.52 Z\" fill=\"#000000\" fill-rule=\"nonzero\" fill-opacity=\"1\" /><path clip-path=\"url(#clip700)\" d=\"M1195.88 1518.52 L1201.73 1518.52 L1201.73 1568.04 L1195.88 1568.04 L1195.88 1518.52 Z\" fill=\"#000000\" fill-rule=\"nonzero\" fill-opacity=\"1\" /><path clip-path=\"url(#clip700)\" d=\"M1213.99 1532.4 L1219.84 1532.4 L1219.84 1568.04 L1213.99 1568.04 L1213.99 1532.4 M1213.99 1518.52 L1219.84 1518.52 L1219.84 1525.93 L1213.99 1525.93 L1213.99 1518.52 Z\" fill=\"#000000\" fill-rule=\"nonzero\" fill-opacity=\"1\" /><path clip-path=\"url(#clip700)\" d=\"M1254.82 1533.45 L1254.82 1538.98 Q1252.34 1537.71 1249.67 1537.07 Q1246.99 1536.44 1244.13 1536.44 Q1239.77 1536.44 1237.57 1537.77 Q1235.41 1539.11 1235.41 1541.79 Q1235.41 1543.82 1236.97 1545 Q1238.53 1546.15 1243.24 1547.2 L1245.24 1547.64 Q1251.48 1548.98 1254.09 1551.43 Q1256.73 1553.85 1256.73 1558.21 Q1256.73 1563.17 1252.79 1566.07 Q1248.87 1568.97 1242 1568.97 Q1239.13 1568.97 1236.01 1568.39 Q1232.93 1567.85 1229.49 1566.74 L1229.49 1560.69 Q1232.73 1562.38 1235.89 1563.24 Q1239.04 1564.07 1242.12 1564.07 Q1246.26 1564.07 1248.49 1562.66 Q1250.72 1561.23 1250.72 1558.65 Q1250.72 1556.27 1249.09 1554.99 Q1247.5 1553.72 1242.06 1552.54 L1240.02 1552.07 Q1234.58 1550.92 1232.16 1548.56 Q1229.74 1546.18 1229.74 1542.04 Q1229.74 1537.01 1233.31 1534.27 Q1236.87 1531.54 1243.43 1531.54 Q1246.68 1531.54 1249.54 1532.01 Q1252.41 1532.49 1254.82 1533.45 Z\" fill=\"#000000\" fill-rule=\"nonzero\" fill-opacity=\"1\" /><path clip-path=\"url(#clip700)\" d=\"M1296.55 1548.76 L1296.55 1551.62 L1269.62 1551.62 Q1270.01 1557.67 1273.25 1560.85 Q1276.53 1564 1282.36 1564 Q1285.73 1564 1288.88 1563.17 Q1292.06 1562.35 1295.18 1560.69 L1295.18 1566.23 Q1292.03 1567.57 1288.72 1568.27 Q1285.41 1568.97 1282.01 1568.97 Q1273.48 1568.97 1268.48 1564 Q1263.51 1559.04 1263.51 1550.57 Q1263.51 1541.82 1268.22 1536.69 Q1272.97 1531.54 1280.99 1531.54 Q1288.18 1531.54 1292.35 1536.18 Q1296.55 1540.8 1296.55 1548.76 M1290.69 1547.04 Q1290.63 1542.23 1287.99 1539.37 Q1285.38 1536.5 1281.05 1536.5 Q1276.15 1536.5 1273.19 1539.27 Q1270.26 1542.04 1269.82 1547.07 L1290.69 1547.04 Z\" fill=\"#000000\" fill-rule=\"nonzero\" fill-opacity=\"1\" /><path clip-path=\"url(#clip700)\" d=\"M1331.82 1533.76 L1331.82 1539.24 Q1329.33 1537.87 1326.82 1537.2 Q1324.34 1536.5 1321.79 1536.5 Q1316.09 1536.5 1312.94 1540.13 Q1309.79 1543.73 1309.79 1550.25 Q1309.79 1556.78 1312.94 1560.4 Q1316.09 1564 1321.79 1564 Q1324.34 1564 1326.82 1563.33 Q1329.33 1562.63 1331.82 1561.26 L1331.82 1566.68 Q1329.37 1567.82 1326.72 1568.39 Q1324.11 1568.97 1321.15 1568.97 Q1313.1 1568.97 1308.36 1563.91 Q1303.62 1558.85 1303.62 1550.25 Q1303.62 1541.53 1308.39 1536.53 Q1313.2 1531.54 1321.54 1531.54 Q1324.24 1531.54 1326.82 1532.11 Q1329.4 1532.65 1331.82 1533.76 Z\" fill=\"#000000\" fill-rule=\"nonzero\" fill-opacity=\"1\" /><path clip-path=\"url(#clip700)\" d=\"M1355.82 1536.5 Q1351.11 1536.5 1348.37 1540.19 Q1345.63 1543.85 1345.63 1550.25 Q1345.63 1556.65 1348.34 1560.34 Q1351.07 1564 1355.82 1564 Q1360.49 1564 1363.23 1560.31 Q1365.97 1556.62 1365.97 1550.25 Q1365.97 1543.92 1363.23 1540.23 Q1360.49 1536.5 1355.82 1536.5 M1355.82 1531.54 Q1363.45 1531.54 1367.82 1536.5 Q1372.18 1541.47 1372.18 1550.25 Q1372.18 1559 1367.82 1564 Q1363.45 1568.97 1355.82 1568.97 Q1348.15 1568.97 1343.78 1564 Q1339.46 1559 1339.46 1550.25 Q1339.46 1541.47 1343.78 1536.5 Q1348.15 1531.54 1355.82 1531.54 Z\" fill=\"#000000\" fill-rule=\"nonzero\" fill-opacity=\"1\" /><path clip-path=\"url(#clip700)\" d=\"M1411.52 1546.53 L1411.52 1568.04 L1405.66 1568.04 L1405.66 1546.72 Q1405.66 1541.66 1403.69 1539.14 Q1401.71 1536.63 1397.77 1536.63 Q1393.02 1536.63 1390.29 1539.65 Q1387.55 1542.68 1387.55 1547.9 L1387.55 1568.04 L1381.66 1568.04 L1381.66 1532.4 L1387.55 1532.4 L1387.55 1537.93 Q1389.65 1534.72 1392.48 1533.13 Q1395.35 1531.54 1399.07 1531.54 Q1405.21 1531.54 1408.36 1535.36 Q1411.52 1539.14 1411.52 1546.53 Z\" fill=\"#000000\" fill-rule=\"nonzero\" fill-opacity=\"1\" /><path clip-path=\"url(#clip700)\" d=\"M1446.65 1537.81 L1446.65 1518.52 L1452.51 1518.52 L1452.51 1568.04 L1446.65 1568.04 L1446.65 1562.7 Q1444.81 1565.88 1441.98 1567.44 Q1439.17 1568.97 1435.23 1568.97 Q1428.77 1568.97 1424.69 1563.81 Q1420.65 1558.65 1420.65 1550.25 Q1420.65 1541.85 1424.69 1536.69 Q1428.77 1531.54 1435.23 1531.54 Q1439.17 1531.54 1441.98 1533.1 Q1444.81 1534.62 1446.65 1537.81 M1426.7 1550.25 Q1426.7 1556.71 1429.34 1560.4 Q1432.01 1564.07 1436.66 1564.07 Q1441.31 1564.07 1443.98 1560.4 Q1446.65 1556.71 1446.65 1550.25 Q1446.65 1543.79 1443.98 1540.13 Q1441.31 1536.44 1436.66 1536.44 Q1432.01 1536.44 1429.34 1540.13 Q1426.7 1543.79 1426.7 1550.25 Z\" fill=\"#000000\" fill-rule=\"nonzero\" fill-opacity=\"1\" /><path clip-path=\"url(#clip700)\" d=\"M1487.3 1533.45 L1487.3 1538.98 Q1484.82 1537.71 1482.14 1537.07 Q1479.47 1536.44 1476.61 1536.44 Q1472.24 1536.44 1470.05 1537.77 Q1467.88 1539.11 1467.88 1541.79 Q1467.88 1543.82 1469.44 1545 Q1471 1546.15 1475.71 1547.2 L1477.72 1547.64 Q1483.96 1548.98 1486.57 1551.43 Q1489.21 1553.85 1489.21 1558.21 Q1489.21 1563.17 1485.26 1566.07 Q1481.35 1568.97 1474.47 1568.97 Q1471.61 1568.97 1468.49 1568.39 Q1465.4 1567.85 1461.96 1566.74 L1461.96 1560.69 Q1465.21 1562.38 1468.36 1563.24 Q1471.51 1564.07 1474.6 1564.07 Q1478.74 1564.07 1480.97 1562.66 Q1483.19 1561.23 1483.19 1558.65 Q1483.19 1556.27 1481.57 1554.99 Q1479.98 1553.72 1474.54 1552.54 L1472.5 1552.07 Q1467.06 1550.92 1464.64 1548.56 Q1462.22 1546.18 1462.22 1542.04 Q1462.22 1537.01 1465.78 1534.27 Q1469.35 1531.54 1475.9 1531.54 Q1479.15 1531.54 1482.02 1532.01 Q1484.88 1532.49 1487.3 1533.45 Z\" fill=\"#000000\" fill-rule=\"nonzero\" fill-opacity=\"1\" /><polyline clip-path=\"url(#clip702)\" style=\"stroke:#000000; stroke-linecap:round; stroke-linejoin:round; stroke-width:2; stroke-opacity:0.1; fill:none\" points=\"232.389,1423.18 2352.76,1423.18 \"/>\n",
       "<polyline clip-path=\"url(#clip702)\" style=\"stroke:#000000; stroke-linecap:round; stroke-linejoin:round; stroke-width:2; stroke-opacity:0.1; fill:none\" points=\"232.389,1023.2 2352.76,1023.2 \"/>\n",
       "<polyline clip-path=\"url(#clip702)\" style=\"stroke:#000000; stroke-linecap:round; stroke-linejoin:round; stroke-width:2; stroke-opacity:0.1; fill:none\" points=\"232.389,623.217 2352.76,623.217 \"/>\n",
       "<polyline clip-path=\"url(#clip702)\" style=\"stroke:#000000; stroke-linecap:round; stroke-linejoin:round; stroke-width:2; stroke-opacity:0.1; fill:none\" points=\"232.389,223.236 2352.76,223.236 \"/>\n",
       "<polyline clip-path=\"url(#clip700)\" style=\"stroke:#000000; stroke-linecap:round; stroke-linejoin:round; stroke-width:4; stroke-opacity:1; fill:none\" points=\"232.389,1423.18 232.389,47.2441 \"/>\n",
       "<polyline clip-path=\"url(#clip700)\" style=\"stroke:#000000; stroke-linecap:round; stroke-linejoin:round; stroke-width:4; stroke-opacity:1; fill:none\" points=\"232.389,1423.18 251.287,1423.18 \"/>\n",
       "<polyline clip-path=\"url(#clip700)\" style=\"stroke:#000000; stroke-linecap:round; stroke-linejoin:round; stroke-width:4; stroke-opacity:1; fill:none\" points=\"232.389,1023.2 251.287,1023.2 \"/>\n",
       "<polyline clip-path=\"url(#clip700)\" style=\"stroke:#000000; stroke-linecap:round; stroke-linejoin:round; stroke-width:4; stroke-opacity:1; fill:none\" points=\"232.389,623.217 251.287,623.217 \"/>\n",
       "<polyline clip-path=\"url(#clip700)\" style=\"stroke:#000000; stroke-linecap:round; stroke-linejoin:round; stroke-width:4; stroke-opacity:1; fill:none\" points=\"232.389,223.236 251.287,223.236 \"/>\n",
       "<path clip-path=\"url(#clip700)\" d=\"M184.445 1408.98 Q180.834 1408.98 179.005 1412.54 Q177.2 1416.08 177.2 1423.21 Q177.2 1430.32 179.005 1433.89 Q180.834 1437.43 184.445 1437.43 Q188.079 1437.43 189.885 1433.89 Q191.713 1430.32 191.713 1423.21 Q191.713 1416.08 189.885 1412.54 Q188.079 1408.98 184.445 1408.98 M184.445 1405.27 Q190.255 1405.27 193.311 1409.88 Q196.389 1414.46 196.389 1423.21 Q196.389 1431.94 193.311 1436.55 Q190.255 1441.13 184.445 1441.13 Q178.635 1441.13 175.556 1436.55 Q172.501 1431.94 172.501 1423.21 Q172.501 1414.46 175.556 1409.88 Q178.635 1405.27 184.445 1405.27 Z\" fill=\"#000000\" fill-rule=\"nonzero\" fill-opacity=\"1\" /><path clip-path=\"url(#clip700)\" d=\"M144.329 1005.92 L162.686 1005.92 L162.686 1009.85 L148.612 1009.85 L148.612 1018.33 Q149.63 1017.98 150.649 1017.82 Q151.667 1017.63 152.686 1017.63 Q158.473 1017.63 161.852 1020.8 Q165.232 1023.97 165.232 1029.39 Q165.232 1034.97 161.76 1038.07 Q158.288 1041.15 151.968 1041.15 Q149.792 1041.15 147.524 1040.78 Q145.279 1040.41 142.871 1039.67 L142.871 1034.97 Q144.954 1036.1 147.177 1036.66 Q149.399 1037.21 151.876 1037.21 Q155.88 1037.21 158.218 1035.11 Q160.556 1033 160.556 1029.39 Q160.556 1025.78 158.218 1023.67 Q155.88 1021.57 151.876 1021.57 Q150.001 1021.57 148.126 1021.98 Q146.274 1022.4 144.329 1023.28 L144.329 1005.92 Z\" fill=\"#000000\" fill-rule=\"nonzero\" fill-opacity=\"1\" /><path clip-path=\"url(#clip700)\" d=\"M184.445 1009 Q180.834 1009 179.005 1012.56 Q177.2 1016.1 177.2 1023.23 Q177.2 1030.34 179.005 1033.9 Q180.834 1037.45 184.445 1037.45 Q188.079 1037.45 189.885 1033.9 Q191.713 1030.34 191.713 1023.23 Q191.713 1016.1 189.885 1012.56 Q188.079 1009 184.445 1009 M184.445 1005.29 Q190.255 1005.29 193.311 1009.9 Q196.389 1014.48 196.389 1023.23 Q196.389 1031.96 193.311 1036.57 Q190.255 1041.15 184.445 1041.15 Q178.635 1041.15 175.556 1036.57 Q172.501 1031.96 172.501 1023.23 Q172.501 1014.48 175.556 1009.9 Q178.635 1005.29 184.445 1005.29 Z\" fill=\"#000000\" fill-rule=\"nonzero\" fill-opacity=\"1\" /><path clip-path=\"url(#clip700)\" d=\"M114.931 636.562 L122.57 636.562 L122.57 610.196 L114.26 611.863 L114.26 607.604 L122.524 605.937 L127.2 605.937 L127.2 636.562 L134.839 636.562 L134.839 640.497 L114.931 640.497 L114.931 636.562 Z\" fill=\"#000000\" fill-rule=\"nonzero\" fill-opacity=\"1\" /><path clip-path=\"url(#clip700)\" d=\"M154.283 609.016 Q150.672 609.016 148.843 612.581 Q147.038 616.122 147.038 623.252 Q147.038 630.358 148.843 633.923 Q150.672 637.465 154.283 637.465 Q157.917 637.465 159.723 633.923 Q161.552 630.358 161.552 623.252 Q161.552 616.122 159.723 612.581 Q157.917 609.016 154.283 609.016 M154.283 605.312 Q160.093 605.312 163.149 609.919 Q166.227 614.502 166.227 623.252 Q166.227 631.979 163.149 636.585 Q160.093 641.168 154.283 641.168 Q148.473 641.168 145.394 636.585 Q142.339 631.979 142.339 623.252 Q142.339 614.502 145.394 609.919 Q148.473 605.312 154.283 605.312 Z\" fill=\"#000000\" fill-rule=\"nonzero\" fill-opacity=\"1\" /><path clip-path=\"url(#clip700)\" d=\"M184.445 609.016 Q180.834 609.016 179.005 612.581 Q177.2 616.122 177.2 623.252 Q177.2 630.358 179.005 633.923 Q180.834 637.465 184.445 637.465 Q188.079 637.465 189.885 633.923 Q191.713 630.358 191.713 623.252 Q191.713 616.122 189.885 612.581 Q188.079 609.016 184.445 609.016 M184.445 605.312 Q190.255 605.312 193.311 609.919 Q196.389 614.502 196.389 623.252 Q196.389 631.979 193.311 636.585 Q190.255 641.168 184.445 641.168 Q178.635 641.168 175.556 636.585 Q172.501 631.979 172.501 623.252 Q172.501 614.502 175.556 609.919 Q178.635 605.312 184.445 605.312 Z\" fill=\"#000000\" fill-rule=\"nonzero\" fill-opacity=\"1\" /><path clip-path=\"url(#clip700)\" d=\"M114.931 236.581 L122.57 236.581 L122.57 210.215 L114.26 211.882 L114.26 207.623 L122.524 205.956 L127.2 205.956 L127.2 236.581 L134.839 236.581 L134.839 240.516 L114.931 240.516 L114.931 236.581 Z\" fill=\"#000000\" fill-rule=\"nonzero\" fill-opacity=\"1\" /><path clip-path=\"url(#clip700)\" d=\"M144.329 205.956 L162.686 205.956 L162.686 209.891 L148.612 209.891 L148.612 218.363 Q149.63 218.016 150.649 217.854 Q151.667 217.669 152.686 217.669 Q158.473 217.669 161.852 220.84 Q165.232 224.011 165.232 229.428 Q165.232 235.007 161.76 238.108 Q158.288 241.187 151.968 241.187 Q149.792 241.187 147.524 240.817 Q145.279 240.446 142.871 239.706 L142.871 235.007 Q144.954 236.141 147.177 236.696 Q149.399 237.252 151.876 237.252 Q155.88 237.252 158.218 235.146 Q160.556 233.039 160.556 229.428 Q160.556 225.817 158.218 223.71 Q155.88 221.604 151.876 221.604 Q150.001 221.604 148.126 222.021 Q146.274 222.437 144.329 223.317 L144.329 205.956 Z\" fill=\"#000000\" fill-rule=\"nonzero\" fill-opacity=\"1\" /><path clip-path=\"url(#clip700)\" d=\"M184.445 209.035 Q180.834 209.035 179.005 212.599 Q177.2 216.141 177.2 223.271 Q177.2 230.377 179.005 233.942 Q180.834 237.483 184.445 237.483 Q188.079 237.483 189.885 233.942 Q191.713 230.377 191.713 223.271 Q191.713 216.141 189.885 212.599 Q188.079 209.035 184.445 209.035 M184.445 205.331 Q190.255 205.331 193.311 209.937 Q196.389 214.521 196.389 223.271 Q196.389 231.997 193.311 236.604 Q190.255 241.187 184.445 241.187 Q178.635 241.187 175.556 236.604 Q172.501 231.997 172.501 223.271 Q172.501 214.521 175.556 209.937 Q178.635 205.331 184.445 205.331 Z\" fill=\"#000000\" fill-rule=\"nonzero\" fill-opacity=\"1\" /><path clip-path=\"url(#clip700)\" d=\"M29.7248 796.386 L35.1993 796.386 Q33.8307 798.869 33.1623 801.383 Q32.4621 803.866 32.4621 806.412 Q32.4621 812.11 36.0905 815.261 Q39.6872 818.412 46.212 818.412 Q52.7369 818.412 56.3653 815.261 Q59.9619 812.11 59.9619 806.412 Q59.9619 803.866 59.2935 801.383 Q58.5933 798.869 57.2247 796.386 L62.6355 796.386 Q63.7814 798.837 64.3543 801.479 Q64.9272 804.089 64.9272 807.049 Q64.9272 815.102 59.8664 819.844 Q54.8057 824.586 46.212 824.586 Q37.491 824.586 32.4939 819.812 Q27.4968 815.006 27.4968 806.667 Q27.4968 803.962 28.0697 801.383 Q28.6108 798.805 29.7248 796.386 Z\" fill=\"#000000\" fill-rule=\"nonzero\" fill-opacity=\"1\" /><path clip-path=\"url(#clip700)\" d=\"M32.4621 772.388 Q32.4621 777.098 36.1542 779.836 Q39.8145 782.573 46.212 782.573 Q52.6095 782.573 56.3017 779.867 Q59.9619 777.13 59.9619 772.388 Q59.9619 767.709 56.2698 764.972 Q52.5777 762.234 46.212 762.234 Q39.8781 762.234 36.186 764.972 Q32.4621 767.709 32.4621 772.388 M27.4968 772.388 Q27.4968 764.749 32.4621 760.388 Q37.4273 756.028 46.212 756.028 Q54.9649 756.028 59.9619 760.388 Q64.9272 764.749 64.9272 772.388 Q64.9272 780.058 59.9619 784.419 Q54.9649 788.748 46.212 788.748 Q37.4273 788.748 32.4621 784.419 Q27.4968 780.058 27.4968 772.388 Z\" fill=\"#000000\" fill-rule=\"nonzero\" fill-opacity=\"1\" /><path clip-path=\"url(#clip700)\" d=\"M49.9359 746.925 L28.3562 746.925 L28.3562 741.068 L49.7131 741.068 Q54.7739 741.068 57.3202 739.095 Q59.8346 737.122 59.8346 733.175 Q59.8346 728.432 56.8109 725.695 Q53.7872 722.926 48.5673 722.926 L28.3562 722.926 L28.3562 717.07 L64.0042 717.07 L64.0042 722.926 L58.5296 722.926 Q61.7762 725.059 63.3676 727.891 Q64.9272 730.692 64.9272 734.416 Q64.9272 740.559 61.1078 743.742 Q57.2883 746.925 49.9359 746.925 M27.4968 732.188 L27.4968 732.188 Z\" fill=\"#000000\" fill-rule=\"nonzero\" fill-opacity=\"1\" /><path clip-path=\"url(#clip700)\" d=\"M42.4881 675.374 L64.0042 675.374 L64.0042 681.231 L42.679 681.231 Q37.6183 681.231 35.1038 683.204 Q32.5894 685.178 32.5894 689.124 Q32.5894 693.867 35.6131 696.604 Q38.6368 699.341 43.8567 699.341 L64.0042 699.341 L64.0042 705.229 L28.3562 705.229 L28.3562 699.341 L33.8944 699.341 Q30.6797 697.241 29.0883 694.408 Q27.4968 691.543 27.4968 687.819 Q27.4968 681.676 31.3163 678.525 Q35.1038 675.374 42.4881 675.374 Z\" fill=\"#000000\" fill-rule=\"nonzero\" fill-opacity=\"1\" /><path clip-path=\"url(#clip700)\" d=\"M18.2347 657.9 L28.3562 657.9 L28.3562 645.837 L32.9077 645.837 L32.9077 657.9 L52.2594 657.9 Q56.6199 657.9 57.8613 656.723 Q59.1026 655.513 59.1026 651.853 L59.1026 645.837 L64.0042 645.837 L64.0042 651.853 Q64.0042 658.633 61.4897 661.211 Q58.9434 663.789 52.2594 663.789 L32.9077 663.789 L32.9077 668.086 L28.3562 668.086 L28.3562 663.789 L18.2347 663.789 L18.2347 657.9 Z\" fill=\"#000000\" fill-rule=\"nonzero\" fill-opacity=\"1\" /><path clip-path=\"url(#clip702)\" d=\"M170.346 1239.19 L170.346 1423.18 L350.695 1423.18 L350.695 1239.19 L170.346 1239.19 L170.346 1239.19  Z\" fill=\"#009af9\" fill-rule=\"evenodd\" fill-opacity=\"1\"/>\n",
       "<polyline clip-path=\"url(#clip702)\" style=\"stroke:#000000; stroke-linecap:round; stroke-linejoin:round; stroke-width:4; stroke-opacity:1; fill:none\" points=\"170.346,1239.19 170.346,1423.18 350.695,1423.18 350.695,1239.19 170.346,1239.19 \"/>\n",
       "<path clip-path=\"url(#clip702)\" d=\"M350.695 47.2441 L350.695 1423.18 L531.044 1423.18 L531.044 47.2441 L350.695 47.2441 L350.695 47.2441  Z\" fill=\"#009af9\" fill-rule=\"evenodd\" fill-opacity=\"1\"/>\n",
       "<polyline clip-path=\"url(#clip702)\" style=\"stroke:#000000; stroke-linecap:round; stroke-linejoin:round; stroke-width:4; stroke-opacity:1; fill:none\" points=\"350.695,47.2441 350.695,1423.18 531.044,1423.18 531.044,47.2441 350.695,47.2441 \"/>\n",
       "<path clip-path=\"url(#clip702)\" d=\"M531.044 639.216 L531.044 1423.18 L711.393 1423.18 L711.393 639.216 L531.044 639.216 L531.044 639.216  Z\" fill=\"#009af9\" fill-rule=\"evenodd\" fill-opacity=\"1\"/>\n",
       "<polyline clip-path=\"url(#clip702)\" style=\"stroke:#000000; stroke-linecap:round; stroke-linejoin:round; stroke-width:4; stroke-opacity:1; fill:none\" points=\"531.044,639.216 531.044,1423.18 711.393,1423.18 711.393,639.216 531.044,639.216 \"/>\n",
       "<path clip-path=\"url(#clip702)\" d=\"M711.393 839.207 L711.393 1423.18 L891.742 1423.18 L891.742 839.207 L711.393 839.207 L711.393 839.207  Z\" fill=\"#009af9\" fill-rule=\"evenodd\" fill-opacity=\"1\"/>\n",
       "<polyline clip-path=\"url(#clip702)\" style=\"stroke:#000000; stroke-linecap:round; stroke-linejoin:round; stroke-width:4; stroke-opacity:1; fill:none\" points=\"711.393,839.207 711.393,1423.18 891.742,1423.18 891.742,839.207 711.393,839.207 \"/>\n",
       "<path clip-path=\"url(#clip702)\" d=\"M891.742 991.2 L891.742 1423.18 L1072.09 1423.18 L1072.09 991.2 L891.742 991.2 L891.742 991.2  Z\" fill=\"#009af9\" fill-rule=\"evenodd\" fill-opacity=\"1\"/>\n",
       "<polyline clip-path=\"url(#clip702)\" style=\"stroke:#000000; stroke-linecap:round; stroke-linejoin:round; stroke-width:4; stroke-opacity:1; fill:none\" points=\"891.742,991.2 891.742,1423.18 1072.09,1423.18 1072.09,991.2 891.742,991.2 \"/>\n",
       "<path clip-path=\"url(#clip702)\" d=\"M1072.09 1311.19 L1072.09 1423.18 L1252.44 1423.18 L1252.44 1311.19 L1072.09 1311.19 L1072.09 1311.19  Z\" fill=\"#009af9\" fill-rule=\"evenodd\" fill-opacity=\"1\"/>\n",
       "<polyline clip-path=\"url(#clip702)\" style=\"stroke:#000000; stroke-linecap:round; stroke-linejoin:round; stroke-width:4; stroke-opacity:1; fill:none\" points=\"1072.09,1311.19 1072.09,1423.18 1252.44,1423.18 1252.44,1311.19 1072.09,1311.19 \"/>\n",
       "<path clip-path=\"url(#clip702)\" d=\"M1252.44 1391.18 L1252.44 1423.18 L1432.79 1423.18 L1432.79 1391.18 L1252.44 1391.18 L1252.44 1391.18  Z\" fill=\"#009af9\" fill-rule=\"evenodd\" fill-opacity=\"1\"/>\n",
       "<polyline clip-path=\"url(#clip702)\" style=\"stroke:#000000; stroke-linecap:round; stroke-linejoin:round; stroke-width:4; stroke-opacity:1; fill:none\" points=\"1252.44,1391.18 1252.44,1423.18 1432.79,1423.18 1432.79,1391.18 1252.44,1391.18 \"/>\n",
       "<path clip-path=\"url(#clip702)\" d=\"M1432.79 1351.18 L1432.79 1423.18 L1613.14 1423.18 L1613.14 1351.18 L1432.79 1351.18 L1432.79 1351.18  Z\" fill=\"#009af9\" fill-rule=\"evenodd\" fill-opacity=\"1\"/>\n",
       "<polyline clip-path=\"url(#clip702)\" style=\"stroke:#000000; stroke-linecap:round; stroke-linejoin:round; stroke-width:4; stroke-opacity:1; fill:none\" points=\"1432.79,1351.18 1432.79,1423.18 1613.14,1423.18 1613.14,1351.18 1432.79,1351.18 \"/>\n",
       "<path clip-path=\"url(#clip702)\" d=\"M1613.14 1399.18 L1613.14 1423.18 L1793.49 1423.18 L1793.49 1399.18 L1613.14 1399.18 L1613.14 1399.18  Z\" fill=\"#009af9\" fill-rule=\"evenodd\" fill-opacity=\"1\"/>\n",
       "<polyline clip-path=\"url(#clip702)\" style=\"stroke:#000000; stroke-linecap:round; stroke-linejoin:round; stroke-width:4; stroke-opacity:1; fill:none\" points=\"1613.14,1399.18 1613.14,1423.18 1793.49,1423.18 1793.49,1399.18 1613.14,1399.18 \"/>\n",
       "<path clip-path=\"url(#clip702)\" d=\"M1793.49 1415.18 L1793.49 1423.18 L1973.84 1423.18 L1973.84 1415.18 L1793.49 1415.18 L1793.49 1415.18  Z\" fill=\"#009af9\" fill-rule=\"evenodd\" fill-opacity=\"1\"/>\n",
       "<polyline clip-path=\"url(#clip702)\" style=\"stroke:#000000; stroke-linecap:round; stroke-linejoin:round; stroke-width:4; stroke-opacity:1; fill:none\" points=\"1793.49,1415.18 1793.49,1423.18 1973.84,1423.18 1973.84,1415.18 1793.49,1415.18 \"/>\n",
       "<path clip-path=\"url(#clip702)\" d=\"M1973.84 1415.18 L1973.84 1423.18 L2154.18 1423.18 L2154.18 1415.18 L1973.84 1415.18 L1973.84 1415.18  Z\" fill=\"#009af9\" fill-rule=\"evenodd\" fill-opacity=\"1\"/>\n",
       "<polyline clip-path=\"url(#clip702)\" style=\"stroke:#000000; stroke-linecap:round; stroke-linejoin:round; stroke-width:4; stroke-opacity:1; fill:none\" points=\"1973.84,1415.18 1973.84,1423.18 2154.18,1423.18 2154.18,1415.18 1973.84,1415.18 \"/>\n",
       "<path clip-path=\"url(#clip702)\" d=\"M2154.18 1423.18 L2154.18 1423.18 L2334.53 1423.18 L2334.53 1423.18 L2154.18 1423.18 L2154.18 1423.18  Z\" fill=\"#009af9\" fill-rule=\"evenodd\" fill-opacity=\"1\"/>\n",
       "<polyline clip-path=\"url(#clip702)\" style=\"stroke:#000000; stroke-linecap:round; stroke-linejoin:round; stroke-width:4; stroke-opacity:1; fill:none\" points=\"2154.18,1423.18 2154.18,1423.18 2334.53,1423.18 2154.18,1423.18 \"/>\n",
       "<path clip-path=\"url(#clip702)\" d=\"M2334.53 1415.18 L2334.53 1423.18 L2514.88 1423.18 L2514.88 1415.18 L2334.53 1415.18 L2334.53 1415.18  Z\" fill=\"#009af9\" fill-rule=\"evenodd\" fill-opacity=\"1\"/>\n",
       "<polyline clip-path=\"url(#clip702)\" style=\"stroke:#000000; stroke-linecap:round; stroke-linejoin:round; stroke-width:4; stroke-opacity:1; fill:none\" points=\"2334.53,1415.18 2334.53,1423.18 2514.88,1423.18 2514.88,1415.18 2334.53,1415.18 \"/>\n",
       "<path clip-path=\"url(#clip702)\" d=\"M2514.88 1423.18 L2514.88 1423.18 L2695.23 1423.18 L2695.23 1423.18 L2514.88 1423.18 L2514.88 1423.18  Z\" fill=\"#009af9\" fill-rule=\"evenodd\" fill-opacity=\"1\"/>\n",
       "<polyline clip-path=\"url(#clip702)\" style=\"stroke:#000000; stroke-linecap:round; stroke-linejoin:round; stroke-width:4; stroke-opacity:1; fill:none\" points=\"2514.88,1423.18 2514.88,1423.18 2695.23,1423.18 2514.88,1423.18 \"/>\n",
       "<path clip-path=\"url(#clip702)\" d=\"M2695.23 1415.18 L2695.23 1423.18 L2875.58 1423.18 L2875.58 1415.18 L2695.23 1415.18 L2695.23 1415.18  Z\" fill=\"#009af9\" fill-rule=\"evenodd\" fill-opacity=\"1\"/>\n",
       "<polyline clip-path=\"url(#clip702)\" style=\"stroke:#000000; stroke-linecap:round; stroke-linejoin:round; stroke-width:4; stroke-opacity:1; fill:none\" points=\"2695.23,1415.18 2695.23,1423.18 2875.58,1423.18 2875.58,1415.18 2695.23,1415.18 \"/>\n",
       "<path clip-path=\"url(#clip702)\" d=\"M2875.58 1415.18 L2875.58 1423.18 L3055.93 1423.18 L3055.93 1415.18 L2875.58 1415.18 L2875.58 1415.18  Z\" fill=\"#009af9\" fill-rule=\"evenodd\" fill-opacity=\"1\"/>\n",
       "<polyline clip-path=\"url(#clip702)\" style=\"stroke:#000000; stroke-linecap:round; stroke-linejoin:round; stroke-width:4; stroke-opacity:1; fill:none\" points=\"2875.58,1415.18 2875.58,1423.18 3055.93,1423.18 3055.93,1415.18 2875.58,1415.18 \"/>\n",
       "<path clip-path=\"url(#clip702)\" d=\"M3055.93 1415.18 L3055.93 1423.18 L3236.28 1423.18 L3236.28 1415.18 L3055.93 1415.18 L3055.93 1415.18  Z\" fill=\"#009af9\" fill-rule=\"evenodd\" fill-opacity=\"1\"/>\n",
       "<polyline clip-path=\"url(#clip702)\" style=\"stroke:#000000; stroke-linecap:round; stroke-linejoin:round; stroke-width:4; stroke-opacity:1; fill:none\" points=\"3055.93,1415.18 3055.93,1423.18 3236.28,1423.18 3236.28,1415.18 3055.93,1415.18 \"/>\n",
       "<path clip-path=\"url(#clip702)\" d=\"M3236.28 1423.18 L3236.28 1423.18 L3416.63 1423.18 L3416.63 1423.18 L3236.28 1423.18 L3236.28 1423.18  Z\" fill=\"#009af9\" fill-rule=\"evenodd\" fill-opacity=\"1\"/>\n",
       "<polyline clip-path=\"url(#clip702)\" style=\"stroke:#000000; stroke-linecap:round; stroke-linejoin:round; stroke-width:4; stroke-opacity:1; fill:none\" points=\"3236.28,1423.18 3236.28,1423.18 3416.63,1423.18 3236.28,1423.18 \"/>\n",
       "<path clip-path=\"url(#clip702)\" d=\"M3416.63 1415.18 L3416.63 1423.18 L3596.98 1423.18 L3596.98 1415.18 L3416.63 1415.18 L3416.63 1415.18  Z\" fill=\"#009af9\" fill-rule=\"evenodd\" fill-opacity=\"1\"/>\n",
       "<polyline clip-path=\"url(#clip702)\" style=\"stroke:#000000; stroke-linecap:round; stroke-linejoin:round; stroke-width:4; stroke-opacity:1; fill:none\" points=\"3416.63,1415.18 3416.63,1423.18 3596.98,1423.18 3596.98,1415.18 3416.63,1415.18 \"/>\n",
       "<path clip-path=\"url(#clip702)\" d=\"M3596.98 1423.18 L3596.98 1423.18 L3777.33 1423.18 L3777.33 1423.18 L3596.98 1423.18 L3596.98 1423.18  Z\" fill=\"#009af9\" fill-rule=\"evenodd\" fill-opacity=\"1\"/>\n",
       "<polyline clip-path=\"url(#clip702)\" style=\"stroke:#000000; stroke-linecap:round; stroke-linejoin:round; stroke-width:4; stroke-opacity:1; fill:none\" points=\"3596.98,1423.18 3596.98,1423.18 3777.33,1423.18 3596.98,1423.18 \"/>\n",
       "<path clip-path=\"url(#clip702)\" d=\"M3777.33 1415.18 L3777.33 1423.18 L3957.67 1423.18 L3957.67 1415.18 L3777.33 1415.18 L3777.33 1415.18  Z\" fill=\"#009af9\" fill-rule=\"evenodd\" fill-opacity=\"1\"/>\n",
       "<polyline clip-path=\"url(#clip702)\" style=\"stroke:#000000; stroke-linecap:round; stroke-linejoin:round; stroke-width:4; stroke-opacity:1; fill:none\" points=\"3777.33,1415.18 3777.33,1423.18 3957.67,1423.18 3957.67,1415.18 3777.33,1415.18 \"/>\n",
       "<path clip-path=\"url(#clip702)\" d=\"M3957.67 1423.18 L3957.67 1423.18 L4138.02 1423.18 L4138.02 1423.18 L3957.67 1423.18 L3957.67 1423.18  Z\" fill=\"#009af9\" fill-rule=\"evenodd\" fill-opacity=\"1\"/>\n",
       "<polyline clip-path=\"url(#clip702)\" style=\"stroke:#000000; stroke-linecap:round; stroke-linejoin:round; stroke-width:4; stroke-opacity:1; fill:none\" points=\"3957.67,1423.18 3957.67,1423.18 4138.02,1423.18 3957.67,1423.18 \"/>\n",
       "<path clip-path=\"url(#clip702)\" d=\"M4138.02 1423.18 L4138.02 1423.18 L4318.37 1423.18 L4318.37 1423.18 L4138.02 1423.18 L4138.02 1423.18  Z\" fill=\"#009af9\" fill-rule=\"evenodd\" fill-opacity=\"1\"/>\n",
       "<polyline clip-path=\"url(#clip702)\" style=\"stroke:#000000; stroke-linecap:round; stroke-linejoin:round; stroke-width:4; stroke-opacity:1; fill:none\" points=\"4138.02,1423.18 4138.02,1423.18 4318.37,1423.18 4138.02,1423.18 \"/>\n",
       "<path clip-path=\"url(#clip702)\" d=\"M4318.37 1415.18 L4318.37 1423.18 L4498.72 1423.18 L4498.72 1415.18 L4318.37 1415.18 L4318.37 1415.18  Z\" fill=\"#009af9\" fill-rule=\"evenodd\" fill-opacity=\"1\"/>\n",
       "<polyline clip-path=\"url(#clip702)\" style=\"stroke:#000000; stroke-linecap:round; stroke-linejoin:round; stroke-width:4; stroke-opacity:1; fill:none\" points=\"4318.37,1415.18 4318.37,1423.18 4498.72,1423.18 4498.72,1415.18 4318.37,1415.18 \"/>\n",
       "<path clip-path=\"url(#clip702)\" d=\"M4498.72 1415.18 L4498.72 1423.18 L4679.07 1423.18 L4679.07 1415.18 L4498.72 1415.18 L4498.72 1415.18  Z\" fill=\"#009af9\" fill-rule=\"evenodd\" fill-opacity=\"1\"/>\n",
       "<polyline clip-path=\"url(#clip702)\" style=\"stroke:#000000; stroke-linecap:round; stroke-linejoin:round; stroke-width:4; stroke-opacity:1; fill:none\" points=\"4498.72,1415.18 4498.72,1423.18 4679.07,1423.18 4679.07,1415.18 4498.72,1415.18 \"/>\n",
       "<path clip-path=\"url(#clip702)\" d=\"M4679.07 1423.18 L4679.07 1423.18 L4859.42 1423.18 L4859.42 1423.18 L4679.07 1423.18 L4679.07 1423.18  Z\" fill=\"#009af9\" fill-rule=\"evenodd\" fill-opacity=\"1\"/>\n",
       "<polyline clip-path=\"url(#clip702)\" style=\"stroke:#000000; stroke-linecap:round; stroke-linejoin:round; stroke-width:4; stroke-opacity:1; fill:none\" points=\"4679.07,1423.18 4679.07,1423.18 4859.42,1423.18 4679.07,1423.18 \"/>\n",
       "<path clip-path=\"url(#clip702)\" d=\"M4859.42 1415.18 L4859.42 1423.18 L5039.77 1423.18 L5039.77 1415.18 L4859.42 1415.18 L4859.42 1415.18  Z\" fill=\"#009af9\" fill-rule=\"evenodd\" fill-opacity=\"1\"/>\n",
       "<polyline clip-path=\"url(#clip702)\" style=\"stroke:#000000; stroke-linecap:round; stroke-linejoin:round; stroke-width:4; stroke-opacity:1; fill:none\" points=\"4859.42,1415.18 4859.42,1423.18 5039.77,1423.18 5039.77,1415.18 4859.42,1415.18 \"/>\n",
       "<path clip-path=\"url(#clip702)\" d=\"M5039.77 1423.18 L5039.77 1423.18 L5220.12 1423.18 L5220.12 1423.18 L5039.77 1423.18 L5039.77 1423.18  Z\" fill=\"#009af9\" fill-rule=\"evenodd\" fill-opacity=\"1\"/>\n",
       "<polyline clip-path=\"url(#clip702)\" style=\"stroke:#000000; stroke-linecap:round; stroke-linejoin:round; stroke-width:4; stroke-opacity:1; fill:none\" points=\"5039.77,1423.18 5039.77,1423.18 5220.12,1423.18 5039.77,1423.18 \"/>\n",
       "<path clip-path=\"url(#clip702)\" d=\"M5220.12 1415.18 L5220.12 1423.18 L5400.47 1423.18 L5400.47 1415.18 L5220.12 1415.18 L5220.12 1415.18  Z\" fill=\"#009af9\" fill-rule=\"evenodd\" fill-opacity=\"1\"/>\n",
       "<polyline clip-path=\"url(#clip702)\" style=\"stroke:#000000; stroke-linecap:round; stroke-linejoin:round; stroke-width:4; stroke-opacity:1; fill:none\" points=\"5220.12,1415.18 5220.12,1423.18 5400.47,1423.18 5400.47,1415.18 5220.12,1415.18 \"/>\n",
       "<path clip-path=\"url(#clip702)\" d=\"M5400.47 1423.18 L5400.47 1423.18 L5580.82 1423.18 L5580.82 1423.18 L5400.47 1423.18 L5400.47 1423.18  Z\" fill=\"#009af9\" fill-rule=\"evenodd\" fill-opacity=\"1\"/>\n",
       "<polyline clip-path=\"url(#clip702)\" style=\"stroke:#000000; stroke-linecap:round; stroke-linejoin:round; stroke-width:4; stroke-opacity:1; fill:none\" points=\"5400.47,1423.18 5400.47,1423.18 5580.82,1423.18 5400.47,1423.18 \"/>\n",
       "<path clip-path=\"url(#clip702)\" d=\"M5580.82 1423.18 L5580.82 1423.18 L5761.16 1423.18 L5761.16 1423.18 L5580.82 1423.18 L5580.82 1423.18  Z\" fill=\"#009af9\" fill-rule=\"evenodd\" fill-opacity=\"1\"/>\n",
       "<polyline clip-path=\"url(#clip702)\" style=\"stroke:#000000; stroke-linecap:round; stroke-linejoin:round; stroke-width:4; stroke-opacity:1; fill:none\" points=\"5580.82,1423.18 5580.82,1423.18 5761.16,1423.18 5580.82,1423.18 \"/>\n",
       "<path clip-path=\"url(#clip702)\" d=\"M5761.16 1423.18 L5761.16 1423.18 L5941.51 1423.18 L5941.51 1423.18 L5761.16 1423.18 L5761.16 1423.18  Z\" fill=\"#009af9\" fill-rule=\"evenodd\" fill-opacity=\"1\"/>\n",
       "<polyline clip-path=\"url(#clip702)\" style=\"stroke:#000000; stroke-linecap:round; stroke-linejoin:round; stroke-width:4; stroke-opacity:1; fill:none\" points=\"5761.16,1423.18 5761.16,1423.18 5941.51,1423.18 5761.16,1423.18 \"/>\n",
       "<path clip-path=\"url(#clip702)\" d=\"M5941.51 1423.18 L5941.51 1423.18 L6121.86 1423.18 L6121.86 1423.18 L5941.51 1423.18 L5941.51 1423.18  Z\" fill=\"#009af9\" fill-rule=\"evenodd\" fill-opacity=\"1\"/>\n",
       "<polyline clip-path=\"url(#clip702)\" style=\"stroke:#000000; stroke-linecap:round; stroke-linejoin:round; stroke-width:4; stroke-opacity:1; fill:none\" points=\"5941.51,1423.18 5941.51,1423.18 6121.86,1423.18 5941.51,1423.18 \"/>\n",
       "<path clip-path=\"url(#clip702)\" d=\"M6121.86 1423.18 L6121.86 1423.18 L6302.21 1423.18 L6302.21 1423.18 L6121.86 1423.18 L6121.86 1423.18  Z\" fill=\"#009af9\" fill-rule=\"evenodd\" fill-opacity=\"1\"/>\n",
       "<polyline clip-path=\"url(#clip702)\" style=\"stroke:#000000; stroke-linecap:round; stroke-linejoin:round; stroke-width:4; stroke-opacity:1; fill:none\" points=\"6121.86,1423.18 6121.86,1423.18 6302.21,1423.18 6121.86,1423.18 \"/>\n",
       "<path clip-path=\"url(#clip702)\" d=\"M6302.21 1423.18 L6302.21 1423.18 L6482.56 1423.18 L6482.56 1423.18 L6302.21 1423.18 L6302.21 1423.18  Z\" fill=\"#009af9\" fill-rule=\"evenodd\" fill-opacity=\"1\"/>\n",
       "<polyline clip-path=\"url(#clip702)\" style=\"stroke:#000000; stroke-linecap:round; stroke-linejoin:round; stroke-width:4; stroke-opacity:1; fill:none\" points=\"6302.21,1423.18 6302.21,1423.18 6482.56,1423.18 6302.21,1423.18 \"/>\n",
       "<path clip-path=\"url(#clip702)\" d=\"M6482.56 1423.18 L6482.56 1423.18 L6662.91 1423.18 L6662.91 1423.18 L6482.56 1423.18 L6482.56 1423.18  Z\" fill=\"#009af9\" fill-rule=\"evenodd\" fill-opacity=\"1\"/>\n",
       "<polyline clip-path=\"url(#clip702)\" style=\"stroke:#000000; stroke-linecap:round; stroke-linejoin:round; stroke-width:4; stroke-opacity:1; fill:none\" points=\"6482.56,1423.18 6482.56,1423.18 6662.91,1423.18 6482.56,1423.18 \"/>\n",
       "<path clip-path=\"url(#clip702)\" d=\"M6662.91 1423.18 L6662.91 1423.18 L6843.26 1423.18 L6843.26 1423.18 L6662.91 1423.18 L6662.91 1423.18  Z\" fill=\"#009af9\" fill-rule=\"evenodd\" fill-opacity=\"1\"/>\n",
       "<polyline clip-path=\"url(#clip702)\" style=\"stroke:#000000; stroke-linecap:round; stroke-linejoin:round; stroke-width:4; stroke-opacity:1; fill:none\" points=\"6662.91,1423.18 6662.91,1423.18 6843.26,1423.18 6662.91,1423.18 \"/>\n",
       "<path clip-path=\"url(#clip702)\" d=\"M6843.26 1423.18 L6843.26 1423.18 L7023.61 1423.18 L7023.61 1423.18 L6843.26 1423.18 L6843.26 1423.18  Z\" fill=\"#009af9\" fill-rule=\"evenodd\" fill-opacity=\"1\"/>\n",
       "<polyline clip-path=\"url(#clip702)\" style=\"stroke:#000000; stroke-linecap:round; stroke-linejoin:round; stroke-width:4; stroke-opacity:1; fill:none\" points=\"6843.26,1423.18 6843.26,1423.18 7023.61,1423.18 6843.26,1423.18 \"/>\n",
       "<path clip-path=\"url(#clip702)\" d=\"M7023.61 1423.18 L7023.61 1423.18 L7203.96 1423.18 L7203.96 1423.18 L7023.61 1423.18 L7023.61 1423.18  Z\" fill=\"#009af9\" fill-rule=\"evenodd\" fill-opacity=\"1\"/>\n",
       "<polyline clip-path=\"url(#clip702)\" style=\"stroke:#000000; stroke-linecap:round; stroke-linejoin:round; stroke-width:4; stroke-opacity:1; fill:none\" points=\"7023.61,1423.18 7023.61,1423.18 7203.96,1423.18 7023.61,1423.18 \"/>\n",
       "<path clip-path=\"url(#clip702)\" d=\"M7203.96 1423.18 L7203.96 1423.18 L7384.3 1423.18 L7384.3 1423.18 L7203.96 1423.18 L7203.96 1423.18  Z\" fill=\"#009af9\" fill-rule=\"evenodd\" fill-opacity=\"1\"/>\n",
       "<polyline clip-path=\"url(#clip702)\" style=\"stroke:#000000; stroke-linecap:round; stroke-linejoin:round; stroke-width:4; stroke-opacity:1; fill:none\" points=\"7203.96,1423.18 7203.96,1423.18 7384.3,1423.18 7203.96,1423.18 \"/>\n",
       "<path clip-path=\"url(#clip702)\" d=\"M7384.3 1423.18 L7384.3 1423.18 L7564.65 1423.18 L7564.65 1423.18 L7384.3 1423.18 L7384.3 1423.18  Z\" fill=\"#009af9\" fill-rule=\"evenodd\" fill-opacity=\"1\"/>\n",
       "<polyline clip-path=\"url(#clip702)\" style=\"stroke:#000000; stroke-linecap:round; stroke-linejoin:round; stroke-width:4; stroke-opacity:1; fill:none\" points=\"7384.3,1423.18 7384.3,1423.18 7564.65,1423.18 7384.3,1423.18 \"/>\n",
       "<path clip-path=\"url(#clip702)\" d=\"M7564.65 1423.18 L7564.65 1423.18 L7745 1423.18 L7745 1423.18 L7564.65 1423.18 L7564.65 1423.18  Z\" fill=\"#009af9\" fill-rule=\"evenodd\" fill-opacity=\"1\"/>\n",
       "<polyline clip-path=\"url(#clip702)\" style=\"stroke:#000000; stroke-linecap:round; stroke-linejoin:round; stroke-width:4; stroke-opacity:1; fill:none\" points=\"7564.65,1423.18 7564.65,1423.18 7745,1423.18 7564.65,1423.18 \"/>\n",
       "<path clip-path=\"url(#clip702)\" d=\"M7745 1415.18 L7745 1423.18 L7925.35 1423.18 L7925.35 1415.18 L7745 1415.18 L7745 1415.18  Z\" fill=\"#009af9\" fill-rule=\"evenodd\" fill-opacity=\"1\"/>\n",
       "<polyline clip-path=\"url(#clip702)\" style=\"stroke:#000000; stroke-linecap:round; stroke-linejoin:round; stroke-width:4; stroke-opacity:1; fill:none\" points=\"7745,1415.18 7745,1423.18 7925.35,1423.18 7925.35,1415.18 7745,1415.18 \"/>\n",
       "<path clip-path=\"url(#clip702)\" d=\"M7925.35 1423.18 L7925.35 1423.18 L8105.7 1423.18 L8105.7 1423.18 L7925.35 1423.18 L7925.35 1423.18  Z\" fill=\"#009af9\" fill-rule=\"evenodd\" fill-opacity=\"1\"/>\n",
       "<polyline clip-path=\"url(#clip702)\" style=\"stroke:#000000; stroke-linecap:round; stroke-linejoin:round; stroke-width:4; stroke-opacity:1; fill:none\" points=\"7925.35,1423.18 7925.35,1423.18 8105.7,1423.18 7925.35,1423.18 \"/>\n",
       "<path clip-path=\"url(#clip702)\" d=\"M8105.7 1423.18 L8105.7 1423.18 L8286.05 1423.18 L8286.05 1423.18 L8105.7 1423.18 L8105.7 1423.18  Z\" fill=\"#009af9\" fill-rule=\"evenodd\" fill-opacity=\"1\"/>\n",
       "<polyline clip-path=\"url(#clip702)\" style=\"stroke:#000000; stroke-linecap:round; stroke-linejoin:round; stroke-width:4; stroke-opacity:1; fill:none\" points=\"8105.7,1423.18 8105.7,1423.18 8286.05,1423.18 8105.7,1423.18 \"/>\n",
       "<path clip-path=\"url(#clip702)\" d=\"M8286.05 1423.18 L8286.05 1423.18 L8466.4 1423.18 L8466.4 1423.18 L8286.05 1423.18 L8286.05 1423.18  Z\" fill=\"#009af9\" fill-rule=\"evenodd\" fill-opacity=\"1\"/>\n",
       "<polyline clip-path=\"url(#clip702)\" style=\"stroke:#000000; stroke-linecap:round; stroke-linejoin:round; stroke-width:4; stroke-opacity:1; fill:none\" points=\"8286.05,1423.18 8286.05,1423.18 8466.4,1423.18 8286.05,1423.18 \"/>\n",
       "<path clip-path=\"url(#clip702)\" d=\"M8466.4 1423.18 L8466.4 1423.18 L8646.75 1423.18 L8646.75 1423.18 L8466.4 1423.18 L8466.4 1423.18  Z\" fill=\"#009af9\" fill-rule=\"evenodd\" fill-opacity=\"1\"/>\n",
       "<polyline clip-path=\"url(#clip702)\" style=\"stroke:#000000; stroke-linecap:round; stroke-linejoin:round; stroke-width:4; stroke-opacity:1; fill:none\" points=\"8466.4,1423.18 8466.4,1423.18 8646.75,1423.18 8466.4,1423.18 \"/>\n",
       "<path clip-path=\"url(#clip702)\" d=\"M8646.75 1423.18 L8646.75 1423.18 L8827.1 1423.18 L8827.1 1423.18 L8646.75 1423.18 L8646.75 1423.18  Z\" fill=\"#009af9\" fill-rule=\"evenodd\" fill-opacity=\"1\"/>\n",
       "<polyline clip-path=\"url(#clip702)\" style=\"stroke:#000000; stroke-linecap:round; stroke-linejoin:round; stroke-width:4; stroke-opacity:1; fill:none\" points=\"8646.75,1423.18 8646.75,1423.18 8827.1,1423.18 8646.75,1423.18 \"/>\n",
       "<path clip-path=\"url(#clip702)\" d=\"M8827.1 1423.18 L8827.1 1423.18 L9007.45 1423.18 L9007.45 1423.18 L8827.1 1423.18 L8827.1 1423.18  Z\" fill=\"#009af9\" fill-rule=\"evenodd\" fill-opacity=\"1\"/>\n",
       "<polyline clip-path=\"url(#clip702)\" style=\"stroke:#000000; stroke-linecap:round; stroke-linejoin:round; stroke-width:4; stroke-opacity:1; fill:none\" points=\"8827.1,1423.18 8827.1,1423.18 9007.45,1423.18 8827.1,1423.18 \"/>\n",
       "<path clip-path=\"url(#clip702)\" d=\"M9007.45 1423.18 L9007.45 1423.18 L9187.79 1423.18 L9187.79 1423.18 L9007.45 1423.18 L9007.45 1423.18  Z\" fill=\"#009af9\" fill-rule=\"evenodd\" fill-opacity=\"1\"/>\n",
       "<polyline clip-path=\"url(#clip702)\" style=\"stroke:#000000; stroke-linecap:round; stroke-linejoin:round; stroke-width:4; stroke-opacity:1; fill:none\" points=\"9007.45,1423.18 9007.45,1423.18 9187.79,1423.18 9007.45,1423.18 \"/>\n",
       "<path clip-path=\"url(#clip702)\" d=\"M9187.79 1423.18 L9187.79 1423.18 L9368.14 1423.18 L9368.14 1423.18 L9187.79 1423.18 L9187.79 1423.18  Z\" fill=\"#009af9\" fill-rule=\"evenodd\" fill-opacity=\"1\"/>\n",
       "<polyline clip-path=\"url(#clip702)\" style=\"stroke:#000000; stroke-linecap:round; stroke-linejoin:round; stroke-width:4; stroke-opacity:1; fill:none\" points=\"9187.79,1423.18 9187.79,1423.18 9368.14,1423.18 9187.79,1423.18 \"/>\n",
       "<path clip-path=\"url(#clip702)\" d=\"M9368.14 1423.18 L9368.14 1423.18 L9548.49 1423.18 L9548.49 1423.18 L9368.14 1423.18 L9368.14 1423.18  Z\" fill=\"#009af9\" fill-rule=\"evenodd\" fill-opacity=\"1\"/>\n",
       "<polyline clip-path=\"url(#clip702)\" style=\"stroke:#000000; stroke-linecap:round; stroke-linejoin:round; stroke-width:4; stroke-opacity:1; fill:none\" points=\"9368.14,1423.18 9368.14,1423.18 9548.49,1423.18 9368.14,1423.18 \"/>\n",
       "<path clip-path=\"url(#clip702)\" d=\"M9548.49 1423.18 L9548.49 1423.18 L9728.84 1423.18 L9728.84 1423.18 L9548.49 1423.18 L9548.49 1423.18  Z\" fill=\"#009af9\" fill-rule=\"evenodd\" fill-opacity=\"1\"/>\n",
       "<polyline clip-path=\"url(#clip702)\" style=\"stroke:#000000; stroke-linecap:round; stroke-linejoin:round; stroke-width:4; stroke-opacity:1; fill:none\" points=\"9548.49,1423.18 9548.49,1423.18 9728.84,1423.18 9548.49,1423.18 \"/>\n",
       "<path clip-path=\"url(#clip702)\" d=\"M9728.84 1423.18 L9728.84 1423.18 L9909.19 1423.18 L9909.19 1423.18 L9728.84 1423.18 L9728.84 1423.18  Z\" fill=\"#009af9\" fill-rule=\"evenodd\" fill-opacity=\"1\"/>\n",
       "<polyline clip-path=\"url(#clip702)\" style=\"stroke:#000000; stroke-linecap:round; stroke-linejoin:round; stroke-width:4; stroke-opacity:1; fill:none\" points=\"9728.84,1423.18 9728.84,1423.18 9909.19,1423.18 9728.84,1423.18 \"/>\n",
       "<path clip-path=\"url(#clip702)\" d=\"M9909.19 1423.18 L9909.19 1423.18 L10089.5 1423.18 L10089.5 1423.18 L9909.19 1423.18 L9909.19 1423.18  Z\" fill=\"#009af9\" fill-rule=\"evenodd\" fill-opacity=\"1\"/>\n",
       "<polyline clip-path=\"url(#clip702)\" style=\"stroke:#000000; stroke-linecap:round; stroke-linejoin:round; stroke-width:4; stroke-opacity:1; fill:none\" points=\"9909.19,1423.18 9909.19,1423.18 10089.5,1423.18 9909.19,1423.18 \"/>\n",
       "<path clip-path=\"url(#clip702)\" d=\"M10089.5 1423.18 L10089.5 1423.18 L10269.9 1423.18 L10269.9 1423.18 L10089.5 1423.18 L10089.5 1423.18  Z\" fill=\"#009af9\" fill-rule=\"evenodd\" fill-opacity=\"1\"/>\n",
       "<polyline clip-path=\"url(#clip702)\" style=\"stroke:#000000; stroke-linecap:round; stroke-linejoin:round; stroke-width:4; stroke-opacity:1; fill:none\" points=\"10089.5,1423.18 10089.5,1423.18 10269.9,1423.18 10089.5,1423.18 \"/>\n",
       "<path clip-path=\"url(#clip702)\" d=\"M10269.9 1423.18 L10269.9 1423.18 L10450.2 1423.18 L10450.2 1423.18 L10269.9 1423.18 L10269.9 1423.18  Z\" fill=\"#009af9\" fill-rule=\"evenodd\" fill-opacity=\"1\"/>\n",
       "<polyline clip-path=\"url(#clip702)\" style=\"stroke:#000000; stroke-linecap:round; stroke-linejoin:round; stroke-width:4; stroke-opacity:1; fill:none\" points=\"10269.9,1423.18 10269.9,1423.18 10450.2,1423.18 10269.9,1423.18 \"/>\n",
       "<path clip-path=\"url(#clip702)\" d=\"M10450.2 1423.18 L10450.2 1423.18 L10630.6 1423.18 L10630.6 1423.18 L10450.2 1423.18 L10450.2 1423.18  Z\" fill=\"#009af9\" fill-rule=\"evenodd\" fill-opacity=\"1\"/>\n",
       "<polyline clip-path=\"url(#clip702)\" style=\"stroke:#000000; stroke-linecap:round; stroke-linejoin:round; stroke-width:4; stroke-opacity:1; fill:none\" points=\"10450.2,1423.18 10450.2,1423.18 10630.6,1423.18 10450.2,1423.18 \"/>\n",
       "<path clip-path=\"url(#clip702)\" d=\"M10630.6 1423.18 L10630.6 1423.18 L10810.9 1423.18 L10810.9 1423.18 L10630.6 1423.18 L10630.6 1423.18  Z\" fill=\"#009af9\" fill-rule=\"evenodd\" fill-opacity=\"1\"/>\n",
       "<polyline clip-path=\"url(#clip702)\" style=\"stroke:#000000; stroke-linecap:round; stroke-linejoin:round; stroke-width:4; stroke-opacity:1; fill:none\" points=\"10630.6,1423.18 10630.6,1423.18 10810.9,1423.18 10630.6,1423.18 \"/>\n",
       "<path clip-path=\"url(#clip702)\" d=\"M10810.9 1423.18 L10810.9 1423.18 L10991.3 1423.18 L10991.3 1423.18 L10810.9 1423.18 L10810.9 1423.18  Z\" fill=\"#009af9\" fill-rule=\"evenodd\" fill-opacity=\"1\"/>\n",
       "<polyline clip-path=\"url(#clip702)\" style=\"stroke:#000000; stroke-linecap:round; stroke-linejoin:round; stroke-width:4; stroke-opacity:1; fill:none\" points=\"10810.9,1423.18 10810.9,1423.18 10991.3,1423.18 10810.9,1423.18 \"/>\n",
       "<path clip-path=\"url(#clip702)\" d=\"M10991.3 1423.18 L10991.3 1423.18 L11171.6 1423.18 L11171.6 1423.18 L10991.3 1423.18 L10991.3 1423.18  Z\" fill=\"#009af9\" fill-rule=\"evenodd\" fill-opacity=\"1\"/>\n",
       "<polyline clip-path=\"url(#clip702)\" style=\"stroke:#000000; stroke-linecap:round; stroke-linejoin:round; stroke-width:4; stroke-opacity:1; fill:none\" points=\"10991.3,1423.18 10991.3,1423.18 11171.6,1423.18 10991.3,1423.18 \"/>\n",
       "<path clip-path=\"url(#clip702)\" d=\"M11171.6 1423.18 L11171.6 1423.18 L11352 1423.18 L11352 1423.18 L11171.6 1423.18 L11171.6 1423.18  Z\" fill=\"#009af9\" fill-rule=\"evenodd\" fill-opacity=\"1\"/>\n",
       "<polyline clip-path=\"url(#clip702)\" style=\"stroke:#000000; stroke-linecap:round; stroke-linejoin:round; stroke-width:4; stroke-opacity:1; fill:none\" points=\"11171.6,1423.18 11171.6,1423.18 11352,1423.18 11171.6,1423.18 \"/>\n",
       "<path clip-path=\"url(#clip702)\" d=\"M11352 1423.18 L11352 1423.18 L11532.3 1423.18 L11532.3 1423.18 L11352 1423.18 L11352 1423.18  Z\" fill=\"#009af9\" fill-rule=\"evenodd\" fill-opacity=\"1\"/>\n",
       "<polyline clip-path=\"url(#clip702)\" style=\"stroke:#000000; stroke-linecap:round; stroke-linejoin:round; stroke-width:4; stroke-opacity:1; fill:none\" points=\"11352,1423.18 11352,1423.18 11532.3,1423.18 11352,1423.18 \"/>\n",
       "<path clip-path=\"url(#clip702)\" d=\"M11532.3 1423.18 L11532.3 1423.18 L11712.7 1423.18 L11712.7 1423.18 L11532.3 1423.18 L11532.3 1423.18  Z\" fill=\"#009af9\" fill-rule=\"evenodd\" fill-opacity=\"1\"/>\n",
       "<polyline clip-path=\"url(#clip702)\" style=\"stroke:#000000; stroke-linecap:round; stroke-linejoin:round; stroke-width:4; stroke-opacity:1; fill:none\" points=\"11532.3,1423.18 11532.3,1423.18 11712.7,1423.18 11532.3,1423.18 \"/>\n",
       "<path clip-path=\"url(#clip702)\" d=\"M11712.7 1423.18 L11712.7 1423.18 L11893 1423.18 L11893 1423.18 L11712.7 1423.18 L11712.7 1423.18  Z\" fill=\"#009af9\" fill-rule=\"evenodd\" fill-opacity=\"1\"/>\n",
       "<polyline clip-path=\"url(#clip702)\" style=\"stroke:#000000; stroke-linecap:round; stroke-linejoin:round; stroke-width:4; stroke-opacity:1; fill:none\" points=\"11712.7,1423.18 11712.7,1423.18 11893,1423.18 11712.7,1423.18 \"/>\n",
       "<path clip-path=\"url(#clip702)\" d=\"M11893 1423.18 L11893 1423.18 L12073.4 1423.18 L12073.4 1423.18 L11893 1423.18 L11893 1423.18  Z\" fill=\"#009af9\" fill-rule=\"evenodd\" fill-opacity=\"1\"/>\n",
       "<polyline clip-path=\"url(#clip702)\" style=\"stroke:#000000; stroke-linecap:round; stroke-linejoin:round; stroke-width:4; stroke-opacity:1; fill:none\" points=\"11893,1423.18 11893,1423.18 12073.4,1423.18 11893,1423.18 \"/>\n",
       "<path clip-path=\"url(#clip702)\" d=\"M12073.4 1423.18 L12073.4 1423.18 L12253.7 1423.18 L12253.7 1423.18 L12073.4 1423.18 L12073.4 1423.18  Z\" fill=\"#009af9\" fill-rule=\"evenodd\" fill-opacity=\"1\"/>\n",
       "<polyline clip-path=\"url(#clip702)\" style=\"stroke:#000000; stroke-linecap:round; stroke-linejoin:round; stroke-width:4; stroke-opacity:1; fill:none\" points=\"12073.4,1423.18 12073.4,1423.18 12253.7,1423.18 12073.4,1423.18 \"/>\n",
       "<path clip-path=\"url(#clip702)\" d=\"M12253.7 1423.18 L12253.7 1423.18 L12434.1 1423.18 L12434.1 1423.18 L12253.7 1423.18 L12253.7 1423.18  Z\" fill=\"#009af9\" fill-rule=\"evenodd\" fill-opacity=\"1\"/>\n",
       "<polyline clip-path=\"url(#clip702)\" style=\"stroke:#000000; stroke-linecap:round; stroke-linejoin:round; stroke-width:4; stroke-opacity:1; fill:none\" points=\"12253.7,1423.18 12253.7,1423.18 12434.1,1423.18 12253.7,1423.18 \"/>\n",
       "<path clip-path=\"url(#clip702)\" d=\"M12434.1 1423.18 L12434.1 1423.18 L12614.4 1423.18 L12614.4 1423.18 L12434.1 1423.18 L12434.1 1423.18  Z\" fill=\"#009af9\" fill-rule=\"evenodd\" fill-opacity=\"1\"/>\n",
       "<polyline clip-path=\"url(#clip702)\" style=\"stroke:#000000; stroke-linecap:round; stroke-linejoin:round; stroke-width:4; stroke-opacity:1; fill:none\" points=\"12434.1,1423.18 12434.1,1423.18 12614.4,1423.18 12434.1,1423.18 \"/>\n",
       "<path clip-path=\"url(#clip702)\" d=\"M12614.4 1423.18 L12614.4 1423.18 L12794.8 1423.18 L12794.8 1423.18 L12614.4 1423.18 L12614.4 1423.18  Z\" fill=\"#009af9\" fill-rule=\"evenodd\" fill-opacity=\"1\"/>\n",
       "<polyline clip-path=\"url(#clip702)\" style=\"stroke:#000000; stroke-linecap:round; stroke-linejoin:round; stroke-width:4; stroke-opacity:1; fill:none\" points=\"12614.4,1423.18 12614.4,1423.18 12794.8,1423.18 12614.4,1423.18 \"/>\n",
       "<path clip-path=\"url(#clip702)\" d=\"M12794.8 1423.18 L12794.8 1423.18 L12975.1 1423.18 L12975.1 1423.18 L12794.8 1423.18 L12794.8 1423.18  Z\" fill=\"#009af9\" fill-rule=\"evenodd\" fill-opacity=\"1\"/>\n",
       "<polyline clip-path=\"url(#clip702)\" style=\"stroke:#000000; stroke-linecap:round; stroke-linejoin:round; stroke-width:4; stroke-opacity:1; fill:none\" points=\"12794.8,1423.18 12794.8,1423.18 12975.1,1423.18 12794.8,1423.18 \"/>\n",
       "<path clip-path=\"url(#clip702)\" d=\"M12975.1 1423.18 L12975.1 1423.18 L13155.5 1423.18 L13155.5 1423.18 L12975.1 1423.18 L12975.1 1423.18  Z\" fill=\"#009af9\" fill-rule=\"evenodd\" fill-opacity=\"1\"/>\n",
       "<polyline clip-path=\"url(#clip702)\" style=\"stroke:#000000; stroke-linecap:round; stroke-linejoin:round; stroke-width:4; stroke-opacity:1; fill:none\" points=\"12975.1,1423.18 12975.1,1423.18 13155.5,1423.18 12975.1,1423.18 \"/>\n",
       "<path clip-path=\"url(#clip702)\" d=\"M13155.5 1423.18 L13155.5 1423.18 L13335.8 1423.18 L13335.8 1423.18 L13155.5 1423.18 L13155.5 1423.18  Z\" fill=\"#009af9\" fill-rule=\"evenodd\" fill-opacity=\"1\"/>\n",
       "<polyline clip-path=\"url(#clip702)\" style=\"stroke:#000000; stroke-linecap:round; stroke-linejoin:round; stroke-width:4; stroke-opacity:1; fill:none\" points=\"13155.5,1423.18 13155.5,1423.18 13335.8,1423.18 13155.5,1423.18 \"/>\n",
       "<path clip-path=\"url(#clip702)\" d=\"M13335.8 1423.18 L13335.8 1423.18 L13516.2 1423.18 L13516.2 1423.18 L13335.8 1423.18 L13335.8 1423.18  Z\" fill=\"#009af9\" fill-rule=\"evenodd\" fill-opacity=\"1\"/>\n",
       "<polyline clip-path=\"url(#clip702)\" style=\"stroke:#000000; stroke-linecap:round; stroke-linejoin:round; stroke-width:4; stroke-opacity:1; fill:none\" points=\"13335.8,1423.18 13335.8,1423.18 13516.2,1423.18 13335.8,1423.18 \"/>\n",
       "<path clip-path=\"url(#clip702)\" d=\"M13516.2 1423.18 L13516.2 1423.18 L13696.5 1423.18 L13696.5 1423.18 L13516.2 1423.18 L13516.2 1423.18  Z\" fill=\"#009af9\" fill-rule=\"evenodd\" fill-opacity=\"1\"/>\n",
       "<polyline clip-path=\"url(#clip702)\" style=\"stroke:#000000; stroke-linecap:round; stroke-linejoin:round; stroke-width:4; stroke-opacity:1; fill:none\" points=\"13516.2,1423.18 13516.2,1423.18 13696.5,1423.18 13516.2,1423.18 \"/>\n",
       "<path clip-path=\"url(#clip702)\" d=\"M13696.5 1423.18 L13696.5 1423.18 L13876.9 1423.18 L13876.9 1423.18 L13696.5 1423.18 L13696.5 1423.18  Z\" fill=\"#009af9\" fill-rule=\"evenodd\" fill-opacity=\"1\"/>\n",
       "<polyline clip-path=\"url(#clip702)\" style=\"stroke:#000000; stroke-linecap:round; stroke-linejoin:round; stroke-width:4; stroke-opacity:1; fill:none\" points=\"13696.5,1423.18 13696.5,1423.18 13876.9,1423.18 13696.5,1423.18 \"/>\n",
       "<path clip-path=\"url(#clip702)\" d=\"M13876.9 1423.18 L13876.9 1423.18 L14057.2 1423.18 L14057.2 1423.18 L13876.9 1423.18 L13876.9 1423.18  Z\" fill=\"#009af9\" fill-rule=\"evenodd\" fill-opacity=\"1\"/>\n",
       "<polyline clip-path=\"url(#clip702)\" style=\"stroke:#000000; stroke-linecap:round; stroke-linejoin:round; stroke-width:4; stroke-opacity:1; fill:none\" points=\"13876.9,1423.18 13876.9,1423.18 14057.2,1423.18 13876.9,1423.18 \"/>\n",
       "<path clip-path=\"url(#clip702)\" d=\"M14057.2 1423.18 L14057.2 1423.18 L14237.6 1423.18 L14237.6 1423.18 L14057.2 1423.18 L14057.2 1423.18  Z\" fill=\"#009af9\" fill-rule=\"evenodd\" fill-opacity=\"1\"/>\n",
       "<polyline clip-path=\"url(#clip702)\" style=\"stroke:#000000; stroke-linecap:round; stroke-linejoin:round; stroke-width:4; stroke-opacity:1; fill:none\" points=\"14057.2,1423.18 14057.2,1423.18 14237.6,1423.18 14057.2,1423.18 \"/>\n",
       "<path clip-path=\"url(#clip702)\" d=\"M14237.6 1423.18 L14237.6 1423.18 L14417.9 1423.18 L14417.9 1423.18 L14237.6 1423.18 L14237.6 1423.18  Z\" fill=\"#009af9\" fill-rule=\"evenodd\" fill-opacity=\"1\"/>\n",
       "<polyline clip-path=\"url(#clip702)\" style=\"stroke:#000000; stroke-linecap:round; stroke-linejoin:round; stroke-width:4; stroke-opacity:1; fill:none\" points=\"14237.6,1423.18 14237.6,1423.18 14417.9,1423.18 14237.6,1423.18 \"/>\n",
       "<path clip-path=\"url(#clip702)\" d=\"M14417.9 1423.18 L14417.9 1423.18 L14598.3 1423.18 L14598.3 1423.18 L14417.9 1423.18 L14417.9 1423.18  Z\" fill=\"#009af9\" fill-rule=\"evenodd\" fill-opacity=\"1\"/>\n",
       "<polyline clip-path=\"url(#clip702)\" style=\"stroke:#000000; stroke-linecap:round; stroke-linejoin:round; stroke-width:4; stroke-opacity:1; fill:none\" points=\"14417.9,1423.18 14417.9,1423.18 14598.3,1423.18 14417.9,1423.18 \"/>\n",
       "<path clip-path=\"url(#clip702)\" d=\"M14598.3 1423.18 L14598.3 1423.18 L14778.6 1423.18 L14778.6 1423.18 L14598.3 1423.18 L14598.3 1423.18  Z\" fill=\"#009af9\" fill-rule=\"evenodd\" fill-opacity=\"1\"/>\n",
       "<polyline clip-path=\"url(#clip702)\" style=\"stroke:#000000; stroke-linecap:round; stroke-linejoin:round; stroke-width:4; stroke-opacity:1; fill:none\" points=\"14598.3,1423.18 14598.3,1423.18 14778.6,1423.18 14598.3,1423.18 \"/>\n",
       "<path clip-path=\"url(#clip702)\" d=\"M14778.6 1423.18 L14778.6 1423.18 L14959 1423.18 L14959 1423.18 L14778.6 1423.18 L14778.6 1423.18  Z\" fill=\"#009af9\" fill-rule=\"evenodd\" fill-opacity=\"1\"/>\n",
       "<polyline clip-path=\"url(#clip702)\" style=\"stroke:#000000; stroke-linecap:round; stroke-linejoin:round; stroke-width:4; stroke-opacity:1; fill:none\" points=\"14778.6,1423.18 14778.6,1423.18 14959,1423.18 14778.6,1423.18 \"/>\n",
       "<path clip-path=\"url(#clip702)\" d=\"M14959 1423.18 L14959 1423.18 L15139.3 1423.18 L15139.3 1423.18 L14959 1423.18 L14959 1423.18  Z\" fill=\"#009af9\" fill-rule=\"evenodd\" fill-opacity=\"1\"/>\n",
       "<polyline clip-path=\"url(#clip702)\" style=\"stroke:#000000; stroke-linecap:round; stroke-linejoin:round; stroke-width:4; stroke-opacity:1; fill:none\" points=\"14959,1423.18 14959,1423.18 15139.3,1423.18 14959,1423.18 \"/>\n",
       "<path clip-path=\"url(#clip702)\" d=\"M15139.3 1423.18 L15139.3 1423.18 L15319.7 1423.18 L15319.7 1423.18 L15139.3 1423.18 L15139.3 1423.18  Z\" fill=\"#009af9\" fill-rule=\"evenodd\" fill-opacity=\"1\"/>\n",
       "<polyline clip-path=\"url(#clip702)\" style=\"stroke:#000000; stroke-linecap:round; stroke-linejoin:round; stroke-width:4; stroke-opacity:1; fill:none\" points=\"15139.3,1423.18 15139.3,1423.18 15319.7,1423.18 15139.3,1423.18 \"/>\n",
       "<path clip-path=\"url(#clip702)\" d=\"M15319.7 1423.18 L15319.7 1423.18 L15500 1423.18 L15500 1423.18 L15319.7 1423.18 L15319.7 1423.18  Z\" fill=\"#009af9\" fill-rule=\"evenodd\" fill-opacity=\"1\"/>\n",
       "<polyline clip-path=\"url(#clip702)\" style=\"stroke:#000000; stroke-linecap:round; stroke-linejoin:round; stroke-width:4; stroke-opacity:1; fill:none\" points=\"15319.7,1423.18 15319.7,1423.18 15500,1423.18 15319.7,1423.18 \"/>\n",
       "<path clip-path=\"url(#clip702)\" d=\"M15500 1423.18 L15500 1423.18 L15680.4 1423.18 L15680.4 1423.18 L15500 1423.18 L15500 1423.18  Z\" fill=\"#009af9\" fill-rule=\"evenodd\" fill-opacity=\"1\"/>\n",
       "<polyline clip-path=\"url(#clip702)\" style=\"stroke:#000000; stroke-linecap:round; stroke-linejoin:round; stroke-width:4; stroke-opacity:1; fill:none\" points=\"15500,1423.18 15500,1423.18 15680.4,1423.18 15500,1423.18 \"/>\n",
       "<path clip-path=\"url(#clip702)\" d=\"M15680.4 1423.18 L15680.4 1423.18 L15860.7 1423.18 L15860.7 1423.18 L15680.4 1423.18 L15680.4 1423.18  Z\" fill=\"#009af9\" fill-rule=\"evenodd\" fill-opacity=\"1\"/>\n",
       "<polyline clip-path=\"url(#clip702)\" style=\"stroke:#000000; stroke-linecap:round; stroke-linejoin:round; stroke-width:4; stroke-opacity:1; fill:none\" points=\"15680.4,1423.18 15680.4,1423.18 15860.7,1423.18 15680.4,1423.18 \"/>\n",
       "<path clip-path=\"url(#clip702)\" d=\"M15860.7 1423.18 L15860.7 1423.18 L16041.1 1423.18 L16041.1 1423.18 L15860.7 1423.18 L15860.7 1423.18  Z\" fill=\"#009af9\" fill-rule=\"evenodd\" fill-opacity=\"1\"/>\n",
       "<polyline clip-path=\"url(#clip702)\" style=\"stroke:#000000; stroke-linecap:round; stroke-linejoin:round; stroke-width:4; stroke-opacity:1; fill:none\" points=\"15860.7,1423.18 15860.7,1423.18 16041.1,1423.18 15860.7,1423.18 \"/>\n",
       "<path clip-path=\"url(#clip702)\" d=\"M16041.1 1423.18 L16041.1 1423.18 L16221.4 1423.18 L16221.4 1423.18 L16041.1 1423.18 L16041.1 1423.18  Z\" fill=\"#009af9\" fill-rule=\"evenodd\" fill-opacity=\"1\"/>\n",
       "<polyline clip-path=\"url(#clip702)\" style=\"stroke:#000000; stroke-linecap:round; stroke-linejoin:round; stroke-width:4; stroke-opacity:1; fill:none\" points=\"16041.1,1423.18 16041.1,1423.18 16221.4,1423.18 16041.1,1423.18 \"/>\n",
       "<path clip-path=\"url(#clip702)\" d=\"M16221.4 1423.18 L16221.4 1423.18 L16401.8 1423.18 L16401.8 1423.18 L16221.4 1423.18 L16221.4 1423.18  Z\" fill=\"#009af9\" fill-rule=\"evenodd\" fill-opacity=\"1\"/>\n",
       "<polyline clip-path=\"url(#clip702)\" style=\"stroke:#000000; stroke-linecap:round; stroke-linejoin:round; stroke-width:4; stroke-opacity:1; fill:none\" points=\"16221.4,1423.18 16221.4,1423.18 16401.8,1423.18 16221.4,1423.18 \"/>\n",
       "<path clip-path=\"url(#clip702)\" d=\"M16401.8 1423.18 L16401.8 1423.18 L16582.1 1423.18 L16582.1 1423.18 L16401.8 1423.18 L16401.8 1423.18  Z\" fill=\"#009af9\" fill-rule=\"evenodd\" fill-opacity=\"1\"/>\n",
       "<polyline clip-path=\"url(#clip702)\" style=\"stroke:#000000; stroke-linecap:round; stroke-linejoin:round; stroke-width:4; stroke-opacity:1; fill:none\" points=\"16401.8,1423.18 16401.8,1423.18 16582.1,1423.18 16401.8,1423.18 \"/>\n",
       "<path clip-path=\"url(#clip702)\" d=\"M16582.1 1423.18 L16582.1 1423.18 L16762.5 1423.18 L16762.5 1423.18 L16582.1 1423.18 L16582.1 1423.18  Z\" fill=\"#009af9\" fill-rule=\"evenodd\" fill-opacity=\"1\"/>\n",
       "<polyline clip-path=\"url(#clip702)\" style=\"stroke:#000000; stroke-linecap:round; stroke-linejoin:round; stroke-width:4; stroke-opacity:1; fill:none\" points=\"16582.1,1423.18 16582.1,1423.18 16762.5,1423.18 16582.1,1423.18 \"/>\n",
       "<path clip-path=\"url(#clip702)\" d=\"M16762.5 1423.18 L16762.5 1423.18 L16942.8 1423.18 L16942.8 1423.18 L16762.5 1423.18 L16762.5 1423.18  Z\" fill=\"#009af9\" fill-rule=\"evenodd\" fill-opacity=\"1\"/>\n",
       "<polyline clip-path=\"url(#clip702)\" style=\"stroke:#000000; stroke-linecap:round; stroke-linejoin:round; stroke-width:4; stroke-opacity:1; fill:none\" points=\"16762.5,1423.18 16762.5,1423.18 16942.8,1423.18 16762.5,1423.18 \"/>\n",
       "<path clip-path=\"url(#clip702)\" d=\"M16942.8 1423.18 L16942.8 1423.18 L17123.1 1423.18 L17123.1 1423.18 L16942.8 1423.18 L16942.8 1423.18  Z\" fill=\"#009af9\" fill-rule=\"evenodd\" fill-opacity=\"1\"/>\n",
       "<polyline clip-path=\"url(#clip702)\" style=\"stroke:#000000; stroke-linecap:round; stroke-linejoin:round; stroke-width:4; stroke-opacity:1; fill:none\" points=\"16942.8,1423.18 16942.8,1423.18 17123.1,1423.18 16942.8,1423.18 \"/>\n",
       "<path clip-path=\"url(#clip702)\" d=\"M17123.1 1423.18 L17123.1 1423.18 L17303.5 1423.18 L17303.5 1423.18 L17123.1 1423.18 L17123.1 1423.18  Z\" fill=\"#009af9\" fill-rule=\"evenodd\" fill-opacity=\"1\"/>\n",
       "<polyline clip-path=\"url(#clip702)\" style=\"stroke:#000000; stroke-linecap:round; stroke-linejoin:round; stroke-width:4; stroke-opacity:1; fill:none\" points=\"17123.1,1423.18 17123.1,1423.18 17303.5,1423.18 17123.1,1423.18 \"/>\n",
       "<path clip-path=\"url(#clip702)\" d=\"M17303.5 1423.18 L17303.5 1423.18 L17483.8 1423.18 L17483.8 1423.18 L17303.5 1423.18 L17303.5 1423.18  Z\" fill=\"#009af9\" fill-rule=\"evenodd\" fill-opacity=\"1\"/>\n",
       "<polyline clip-path=\"url(#clip702)\" style=\"stroke:#000000; stroke-linecap:round; stroke-linejoin:round; stroke-width:4; stroke-opacity:1; fill:none\" points=\"17303.5,1423.18 17303.5,1423.18 17483.8,1423.18 17303.5,1423.18 \"/>\n",
       "<path clip-path=\"url(#clip702)\" d=\"M17483.8 1423.18 L17483.8 1423.18 L17664.2 1423.18 L17664.2 1423.18 L17483.8 1423.18 L17483.8 1423.18  Z\" fill=\"#009af9\" fill-rule=\"evenodd\" fill-opacity=\"1\"/>\n",
       "<polyline clip-path=\"url(#clip702)\" style=\"stroke:#000000; stroke-linecap:round; stroke-linejoin:round; stroke-width:4; stroke-opacity:1; fill:none\" points=\"17483.8,1423.18 17483.8,1423.18 17664.2,1423.18 17483.8,1423.18 \"/>\n",
       "<path clip-path=\"url(#clip702)\" d=\"M17664.2 1423.18 L17664.2 1423.18 L17844.5 1423.18 L17844.5 1423.18 L17664.2 1423.18 L17664.2 1423.18  Z\" fill=\"#009af9\" fill-rule=\"evenodd\" fill-opacity=\"1\"/>\n",
       "<polyline clip-path=\"url(#clip702)\" style=\"stroke:#000000; stroke-linecap:round; stroke-linejoin:round; stroke-width:4; stroke-opacity:1; fill:none\" points=\"17664.2,1423.18 17664.2,1423.18 17844.5,1423.18 17664.2,1423.18 \"/>\n",
       "<path clip-path=\"url(#clip702)\" d=\"M17844.5 1423.18 L17844.5 1423.18 L18024.9 1423.18 L18024.9 1423.18 L17844.5 1423.18 L17844.5 1423.18  Z\" fill=\"#009af9\" fill-rule=\"evenodd\" fill-opacity=\"1\"/>\n",
       "<polyline clip-path=\"url(#clip702)\" style=\"stroke:#000000; stroke-linecap:round; stroke-linejoin:round; stroke-width:4; stroke-opacity:1; fill:none\" points=\"17844.5,1423.18 17844.5,1423.18 18024.9,1423.18 17844.5,1423.18 \"/>\n",
       "<path clip-path=\"url(#clip702)\" d=\"M18024.9 1423.18 L18024.9 1423.18 L18205.2 1423.18 L18205.2 1423.18 L18024.9 1423.18 L18024.9 1423.18  Z\" fill=\"#009af9\" fill-rule=\"evenodd\" fill-opacity=\"1\"/>\n",
       "<polyline clip-path=\"url(#clip702)\" style=\"stroke:#000000; stroke-linecap:round; stroke-linejoin:round; stroke-width:4; stroke-opacity:1; fill:none\" points=\"18024.9,1423.18 18024.9,1423.18 18205.2,1423.18 18024.9,1423.18 \"/>\n",
       "<path clip-path=\"url(#clip702)\" d=\"M18205.2 1423.18 L18205.2 1423.18 L18385.6 1423.18 L18385.6 1423.18 L18205.2 1423.18 L18205.2 1423.18  Z\" fill=\"#009af9\" fill-rule=\"evenodd\" fill-opacity=\"1\"/>\n",
       "<polyline clip-path=\"url(#clip702)\" style=\"stroke:#000000; stroke-linecap:round; stroke-linejoin:round; stroke-width:4; stroke-opacity:1; fill:none\" points=\"18205.2,1423.18 18205.2,1423.18 18385.6,1423.18 18205.2,1423.18 \"/>\n",
       "<path clip-path=\"url(#clip702)\" d=\"M18385.6 1423.18 L18385.6 1423.18 L18565.9 1423.18 L18565.9 1423.18 L18385.6 1423.18 L18385.6 1423.18  Z\" fill=\"#009af9\" fill-rule=\"evenodd\" fill-opacity=\"1\"/>\n",
       "<polyline clip-path=\"url(#clip702)\" style=\"stroke:#000000; stroke-linecap:round; stroke-linejoin:round; stroke-width:4; stroke-opacity:1; fill:none\" points=\"18385.6,1423.18 18385.6,1423.18 18565.9,1423.18 18385.6,1423.18 \"/>\n",
       "<path clip-path=\"url(#clip702)\" d=\"M18565.9 1423.18 L18565.9 1423.18 L18746.3 1423.18 L18746.3 1423.18 L18565.9 1423.18 L18565.9 1423.18  Z\" fill=\"#009af9\" fill-rule=\"evenodd\" fill-opacity=\"1\"/>\n",
       "<polyline clip-path=\"url(#clip702)\" style=\"stroke:#000000; stroke-linecap:round; stroke-linejoin:round; stroke-width:4; stroke-opacity:1; fill:none\" points=\"18565.9,1423.18 18565.9,1423.18 18746.3,1423.18 18565.9,1423.18 \"/>\n",
       "<path clip-path=\"url(#clip702)\" d=\"M18746.3 1423.18 L18746.3 1423.18 L18926.6 1423.18 L18926.6 1423.18 L18746.3 1423.18 L18746.3 1423.18  Z\" fill=\"#009af9\" fill-rule=\"evenodd\" fill-opacity=\"1\"/>\n",
       "<polyline clip-path=\"url(#clip702)\" style=\"stroke:#000000; stroke-linecap:round; stroke-linejoin:round; stroke-width:4; stroke-opacity:1; fill:none\" points=\"18746.3,1423.18 18746.3,1423.18 18926.6,1423.18 18746.3,1423.18 \"/>\n",
       "<path clip-path=\"url(#clip702)\" d=\"M18926.6 1423.18 L18926.6 1423.18 L19107 1423.18 L19107 1423.18 L18926.6 1423.18 L18926.6 1423.18  Z\" fill=\"#009af9\" fill-rule=\"evenodd\" fill-opacity=\"1\"/>\n",
       "<polyline clip-path=\"url(#clip702)\" style=\"stroke:#000000; stroke-linecap:round; stroke-linejoin:round; stroke-width:4; stroke-opacity:1; fill:none\" points=\"18926.6,1423.18 18926.6,1423.18 19107,1423.18 18926.6,1423.18 \"/>\n",
       "<path clip-path=\"url(#clip702)\" d=\"M19107 1423.18 L19107 1423.18 L19287.3 1423.18 L19287.3 1423.18 L19107 1423.18 L19107 1423.18  Z\" fill=\"#009af9\" fill-rule=\"evenodd\" fill-opacity=\"1\"/>\n",
       "<polyline clip-path=\"url(#clip702)\" style=\"stroke:#000000; stroke-linecap:round; stroke-linejoin:round; stroke-width:4; stroke-opacity:1; fill:none\" points=\"19107,1423.18 19107,1423.18 19287.3,1423.18 19107,1423.18 \"/>\n",
       "<path clip-path=\"url(#clip702)\" d=\"M19287.3 1423.18 L19287.3 1423.18 L19467.7 1423.18 L19467.7 1423.18 L19287.3 1423.18 L19287.3 1423.18  Z\" fill=\"#009af9\" fill-rule=\"evenodd\" fill-opacity=\"1\"/>\n",
       "<polyline clip-path=\"url(#clip702)\" style=\"stroke:#000000; stroke-linecap:round; stroke-linejoin:round; stroke-width:4; stroke-opacity:1; fill:none\" points=\"19287.3,1423.18 19287.3,1423.18 19467.7,1423.18 19287.3,1423.18 \"/>\n",
       "<path clip-path=\"url(#clip702)\" d=\"M19467.7 1423.18 L19467.7 1423.18 L19648 1423.18 L19648 1423.18 L19467.7 1423.18 L19467.7 1423.18  Z\" fill=\"#009af9\" fill-rule=\"evenodd\" fill-opacity=\"1\"/>\n",
       "<polyline clip-path=\"url(#clip702)\" style=\"stroke:#000000; stroke-linecap:round; stroke-linejoin:round; stroke-width:4; stroke-opacity:1; fill:none\" points=\"19467.7,1423.18 19467.7,1423.18 19648,1423.18 19467.7,1423.18 \"/>\n",
       "<path clip-path=\"url(#clip702)\" d=\"M19648 1423.18 L19648 1423.18 L19828.4 1423.18 L19828.4 1423.18 L19648 1423.18 L19648 1423.18  Z\" fill=\"#009af9\" fill-rule=\"evenodd\" fill-opacity=\"1\"/>\n",
       "<polyline clip-path=\"url(#clip702)\" style=\"stroke:#000000; stroke-linecap:round; stroke-linejoin:round; stroke-width:4; stroke-opacity:1; fill:none\" points=\"19648,1423.18 19648,1423.18 19828.4,1423.18 19648,1423.18 \"/>\n",
       "<path clip-path=\"url(#clip702)\" d=\"M19828.4 1423.18 L19828.4 1423.18 L20008.7 1423.18 L20008.7 1423.18 L19828.4 1423.18 L19828.4 1423.18  Z\" fill=\"#009af9\" fill-rule=\"evenodd\" fill-opacity=\"1\"/>\n",
       "<polyline clip-path=\"url(#clip702)\" style=\"stroke:#000000; stroke-linecap:round; stroke-linejoin:round; stroke-width:4; stroke-opacity:1; fill:none\" points=\"19828.4,1423.18 19828.4,1423.18 20008.7,1423.18 19828.4,1423.18 \"/>\n",
       "<path clip-path=\"url(#clip702)\" d=\"M20008.7 1423.18 L20008.7 1423.18 L20189.1 1423.18 L20189.1 1423.18 L20008.7 1423.18 L20008.7 1423.18  Z\" fill=\"#009af9\" fill-rule=\"evenodd\" fill-opacity=\"1\"/>\n",
       "<polyline clip-path=\"url(#clip702)\" style=\"stroke:#000000; stroke-linecap:round; stroke-linejoin:round; stroke-width:4; stroke-opacity:1; fill:none\" points=\"20008.7,1423.18 20008.7,1423.18 20189.1,1423.18 20008.7,1423.18 \"/>\n",
       "<path clip-path=\"url(#clip702)\" d=\"M20189.1 1423.18 L20189.1 1423.18 L20369.4 1423.18 L20369.4 1423.18 L20189.1 1423.18 L20189.1 1423.18  Z\" fill=\"#009af9\" fill-rule=\"evenodd\" fill-opacity=\"1\"/>\n",
       "<polyline clip-path=\"url(#clip702)\" style=\"stroke:#000000; stroke-linecap:round; stroke-linejoin:round; stroke-width:4; stroke-opacity:1; fill:none\" points=\"20189.1,1423.18 20189.1,1423.18 20369.4,1423.18 20189.1,1423.18 \"/>\n",
       "<path clip-path=\"url(#clip702)\" d=\"M20369.4 1423.18 L20369.4 1423.18 L20549.8 1423.18 L20549.8 1423.18 L20369.4 1423.18 L20369.4 1423.18  Z\" fill=\"#009af9\" fill-rule=\"evenodd\" fill-opacity=\"1\"/>\n",
       "<polyline clip-path=\"url(#clip702)\" style=\"stroke:#000000; stroke-linecap:round; stroke-linejoin:round; stroke-width:4; stroke-opacity:1; fill:none\" points=\"20369.4,1423.18 20369.4,1423.18 20549.8,1423.18 20369.4,1423.18 \"/>\n",
       "<path clip-path=\"url(#clip702)\" d=\"M20549.8 1423.18 L20549.8 1423.18 L20730.1 1423.18 L20730.1 1423.18 L20549.8 1423.18 L20549.8 1423.18  Z\" fill=\"#009af9\" fill-rule=\"evenodd\" fill-opacity=\"1\"/>\n",
       "<polyline clip-path=\"url(#clip702)\" style=\"stroke:#000000; stroke-linecap:round; stroke-linejoin:round; stroke-width:4; stroke-opacity:1; fill:none\" points=\"20549.8,1423.18 20549.8,1423.18 20730.1,1423.18 20549.8,1423.18 \"/>\n",
       "<path clip-path=\"url(#clip702)\" d=\"M20730.1 1423.18 L20730.1 1423.18 L20910.5 1423.18 L20910.5 1423.18 L20730.1 1423.18 L20730.1 1423.18  Z\" fill=\"#009af9\" fill-rule=\"evenodd\" fill-opacity=\"1\"/>\n",
       "<polyline clip-path=\"url(#clip702)\" style=\"stroke:#000000; stroke-linecap:round; stroke-linejoin:round; stroke-width:4; stroke-opacity:1; fill:none\" points=\"20730.1,1423.18 20730.1,1423.18 20910.5,1423.18 20730.1,1423.18 \"/>\n",
       "<path clip-path=\"url(#clip702)\" d=\"M20910.5 1423.18 L20910.5 1423.18 L21090.8 1423.18 L21090.8 1423.18 L20910.5 1423.18 L20910.5 1423.18  Z\" fill=\"#009af9\" fill-rule=\"evenodd\" fill-opacity=\"1\"/>\n",
       "<polyline clip-path=\"url(#clip702)\" style=\"stroke:#000000; stroke-linecap:round; stroke-linejoin:round; stroke-width:4; stroke-opacity:1; fill:none\" points=\"20910.5,1423.18 20910.5,1423.18 21090.8,1423.18 20910.5,1423.18 \"/>\n",
       "<path clip-path=\"url(#clip702)\" d=\"M21090.8 1423.18 L21090.8 1423.18 L21271.2 1423.18 L21271.2 1423.18 L21090.8 1423.18 L21090.8 1423.18  Z\" fill=\"#009af9\" fill-rule=\"evenodd\" fill-opacity=\"1\"/>\n",
       "<polyline clip-path=\"url(#clip702)\" style=\"stroke:#000000; stroke-linecap:round; stroke-linejoin:round; stroke-width:4; stroke-opacity:1; fill:none\" points=\"21090.8,1423.18 21090.8,1423.18 21271.2,1423.18 21090.8,1423.18 \"/>\n",
       "<path clip-path=\"url(#clip702)\" d=\"M21271.2 1423.18 L21271.2 1423.18 L21451.5 1423.18 L21451.5 1423.18 L21271.2 1423.18 L21271.2 1423.18  Z\" fill=\"#009af9\" fill-rule=\"evenodd\" fill-opacity=\"1\"/>\n",
       "<polyline clip-path=\"url(#clip702)\" style=\"stroke:#000000; stroke-linecap:round; stroke-linejoin:round; stroke-width:4; stroke-opacity:1; fill:none\" points=\"21271.2,1423.18 21271.2,1423.18 21451.5,1423.18 21271.2,1423.18 \"/>\n",
       "<path clip-path=\"url(#clip702)\" d=\"M21451.5 1423.18 L21451.5 1423.18 L21631.9 1423.18 L21631.9 1423.18 L21451.5 1423.18 L21451.5 1423.18  Z\" fill=\"#009af9\" fill-rule=\"evenodd\" fill-opacity=\"1\"/>\n",
       "<polyline clip-path=\"url(#clip702)\" style=\"stroke:#000000; stroke-linecap:round; stroke-linejoin:round; stroke-width:4; stroke-opacity:1; fill:none\" points=\"21451.5,1423.18 21451.5,1423.18 21631.9,1423.18 21451.5,1423.18 \"/>\n",
       "<path clip-path=\"url(#clip702)\" d=\"M21631.9 1423.18 L21631.9 1423.18 L21812.2 1423.18 L21812.2 1423.18 L21631.9 1423.18 L21631.9 1423.18  Z\" fill=\"#009af9\" fill-rule=\"evenodd\" fill-opacity=\"1\"/>\n",
       "<polyline clip-path=\"url(#clip702)\" style=\"stroke:#000000; stroke-linecap:round; stroke-linejoin:round; stroke-width:4; stroke-opacity:1; fill:none\" points=\"21631.9,1423.18 21631.9,1423.18 21812.2,1423.18 21631.9,1423.18 \"/>\n",
       "<path clip-path=\"url(#clip702)\" d=\"M21812.2 1423.18 L21812.2 1423.18 L21992.6 1423.18 L21992.6 1423.18 L21812.2 1423.18 L21812.2 1423.18  Z\" fill=\"#009af9\" fill-rule=\"evenodd\" fill-opacity=\"1\"/>\n",
       "<polyline clip-path=\"url(#clip702)\" style=\"stroke:#000000; stroke-linecap:round; stroke-linejoin:round; stroke-width:4; stroke-opacity:1; fill:none\" points=\"21812.2,1423.18 21812.2,1423.18 21992.6,1423.18 21812.2,1423.18 \"/>\n",
       "<path clip-path=\"url(#clip702)\" d=\"M21992.6 1423.18 L21992.6 1423.18 L22172.9 1423.18 L22172.9 1423.18 L21992.6 1423.18 L21992.6 1423.18  Z\" fill=\"#009af9\" fill-rule=\"evenodd\" fill-opacity=\"1\"/>\n",
       "<polyline clip-path=\"url(#clip702)\" style=\"stroke:#000000; stroke-linecap:round; stroke-linejoin:round; stroke-width:4; stroke-opacity:1; fill:none\" points=\"21992.6,1423.18 21992.6,1423.18 22172.9,1423.18 21992.6,1423.18 \"/>\n",
       "<path clip-path=\"url(#clip702)\" d=\"M22172.9 1423.18 L22172.9 1423.18 L22353.3 1423.18 L22353.3 1423.18 L22172.9 1423.18 L22172.9 1423.18  Z\" fill=\"#009af9\" fill-rule=\"evenodd\" fill-opacity=\"1\"/>\n",
       "<polyline clip-path=\"url(#clip702)\" style=\"stroke:#000000; stroke-linecap:round; stroke-linejoin:round; stroke-width:4; stroke-opacity:1; fill:none\" points=\"22172.9,1423.18 22172.9,1423.18 22353.3,1423.18 22172.9,1423.18 \"/>\n",
       "<path clip-path=\"url(#clip702)\" d=\"M22353.3 1423.18 L22353.3 1423.18 L22533.6 1423.18 L22533.6 1423.18 L22353.3 1423.18 L22353.3 1423.18  Z\" fill=\"#009af9\" fill-rule=\"evenodd\" fill-opacity=\"1\"/>\n",
       "<polyline clip-path=\"url(#clip702)\" style=\"stroke:#000000; stroke-linecap:round; stroke-linejoin:round; stroke-width:4; stroke-opacity:1; fill:none\" points=\"22353.3,1423.18 22353.3,1423.18 22533.6,1423.18 22353.3,1423.18 \"/>\n",
       "<path clip-path=\"url(#clip702)\" d=\"M22533.6 1423.18 L22533.6 1423.18 L22714 1423.18 L22714 1423.18 L22533.6 1423.18 L22533.6 1423.18  Z\" fill=\"#009af9\" fill-rule=\"evenodd\" fill-opacity=\"1\"/>\n",
       "<polyline clip-path=\"url(#clip702)\" style=\"stroke:#000000; stroke-linecap:round; stroke-linejoin:round; stroke-width:4; stroke-opacity:1; fill:none\" points=\"22533.6,1423.18 22533.6,1423.18 22714,1423.18 22533.6,1423.18 \"/>\n",
       "<path clip-path=\"url(#clip702)\" d=\"M22714 1423.18 L22714 1423.18 L22894.3 1423.18 L22894.3 1423.18 L22714 1423.18 L22714 1423.18  Z\" fill=\"#009af9\" fill-rule=\"evenodd\" fill-opacity=\"1\"/>\n",
       "<polyline clip-path=\"url(#clip702)\" style=\"stroke:#000000; stroke-linecap:round; stroke-linejoin:round; stroke-width:4; stroke-opacity:1; fill:none\" points=\"22714,1423.18 22714,1423.18 22894.3,1423.18 22714,1423.18 \"/>\n",
       "<path clip-path=\"url(#clip702)\" d=\"M22894.3 1423.18 L22894.3 1423.18 L23074.7 1423.18 L23074.7 1423.18 L22894.3 1423.18 L22894.3 1423.18  Z\" fill=\"#009af9\" fill-rule=\"evenodd\" fill-opacity=\"1\"/>\n",
       "<polyline clip-path=\"url(#clip702)\" style=\"stroke:#000000; stroke-linecap:round; stroke-linejoin:round; stroke-width:4; stroke-opacity:1; fill:none\" points=\"22894.3,1423.18 22894.3,1423.18 23074.7,1423.18 22894.3,1423.18 \"/>\n",
       "<path clip-path=\"url(#clip702)\" d=\"M23074.7 1423.18 L23074.7 1423.18 L23255 1423.18 L23255 1423.18 L23074.7 1423.18 L23074.7 1423.18  Z\" fill=\"#009af9\" fill-rule=\"evenodd\" fill-opacity=\"1\"/>\n",
       "<polyline clip-path=\"url(#clip702)\" style=\"stroke:#000000; stroke-linecap:round; stroke-linejoin:round; stroke-width:4; stroke-opacity:1; fill:none\" points=\"23074.7,1423.18 23074.7,1423.18 23255,1423.18 23074.7,1423.18 \"/>\n",
       "<path clip-path=\"url(#clip702)\" d=\"M23255 1423.18 L23255 1423.18 L23435.4 1423.18 L23435.4 1423.18 L23255 1423.18 L23255 1423.18  Z\" fill=\"#009af9\" fill-rule=\"evenodd\" fill-opacity=\"1\"/>\n",
       "<polyline clip-path=\"url(#clip702)\" style=\"stroke:#000000; stroke-linecap:round; stroke-linejoin:round; stroke-width:4; stroke-opacity:1; fill:none\" points=\"23255,1423.18 23255,1423.18 23435.4,1423.18 23255,1423.18 \"/>\n",
       "<path clip-path=\"url(#clip702)\" d=\"M23435.4 1423.18 L23435.4 1423.18 L23615.7 1423.18 L23615.7 1423.18 L23435.4 1423.18 L23435.4 1423.18  Z\" fill=\"#009af9\" fill-rule=\"evenodd\" fill-opacity=\"1\"/>\n",
       "<polyline clip-path=\"url(#clip702)\" style=\"stroke:#000000; stroke-linecap:round; stroke-linejoin:round; stroke-width:4; stroke-opacity:1; fill:none\" points=\"23435.4,1423.18 23435.4,1423.18 23615.7,1423.18 23435.4,1423.18 \"/>\n",
       "<path clip-path=\"url(#clip702)\" d=\"M23615.7 1423.18 L23615.7 1423.18 L23796.1 1423.18 L23796.1 1423.18 L23615.7 1423.18 L23615.7 1423.18  Z\" fill=\"#009af9\" fill-rule=\"evenodd\" fill-opacity=\"1\"/>\n",
       "<polyline clip-path=\"url(#clip702)\" style=\"stroke:#000000; stroke-linecap:round; stroke-linejoin:round; stroke-width:4; stroke-opacity:1; fill:none\" points=\"23615.7,1423.18 23615.7,1423.18 23796.1,1423.18 23615.7,1423.18 \"/>\n",
       "<path clip-path=\"url(#clip702)\" d=\"M23796.1 1423.18 L23796.1 1423.18 L23976.4 1423.18 L23976.4 1423.18 L23796.1 1423.18 L23796.1 1423.18  Z\" fill=\"#009af9\" fill-rule=\"evenodd\" fill-opacity=\"1\"/>\n",
       "<polyline clip-path=\"url(#clip702)\" style=\"stroke:#000000; stroke-linecap:round; stroke-linejoin:round; stroke-width:4; stroke-opacity:1; fill:none\" points=\"23796.1,1423.18 23796.1,1423.18 23976.4,1423.18 23796.1,1423.18 \"/>\n",
       "<path clip-path=\"url(#clip702)\" d=\"M23976.4 1423.18 L23976.4 1423.18 L24156.8 1423.18 L24156.8 1423.18 L23976.4 1423.18 L23976.4 1423.18  Z\" fill=\"#009af9\" fill-rule=\"evenodd\" fill-opacity=\"1\"/>\n",
       "<polyline clip-path=\"url(#clip702)\" style=\"stroke:#000000; stroke-linecap:round; stroke-linejoin:round; stroke-width:4; stroke-opacity:1; fill:none\" points=\"23976.4,1423.18 23976.4,1423.18 24156.8,1423.18 23976.4,1423.18 \"/>\n",
       "<path clip-path=\"url(#clip702)\" d=\"M24156.8 1423.18 L24156.8 1423.18 L24337.1 1423.18 L24337.1 1423.18 L24156.8 1423.18 L24156.8 1423.18  Z\" fill=\"#009af9\" fill-rule=\"evenodd\" fill-opacity=\"1\"/>\n",
       "<polyline clip-path=\"url(#clip702)\" style=\"stroke:#000000; stroke-linecap:round; stroke-linejoin:round; stroke-width:4; stroke-opacity:1; fill:none\" points=\"24156.8,1423.18 24156.8,1423.18 24337.1,1423.18 24156.8,1423.18 \"/>\n",
       "<path clip-path=\"url(#clip702)\" d=\"M24337.1 1423.18 L24337.1 1423.18 L24517.5 1423.18 L24517.5 1423.18 L24337.1 1423.18 L24337.1 1423.18  Z\" fill=\"#009af9\" fill-rule=\"evenodd\" fill-opacity=\"1\"/>\n",
       "<polyline clip-path=\"url(#clip702)\" style=\"stroke:#000000; stroke-linecap:round; stroke-linejoin:round; stroke-width:4; stroke-opacity:1; fill:none\" points=\"24337.1,1423.18 24337.1,1423.18 24517.5,1423.18 24337.1,1423.18 \"/>\n",
       "<path clip-path=\"url(#clip702)\" d=\"M24517.5 1423.18 L24517.5 1423.18 L24697.8 1423.18 L24697.8 1423.18 L24517.5 1423.18 L24517.5 1423.18  Z\" fill=\"#009af9\" fill-rule=\"evenodd\" fill-opacity=\"1\"/>\n",
       "<polyline clip-path=\"url(#clip702)\" style=\"stroke:#000000; stroke-linecap:round; stroke-linejoin:round; stroke-width:4; stroke-opacity:1; fill:none\" points=\"24517.5,1423.18 24517.5,1423.18 24697.8,1423.18 24517.5,1423.18 \"/>\n",
       "<path clip-path=\"url(#clip702)\" d=\"M24697.8 1423.18 L24697.8 1423.18 L24878.2 1423.18 L24878.2 1423.18 L24697.8 1423.18 L24697.8 1423.18  Z\" fill=\"#009af9\" fill-rule=\"evenodd\" fill-opacity=\"1\"/>\n",
       "<polyline clip-path=\"url(#clip702)\" style=\"stroke:#000000; stroke-linecap:round; stroke-linejoin:round; stroke-width:4; stroke-opacity:1; fill:none\" points=\"24697.8,1423.18 24697.8,1423.18 24878.2,1423.18 24697.8,1423.18 \"/>\n",
       "<path clip-path=\"url(#clip702)\" d=\"M24878.2 1423.18 L24878.2 1423.18 L25058.5 1423.18 L25058.5 1423.18 L24878.2 1423.18 L24878.2 1423.18  Z\" fill=\"#009af9\" fill-rule=\"evenodd\" fill-opacity=\"1\"/>\n",
       "<polyline clip-path=\"url(#clip702)\" style=\"stroke:#000000; stroke-linecap:round; stroke-linejoin:round; stroke-width:4; stroke-opacity:1; fill:none\" points=\"24878.2,1423.18 24878.2,1423.18 25058.5,1423.18 24878.2,1423.18 \"/>\n",
       "<path clip-path=\"url(#clip702)\" d=\"M25058.5 1423.18 L25058.5 1423.18 L25238.9 1423.18 L25238.9 1423.18 L25058.5 1423.18 L25058.5 1423.18  Z\" fill=\"#009af9\" fill-rule=\"evenodd\" fill-opacity=\"1\"/>\n",
       "<polyline clip-path=\"url(#clip702)\" style=\"stroke:#000000; stroke-linecap:round; stroke-linejoin:round; stroke-width:4; stroke-opacity:1; fill:none\" points=\"25058.5,1423.18 25058.5,1423.18 25238.9,1423.18 25058.5,1423.18 \"/>\n",
       "<path clip-path=\"url(#clip702)\" d=\"M25238.9 1423.18 L25238.9 1423.18 L25419.2 1423.18 L25419.2 1423.18 L25238.9 1423.18 L25238.9 1423.18  Z\" fill=\"#009af9\" fill-rule=\"evenodd\" fill-opacity=\"1\"/>\n",
       "<polyline clip-path=\"url(#clip702)\" style=\"stroke:#000000; stroke-linecap:round; stroke-linejoin:round; stroke-width:4; stroke-opacity:1; fill:none\" points=\"25238.9,1423.18 25238.9,1423.18 25419.2,1423.18 25238.9,1423.18 \"/>\n",
       "<path clip-path=\"url(#clip702)\" d=\"M25419.2 1423.18 L25419.2 1423.18 L25599.6 1423.18 L25599.6 1423.18 L25419.2 1423.18 L25419.2 1423.18  Z\" fill=\"#009af9\" fill-rule=\"evenodd\" fill-opacity=\"1\"/>\n",
       "<polyline clip-path=\"url(#clip702)\" style=\"stroke:#000000; stroke-linecap:round; stroke-linejoin:round; stroke-width:4; stroke-opacity:1; fill:none\" points=\"25419.2,1423.18 25419.2,1423.18 25599.6,1423.18 25419.2,1423.18 \"/>\n",
       "<path clip-path=\"url(#clip702)\" d=\"M25599.6 1423.18 L25599.6 1423.18 L25779.9 1423.18 L25779.9 1423.18 L25599.6 1423.18 L25599.6 1423.18  Z\" fill=\"#009af9\" fill-rule=\"evenodd\" fill-opacity=\"1\"/>\n",
       "<polyline clip-path=\"url(#clip702)\" style=\"stroke:#000000; stroke-linecap:round; stroke-linejoin:round; stroke-width:4; stroke-opacity:1; fill:none\" points=\"25599.6,1423.18 25599.6,1423.18 25779.9,1423.18 25599.6,1423.18 \"/>\n",
       "<path clip-path=\"url(#clip702)\" d=\"M25779.9 1423.18 L25779.9 1423.18 L25960.2 1423.18 L25960.2 1423.18 L25779.9 1423.18 L25779.9 1423.18  Z\" fill=\"#009af9\" fill-rule=\"evenodd\" fill-opacity=\"1\"/>\n",
       "<polyline clip-path=\"url(#clip702)\" style=\"stroke:#000000; stroke-linecap:round; stroke-linejoin:round; stroke-width:4; stroke-opacity:1; fill:none\" points=\"25779.9,1423.18 25779.9,1423.18 25960.2,1423.18 25779.9,1423.18 \"/>\n",
       "<path clip-path=\"url(#clip702)\" d=\"M25960.2 1423.18 L25960.2 1423.18 L26140.6 1423.18 L26140.6 1423.18 L25960.2 1423.18 L25960.2 1423.18  Z\" fill=\"#009af9\" fill-rule=\"evenodd\" fill-opacity=\"1\"/>\n",
       "<polyline clip-path=\"url(#clip702)\" style=\"stroke:#000000; stroke-linecap:round; stroke-linejoin:round; stroke-width:4; stroke-opacity:1; fill:none\" points=\"25960.2,1423.18 25960.2,1423.18 26140.6,1423.18 25960.2,1423.18 \"/>\n",
       "<path clip-path=\"url(#clip702)\" d=\"M26140.6 1423.18 L26140.6 1423.18 L26320.9 1423.18 L26320.9 1423.18 L26140.6 1423.18 L26140.6 1423.18  Z\" fill=\"#009af9\" fill-rule=\"evenodd\" fill-opacity=\"1\"/>\n",
       "<polyline clip-path=\"url(#clip702)\" style=\"stroke:#000000; stroke-linecap:round; stroke-linejoin:round; stroke-width:4; stroke-opacity:1; fill:none\" points=\"26140.6,1423.18 26140.6,1423.18 26320.9,1423.18 26140.6,1423.18 \"/>\n",
       "<path clip-path=\"url(#clip702)\" d=\"M26320.9 1423.18 L26320.9 1423.18 L26501.3 1423.18 L26501.3 1423.18 L26320.9 1423.18 L26320.9 1423.18  Z\" fill=\"#009af9\" fill-rule=\"evenodd\" fill-opacity=\"1\"/>\n",
       "<polyline clip-path=\"url(#clip702)\" style=\"stroke:#000000; stroke-linecap:round; stroke-linejoin:round; stroke-width:4; stroke-opacity:1; fill:none\" points=\"26320.9,1423.18 26320.9,1423.18 26501.3,1423.18 26320.9,1423.18 \"/>\n",
       "<path clip-path=\"url(#clip702)\" d=\"M26501.3 1423.18 L26501.3 1423.18 L26681.6 1423.18 L26681.6 1423.18 L26501.3 1423.18 L26501.3 1423.18  Z\" fill=\"#009af9\" fill-rule=\"evenodd\" fill-opacity=\"1\"/>\n",
       "<polyline clip-path=\"url(#clip702)\" style=\"stroke:#000000; stroke-linecap:round; stroke-linejoin:round; stroke-width:4; stroke-opacity:1; fill:none\" points=\"26501.3,1423.18 26501.3,1423.18 26681.6,1423.18 26501.3,1423.18 \"/>\n",
       "<path clip-path=\"url(#clip702)\" d=\"M26681.6 1423.18 L26681.6 1423.18 L26862 1423.18 L26862 1423.18 L26681.6 1423.18 L26681.6 1423.18  Z\" fill=\"#009af9\" fill-rule=\"evenodd\" fill-opacity=\"1\"/>\n",
       "<polyline clip-path=\"url(#clip702)\" style=\"stroke:#000000; stroke-linecap:round; stroke-linejoin:round; stroke-width:4; stroke-opacity:1; fill:none\" points=\"26681.6,1423.18 26681.6,1423.18 26862,1423.18 26681.6,1423.18 \"/>\n",
       "<path clip-path=\"url(#clip702)\" d=\"M26862 1423.18 L26862 1423.18 L27042.3 1423.18 L27042.3 1423.18 L26862 1423.18 L26862 1423.18  Z\" fill=\"#009af9\" fill-rule=\"evenodd\" fill-opacity=\"1\"/>\n",
       "<polyline clip-path=\"url(#clip702)\" style=\"stroke:#000000; stroke-linecap:round; stroke-linejoin:round; stroke-width:4; stroke-opacity:1; fill:none\" points=\"26862,1423.18 26862,1423.18 27042.3,1423.18 26862,1423.18 \"/>\n",
       "<path clip-path=\"url(#clip702)\" d=\"M27042.3 1423.18 L27042.3 1423.18 L27222.7 1423.18 L27222.7 1423.18 L27042.3 1423.18 L27042.3 1423.18  Z\" fill=\"#009af9\" fill-rule=\"evenodd\" fill-opacity=\"1\"/>\n",
       "<polyline clip-path=\"url(#clip702)\" style=\"stroke:#000000; stroke-linecap:round; stroke-linejoin:round; stroke-width:4; stroke-opacity:1; fill:none\" points=\"27042.3,1423.18 27042.3,1423.18 27222.7,1423.18 27042.3,1423.18 \"/>\n",
       "<path clip-path=\"url(#clip702)\" d=\"M27222.7 1423.18 L27222.7 1423.18 L27403 1423.18 L27403 1423.18 L27222.7 1423.18 L27222.7 1423.18  Z\" fill=\"#009af9\" fill-rule=\"evenodd\" fill-opacity=\"1\"/>\n",
       "<polyline clip-path=\"url(#clip702)\" style=\"stroke:#000000; stroke-linecap:round; stroke-linejoin:round; stroke-width:4; stroke-opacity:1; fill:none\" points=\"27222.7,1423.18 27222.7,1423.18 27403,1423.18 27222.7,1423.18 \"/>\n",
       "<path clip-path=\"url(#clip702)\" d=\"M27403 1423.18 L27403 1423.18 L27583.4 1423.18 L27583.4 1423.18 L27403 1423.18 L27403 1423.18  Z\" fill=\"#009af9\" fill-rule=\"evenodd\" fill-opacity=\"1\"/>\n",
       "<polyline clip-path=\"url(#clip702)\" style=\"stroke:#000000; stroke-linecap:round; stroke-linejoin:round; stroke-width:4; stroke-opacity:1; fill:none\" points=\"27403,1423.18 27403,1423.18 27583.4,1423.18 27403,1423.18 \"/>\n",
       "<path clip-path=\"url(#clip702)\" d=\"M27583.4 1423.18 L27583.4 1423.18 L27763.7 1423.18 L27763.7 1423.18 L27583.4 1423.18 L27583.4 1423.18  Z\" fill=\"#009af9\" fill-rule=\"evenodd\" fill-opacity=\"1\"/>\n",
       "<polyline clip-path=\"url(#clip702)\" style=\"stroke:#000000; stroke-linecap:round; stroke-linejoin:round; stroke-width:4; stroke-opacity:1; fill:none\" points=\"27583.4,1423.18 27583.4,1423.18 27763.7,1423.18 27583.4,1423.18 \"/>\n",
       "<path clip-path=\"url(#clip702)\" d=\"M27763.7 1423.18 L27763.7 1423.18 L27944.1 1423.18 L27944.1 1423.18 L27763.7 1423.18 L27763.7 1423.18  Z\" fill=\"#009af9\" fill-rule=\"evenodd\" fill-opacity=\"1\"/>\n",
       "<polyline clip-path=\"url(#clip702)\" style=\"stroke:#000000; stroke-linecap:round; stroke-linejoin:round; stroke-width:4; stroke-opacity:1; fill:none\" points=\"27763.7,1423.18 27763.7,1423.18 27944.1,1423.18 27763.7,1423.18 \"/>\n",
       "<path clip-path=\"url(#clip702)\" d=\"M27944.1 1423.18 L27944.1 1423.18 L28124.4 1423.18 L28124.4 1423.18 L27944.1 1423.18 L27944.1 1423.18  Z\" fill=\"#009af9\" fill-rule=\"evenodd\" fill-opacity=\"1\"/>\n",
       "<polyline clip-path=\"url(#clip702)\" style=\"stroke:#000000; stroke-linecap:round; stroke-linejoin:round; stroke-width:4; stroke-opacity:1; fill:none\" points=\"27944.1,1423.18 27944.1,1423.18 28124.4,1423.18 27944.1,1423.18 \"/>\n",
       "<path clip-path=\"url(#clip702)\" d=\"M28124.4 1423.18 L28124.4 1423.18 L28304.8 1423.18 L28304.8 1423.18 L28124.4 1423.18 L28124.4 1423.18  Z\" fill=\"#009af9\" fill-rule=\"evenodd\" fill-opacity=\"1\"/>\n",
       "<polyline clip-path=\"url(#clip702)\" style=\"stroke:#000000; stroke-linecap:round; stroke-linejoin:round; stroke-width:4; stroke-opacity:1; fill:none\" points=\"28124.4,1423.18 28124.4,1423.18 28304.8,1423.18 28124.4,1423.18 \"/>\n",
       "<path clip-path=\"url(#clip702)\" d=\"M28304.8 1423.18 L28304.8 1423.18 L28485.1 1423.18 L28485.1 1423.18 L28304.8 1423.18 L28304.8 1423.18  Z\" fill=\"#009af9\" fill-rule=\"evenodd\" fill-opacity=\"1\"/>\n",
       "<polyline clip-path=\"url(#clip702)\" style=\"stroke:#000000; stroke-linecap:round; stroke-linejoin:round; stroke-width:4; stroke-opacity:1; fill:none\" points=\"28304.8,1423.18 28304.8,1423.18 28485.1,1423.18 28304.8,1423.18 \"/>\n",
       "<path clip-path=\"url(#clip702)\" d=\"M28485.1 1423.18 L28485.1 1423.18 L28665.5 1423.18 L28665.5 1423.18 L28485.1 1423.18 L28485.1 1423.18  Z\" fill=\"#009af9\" fill-rule=\"evenodd\" fill-opacity=\"1\"/>\n",
       "<polyline clip-path=\"url(#clip702)\" style=\"stroke:#000000; stroke-linecap:round; stroke-linejoin:round; stroke-width:4; stroke-opacity:1; fill:none\" points=\"28485.1,1423.18 28485.1,1423.18 28665.5,1423.18 28485.1,1423.18 \"/>\n",
       "<path clip-path=\"url(#clip702)\" d=\"M28665.5 1423.18 L28665.5 1423.18 L28845.8 1423.18 L28845.8 1423.18 L28665.5 1423.18 L28665.5 1423.18  Z\" fill=\"#009af9\" fill-rule=\"evenodd\" fill-opacity=\"1\"/>\n",
       "<polyline clip-path=\"url(#clip702)\" style=\"stroke:#000000; stroke-linecap:round; stroke-linejoin:round; stroke-width:4; stroke-opacity:1; fill:none\" points=\"28665.5,1423.18 28665.5,1423.18 28845.8,1423.18 28665.5,1423.18 \"/>\n",
       "<path clip-path=\"url(#clip702)\" d=\"M28845.8 1423.18 L28845.8 1423.18 L29026.2 1423.18 L29026.2 1423.18 L28845.8 1423.18 L28845.8 1423.18  Z\" fill=\"#009af9\" fill-rule=\"evenodd\" fill-opacity=\"1\"/>\n",
       "<polyline clip-path=\"url(#clip702)\" style=\"stroke:#000000; stroke-linecap:round; stroke-linejoin:round; stroke-width:4; stroke-opacity:1; fill:none\" points=\"28845.8,1423.18 28845.8,1423.18 29026.2,1423.18 28845.8,1423.18 \"/>\n",
       "<path clip-path=\"url(#clip702)\" d=\"M29026.2 1423.18 L29026.2 1423.18 L29206.5 1423.18 L29206.5 1423.18 L29026.2 1423.18 L29026.2 1423.18  Z\" fill=\"#009af9\" fill-rule=\"evenodd\" fill-opacity=\"1\"/>\n",
       "<polyline clip-path=\"url(#clip702)\" style=\"stroke:#000000; stroke-linecap:round; stroke-linejoin:round; stroke-width:4; stroke-opacity:1; fill:none\" points=\"29026.2,1423.18 29026.2,1423.18 29206.5,1423.18 29026.2,1423.18 \"/>\n",
       "<path clip-path=\"url(#clip702)\" d=\"M29206.5 1423.18 L29206.5 1423.18 L29386.9 1423.18 L29386.9 1423.18 L29206.5 1423.18 L29206.5 1423.18  Z\" fill=\"#009af9\" fill-rule=\"evenodd\" fill-opacity=\"1\"/>\n",
       "<polyline clip-path=\"url(#clip702)\" style=\"stroke:#000000; stroke-linecap:round; stroke-linejoin:round; stroke-width:4; stroke-opacity:1; fill:none\" points=\"29206.5,1423.18 29206.5,1423.18 29386.9,1423.18 29206.5,1423.18 \"/>\n",
       "<path clip-path=\"url(#clip702)\" d=\"M29386.9 1423.18 L29386.9 1423.18 L29567.2 1423.18 L29567.2 1423.18 L29386.9 1423.18 L29386.9 1423.18  Z\" fill=\"#009af9\" fill-rule=\"evenodd\" fill-opacity=\"1\"/>\n",
       "<polyline clip-path=\"url(#clip702)\" style=\"stroke:#000000; stroke-linecap:round; stroke-linejoin:round; stroke-width:4; stroke-opacity:1; fill:none\" points=\"29386.9,1423.18 29386.9,1423.18 29567.2,1423.18 29386.9,1423.18 \"/>\n",
       "<path clip-path=\"url(#clip702)\" d=\"M29567.2 1423.18 L29567.2 1423.18 L29747.6 1423.18 L29747.6 1423.18 L29567.2 1423.18 L29567.2 1423.18  Z\" fill=\"#009af9\" fill-rule=\"evenodd\" fill-opacity=\"1\"/>\n",
       "<polyline clip-path=\"url(#clip702)\" style=\"stroke:#000000; stroke-linecap:round; stroke-linejoin:round; stroke-width:4; stroke-opacity:1; fill:none\" points=\"29567.2,1423.18 29567.2,1423.18 29747.6,1423.18 29567.2,1423.18 \"/>\n",
       "<path clip-path=\"url(#clip702)\" d=\"M29747.6 1423.18 L29747.6 1423.18 L29927.9 1423.18 L29927.9 1423.18 L29747.6 1423.18 L29747.6 1423.18  Z\" fill=\"#009af9\" fill-rule=\"evenodd\" fill-opacity=\"1\"/>\n",
       "<polyline clip-path=\"url(#clip702)\" style=\"stroke:#000000; stroke-linecap:round; stroke-linejoin:round; stroke-width:4; stroke-opacity:1; fill:none\" points=\"29747.6,1423.18 29747.6,1423.18 29927.9,1423.18 29747.6,1423.18 \"/>\n",
       "<path clip-path=\"url(#clip702)\" d=\"M29927.9 1423.18 L29927.9 1423.18 L30108.3 1423.18 L30108.3 1423.18 L29927.9 1423.18 L29927.9 1423.18  Z\" fill=\"#009af9\" fill-rule=\"evenodd\" fill-opacity=\"1\"/>\n",
       "<polyline clip-path=\"url(#clip702)\" style=\"stroke:#000000; stroke-linecap:round; stroke-linejoin:round; stroke-width:4; stroke-opacity:1; fill:none\" points=\"29927.9,1423.18 29927.9,1423.18 30108.3,1423.18 29927.9,1423.18 \"/>\n",
       "<path clip-path=\"url(#clip702)\" d=\"M30108.3 1423.18 L30108.3 1423.18 L30288.6 1423.18 L30288.6 1423.18 L30108.3 1423.18 L30108.3 1423.18  Z\" fill=\"#009af9\" fill-rule=\"evenodd\" fill-opacity=\"1\"/>\n",
       "<polyline clip-path=\"url(#clip702)\" style=\"stroke:#000000; stroke-linecap:round; stroke-linejoin:round; stroke-width:4; stroke-opacity:1; fill:none\" points=\"30108.3,1423.18 30108.3,1423.18 30288.6,1423.18 30108.3,1423.18 \"/>\n",
       "<path clip-path=\"url(#clip702)\" d=\"M30288.6 1423.18 L30288.6 1423.18 L30469 1423.18 L30469 1423.18 L30288.6 1423.18 L30288.6 1423.18  Z\" fill=\"#009af9\" fill-rule=\"evenodd\" fill-opacity=\"1\"/>\n",
       "<polyline clip-path=\"url(#clip702)\" style=\"stroke:#000000; stroke-linecap:round; stroke-linejoin:round; stroke-width:4; stroke-opacity:1; fill:none\" points=\"30288.6,1423.18 30288.6,1423.18 30469,1423.18 30288.6,1423.18 \"/>\n",
       "<path clip-path=\"url(#clip702)\" d=\"M30469 1423.18 L30469 1423.18 L30649.3 1423.18 L30649.3 1423.18 L30469 1423.18 L30469 1423.18  Z\" fill=\"#009af9\" fill-rule=\"evenodd\" fill-opacity=\"1\"/>\n",
       "<polyline clip-path=\"url(#clip702)\" style=\"stroke:#000000; stroke-linecap:round; stroke-linejoin:round; stroke-width:4; stroke-opacity:1; fill:none\" points=\"30469,1423.18 30469,1423.18 30649.3,1423.18 30469,1423.18 \"/>\n",
       "<path clip-path=\"url(#clip702)\" d=\"M30649.3 1423.18 L30649.3 1423.18 L30829.7 1423.18 L30829.7 1423.18 L30649.3 1423.18 L30649.3 1423.18  Z\" fill=\"#009af9\" fill-rule=\"evenodd\" fill-opacity=\"1\"/>\n",
       "<polyline clip-path=\"url(#clip702)\" style=\"stroke:#000000; stroke-linecap:round; stroke-linejoin:round; stroke-width:4; stroke-opacity:1; fill:none\" points=\"30649.3,1423.18 30649.3,1423.18 30829.7,1423.18 30649.3,1423.18 \"/>\n",
       "<path clip-path=\"url(#clip702)\" d=\"M30829.7 1423.18 L30829.7 1423.18 L31010 1423.18 L31010 1423.18 L30829.7 1423.18 L30829.7 1423.18  Z\" fill=\"#009af9\" fill-rule=\"evenodd\" fill-opacity=\"1\"/>\n",
       "<polyline clip-path=\"url(#clip702)\" style=\"stroke:#000000; stroke-linecap:round; stroke-linejoin:round; stroke-width:4; stroke-opacity:1; fill:none\" points=\"30829.7,1423.18 30829.7,1423.18 31010,1423.18 30829.7,1423.18 \"/>\n",
       "<path clip-path=\"url(#clip702)\" d=\"M31010 1423.18 L31010 1423.18 L31190.4 1423.18 L31190.4 1423.18 L31010 1423.18 L31010 1423.18  Z\" fill=\"#009af9\" fill-rule=\"evenodd\" fill-opacity=\"1\"/>\n",
       "<polyline clip-path=\"url(#clip702)\" style=\"stroke:#000000; stroke-linecap:round; stroke-linejoin:round; stroke-width:4; stroke-opacity:1; fill:none\" points=\"31010,1423.18 31010,1423.18 31190.4,1423.18 31010,1423.18 \"/>\n",
       "<path clip-path=\"url(#clip702)\" d=\"M31190.4 1423.18 L31190.4 1423.18 L31370.7 1423.18 L31370.7 1423.18 L31190.4 1423.18 L31190.4 1423.18  Z\" fill=\"#009af9\" fill-rule=\"evenodd\" fill-opacity=\"1\"/>\n",
       "<polyline clip-path=\"url(#clip702)\" style=\"stroke:#000000; stroke-linecap:round; stroke-linejoin:round; stroke-width:4; stroke-opacity:1; fill:none\" points=\"31190.4,1423.18 31190.4,1423.18 31370.7,1423.18 31190.4,1423.18 \"/>\n",
       "<path clip-path=\"url(#clip702)\" d=\"M31370.7 1423.18 L31370.7 1423.18 L31551.1 1423.18 L31551.1 1423.18 L31370.7 1423.18 L31370.7 1423.18  Z\" fill=\"#009af9\" fill-rule=\"evenodd\" fill-opacity=\"1\"/>\n",
       "<polyline clip-path=\"url(#clip702)\" style=\"stroke:#000000; stroke-linecap:round; stroke-linejoin:round; stroke-width:4; stroke-opacity:1; fill:none\" points=\"31370.7,1423.18 31370.7,1423.18 31551.1,1423.18 31370.7,1423.18 \"/>\n",
       "<path clip-path=\"url(#clip702)\" d=\"M31551.1 1423.18 L31551.1 1423.18 L31731.4 1423.18 L31731.4 1423.18 L31551.1 1423.18 L31551.1 1423.18  Z\" fill=\"#009af9\" fill-rule=\"evenodd\" fill-opacity=\"1\"/>\n",
       "<polyline clip-path=\"url(#clip702)\" style=\"stroke:#000000; stroke-linecap:round; stroke-linejoin:round; stroke-width:4; stroke-opacity:1; fill:none\" points=\"31551.1,1423.18 31551.1,1423.18 31731.4,1423.18 31551.1,1423.18 \"/>\n",
       "<path clip-path=\"url(#clip702)\" d=\"M31731.4 1423.18 L31731.4 1423.18 L31911.8 1423.18 L31911.8 1423.18 L31731.4 1423.18 L31731.4 1423.18  Z\" fill=\"#009af9\" fill-rule=\"evenodd\" fill-opacity=\"1\"/>\n",
       "<polyline clip-path=\"url(#clip702)\" style=\"stroke:#000000; stroke-linecap:round; stroke-linejoin:round; stroke-width:4; stroke-opacity:1; fill:none\" points=\"31731.4,1423.18 31731.4,1423.18 31911.8,1423.18 31731.4,1423.18 \"/>\n",
       "<path clip-path=\"url(#clip702)\" d=\"M31911.8 1423.18 L31911.8 1423.18 L32092.1 1423.18 L32092.1 1423.18 L31911.8 1423.18 L31911.8 1423.18  Z\" fill=\"#009af9\" fill-rule=\"evenodd\" fill-opacity=\"1\"/>\n",
       "<polyline clip-path=\"url(#clip702)\" style=\"stroke:#000000; stroke-linecap:round; stroke-linejoin:round; stroke-width:4; stroke-opacity:1; fill:none\" points=\"31911.8,1423.18 31911.8,1423.18 32092.1,1423.18 31911.8,1423.18 \"/>\n",
       "<path clip-path=\"url(#clip702)\" d=\"M32092.1 1423.18 L32092.1 1423.18 L32272.5 1423.18 L32272.5 1423.18 L32092.1 1423.18 L32092.1 1423.18  Z\" fill=\"#009af9\" fill-rule=\"evenodd\" fill-opacity=\"1\"/>\n",
       "<polyline clip-path=\"url(#clip702)\" style=\"stroke:#000000; stroke-linecap:round; stroke-linejoin:round; stroke-width:4; stroke-opacity:1; fill:none\" points=\"32092.1,1423.18 32092.1,1423.18 32272.5,1423.18 32092.1,1423.18 \"/>\n",
       "<path clip-path=\"url(#clip702)\" d=\"M32272.5 1423.18 L32272.5 1423.18 L32452.8 1423.18 L32452.8 1423.18 L32272.5 1423.18 L32272.5 1423.18  Z\" fill=\"#009af9\" fill-rule=\"evenodd\" fill-opacity=\"1\"/>\n",
       "<polyline clip-path=\"url(#clip702)\" style=\"stroke:#000000; stroke-linecap:round; stroke-linejoin:round; stroke-width:4; stroke-opacity:1; fill:none\" points=\"32272.5,1423.18 32272.5,1423.18 32452.8,1423.18 32272.5,1423.18 \"/>\n",
       "<path clip-path=\"url(#clip702)\" d=\"M32452.8 1423.18 L32452.8 1423.18 L32633.2 1423.18 L32633.2 1423.18 L32452.8 1423.18 L32452.8 1423.18  Z\" fill=\"#009af9\" fill-rule=\"evenodd\" fill-opacity=\"1\"/>\n",
       "<polyline clip-path=\"url(#clip702)\" style=\"stroke:#000000; stroke-linecap:round; stroke-linejoin:round; stroke-width:4; stroke-opacity:1; fill:none\" points=\"32452.8,1423.18 32452.8,1423.18 32633.2,1423.18 32452.8,1423.18 \"/>\n",
       "<path clip-path=\"url(#clip702)\" d=\"M32633.2 1423.18 L32633.2 1423.18 L32813.5 1423.18 L32813.5 1423.18 L32633.2 1423.18 L32633.2 1423.18  Z\" fill=\"#009af9\" fill-rule=\"evenodd\" fill-opacity=\"1\"/>\n",
       "<polyline clip-path=\"url(#clip702)\" style=\"stroke:#000000; stroke-linecap:round; stroke-linejoin:round; stroke-width:4; stroke-opacity:1; fill:none\" points=\"32633.2,1423.18 32633.2,1423.18 32813.5,1423.18 32633.2,1423.18 \"/>\n",
       "<path clip-path=\"url(#clip702)\" d=\"M32813.5 1423.18 L32813.5 1423.18 L32993.9 1423.18 L32993.9 1423.18 L32813.5 1423.18 L32813.5 1423.18  Z\" fill=\"#009af9\" fill-rule=\"evenodd\" fill-opacity=\"1\"/>\n",
       "<polyline clip-path=\"url(#clip702)\" style=\"stroke:#000000; stroke-linecap:round; stroke-linejoin:round; stroke-width:4; stroke-opacity:1; fill:none\" points=\"32813.5,1423.18 32813.5,1423.18 32993.9,1423.18 32813.5,1423.18 \"/>\n",
       "<path clip-path=\"url(#clip702)\" d=\"M32993.9 1423.18 L32993.9 1423.18 L33174.2 1423.18 L33174.2 1423.18 L32993.9 1423.18 L32993.9 1423.18  Z\" fill=\"#009af9\" fill-rule=\"evenodd\" fill-opacity=\"1\"/>\n",
       "<polyline clip-path=\"url(#clip702)\" style=\"stroke:#000000; stroke-linecap:round; stroke-linejoin:round; stroke-width:4; stroke-opacity:1; fill:none\" points=\"32993.9,1423.18 32993.9,1423.18 33174.2,1423.18 32993.9,1423.18 \"/>\n",
       "<path clip-path=\"url(#clip702)\" d=\"M33174.2 1423.18 L33174.2 1423.18 L33354.6 1423.18 L33354.6 1423.18 L33174.2 1423.18 L33174.2 1423.18  Z\" fill=\"#009af9\" fill-rule=\"evenodd\" fill-opacity=\"1\"/>\n",
       "<polyline clip-path=\"url(#clip702)\" style=\"stroke:#000000; stroke-linecap:round; stroke-linejoin:round; stroke-width:4; stroke-opacity:1; fill:none\" points=\"33174.2,1423.18 33174.2,1423.18 33354.6,1423.18 33174.2,1423.18 \"/>\n",
       "<path clip-path=\"url(#clip702)\" d=\"M33354.6 1423.18 L33354.6 1423.18 L33534.9 1423.18 L33534.9 1423.18 L33354.6 1423.18 L33354.6 1423.18  Z\" fill=\"#009af9\" fill-rule=\"evenodd\" fill-opacity=\"1\"/>\n",
       "<polyline clip-path=\"url(#clip702)\" style=\"stroke:#000000; stroke-linecap:round; stroke-linejoin:round; stroke-width:4; stroke-opacity:1; fill:none\" points=\"33354.6,1423.18 33354.6,1423.18 33534.9,1423.18 33354.6,1423.18 \"/>\n",
       "<path clip-path=\"url(#clip702)\" d=\"M33534.9 1423.18 L33534.9 1423.18 L33715.3 1423.18 L33715.3 1423.18 L33534.9 1423.18 L33534.9 1423.18  Z\" fill=\"#009af9\" fill-rule=\"evenodd\" fill-opacity=\"1\"/>\n",
       "<polyline clip-path=\"url(#clip702)\" style=\"stroke:#000000; stroke-linecap:round; stroke-linejoin:round; stroke-width:4; stroke-opacity:1; fill:none\" points=\"33534.9,1423.18 33534.9,1423.18 33715.3,1423.18 33534.9,1423.18 \"/>\n",
       "<path clip-path=\"url(#clip702)\" d=\"M33715.3 1423.18 L33715.3 1423.18 L33895.6 1423.18 L33895.6 1423.18 L33715.3 1423.18 L33715.3 1423.18  Z\" fill=\"#009af9\" fill-rule=\"evenodd\" fill-opacity=\"1\"/>\n",
       "<polyline clip-path=\"url(#clip702)\" style=\"stroke:#000000; stroke-linecap:round; stroke-linejoin:round; stroke-width:4; stroke-opacity:1; fill:none\" points=\"33715.3,1423.18 33715.3,1423.18 33895.6,1423.18 33715.3,1423.18 \"/>\n",
       "<path clip-path=\"url(#clip702)\" d=\"M33895.6 1423.18 L33895.6 1423.18 L34076 1423.18 L34076 1423.18 L33895.6 1423.18 L33895.6 1423.18  Z\" fill=\"#009af9\" fill-rule=\"evenodd\" fill-opacity=\"1\"/>\n",
       "<polyline clip-path=\"url(#clip702)\" style=\"stroke:#000000; stroke-linecap:round; stroke-linejoin:round; stroke-width:4; stroke-opacity:1; fill:none\" points=\"33895.6,1423.18 33895.6,1423.18 34076,1423.18 33895.6,1423.18 \"/>\n",
       "<path clip-path=\"url(#clip702)\" d=\"M34076 1423.18 L34076 1423.18 L34256.3 1423.18 L34256.3 1423.18 L34076 1423.18 L34076 1423.18  Z\" fill=\"#009af9\" fill-rule=\"evenodd\" fill-opacity=\"1\"/>\n",
       "<polyline clip-path=\"url(#clip702)\" style=\"stroke:#000000; stroke-linecap:round; stroke-linejoin:round; stroke-width:4; stroke-opacity:1; fill:none\" points=\"34076,1423.18 34076,1423.18 34256.3,1423.18 34076,1423.18 \"/>\n",
       "<path clip-path=\"url(#clip702)\" d=\"M34256.3 1423.18 L34256.3 1423.18 L34436.7 1423.18 L34436.7 1423.18 L34256.3 1423.18 L34256.3 1423.18  Z\" fill=\"#009af9\" fill-rule=\"evenodd\" fill-opacity=\"1\"/>\n",
       "<polyline clip-path=\"url(#clip702)\" style=\"stroke:#000000; stroke-linecap:round; stroke-linejoin:round; stroke-width:4; stroke-opacity:1; fill:none\" points=\"34256.3,1423.18 34256.3,1423.18 34436.7,1423.18 34256.3,1423.18 \"/>\n",
       "<path clip-path=\"url(#clip702)\" d=\"M34436.7 1423.18 L34436.7 1423.18 L34617 1423.18 L34617 1423.18 L34436.7 1423.18 L34436.7 1423.18  Z\" fill=\"#009af9\" fill-rule=\"evenodd\" fill-opacity=\"1\"/>\n",
       "<polyline clip-path=\"url(#clip702)\" style=\"stroke:#000000; stroke-linecap:round; stroke-linejoin:round; stroke-width:4; stroke-opacity:1; fill:none\" points=\"34436.7,1423.18 34436.7,1423.18 34617,1423.18 34436.7,1423.18 \"/>\n",
       "<path clip-path=\"url(#clip702)\" d=\"M34617 1423.18 L34617 1423.18 L34797.4 1423.18 L34797.4 1423.18 L34617 1423.18 L34617 1423.18  Z\" fill=\"#009af9\" fill-rule=\"evenodd\" fill-opacity=\"1\"/>\n",
       "<polyline clip-path=\"url(#clip702)\" style=\"stroke:#000000; stroke-linecap:round; stroke-linejoin:round; stroke-width:4; stroke-opacity:1; fill:none\" points=\"34617,1423.18 34617,1423.18 34797.4,1423.18 34617,1423.18 \"/>\n",
       "<path clip-path=\"url(#clip702)\" d=\"M34797.4 1423.18 L34797.4 1423.18 L34977.7 1423.18 L34977.7 1423.18 L34797.4 1423.18 L34797.4 1423.18  Z\" fill=\"#009af9\" fill-rule=\"evenodd\" fill-opacity=\"1\"/>\n",
       "<polyline clip-path=\"url(#clip702)\" style=\"stroke:#000000; stroke-linecap:round; stroke-linejoin:round; stroke-width:4; stroke-opacity:1; fill:none\" points=\"34797.4,1423.18 34797.4,1423.18 34977.7,1423.18 34797.4,1423.18 \"/>\n",
       "<path clip-path=\"url(#clip702)\" d=\"M34977.7 1423.18 L34977.7 1423.18 L35158 1423.18 L35158 1423.18 L34977.7 1423.18 L34977.7 1423.18  Z\" fill=\"#009af9\" fill-rule=\"evenodd\" fill-opacity=\"1\"/>\n",
       "<polyline clip-path=\"url(#clip702)\" style=\"stroke:#000000; stroke-linecap:round; stroke-linejoin:round; stroke-width:4; stroke-opacity:1; fill:none\" points=\"34977.7,1423.18 34977.7,1423.18 35158,1423.18 34977.7,1423.18 \"/>\n",
       "<path clip-path=\"url(#clip702)\" d=\"M35158 1423.18 L35158 1423.18 L35338.4 1423.18 L35338.4 1423.18 L35158 1423.18 L35158 1423.18  Z\" fill=\"#009af9\" fill-rule=\"evenodd\" fill-opacity=\"1\"/>\n",
       "<polyline clip-path=\"url(#clip702)\" style=\"stroke:#000000; stroke-linecap:round; stroke-linejoin:round; stroke-width:4; stroke-opacity:1; fill:none\" points=\"35158,1423.18 35158,1423.18 35338.4,1423.18 35158,1423.18 \"/>\n",
       "<path clip-path=\"url(#clip702)\" d=\"M35338.4 1423.18 L35338.4 1423.18 L35518.7 1423.18 L35518.7 1423.18 L35338.4 1423.18 L35338.4 1423.18  Z\" fill=\"#009af9\" fill-rule=\"evenodd\" fill-opacity=\"1\"/>\n",
       "<polyline clip-path=\"url(#clip702)\" style=\"stroke:#000000; stroke-linecap:round; stroke-linejoin:round; stroke-width:4; stroke-opacity:1; fill:none\" points=\"35338.4,1423.18 35338.4,1423.18 35518.7,1423.18 35338.4,1423.18 \"/>\n",
       "<path clip-path=\"url(#clip702)\" d=\"M35518.7 1423.18 L35518.7 1423.18 L35699.1 1423.18 L35699.1 1423.18 L35518.7 1423.18 L35518.7 1423.18  Z\" fill=\"#009af9\" fill-rule=\"evenodd\" fill-opacity=\"1\"/>\n",
       "<polyline clip-path=\"url(#clip702)\" style=\"stroke:#000000; stroke-linecap:round; stroke-linejoin:round; stroke-width:4; stroke-opacity:1; fill:none\" points=\"35518.7,1423.18 35518.7,1423.18 35699.1,1423.18 35518.7,1423.18 \"/>\n",
       "<path clip-path=\"url(#clip702)\" d=\"M35699.1 1423.18 L35699.1 1423.18 L35879.4 1423.18 L35879.4 1423.18 L35699.1 1423.18 L35699.1 1423.18  Z\" fill=\"#009af9\" fill-rule=\"evenodd\" fill-opacity=\"1\"/>\n",
       "<polyline clip-path=\"url(#clip702)\" style=\"stroke:#000000; stroke-linecap:round; stroke-linejoin:round; stroke-width:4; stroke-opacity:1; fill:none\" points=\"35699.1,1423.18 35699.1,1423.18 35879.4,1423.18 35699.1,1423.18 \"/>\n",
       "<path clip-path=\"url(#clip702)\" d=\"M35879.4 1423.18 L35879.4 1423.18 L36059.8 1423.18 L36059.8 1423.18 L35879.4 1423.18 L35879.4 1423.18  Z\" fill=\"#009af9\" fill-rule=\"evenodd\" fill-opacity=\"1\"/>\n",
       "<polyline clip-path=\"url(#clip702)\" style=\"stroke:#000000; stroke-linecap:round; stroke-linejoin:round; stroke-width:4; stroke-opacity:1; fill:none\" points=\"35879.4,1423.18 35879.4,1423.18 36059.8,1423.18 35879.4,1423.18 \"/>\n",
       "<path clip-path=\"url(#clip702)\" d=\"M36059.8 1423.18 L36059.8 1423.18 L36240.1 1423.18 L36240.1 1423.18 L36059.8 1423.18 L36059.8 1423.18  Z\" fill=\"#009af9\" fill-rule=\"evenodd\" fill-opacity=\"1\"/>\n",
       "<polyline clip-path=\"url(#clip702)\" style=\"stroke:#000000; stroke-linecap:round; stroke-linejoin:round; stroke-width:4; stroke-opacity:1; fill:none\" points=\"36059.8,1423.18 36059.8,1423.18 36240.1,1423.18 36059.8,1423.18 \"/>\n",
       "<path clip-path=\"url(#clip702)\" d=\"M36240.1 1423.18 L36240.1 1423.18 L36420.5 1423.18 L36420.5 1423.18 L36240.1 1423.18 L36240.1 1423.18  Z\" fill=\"#009af9\" fill-rule=\"evenodd\" fill-opacity=\"1\"/>\n",
       "<polyline clip-path=\"url(#clip702)\" style=\"stroke:#000000; stroke-linecap:round; stroke-linejoin:round; stroke-width:4; stroke-opacity:1; fill:none\" points=\"36240.1,1423.18 36240.1,1423.18 36420.5,1423.18 36240.1,1423.18 \"/>\n",
       "<path clip-path=\"url(#clip702)\" d=\"M36420.5 1423.18 L36420.5 1423.18 L36600.8 1423.18 L36600.8 1423.18 L36420.5 1423.18 L36420.5 1423.18  Z\" fill=\"#009af9\" fill-rule=\"evenodd\" fill-opacity=\"1\"/>\n",
       "<polyline clip-path=\"url(#clip702)\" style=\"stroke:#000000; stroke-linecap:round; stroke-linejoin:round; stroke-width:4; stroke-opacity:1; fill:none\" points=\"36420.5,1423.18 36420.5,1423.18 36600.8,1423.18 36420.5,1423.18 \"/>\n",
       "<path clip-path=\"url(#clip702)\" d=\"M36600.8 1423.18 L36600.8 1423.18 L36781.2 1423.18 L36781.2 1423.18 L36600.8 1423.18 L36600.8 1423.18  Z\" fill=\"#009af9\" fill-rule=\"evenodd\" fill-opacity=\"1\"/>\n",
       "<polyline clip-path=\"url(#clip702)\" style=\"stroke:#000000; stroke-linecap:round; stroke-linejoin:round; stroke-width:4; stroke-opacity:1; fill:none\" points=\"36600.8,1423.18 36600.8,1423.18 36781.2,1423.18 36600.8,1423.18 \"/>\n",
       "<path clip-path=\"url(#clip702)\" d=\"M36781.2 1423.18 L36781.2 1423.18 L36961.5 1423.18 L36961.5 1423.18 L36781.2 1423.18 L36781.2 1423.18  Z\" fill=\"#009af9\" fill-rule=\"evenodd\" fill-opacity=\"1\"/>\n",
       "<polyline clip-path=\"url(#clip702)\" style=\"stroke:#000000; stroke-linecap:round; stroke-linejoin:round; stroke-width:4; stroke-opacity:1; fill:none\" points=\"36781.2,1423.18 36781.2,1423.18 36961.5,1423.18 36781.2,1423.18 \"/>\n",
       "<path clip-path=\"url(#clip702)\" d=\"M36961.5 1423.18 L36961.5 1423.18 L37141.9 1423.18 L37141.9 1423.18 L36961.5 1423.18 L36961.5 1423.18  Z\" fill=\"#009af9\" fill-rule=\"evenodd\" fill-opacity=\"1\"/>\n",
       "<polyline clip-path=\"url(#clip702)\" style=\"stroke:#000000; stroke-linecap:round; stroke-linejoin:round; stroke-width:4; stroke-opacity:1; fill:none\" points=\"36961.5,1423.18 36961.5,1423.18 37141.9,1423.18 36961.5,1423.18 \"/>\n",
       "<path clip-path=\"url(#clip702)\" d=\"M37141.9 1423.18 L37141.9 1423.18 L37322.2 1423.18 L37322.2 1423.18 L37141.9 1423.18 L37141.9 1423.18  Z\" fill=\"#009af9\" fill-rule=\"evenodd\" fill-opacity=\"1\"/>\n",
       "<polyline clip-path=\"url(#clip702)\" style=\"stroke:#000000; stroke-linecap:round; stroke-linejoin:round; stroke-width:4; stroke-opacity:1; fill:none\" points=\"37141.9,1423.18 37141.9,1423.18 37322.2,1423.18 37141.9,1423.18 \"/>\n",
       "<path clip-path=\"url(#clip702)\" d=\"M37322.2 1423.18 L37322.2 1423.18 L37502.6 1423.18 L37502.6 1423.18 L37322.2 1423.18 L37322.2 1423.18  Z\" fill=\"#009af9\" fill-rule=\"evenodd\" fill-opacity=\"1\"/>\n",
       "<polyline clip-path=\"url(#clip702)\" style=\"stroke:#000000; stroke-linecap:round; stroke-linejoin:round; stroke-width:4; stroke-opacity:1; fill:none\" points=\"37322.2,1423.18 37322.2,1423.18 37502.6,1423.18 37322.2,1423.18 \"/>\n",
       "<path clip-path=\"url(#clip702)\" d=\"M37502.6 1423.18 L37502.6 1423.18 L37682.9 1423.18 L37682.9 1423.18 L37502.6 1423.18 L37502.6 1423.18  Z\" fill=\"#009af9\" fill-rule=\"evenodd\" fill-opacity=\"1\"/>\n",
       "<polyline clip-path=\"url(#clip702)\" style=\"stroke:#000000; stroke-linecap:round; stroke-linejoin:round; stroke-width:4; stroke-opacity:1; fill:none\" points=\"37502.6,1423.18 37502.6,1423.18 37682.9,1423.18 37502.6,1423.18 \"/>\n",
       "<path clip-path=\"url(#clip702)\" d=\"M37682.9 1423.18 L37682.9 1423.18 L37863.3 1423.18 L37863.3 1423.18 L37682.9 1423.18 L37682.9 1423.18  Z\" fill=\"#009af9\" fill-rule=\"evenodd\" fill-opacity=\"1\"/>\n",
       "<polyline clip-path=\"url(#clip702)\" style=\"stroke:#000000; stroke-linecap:round; stroke-linejoin:round; stroke-width:4; stroke-opacity:1; fill:none\" points=\"37682.9,1423.18 37682.9,1423.18 37863.3,1423.18 37682.9,1423.18 \"/>\n",
       "<path clip-path=\"url(#clip702)\" d=\"M37863.3 1423.18 L37863.3 1423.18 L38043.6 1423.18 L38043.6 1423.18 L37863.3 1423.18 L37863.3 1423.18  Z\" fill=\"#009af9\" fill-rule=\"evenodd\" fill-opacity=\"1\"/>\n",
       "<polyline clip-path=\"url(#clip702)\" style=\"stroke:#000000; stroke-linecap:round; stroke-linejoin:round; stroke-width:4; stroke-opacity:1; fill:none\" points=\"37863.3,1423.18 37863.3,1423.18 38043.6,1423.18 37863.3,1423.18 \"/>\n",
       "<path clip-path=\"url(#clip702)\" d=\"M38043.6 1423.18 L38043.6 1423.18 L38224 1423.18 L38224 1423.18 L38043.6 1423.18 L38043.6 1423.18  Z\" fill=\"#009af9\" fill-rule=\"evenodd\" fill-opacity=\"1\"/>\n",
       "<polyline clip-path=\"url(#clip702)\" style=\"stroke:#000000; stroke-linecap:round; stroke-linejoin:round; stroke-width:4; stroke-opacity:1; fill:none\" points=\"38043.6,1423.18 38043.6,1423.18 38224,1423.18 38043.6,1423.18 \"/>\n",
       "<path clip-path=\"url(#clip702)\" d=\"M38224 1423.18 L38224 1423.18 L38404.3 1423.18 L38404.3 1423.18 L38224 1423.18 L38224 1423.18  Z\" fill=\"#009af9\" fill-rule=\"evenodd\" fill-opacity=\"1\"/>\n",
       "<polyline clip-path=\"url(#clip702)\" style=\"stroke:#000000; stroke-linecap:round; stroke-linejoin:round; stroke-width:4; stroke-opacity:1; fill:none\" points=\"38224,1423.18 38224,1423.18 38404.3,1423.18 38224,1423.18 \"/>\n",
       "<path clip-path=\"url(#clip702)\" d=\"M38404.3 1423.18 L38404.3 1423.18 L38584.7 1423.18 L38584.7 1423.18 L38404.3 1423.18 L38404.3 1423.18  Z\" fill=\"#009af9\" fill-rule=\"evenodd\" fill-opacity=\"1\"/>\n",
       "<polyline clip-path=\"url(#clip702)\" style=\"stroke:#000000; stroke-linecap:round; stroke-linejoin:round; stroke-width:4; stroke-opacity:1; fill:none\" points=\"38404.3,1423.18 38404.3,1423.18 38584.7,1423.18 38404.3,1423.18 \"/>\n",
       "<path clip-path=\"url(#clip702)\" d=\"M38584.7 1423.18 L38584.7 1423.18 L38765 1423.18 L38765 1423.18 L38584.7 1423.18 L38584.7 1423.18  Z\" fill=\"#009af9\" fill-rule=\"evenodd\" fill-opacity=\"1\"/>\n",
       "<polyline clip-path=\"url(#clip702)\" style=\"stroke:#000000; stroke-linecap:round; stroke-linejoin:round; stroke-width:4; stroke-opacity:1; fill:none\" points=\"38584.7,1423.18 38584.7,1423.18 38765,1423.18 38584.7,1423.18 \"/>\n",
       "<path clip-path=\"url(#clip702)\" d=\"M38765 1423.18 L38765 1423.18 L38945.4 1423.18 L38945.4 1423.18 L38765 1423.18 L38765 1423.18  Z\" fill=\"#009af9\" fill-rule=\"evenodd\" fill-opacity=\"1\"/>\n",
       "<polyline clip-path=\"url(#clip702)\" style=\"stroke:#000000; stroke-linecap:round; stroke-linejoin:round; stroke-width:4; stroke-opacity:1; fill:none\" points=\"38765,1423.18 38765,1423.18 38945.4,1423.18 38765,1423.18 \"/>\n",
       "<path clip-path=\"url(#clip702)\" d=\"M38945.4 1423.18 L38945.4 1423.18 L39125.7 1423.18 L39125.7 1423.18 L38945.4 1423.18 L38945.4 1423.18  Z\" fill=\"#009af9\" fill-rule=\"evenodd\" fill-opacity=\"1\"/>\n",
       "<polyline clip-path=\"url(#clip702)\" style=\"stroke:#000000; stroke-linecap:round; stroke-linejoin:round; stroke-width:4; stroke-opacity:1; fill:none\" points=\"38945.4,1423.18 38945.4,1423.18 39125.7,1423.18 38945.4,1423.18 \"/>\n",
       "<path clip-path=\"url(#clip702)\" d=\"M39125.7 1423.18 L39125.7 1423.18 L39306.1 1423.18 L39306.1 1423.18 L39125.7 1423.18 L39125.7 1423.18  Z\" fill=\"#009af9\" fill-rule=\"evenodd\" fill-opacity=\"1\"/>\n",
       "<polyline clip-path=\"url(#clip702)\" style=\"stroke:#000000; stroke-linecap:round; stroke-linejoin:round; stroke-width:4; stroke-opacity:1; fill:none\" points=\"39125.7,1423.18 39125.7,1423.18 39306.1,1423.18 39125.7,1423.18 \"/>\n",
       "<path clip-path=\"url(#clip702)\" d=\"M39306.1 1423.18 L39306.1 1423.18 L39486.4 1423.18 L39486.4 1423.18 L39306.1 1423.18 L39306.1 1423.18  Z\" fill=\"#009af9\" fill-rule=\"evenodd\" fill-opacity=\"1\"/>\n",
       "<polyline clip-path=\"url(#clip702)\" style=\"stroke:#000000; stroke-linecap:round; stroke-linejoin:round; stroke-width:4; stroke-opacity:1; fill:none\" points=\"39306.1,1423.18 39306.1,1423.18 39486.4,1423.18 39306.1,1423.18 \"/>\n",
       "<path clip-path=\"url(#clip702)\" d=\"M39486.4 1423.18 L39486.4 1423.18 L39666.8 1423.18 L39666.8 1423.18 L39486.4 1423.18 L39486.4 1423.18  Z\" fill=\"#009af9\" fill-rule=\"evenodd\" fill-opacity=\"1\"/>\n",
       "<polyline clip-path=\"url(#clip702)\" style=\"stroke:#000000; stroke-linecap:round; stroke-linejoin:round; stroke-width:4; stroke-opacity:1; fill:none\" points=\"39486.4,1423.18 39486.4,1423.18 39666.8,1423.18 39486.4,1423.18 \"/>\n",
       "<path clip-path=\"url(#clip702)\" d=\"M39666.8 1423.18 L39666.8 1423.18 L39847.1 1423.18 L39847.1 1423.18 L39666.8 1423.18 L39666.8 1423.18  Z\" fill=\"#009af9\" fill-rule=\"evenodd\" fill-opacity=\"1\"/>\n",
       "<polyline clip-path=\"url(#clip702)\" style=\"stroke:#000000; stroke-linecap:round; stroke-linejoin:round; stroke-width:4; stroke-opacity:1; fill:none\" points=\"39666.8,1423.18 39666.8,1423.18 39847.1,1423.18 39666.8,1423.18 \"/>\n",
       "<path clip-path=\"url(#clip702)\" d=\"M39847.1 1423.18 L39847.1 1423.18 L40027.5 1423.18 L40027.5 1423.18 L39847.1 1423.18 L39847.1 1423.18  Z\" fill=\"#009af9\" fill-rule=\"evenodd\" fill-opacity=\"1\"/>\n",
       "<polyline clip-path=\"url(#clip702)\" style=\"stroke:#000000; stroke-linecap:round; stroke-linejoin:round; stroke-width:4; stroke-opacity:1; fill:none\" points=\"39847.1,1423.18 39847.1,1423.18 40027.5,1423.18 39847.1,1423.18 \"/>\n",
       "<path clip-path=\"url(#clip702)\" d=\"M40027.5 1423.18 L40027.5 1423.18 L40207.8 1423.18 L40207.8 1423.18 L40027.5 1423.18 L40027.5 1423.18  Z\" fill=\"#009af9\" fill-rule=\"evenodd\" fill-opacity=\"1\"/>\n",
       "<polyline clip-path=\"url(#clip702)\" style=\"stroke:#000000; stroke-linecap:round; stroke-linejoin:round; stroke-width:4; stroke-opacity:1; fill:none\" points=\"40027.5,1423.18 40027.5,1423.18 40207.8,1423.18 40027.5,1423.18 \"/>\n",
       "<path clip-path=\"url(#clip702)\" d=\"M40207.8 1423.18 L40207.8 1423.18 L40388.2 1423.18 L40388.2 1423.18 L40207.8 1423.18 L40207.8 1423.18  Z\" fill=\"#009af9\" fill-rule=\"evenodd\" fill-opacity=\"1\"/>\n",
       "<polyline clip-path=\"url(#clip702)\" style=\"stroke:#000000; stroke-linecap:round; stroke-linejoin:round; stroke-width:4; stroke-opacity:1; fill:none\" points=\"40207.8,1423.18 40207.8,1423.18 40388.2,1423.18 40207.8,1423.18 \"/>\n",
       "<path clip-path=\"url(#clip702)\" d=\"M40388.2 1423.18 L40388.2 1423.18 L40568.5 1423.18 L40568.5 1423.18 L40388.2 1423.18 L40388.2 1423.18  Z\" fill=\"#009af9\" fill-rule=\"evenodd\" fill-opacity=\"1\"/>\n",
       "<polyline clip-path=\"url(#clip702)\" style=\"stroke:#000000; stroke-linecap:round; stroke-linejoin:round; stroke-width:4; stroke-opacity:1; fill:none\" points=\"40388.2,1423.18 40388.2,1423.18 40568.5,1423.18 40388.2,1423.18 \"/>\n",
       "<path clip-path=\"url(#clip702)\" d=\"M40568.5 1423.18 L40568.5 1423.18 L40748.9 1423.18 L40748.9 1423.18 L40568.5 1423.18 L40568.5 1423.18  Z\" fill=\"#009af9\" fill-rule=\"evenodd\" fill-opacity=\"1\"/>\n",
       "<polyline clip-path=\"url(#clip702)\" style=\"stroke:#000000; stroke-linecap:round; stroke-linejoin:round; stroke-width:4; stroke-opacity:1; fill:none\" points=\"40568.5,1423.18 40568.5,1423.18 40748.9,1423.18 40568.5,1423.18 \"/>\n",
       "<path clip-path=\"url(#clip702)\" d=\"M40748.9 1423.18 L40748.9 1423.18 L40929.2 1423.18 L40929.2 1423.18 L40748.9 1423.18 L40748.9 1423.18  Z\" fill=\"#009af9\" fill-rule=\"evenodd\" fill-opacity=\"1\"/>\n",
       "<polyline clip-path=\"url(#clip702)\" style=\"stroke:#000000; stroke-linecap:round; stroke-linejoin:round; stroke-width:4; stroke-opacity:1; fill:none\" points=\"40748.9,1423.18 40748.9,1423.18 40929.2,1423.18 40748.9,1423.18 \"/>\n",
       "<path clip-path=\"url(#clip702)\" d=\"M40929.2 1423.18 L40929.2 1423.18 L41109.6 1423.18 L41109.6 1423.18 L40929.2 1423.18 L40929.2 1423.18  Z\" fill=\"#009af9\" fill-rule=\"evenodd\" fill-opacity=\"1\"/>\n",
       "<polyline clip-path=\"url(#clip702)\" style=\"stroke:#000000; stroke-linecap:round; stroke-linejoin:round; stroke-width:4; stroke-opacity:1; fill:none\" points=\"40929.2,1423.18 40929.2,1423.18 41109.6,1423.18 40929.2,1423.18 \"/>\n",
       "<path clip-path=\"url(#clip702)\" d=\"M41109.6 1423.18 L41109.6 1423.18 L41289.9 1423.18 L41289.9 1423.18 L41109.6 1423.18 L41109.6 1423.18  Z\" fill=\"#009af9\" fill-rule=\"evenodd\" fill-opacity=\"1\"/>\n",
       "<polyline clip-path=\"url(#clip702)\" style=\"stroke:#000000; stroke-linecap:round; stroke-linejoin:round; stroke-width:4; stroke-opacity:1; fill:none\" points=\"41109.6,1423.18 41109.6,1423.18 41289.9,1423.18 41109.6,1423.18 \"/>\n",
       "<path clip-path=\"url(#clip702)\" d=\"M41289.9 1423.18 L41289.9 1423.18 L41470.3 1423.18 L41470.3 1423.18 L41289.9 1423.18 L41289.9 1423.18  Z\" fill=\"#009af9\" fill-rule=\"evenodd\" fill-opacity=\"1\"/>\n",
       "<polyline clip-path=\"url(#clip702)\" style=\"stroke:#000000; stroke-linecap:round; stroke-linejoin:round; stroke-width:4; stroke-opacity:1; fill:none\" points=\"41289.9,1423.18 41289.9,1423.18 41470.3,1423.18 41289.9,1423.18 \"/>\n",
       "<path clip-path=\"url(#clip702)\" d=\"M41470.3 1423.18 L41470.3 1423.18 L41650.6 1423.18 L41650.6 1423.18 L41470.3 1423.18 L41470.3 1423.18  Z\" fill=\"#009af9\" fill-rule=\"evenodd\" fill-opacity=\"1\"/>\n",
       "<polyline clip-path=\"url(#clip702)\" style=\"stroke:#000000; stroke-linecap:round; stroke-linejoin:round; stroke-width:4; stroke-opacity:1; fill:none\" points=\"41470.3,1423.18 41470.3,1423.18 41650.6,1423.18 41470.3,1423.18 \"/>\n",
       "<path clip-path=\"url(#clip702)\" d=\"M41650.6 1423.18 L41650.6 1423.18 L41831 1423.18 L41831 1423.18 L41650.6 1423.18 L41650.6 1423.18  Z\" fill=\"#009af9\" fill-rule=\"evenodd\" fill-opacity=\"1\"/>\n",
       "<polyline clip-path=\"url(#clip702)\" style=\"stroke:#000000; stroke-linecap:round; stroke-linejoin:round; stroke-width:4; stroke-opacity:1; fill:none\" points=\"41650.6,1423.18 41650.6,1423.18 41831,1423.18 41650.6,1423.18 \"/>\n",
       "<path clip-path=\"url(#clip702)\" d=\"M41831 1423.18 L41831 1423.18 L42011.3 1423.18 L42011.3 1423.18 L41831 1423.18 L41831 1423.18  Z\" fill=\"#009af9\" fill-rule=\"evenodd\" fill-opacity=\"1\"/>\n",
       "<polyline clip-path=\"url(#clip702)\" style=\"stroke:#000000; stroke-linecap:round; stroke-linejoin:round; stroke-width:4; stroke-opacity:1; fill:none\" points=\"41831,1423.18 41831,1423.18 42011.3,1423.18 41831,1423.18 \"/>\n",
       "<path clip-path=\"url(#clip702)\" d=\"M42011.3 1423.18 L42011.3 1423.18 L42191.7 1423.18 L42191.7 1423.18 L42011.3 1423.18 L42011.3 1423.18  Z\" fill=\"#009af9\" fill-rule=\"evenodd\" fill-opacity=\"1\"/>\n",
       "<polyline clip-path=\"url(#clip702)\" style=\"stroke:#000000; stroke-linecap:round; stroke-linejoin:round; stroke-width:4; stroke-opacity:1; fill:none\" points=\"42011.3,1423.18 42011.3,1423.18 42191.7,1423.18 42011.3,1423.18 \"/>\n",
       "<path clip-path=\"url(#clip702)\" d=\"M42191.7 1423.18 L42191.7 1423.18 L42372 1423.18 L42372 1423.18 L42191.7 1423.18 L42191.7 1423.18  Z\" fill=\"#009af9\" fill-rule=\"evenodd\" fill-opacity=\"1\"/>\n",
       "<polyline clip-path=\"url(#clip702)\" style=\"stroke:#000000; stroke-linecap:round; stroke-linejoin:round; stroke-width:4; stroke-opacity:1; fill:none\" points=\"42191.7,1423.18 42191.7,1423.18 42372,1423.18 42191.7,1423.18 \"/>\n",
       "<path clip-path=\"url(#clip702)\" d=\"M42372 1423.18 L42372 1423.18 L42552.4 1423.18 L42552.4 1423.18 L42372 1423.18 L42372 1423.18  Z\" fill=\"#009af9\" fill-rule=\"evenodd\" fill-opacity=\"1\"/>\n",
       "<polyline clip-path=\"url(#clip702)\" style=\"stroke:#000000; stroke-linecap:round; stroke-linejoin:round; stroke-width:4; stroke-opacity:1; fill:none\" points=\"42372,1423.18 42372,1423.18 42552.4,1423.18 42372,1423.18 \"/>\n",
       "<path clip-path=\"url(#clip702)\" d=\"M42552.4 1423.18 L42552.4 1423.18 L42732.7 1423.18 L42732.7 1423.18 L42552.4 1423.18 L42552.4 1423.18  Z\" fill=\"#009af9\" fill-rule=\"evenodd\" fill-opacity=\"1\"/>\n",
       "<polyline clip-path=\"url(#clip702)\" style=\"stroke:#000000; stroke-linecap:round; stroke-linejoin:round; stroke-width:4; stroke-opacity:1; fill:none\" points=\"42552.4,1423.18 42552.4,1423.18 42732.7,1423.18 42552.4,1423.18 \"/>\n",
       "<path clip-path=\"url(#clip702)\" d=\"M42732.7 1423.18 L42732.7 1423.18 L42913.1 1423.18 L42913.1 1423.18 L42732.7 1423.18 L42732.7 1423.18  Z\" fill=\"#009af9\" fill-rule=\"evenodd\" fill-opacity=\"1\"/>\n",
       "<polyline clip-path=\"url(#clip702)\" style=\"stroke:#000000; stroke-linecap:round; stroke-linejoin:round; stroke-width:4; stroke-opacity:1; fill:none\" points=\"42732.7,1423.18 42732.7,1423.18 42913.1,1423.18 42732.7,1423.18 \"/>\n",
       "<path clip-path=\"url(#clip702)\" d=\"M42913.1 1423.18 L42913.1 1423.18 L43093.4 1423.18 L43093.4 1423.18 L42913.1 1423.18 L42913.1 1423.18  Z\" fill=\"#009af9\" fill-rule=\"evenodd\" fill-opacity=\"1\"/>\n",
       "<polyline clip-path=\"url(#clip702)\" style=\"stroke:#000000; stroke-linecap:round; stroke-linejoin:round; stroke-width:4; stroke-opacity:1; fill:none\" points=\"42913.1,1423.18 42913.1,1423.18 43093.4,1423.18 42913.1,1423.18 \"/>\n",
       "<path clip-path=\"url(#clip702)\" d=\"M43093.4 1423.18 L43093.4 1423.18 L43273.8 1423.18 L43273.8 1423.18 L43093.4 1423.18 L43093.4 1423.18  Z\" fill=\"#009af9\" fill-rule=\"evenodd\" fill-opacity=\"1\"/>\n",
       "<polyline clip-path=\"url(#clip702)\" style=\"stroke:#000000; stroke-linecap:round; stroke-linejoin:round; stroke-width:4; stroke-opacity:1; fill:none\" points=\"43093.4,1423.18 43093.4,1423.18 43273.8,1423.18 43093.4,1423.18 \"/>\n",
       "<path clip-path=\"url(#clip702)\" d=\"M43273.8 1415.18 L43273.8 1423.18 L43454.1 1423.18 L43454.1 1415.18 L43273.8 1415.18 L43273.8 1415.18  Z\" fill=\"#009af9\" fill-rule=\"evenodd\" fill-opacity=\"1\"/>\n",
       "<polyline clip-path=\"url(#clip702)\" style=\"stroke:#000000; stroke-linecap:round; stroke-linejoin:round; stroke-width:4; stroke-opacity:1; fill:none\" points=\"43273.8,1415.18 43273.8,1423.18 43454.1,1423.18 43454.1,1415.18 43273.8,1415.18 \"/>\n",
       "<circle clip-path=\"url(#clip702)\" style=\"fill:#009af9; stroke:none; fill-opacity:0\" cx=\"260.52\" cy=\"1239.19\" r=\"2\"/>\n",
       "<circle clip-path=\"url(#clip702)\" style=\"fill:#009af9; stroke:none; fill-opacity:0\" cx=\"440.869\" cy=\"47.2441\" r=\"2\"/>\n",
       "<circle clip-path=\"url(#clip702)\" style=\"fill:#009af9; stroke:none; fill-opacity:0\" cx=\"621.218\" cy=\"639.216\" r=\"2\"/>\n",
       "<circle clip-path=\"url(#clip702)\" style=\"fill:#009af9; stroke:none; fill-opacity:0\" cx=\"801.567\" cy=\"839.207\" r=\"2\"/>\n",
       "<circle clip-path=\"url(#clip702)\" style=\"fill:#009af9; stroke:none; fill-opacity:0\" cx=\"981.916\" cy=\"991.2\" r=\"2\"/>\n",
       "<circle clip-path=\"url(#clip702)\" style=\"fill:#009af9; stroke:none; fill-opacity:0\" cx=\"1162.27\" cy=\"1311.19\" r=\"2\"/>\n",
       "<circle clip-path=\"url(#clip702)\" style=\"fill:#009af9; stroke:none; fill-opacity:0\" cx=\"1342.61\" cy=\"1391.18\" r=\"2\"/>\n",
       "<circle clip-path=\"url(#clip702)\" style=\"fill:#009af9; stroke:none; fill-opacity:0\" cx=\"1522.96\" cy=\"1351.18\" r=\"2\"/>\n",
       "<circle clip-path=\"url(#clip702)\" style=\"fill:#009af9; stroke:none; fill-opacity:0\" cx=\"1703.31\" cy=\"1399.18\" r=\"2\"/>\n",
       "<circle clip-path=\"url(#clip702)\" style=\"fill:#009af9; stroke:none; fill-opacity:0\" cx=\"1883.66\" cy=\"1415.18\" r=\"2\"/>\n",
       "<circle clip-path=\"url(#clip702)\" style=\"fill:#009af9; stroke:none; fill-opacity:0\" cx=\"2064.01\" cy=\"1415.18\" r=\"2\"/>\n",
       "<circle clip-path=\"url(#clip702)\" style=\"fill:#009af9; stroke:none; fill-opacity:0\" cx=\"2244.36\" cy=\"1423.18\" r=\"2\"/>\n",
       "</svg>\n"
      ]
     },
     "execution_count": 19,
     "metadata": {},
     "output_type": "execute_result"
    }
   ],
   "source": [
    "using Statistics # bring in statistical support for standard deviations\n",
    "t = c_bench.times / 1e6 # times in milliseconds\n",
    "m, σ = minimum(t), std(t)\n",
    "\n",
    "histogram(t, bins=500,\n",
    "    xlim=(m - 0.01, m + σ),\n",
    "    xlabel=\"milliseconds\", ylabel=\"count\", label=\"\")"
   ]
  },
  {
   "cell_type": "markdown",
   "metadata": {},
   "source": [
    "# 2. C with -ffast-math\n",
    "\n",
    "If we allow C to re-arrange the floating point operations, then it'll vectorize with SIMD (single instruction, multiple data) instructions."
   ]
  },
  {
   "cell_type": "code",
   "execution_count": 20,
   "metadata": {},
   "outputs": [
    {
     "data": {
      "text/plain": [
       "c_sum_fastmath (generic function with 1 method)"
      ]
     },
     "execution_count": 20,
     "metadata": {},
     "output_type": "execute_result"
    }
   ],
   "source": [
    "const Clib_fastmath = tempname()   # make a temporary file\n",
    "\n",
    "# The same as above but with a -ffast-math flag added\n",
    "open(`gcc -fPIC -O3 -msse3 -xc -shared -ffast-math -o $(Clib_fastmath * \".\" * Libdl.dlext) -`, \"w\") do f\n",
    "    print(f, C_code) \n",
    "end\n",
    "\n",
    "# define a Julia function that calls the C function:\n",
    "c_sum_fastmath(X::Array{Float64}) = ccall((\"c_sum\", Clib_fastmath), Float64, (Csize_t, Ptr{Float64}), length(X), X)"
   ]
  },
  {
   "cell_type": "code",
   "execution_count": 21,
   "metadata": {},
   "outputs": [
    {
     "data": {
      "text/plain": [
       "BenchmarkTools.Trial: 833 samples with 1 evaluation.\n",
       " Range \u001b[90m(\u001b[39m\u001b[36m\u001b[1mmin\u001b[22m\u001b[39m … \u001b[35mmax\u001b[39m\u001b[90m):  \u001b[39m\u001b[36m\u001b[1m5.815 ms\u001b[22m\u001b[39m … \u001b[35m  7.712 ms\u001b[39m  \u001b[90m┊\u001b[39m GC \u001b[90m(\u001b[39mmin … max\u001b[90m): \u001b[39m0.00% … 0.00%\n",
       " Time  \u001b[90m(\u001b[39m\u001b[34m\u001b[1mmedian\u001b[22m\u001b[39m\u001b[90m):     \u001b[39m\u001b[34m\u001b[1m5.933 ms               \u001b[22m\u001b[39m\u001b[90m┊\u001b[39m GC \u001b[90m(\u001b[39mmedian\u001b[90m):    \u001b[39m0.00%\n",
       " Time  \u001b[90m(\u001b[39m\u001b[32m\u001b[1mmean\u001b[22m\u001b[39m ± \u001b[32mσ\u001b[39m\u001b[90m):   \u001b[39m\u001b[32m\u001b[1m5.994 ms\u001b[22m\u001b[39m ± \u001b[32m200.164 μs\u001b[39m  \u001b[90m┊\u001b[39m GC \u001b[90m(\u001b[39mmean ± σ\u001b[90m):  \u001b[39m0.00% ± 0.00%\n",
       "\n",
       "  \u001b[39m \u001b[39m▁\u001b[39m▅\u001b[39m█\u001b[39m▄\u001b[39m▃\u001b[39m▂\u001b[34m▄\u001b[39m\u001b[39m \u001b[39m \u001b[32m \u001b[39m\u001b[39m \u001b[39m \u001b[39m \u001b[39m \u001b[39m \u001b[39m \u001b[39m \u001b[39m \u001b[39m \u001b[39m \u001b[39m \u001b[39m \u001b[39m \u001b[39m \u001b[39m \u001b[39m \u001b[39m \u001b[39m \u001b[39m \u001b[39m \u001b[39m \u001b[39m \u001b[39m \u001b[39m \u001b[39m \u001b[39m \u001b[39m \u001b[39m \u001b[39m \u001b[39m \u001b[39m \u001b[39m \u001b[39m \u001b[39m \u001b[39m \u001b[39m \u001b[39m \u001b[39m \u001b[39m \u001b[39m \u001b[39m \u001b[39m \u001b[39m \u001b[39m \u001b[39m \u001b[39m \u001b[39m \u001b[39m \u001b[39m \u001b[39m \n",
       "  \u001b[39m▄\u001b[39m█\u001b[39m█\u001b[39m█\u001b[39m█\u001b[39m█\u001b[39m█\u001b[34m█\u001b[39m\u001b[39m█\u001b[39m▆\u001b[32m█\u001b[39m\u001b[39m▆\u001b[39m▅\u001b[39m▄\u001b[39m▄\u001b[39m▃\u001b[39m▃\u001b[39m▄\u001b[39m▄\u001b[39m▃\u001b[39m▃\u001b[39m▃\u001b[39m▃\u001b[39m▂\u001b[39m▃\u001b[39m▃\u001b[39m▃\u001b[39m▃\u001b[39m▂\u001b[39m▃\u001b[39m▂\u001b[39m▂\u001b[39m▃\u001b[39m▂\u001b[39m▃\u001b[39m▃\u001b[39m▁\u001b[39m▂\u001b[39m▃\u001b[39m▃\u001b[39m▂\u001b[39m▂\u001b[39m▂\u001b[39m▂\u001b[39m▂\u001b[39m▁\u001b[39m▂\u001b[39m▂\u001b[39m▁\u001b[39m▂\u001b[39m▁\u001b[39m▁\u001b[39m▁\u001b[39m▁\u001b[39m▁\u001b[39m▁\u001b[39m▁\u001b[39m▂\u001b[39m▂\u001b[39m \u001b[39m▃\n",
       "  5.82 ms\u001b[90m         Histogram: frequency by time\u001b[39m        6.83 ms \u001b[0m\u001b[1m<\u001b[22m\n",
       "\n",
       " Memory estimate\u001b[90m: \u001b[39m\u001b[33m0 bytes\u001b[39m, allocs estimate\u001b[90m: \u001b[39m\u001b[33m0\u001b[39m."
      ]
     },
     "execution_count": 21,
     "metadata": {},
     "output_type": "execute_result"
    }
   ],
   "source": [
    "c_fastmath_bench = @benchmark $c_sum_fastmath($a)"
   ]
  },
  {
   "cell_type": "code",
   "execution_count": 22,
   "metadata": {},
   "outputs": [
    {
     "data": {
      "text/plain": [
       "5.815115"
      ]
     },
     "execution_count": 22,
     "metadata": {},
     "output_type": "execute_result"
    }
   ],
   "source": [
    "d[\"C -ffast-math\"] = minimum(c_fastmath_bench.times) / 1e6  # in milliseconds"
   ]
  },
  {
   "cell_type": "markdown",
   "metadata": {},
   "source": [
    "# 3. Python's built in `sum` "
   ]
  },
  {
   "cell_type": "markdown",
   "metadata": {},
   "source": [
    "The `PyCall` package provides a Julia interface to Python:"
   ]
  },
  {
   "cell_type": "code",
   "execution_count": 24,
   "metadata": {
    "scrolled": true
   },
   "outputs": [
    {
     "name": "stderr",
     "output_type": "stream",
     "text": [
      "\u001b[32m\u001b[1m   Resolving\u001b[22m\u001b[39m package versions...\n",
      "\u001b[32m\u001b[1m  No Changes\u001b[22m\u001b[39m to `~/.julia/environments/v1.10/Project.toml`\n",
      "\u001b[32m\u001b[1m  No Changes\u001b[22m\u001b[39m to `~/.julia/environments/v1.10/Manifest.toml`\n"
     ]
    }
   ],
   "source": [
    "using Pkg; Pkg.add(\"PyCall\")\n",
    "using PyCall"
   ]
  },
  {
   "cell_type": "code",
   "execution_count": 25,
   "metadata": {},
   "outputs": [
    {
     "data": {
      "text/plain": [
       "PyObject <built-in function sum>"
      ]
     },
     "execution_count": 25,
     "metadata": {},
     "output_type": "execute_result"
    }
   ],
   "source": [
    "# get the Python built-in \"sum\" function:\n",
    "pysum = pybuiltin(\"sum\")"
   ]
  },
  {
   "cell_type": "code",
   "execution_count": 26,
   "metadata": {},
   "outputs": [
    {
     "data": {
      "text/plain": [
       "4.999114607967458e6"
      ]
     },
     "execution_count": 26,
     "metadata": {},
     "output_type": "execute_result"
    }
   ],
   "source": [
    "pysum(a)"
   ]
  },
  {
   "cell_type": "code",
   "execution_count": 27,
   "metadata": {},
   "outputs": [
    {
     "data": {
      "text/plain": [
       "true"
      ]
     },
     "execution_count": 27,
     "metadata": {},
     "output_type": "execute_result"
    }
   ],
   "source": [
    "pysum(a) ≈ sum(a)"
   ]
  },
  {
   "cell_type": "code",
   "execution_count": 28,
   "metadata": {},
   "outputs": [
    {
     "data": {
      "text/plain": [
       "BenchmarkTools.Trial: 9 samples with 1 evaluation.\n",
       " Range \u001b[90m(\u001b[39m\u001b[36m\u001b[1mmin\u001b[22m\u001b[39m … \u001b[35mmax\u001b[39m\u001b[90m):  \u001b[39m\u001b[36m\u001b[1m592.370 ms\u001b[22m\u001b[39m … \u001b[35m612.834 ms\u001b[39m  \u001b[90m┊\u001b[39m GC \u001b[90m(\u001b[39mmin … max\u001b[90m): \u001b[39m0.00% … 0.00%\n",
       " Time  \u001b[90m(\u001b[39m\u001b[34m\u001b[1mmedian\u001b[22m\u001b[39m\u001b[90m):     \u001b[39m\u001b[34m\u001b[1m596.147 ms               \u001b[22m\u001b[39m\u001b[90m┊\u001b[39m GC \u001b[90m(\u001b[39mmedian\u001b[90m):    \u001b[39m0.00%\n",
       " Time  \u001b[90m(\u001b[39m\u001b[32m\u001b[1mmean\u001b[22m\u001b[39m ± \u001b[32mσ\u001b[39m\u001b[90m):   \u001b[39m\u001b[32m\u001b[1m597.539 ms\u001b[22m\u001b[39m ± \u001b[32m  6.099 ms\u001b[39m  \u001b[90m┊\u001b[39m GC \u001b[90m(\u001b[39mmean ± σ\u001b[90m):  \u001b[39m0.00% ± 0.00%\n",
       "\n",
       "  \u001b[39m█\u001b[39m█\u001b[39m \u001b[39m \u001b[39m \u001b[39m \u001b[39m \u001b[39m \u001b[39m█\u001b[34m█\u001b[39m\u001b[39m \u001b[39m█\u001b[39m█\u001b[39m \u001b[39m█\u001b[32m \u001b[39m\u001b[39m \u001b[39m \u001b[39m \u001b[39m \u001b[39m█\u001b[39m \u001b[39m \u001b[39m \u001b[39m \u001b[39m \u001b[39m \u001b[39m \u001b[39m \u001b[39m \u001b[39m \u001b[39m \u001b[39m \u001b[39m \u001b[39m \u001b[39m \u001b[39m \u001b[39m \u001b[39m \u001b[39m \u001b[39m \u001b[39m \u001b[39m \u001b[39m \u001b[39m \u001b[39m \u001b[39m \u001b[39m \u001b[39m \u001b[39m \u001b[39m \u001b[39m \u001b[39m \u001b[39m \u001b[39m \u001b[39m \u001b[39m \u001b[39m \u001b[39m \u001b[39m \u001b[39m█\u001b[39m \u001b[39m \n",
       "  \u001b[39m█\u001b[39m█\u001b[39m▁\u001b[39m▁\u001b[39m▁\u001b[39m▁\u001b[39m▁\u001b[39m▁\u001b[39m█\u001b[34m█\u001b[39m\u001b[39m▁\u001b[39m█\u001b[39m█\u001b[39m▁\u001b[39m█\u001b[32m▁\u001b[39m\u001b[39m▁\u001b[39m▁\u001b[39m▁\u001b[39m▁\u001b[39m█\u001b[39m▁\u001b[39m▁\u001b[39m▁\u001b[39m▁\u001b[39m▁\u001b[39m▁\u001b[39m▁\u001b[39m▁\u001b[39m▁\u001b[39m▁\u001b[39m▁\u001b[39m▁\u001b[39m▁\u001b[39m▁\u001b[39m▁\u001b[39m▁\u001b[39m▁\u001b[39m▁\u001b[39m▁\u001b[39m▁\u001b[39m▁\u001b[39m▁\u001b[39m▁\u001b[39m▁\u001b[39m▁\u001b[39m▁\u001b[39m▁\u001b[39m▁\u001b[39m▁\u001b[39m▁\u001b[39m▁\u001b[39m▁\u001b[39m▁\u001b[39m▁\u001b[39m▁\u001b[39m▁\u001b[39m▁\u001b[39m▁\u001b[39m▁\u001b[39m█\u001b[39m \u001b[39m▁\n",
       "  592 ms\u001b[90m           Histogram: frequency by time\u001b[39m          613 ms \u001b[0m\u001b[1m<\u001b[22m\n",
       "\n",
       " Memory estimate\u001b[90m: \u001b[39m\u001b[33m240 bytes\u001b[39m, allocs estimate\u001b[90m: \u001b[39m\u001b[33m6\u001b[39m."
      ]
     },
     "execution_count": 28,
     "metadata": {},
     "output_type": "execute_result"
    }
   ],
   "source": [
    "py_list_bench = @benchmark $pysum($a)"
   ]
  },
  {
   "cell_type": "code",
   "execution_count": 29,
   "metadata": {},
   "outputs": [
    {
     "data": {
      "text/plain": [
       "Dict{Any, Any} with 3 entries:\n",
       "  \"C\"               => 10.6272\n",
       "  \"Python built-in\" => 592.37\n",
       "  \"C -ffast-math\"   => 5.81511"
      ]
     },
     "execution_count": 29,
     "metadata": {},
     "output_type": "execute_result"
    }
   ],
   "source": [
    "d[\"Python built-in\"] = minimum(py_list_bench.times) / 1e6\n",
    "d"
   ]
  },
  {
   "cell_type": "markdown",
   "metadata": {},
   "source": [
    "# 4. Python: `numpy` \n",
    "\n",
    "## Takes advantage of hardware \"SIMD\", but only works when it works.\n",
    "\n",
    "`numpy` is an optimized C library, callable from Python.\n",
    "It may be installed within Julia as follows:"
   ]
  },
  {
   "cell_type": "code",
   "execution_count": 30,
   "metadata": {},
   "outputs": [
    {
     "name": "stderr",
     "output_type": "stream",
     "text": [
      "\u001b[32m\u001b[1m   Resolving\u001b[22m\u001b[39m package versions...\n",
      "\u001b[32m\u001b[1m    Updating\u001b[22m\u001b[39m `~/.julia/environments/v1.10/Project.toml`\n",
      "  \u001b[90m[8f4d0f93] \u001b[39m\u001b[92m+ Conda v1.10.0\u001b[39m\n",
      "\u001b[32m\u001b[1m  No Changes\u001b[22m\u001b[39m to `~/.julia/environments/v1.10/Manifest.toml`\n"
     ]
    }
   ],
   "source": [
    "using Pkg; Pkg.add(\"Conda\")\n",
    "using Conda"
   ]
  },
  {
   "cell_type": "code",
   "execution_count": 31,
   "metadata": {},
   "outputs": [
    {
     "name": "stderr",
     "output_type": "stream",
     "text": [
      "\u001b[36m\u001b[1m[ \u001b[22m\u001b[39m\u001b[36m\u001b[1mInfo: \u001b[22m\u001b[39mRunning `conda install -y numpy` in root environment\n"
     ]
    },
    {
     "name": "stdout",
     "output_type": "stream",
     "text": [
      "Retrieving notices: ...working... done\n",
      "Channels:\n",
      " - r\n",
      " - defaults\n",
      "Platform: linux-64\n",
      "Collecting package metadata (repodata.json): ...working... done\n",
      "Solving environment: ...working... done\n",
      "\n",
      "## Package Plan ##\n",
      "\n",
      "  environment location: /home/ubuntu/.julia/conda/3\n",
      "\n",
      "  added / updated specs:\n",
      "    - numpy\n",
      "\n",
      "\n",
      "The following packages will be downloaded:\n",
      "\n",
      "    package                    |            build\n",
      "    ---------------------------|-----------------\n",
      "    numpy-1.26.3               |  py311h24aa872_0          10 KB\n",
      "    numpy-base-1.26.3          |  py311hbfb1bba_0         8.3 MB\n",
      "    ------------------------------------------------------------\n",
      "                                           Total:         8.3 MB\n",
      "\n",
      "The following NEW packages will be INSTALLED:\n",
      "\n",
      "  numpy              pkgs/main/linux-64::numpy-1.26.3-py311h24aa872_0 \n",
      "  numpy-base         pkgs/main/linux-64::numpy-base-1.26.3-py311hbfb1bba_0 \n",
      "\n",
      "\n",
      "\n",
      "Downloading and Extracting Packages: ...working... done\n",
      "Preparing transaction: ...working... done\n",
      "Verifying transaction: ...working... done\n",
      "Executing transaction: ...working... done\n"
     ]
    }
   ],
   "source": [
    "Conda.add(\"numpy\")"
   ]
  },
  {
   "cell_type": "code",
   "execution_count": 32,
   "metadata": {},
   "outputs": [
    {
     "data": {
      "text/plain": [
       "BenchmarkTools.Trial: 1199 samples with 1 evaluation.\n",
       " Range \u001b[90m(\u001b[39m\u001b[36m\u001b[1mmin\u001b[22m\u001b[39m … \u001b[35mmax\u001b[39m\u001b[90m):  \u001b[39m\u001b[36m\u001b[1m4.045 ms\u001b[22m\u001b[39m … \u001b[35m  6.348 ms\u001b[39m  \u001b[90m┊\u001b[39m GC \u001b[90m(\u001b[39mmin … max\u001b[90m): \u001b[39m0.00% … 0.00%\n",
       " Time  \u001b[90m(\u001b[39m\u001b[34m\u001b[1mmedian\u001b[22m\u001b[39m\u001b[90m):     \u001b[39m\u001b[34m\u001b[1m4.126 ms               \u001b[22m\u001b[39m\u001b[90m┊\u001b[39m GC \u001b[90m(\u001b[39mmedian\u001b[90m):    \u001b[39m0.00%\n",
       " Time  \u001b[90m(\u001b[39m\u001b[32m\u001b[1mmean\u001b[22m\u001b[39m ± \u001b[32mσ\u001b[39m\u001b[90m):   \u001b[39m\u001b[32m\u001b[1m4.161 ms\u001b[22m\u001b[39m ± \u001b[32m164.709 μs\u001b[39m  \u001b[90m┊\u001b[39m GC \u001b[90m(\u001b[39mmean ± σ\u001b[90m):  \u001b[39m0.00% ± 0.00%\n",
       "\n",
       "  \u001b[39m \u001b[39m \u001b[39m▂\u001b[39m▅\u001b[39m█\u001b[34m▅\u001b[39m\u001b[39m▁\u001b[39m \u001b[32m \u001b[39m\u001b[39m \u001b[39m \u001b[39m \u001b[39m \u001b[39m \u001b[39m \u001b[39m \u001b[39m \u001b[39m \u001b[39m \u001b[39m \u001b[39m \u001b[39m \u001b[39m \u001b[39m \u001b[39m \u001b[39m \u001b[39m \u001b[39m \u001b[39m \u001b[39m \u001b[39m \u001b[39m \u001b[39m \u001b[39m \u001b[39m \u001b[39m \u001b[39m \u001b[39m \u001b[39m \u001b[39m \u001b[39m \u001b[39m \u001b[39m \u001b[39m \u001b[39m \u001b[39m \u001b[39m \u001b[39m \u001b[39m \u001b[39m \u001b[39m \u001b[39m \u001b[39m \u001b[39m \u001b[39m \u001b[39m \u001b[39m \u001b[39m \u001b[39m \u001b[39m \u001b[39m \n",
       "  \u001b[39m▃\u001b[39m▆\u001b[39m█\u001b[39m█\u001b[39m█\u001b[34m█\u001b[39m\u001b[39m█\u001b[39m█\u001b[32m▅\u001b[39m\u001b[39m▅\u001b[39m▄\u001b[39m▄\u001b[39m▄\u001b[39m▃\u001b[39m▃\u001b[39m▃\u001b[39m▃\u001b[39m▂\u001b[39m▂\u001b[39m▂\u001b[39m▂\u001b[39m▂\u001b[39m▁\u001b[39m▂\u001b[39m▂\u001b[39m▂\u001b[39m▁\u001b[39m▂\u001b[39m▂\u001b[39m▂\u001b[39m▂\u001b[39m▁\u001b[39m▁\u001b[39m▂\u001b[39m▁\u001b[39m▁\u001b[39m▂\u001b[39m▂\u001b[39m▁\u001b[39m▁\u001b[39m▂\u001b[39m▁\u001b[39m▁\u001b[39m▁\u001b[39m▁\u001b[39m▁\u001b[39m▂\u001b[39m▂\u001b[39m▁\u001b[39m▁\u001b[39m▁\u001b[39m▁\u001b[39m▂\u001b[39m▂\u001b[39m▂\u001b[39m▁\u001b[39m▁\u001b[39m▁\u001b[39m▂\u001b[39m \u001b[39m▃\n",
       "  4.05 ms\u001b[90m         Histogram: frequency by time\u001b[39m        4.95 ms \u001b[0m\u001b[1m<\u001b[22m\n",
       "\n",
       " Memory estimate\u001b[90m: \u001b[39m\u001b[33m240 bytes\u001b[39m, allocs estimate\u001b[90m: \u001b[39m\u001b[33m6\u001b[39m."
      ]
     },
     "execution_count": 32,
     "metadata": {},
     "output_type": "execute_result"
    }
   ],
   "source": [
    "numpy_sum = pyimport(\"numpy\")[\"sum\"]\n",
    "\n",
    "py_numpy_bench = @benchmark $numpy_sum($a)"
   ]
  },
  {
   "cell_type": "code",
   "execution_count": 33,
   "metadata": {},
   "outputs": [
    {
     "data": {
      "text/plain": [
       "4.999114607967141e6"
      ]
     },
     "execution_count": 33,
     "metadata": {},
     "output_type": "execute_result"
    }
   ],
   "source": [
    "numpy_sum(a)"
   ]
  },
  {
   "cell_type": "code",
   "execution_count": 34,
   "metadata": {},
   "outputs": [
    {
     "data": {
      "text/plain": [
       "true"
      ]
     },
     "execution_count": 34,
     "metadata": {},
     "output_type": "execute_result"
    }
   ],
   "source": [
    "numpy_sum(a) ≈ sum(a)"
   ]
  },
  {
   "cell_type": "code",
   "execution_count": 35,
   "metadata": {
    "scrolled": true
   },
   "outputs": [
    {
     "data": {
      "text/plain": [
       "Dict{Any, Any} with 4 entries:\n",
       "  \"C\"               => 10.6272\n",
       "  \"Python numpy\"    => 4.045\n",
       "  \"Python built-in\" => 592.37\n",
       "  \"C -ffast-math\"   => 5.81511"
      ]
     },
     "execution_count": 35,
     "metadata": {},
     "output_type": "execute_result"
    }
   ],
   "source": [
    "d[\"Python numpy\"] = minimum(py_numpy_bench.times) / 1e6\n",
    "d"
   ]
  },
  {
   "cell_type": "markdown",
   "metadata": {},
   "source": [
    "# 5. Python, hand-written "
   ]
  },
  {
   "cell_type": "code",
   "execution_count": 36,
   "metadata": {},
   "outputs": [
    {
     "data": {
      "text/plain": [
       "PyObject <function py_sum at 0x7f10159eae60>"
      ]
     },
     "execution_count": 36,
     "metadata": {},
     "output_type": "execute_result"
    }
   ],
   "source": [
    "py\"\"\"\n",
    "def py_sum(A):\n",
    "    s = 0.0\n",
    "    for a in A:\n",
    "        s += a\n",
    "    return s\n",
    "\"\"\"\n",
    "\n",
    "sum_py = py\"py_sum\""
   ]
  },
  {
   "cell_type": "code",
   "execution_count": 37,
   "metadata": {},
   "outputs": [
    {
     "data": {
      "text/plain": [
       "BenchmarkTools.Trial: 7 samples with 1 evaluation.\n",
       " Range \u001b[90m(\u001b[39m\u001b[36m\u001b[1mmin\u001b[22m\u001b[39m … \u001b[35mmax\u001b[39m\u001b[90m):  \u001b[39m\u001b[36m\u001b[1m761.936 ms\u001b[22m\u001b[39m … \u001b[35m782.972 ms\u001b[39m  \u001b[90m┊\u001b[39m GC \u001b[90m(\u001b[39mmin … max\u001b[90m): \u001b[39m0.00% … 0.00%\n",
       " Time  \u001b[90m(\u001b[39m\u001b[34m\u001b[1mmedian\u001b[22m\u001b[39m\u001b[90m):     \u001b[39m\u001b[34m\u001b[1m777.003 ms               \u001b[22m\u001b[39m\u001b[90m┊\u001b[39m GC \u001b[90m(\u001b[39mmedian\u001b[90m):    \u001b[39m0.00%\n",
       " Time  \u001b[90m(\u001b[39m\u001b[32m\u001b[1mmean\u001b[22m\u001b[39m ± \u001b[32mσ\u001b[39m\u001b[90m):   \u001b[39m\u001b[32m\u001b[1m775.701 ms\u001b[22m\u001b[39m ± \u001b[32m  7.501 ms\u001b[39m  \u001b[90m┊\u001b[39m GC \u001b[90m(\u001b[39mmean ± σ\u001b[90m):  \u001b[39m0.00% ± 0.00%\n",
       "\n",
       "  \u001b[39m▁\u001b[39m \u001b[39m \u001b[39m \u001b[39m \u001b[39m \u001b[39m \u001b[39m \u001b[39m \u001b[39m \u001b[39m \u001b[39m \u001b[39m \u001b[39m \u001b[39m \u001b[39m \u001b[39m \u001b[39m \u001b[39m \u001b[39m \u001b[39m \u001b[39m \u001b[39m▁\u001b[39m \u001b[39m \u001b[39m \u001b[39m \u001b[39m \u001b[39m \u001b[39m \u001b[39m \u001b[39m \u001b[39m \u001b[39m \u001b[39m \u001b[39m \u001b[39m \u001b[39m \u001b[39m \u001b[39m \u001b[32m \u001b[39m\u001b[39m▁\u001b[34m \u001b[39m\u001b[39m▁\u001b[39m \u001b[39m \u001b[39m \u001b[39m \u001b[39m \u001b[39m \u001b[39m \u001b[39m \u001b[39m \u001b[39m \u001b[39m \u001b[39m█\u001b[39m \u001b[39m \u001b[39m \u001b[39m \u001b[39m▁\u001b[39m \u001b[39m \n",
       "  \u001b[39m█\u001b[39m▁\u001b[39m▁\u001b[39m▁\u001b[39m▁\u001b[39m▁\u001b[39m▁\u001b[39m▁\u001b[39m▁\u001b[39m▁\u001b[39m▁\u001b[39m▁\u001b[39m▁\u001b[39m▁\u001b[39m▁\u001b[39m▁\u001b[39m▁\u001b[39m▁\u001b[39m▁\u001b[39m▁\u001b[39m▁\u001b[39m▁\u001b[39m█\u001b[39m▁\u001b[39m▁\u001b[39m▁\u001b[39m▁\u001b[39m▁\u001b[39m▁\u001b[39m▁\u001b[39m▁\u001b[39m▁\u001b[39m▁\u001b[39m▁\u001b[39m▁\u001b[39m▁\u001b[39m▁\u001b[39m▁\u001b[39m▁\u001b[39m▁\u001b[32m▁\u001b[39m\u001b[39m█\u001b[34m▁\u001b[39m\u001b[39m█\u001b[39m▁\u001b[39m▁\u001b[39m▁\u001b[39m▁\u001b[39m▁\u001b[39m▁\u001b[39m▁\u001b[39m▁\u001b[39m▁\u001b[39m▁\u001b[39m▁\u001b[39m█\u001b[39m▁\u001b[39m▁\u001b[39m▁\u001b[39m▁\u001b[39m█\u001b[39m \u001b[39m▁\n",
       "  762 ms\u001b[90m           Histogram: frequency by time\u001b[39m          783 ms \u001b[0m\u001b[1m<\u001b[22m\n",
       "\n",
       " Memory estimate\u001b[90m: \u001b[39m\u001b[33m240 bytes\u001b[39m, allocs estimate\u001b[90m: \u001b[39m\u001b[33m6\u001b[39m."
      ]
     },
     "execution_count": 37,
     "metadata": {},
     "output_type": "execute_result"
    }
   ],
   "source": [
    "py_hand = @benchmark $sum_py($a)"
   ]
  },
  {
   "cell_type": "code",
   "execution_count": 38,
   "metadata": {},
   "outputs": [
    {
     "data": {
      "text/plain": [
       "4.999114607967458e6"
      ]
     },
     "execution_count": 38,
     "metadata": {},
     "output_type": "execute_result"
    }
   ],
   "source": [
    "sum_py(a)"
   ]
  },
  {
   "cell_type": "code",
   "execution_count": 39,
   "metadata": {},
   "outputs": [
    {
     "data": {
      "text/plain": [
       "true"
      ]
     },
     "execution_count": 39,
     "metadata": {},
     "output_type": "execute_result"
    }
   ],
   "source": [
    "sum_py(a) ≈ sum(a)"
   ]
  },
  {
   "cell_type": "code",
   "execution_count": 40,
   "metadata": {
    "scrolled": true
   },
   "outputs": [
    {
     "data": {
      "text/plain": [
       "Dict{Any, Any} with 5 entries:\n",
       "  \"C\"                   => 10.6272\n",
       "  \"Python numpy\"        => 4.045\n",
       "  \"Python hand-written\" => 761.936\n",
       "  \"Python built-in\"     => 592.37\n",
       "  \"C -ffast-math\"       => 5.81511"
      ]
     },
     "execution_count": 40,
     "metadata": {},
     "output_type": "execute_result"
    }
   ],
   "source": [
    "d[\"Python hand-written\"] = minimum(py_hand.times) / 1e6\n",
    "d"
   ]
  },
  {
   "cell_type": "markdown",
   "metadata": {},
   "source": [
    "# 6. Julia (built-in) \n",
    "\n",
    "## Written directly in Julia, not in C!"
   ]
  },
  {
   "cell_type": "code",
   "execution_count": 41,
   "metadata": {},
   "outputs": [
    {
     "data": {
      "text/html": [
       "sum(a::<b>AbstractArray</b>; <i>dims, kw...</i>) in Base at <a href=\"https://github.com/JuliaLang/julia/tree/3120989f39bb7ef7863c4aab8ab1227cf71eec66/base/reducedim.jl#L1010\" target=\"_blank\">reducedim.jl:1010</a>"
      ],
      "text/plain": [
       "sum(\u001b[90ma\u001b[39m::\u001b[1mAbstractArray\u001b[22m; dims, kw...)\n",
       "\u001b[90m     @\u001b[39m \u001b[90mBase\u001b[39m \u001b[90m\u001b[4mreducedim.jl:1010\u001b[24m\u001b[39m"
      ]
     },
     "execution_count": 41,
     "metadata": {},
     "output_type": "execute_result"
    }
   ],
   "source": [
    "@which sum(a)"
   ]
  },
  {
   "cell_type": "code",
   "execution_count": 42,
   "metadata": {},
   "outputs": [
    {
     "data": {
      "text/plain": [
       "BenchmarkTools.Trial: 1282 samples with 1 evaluation.\n",
       " Range \u001b[90m(\u001b[39m\u001b[36m\u001b[1mmin\u001b[22m\u001b[39m … \u001b[35mmax\u001b[39m\u001b[90m):  \u001b[39m\u001b[36m\u001b[1m3.763 ms\u001b[22m\u001b[39m … \u001b[35m  6.082 ms\u001b[39m  \u001b[90m┊\u001b[39m GC \u001b[90m(\u001b[39mmin … max\u001b[90m): \u001b[39m0.00% … 0.00%\n",
       " Time  \u001b[90m(\u001b[39m\u001b[34m\u001b[1mmedian\u001b[22m\u001b[39m\u001b[90m):     \u001b[39m\u001b[34m\u001b[1m3.863 ms               \u001b[22m\u001b[39m\u001b[90m┊\u001b[39m GC \u001b[90m(\u001b[39mmedian\u001b[90m):    \u001b[39m0.00%\n",
       " Time  \u001b[90m(\u001b[39m\u001b[32m\u001b[1mmean\u001b[22m\u001b[39m ± \u001b[32mσ\u001b[39m\u001b[90m):   \u001b[39m\u001b[32m\u001b[1m3.887 ms\u001b[22m\u001b[39m ± \u001b[32m133.716 μs\u001b[39m  \u001b[90m┊\u001b[39m GC \u001b[90m(\u001b[39mmean ± σ\u001b[90m):  \u001b[39m0.00% ± 0.00%\n",
       "\n",
       "  \u001b[39m \u001b[39m \u001b[39m \u001b[39m \u001b[39m \u001b[39m▃\u001b[39m▆\u001b[39m█\u001b[34m▆\u001b[39m\u001b[39m▃\u001b[32m \u001b[39m\u001b[39m \u001b[39m \u001b[39m \u001b[39m \u001b[39m \u001b[39m \u001b[39m \u001b[39m \u001b[39m \u001b[39m \u001b[39m \u001b[39m \u001b[39m \u001b[39m \u001b[39m \u001b[39m \u001b[39m \u001b[39m \u001b[39m \u001b[39m \u001b[39m \u001b[39m \u001b[39m \u001b[39m \u001b[39m \u001b[39m \u001b[39m \u001b[39m \u001b[39m \u001b[39m \u001b[39m \u001b[39m \u001b[39m \u001b[39m \u001b[39m \u001b[39m \u001b[39m \u001b[39m \u001b[39m \u001b[39m \u001b[39m \u001b[39m \u001b[39m \u001b[39m \u001b[39m \u001b[39m \u001b[39m \u001b[39m \u001b[39m \u001b[39m \n",
       "  \u001b[39m▂\u001b[39m▃\u001b[39m▆\u001b[39m▆\u001b[39m█\u001b[39m█\u001b[39m█\u001b[39m█\u001b[34m█\u001b[39m\u001b[39m█\u001b[32m█\u001b[39m\u001b[39m█\u001b[39m▆\u001b[39m▆\u001b[39m▅\u001b[39m▄\u001b[39m▄\u001b[39m▃\u001b[39m▃\u001b[39m▃\u001b[39m▂\u001b[39m▂\u001b[39m▂\u001b[39m▂\u001b[39m▂\u001b[39m▂\u001b[39m▂\u001b[39m▂\u001b[39m▂\u001b[39m▂\u001b[39m▁\u001b[39m▁\u001b[39m▁\u001b[39m▂\u001b[39m▂\u001b[39m▁\u001b[39m▁\u001b[39m▁\u001b[39m▁\u001b[39m▂\u001b[39m▁\u001b[39m▁\u001b[39m▁\u001b[39m▁\u001b[39m▂\u001b[39m▁\u001b[39m▂\u001b[39m▁\u001b[39m▁\u001b[39m▁\u001b[39m▁\u001b[39m▂\u001b[39m▁\u001b[39m▂\u001b[39m▁\u001b[39m▁\u001b[39m▁\u001b[39m▂\u001b[39m▂\u001b[39m \u001b[39m▃\n",
       "  3.76 ms\u001b[90m         Histogram: frequency by time\u001b[39m        4.48 ms \u001b[0m\u001b[1m<\u001b[22m\n",
       "\n",
       " Memory estimate\u001b[90m: \u001b[39m\u001b[33m0 bytes\u001b[39m, allocs estimate\u001b[90m: \u001b[39m\u001b[33m0\u001b[39m."
      ]
     },
     "execution_count": 42,
     "metadata": {},
     "output_type": "execute_result"
    }
   ],
   "source": [
    "j_bench = @benchmark sum($a)"
   ]
  },
  {
   "cell_type": "code",
   "execution_count": 43,
   "metadata": {
    "scrolled": true
   },
   "outputs": [
    {
     "data": {
      "text/plain": [
       "Dict{Any, Any} with 6 entries:\n",
       "  \"C\"                   => 10.6272\n",
       "  \"Python numpy\"        => 4.045\n",
       "  \"Python hand-written\" => 761.936\n",
       "  \"Python built-in\"     => 592.37\n",
       "  \"Julia built-in\"      => 3.763\n",
       "  \"C -ffast-math\"       => 5.81511"
      ]
     },
     "execution_count": 43,
     "metadata": {},
     "output_type": "execute_result"
    }
   ],
   "source": [
    "d[\"Julia built-in\"] = minimum(j_bench.times) / 1e6\n",
    "d"
   ]
  },
  {
   "cell_type": "markdown",
   "metadata": {},
   "source": [
    "# 7. Julia (hand-written) "
   ]
  },
  {
   "cell_type": "code",
   "execution_count": 44,
   "metadata": {
    "scrolled": true
   },
   "outputs": [
    {
     "data": {
      "text/plain": [
       "mysum (generic function with 1 method)"
      ]
     },
     "execution_count": 44,
     "metadata": {},
     "output_type": "execute_result"
    }
   ],
   "source": [
    "function mysum(A)   \n",
    "    s = 0.0 # s = zero(eltype(a))\n",
    "    for a in A\n",
    "        s += a\n",
    "    end\n",
    "    s\n",
    "end"
   ]
  },
  {
   "cell_type": "code",
   "execution_count": 45,
   "metadata": {},
   "outputs": [
    {
     "data": {
      "text/plain": [
       "BenchmarkTools.Trial: 468 samples with 1 evaluation.\n",
       " Range \u001b[90m(\u001b[39m\u001b[36m\u001b[1mmin\u001b[22m\u001b[39m … \u001b[35mmax\u001b[39m\u001b[90m):  \u001b[39m\u001b[36m\u001b[1m10.538 ms\u001b[22m\u001b[39m … \u001b[35m 12.818 ms\u001b[39m  \u001b[90m┊\u001b[39m GC \u001b[90m(\u001b[39mmin … max\u001b[90m): \u001b[39m0.00% … 0.00%\n",
       " Time  \u001b[90m(\u001b[39m\u001b[34m\u001b[1mmedian\u001b[22m\u001b[39m\u001b[90m):     \u001b[39m\u001b[34m\u001b[1m10.633 ms               \u001b[22m\u001b[39m\u001b[90m┊\u001b[39m GC \u001b[90m(\u001b[39mmedian\u001b[90m):    \u001b[39m0.00%\n",
       " Time  \u001b[90m(\u001b[39m\u001b[32m\u001b[1mmean\u001b[22m\u001b[39m ± \u001b[32mσ\u001b[39m\u001b[90m):   \u001b[39m\u001b[32m\u001b[1m10.669 ms\u001b[22m\u001b[39m ± \u001b[32m157.801 μs\u001b[39m  \u001b[90m┊\u001b[39m GC \u001b[90m(\u001b[39mmean ± σ\u001b[90m):  \u001b[39m0.00% ± 0.00%\n",
       "\n",
       "  \u001b[39m \u001b[39m \u001b[39m▆\u001b[39m▇\u001b[39m█\u001b[39m▆\u001b[39m█\u001b[39m▄\u001b[39m▂\u001b[34m▂\u001b[39m\u001b[39m \u001b[39m \u001b[32m▃\u001b[39m\u001b[39m▂\u001b[39m▆\u001b[39m \u001b[39m▂\u001b[39m \u001b[39m \u001b[39m \u001b[39m \u001b[39m \u001b[39m \u001b[39m \u001b[39m \u001b[39m \u001b[39m \u001b[39m \u001b[39m \u001b[39m \u001b[39m \u001b[39m \u001b[39m \u001b[39m \u001b[39m \u001b[39m \u001b[39m \u001b[39m \u001b[39m \u001b[39m \u001b[39m \u001b[39m \u001b[39m \u001b[39m \u001b[39m \u001b[39m \u001b[39m \u001b[39m \u001b[39m \u001b[39m \u001b[39m \u001b[39m \u001b[39m \u001b[39m \u001b[39m \u001b[39m \u001b[39m \u001b[39m \u001b[39m \u001b[39m \u001b[39m \u001b[39m \n",
       "  \u001b[39m▅\u001b[39m█\u001b[39m█\u001b[39m█\u001b[39m█\u001b[39m█\u001b[39m█\u001b[39m█\u001b[39m█\u001b[34m█\u001b[39m\u001b[39m▅\u001b[39m▅\u001b[32m█\u001b[39m\u001b[39m█\u001b[39m█\u001b[39m█\u001b[39m█\u001b[39m▆\u001b[39m▅\u001b[39m▆\u001b[39m▇\u001b[39m▅\u001b[39m▂\u001b[39m▂\u001b[39m▁\u001b[39m▂\u001b[39m▂\u001b[39m▂\u001b[39m▁\u001b[39m▁\u001b[39m▁\u001b[39m▂\u001b[39m▁\u001b[39m▁\u001b[39m▂\u001b[39m▂\u001b[39m▂\u001b[39m▂\u001b[39m▂\u001b[39m▂\u001b[39m▁\u001b[39m▁\u001b[39m▂\u001b[39m▃\u001b[39m▂\u001b[39m▂\u001b[39m▂\u001b[39m▁\u001b[39m▁\u001b[39m▁\u001b[39m▁\u001b[39m▁\u001b[39m▁\u001b[39m▁\u001b[39m▁\u001b[39m▂\u001b[39m▂\u001b[39m▁\u001b[39m▁\u001b[39m▂\u001b[39m \u001b[39m▄\n",
       "  10.5 ms\u001b[90m         Histogram: frequency by time\u001b[39m         11.2 ms \u001b[0m\u001b[1m<\u001b[22m\n",
       "\n",
       " Memory estimate\u001b[90m: \u001b[39m\u001b[33m0 bytes\u001b[39m, allocs estimate\u001b[90m: \u001b[39m\u001b[33m0\u001b[39m."
      ]
     },
     "execution_count": 45,
     "metadata": {},
     "output_type": "execute_result"
    }
   ],
   "source": [
    "j_bench_hand = @benchmark mysum($a)"
   ]
  },
  {
   "cell_type": "code",
   "execution_count": 46,
   "metadata": {
    "scrolled": true
   },
   "outputs": [
    {
     "data": {
      "text/plain": [
       "Dict{Any, Any} with 7 entries:\n",
       "  \"C\"                   => 10.6272\n",
       "  \"Python numpy\"        => 4.045\n",
       "  \"Julia hand-written\"  => 10.5375\n",
       "  \"Python hand-written\" => 761.936\n",
       "  \"Python built-in\"     => 592.37\n",
       "  \"Julia built-in\"      => 3.763\n",
       "  \"C -ffast-math\"       => 5.81511"
      ]
     },
     "execution_count": 46,
     "metadata": {},
     "output_type": "execute_result"
    }
   ],
   "source": [
    "d[\"Julia hand-written\"] = minimum(j_bench_hand.times) / 1e6\n",
    "d"
   ]
  },
  {
   "cell_type": "markdown",
   "metadata": {},
   "source": [
    "# 8. Julia (hand-written w. simd) "
   ]
  },
  {
   "cell_type": "code",
   "execution_count": 47,
   "metadata": {},
   "outputs": [
    {
     "data": {
      "text/plain": [
       "mysum_simd (generic function with 1 method)"
      ]
     },
     "execution_count": 47,
     "metadata": {},
     "output_type": "execute_result"
    }
   ],
   "source": [
    "function mysum_simd(A)   \n",
    "    s = 0.0 # s = zero(eltype(A))\n",
    "    @simd for a in A\n",
    "        s += a\n",
    "    end\n",
    "    s\n",
    "end"
   ]
  },
  {
   "cell_type": "code",
   "execution_count": 48,
   "metadata": {},
   "outputs": [
    {
     "data": {
      "text/plain": [
       "BenchmarkTools.Trial: 1280 samples with 1 evaluation.\n",
       " Range \u001b[90m(\u001b[39m\u001b[36m\u001b[1mmin\u001b[22m\u001b[39m … \u001b[35mmax\u001b[39m\u001b[90m):  \u001b[39m\u001b[36m\u001b[1m3.750 ms\u001b[22m\u001b[39m … \u001b[35m  6.397 ms\u001b[39m  \u001b[90m┊\u001b[39m GC \u001b[90m(\u001b[39mmin … max\u001b[90m): \u001b[39m0.00% … 0.00%\n",
       " Time  \u001b[90m(\u001b[39m\u001b[34m\u001b[1mmedian\u001b[22m\u001b[39m\u001b[90m):     \u001b[39m\u001b[34m\u001b[1m3.857 ms               \u001b[22m\u001b[39m\u001b[90m┊\u001b[39m GC \u001b[90m(\u001b[39mmedian\u001b[90m):    \u001b[39m0.00%\n",
       " Time  \u001b[90m(\u001b[39m\u001b[32m\u001b[1mmean\u001b[22m\u001b[39m ± \u001b[32mσ\u001b[39m\u001b[90m):   \u001b[39m\u001b[32m\u001b[1m3.890 ms\u001b[22m\u001b[39m ± \u001b[32m149.240 μs\u001b[39m  \u001b[90m┊\u001b[39m GC \u001b[90m(\u001b[39mmean ± σ\u001b[90m):  \u001b[39m0.00% ± 0.00%\n",
       "\n",
       "  \u001b[39m \u001b[39m \u001b[39m \u001b[39m \u001b[39m▃\u001b[39m▅\u001b[39m█\u001b[39m█\u001b[39m▇\u001b[34m▄\u001b[39m\u001b[39m▃\u001b[39m▃\u001b[32m \u001b[39m\u001b[39m \u001b[39m \u001b[39m \u001b[39m \u001b[39m \u001b[39m \u001b[39m \u001b[39m \u001b[39m \u001b[39m \u001b[39m \u001b[39m \u001b[39m \u001b[39m \u001b[39m \u001b[39m \u001b[39m \u001b[39m \u001b[39m \u001b[39m \u001b[39m \u001b[39m \u001b[39m \u001b[39m \u001b[39m \u001b[39m \u001b[39m \u001b[39m \u001b[39m \u001b[39m \u001b[39m \u001b[39m \u001b[39m \u001b[39m \u001b[39m \u001b[39m \u001b[39m \u001b[39m \u001b[39m \u001b[39m \u001b[39m \u001b[39m \u001b[39m \u001b[39m \u001b[39m \u001b[39m \u001b[39m \u001b[39m \n",
       "  \u001b[39m▂\u001b[39m▃\u001b[39m▄\u001b[39m▆\u001b[39m█\u001b[39m█\u001b[39m█\u001b[39m█\u001b[39m█\u001b[34m█\u001b[39m\u001b[39m█\u001b[39m█\u001b[32m▇\u001b[39m\u001b[39m▇\u001b[39m▆\u001b[39m▅\u001b[39m▅\u001b[39m▄\u001b[39m▅\u001b[39m▄\u001b[39m▃\u001b[39m▃\u001b[39m▃\u001b[39m▂\u001b[39m▂\u001b[39m▂\u001b[39m▂\u001b[39m▂\u001b[39m▃\u001b[39m▂\u001b[39m▂\u001b[39m▂\u001b[39m▂\u001b[39m▂\u001b[39m▂\u001b[39m▂\u001b[39m▂\u001b[39m▂\u001b[39m▂\u001b[39m▂\u001b[39m▂\u001b[39m▂\u001b[39m▁\u001b[39m▂\u001b[39m▁\u001b[39m▂\u001b[39m▂\u001b[39m▂\u001b[39m▁\u001b[39m▁\u001b[39m▂\u001b[39m▂\u001b[39m▁\u001b[39m▂\u001b[39m▂\u001b[39m▂\u001b[39m▂\u001b[39m▁\u001b[39m▂\u001b[39m \u001b[39m▃\n",
       "  3.75 ms\u001b[90m         Histogram: frequency by time\u001b[39m        4.45 ms \u001b[0m\u001b[1m<\u001b[22m\n",
       "\n",
       " Memory estimate\u001b[90m: \u001b[39m\u001b[33m0 bytes\u001b[39m, allocs estimate\u001b[90m: \u001b[39m\u001b[33m0\u001b[39m."
      ]
     },
     "execution_count": 48,
     "metadata": {},
     "output_type": "execute_result"
    }
   ],
   "source": [
    "j_bench_hand_simd = @benchmark mysum_simd($a)"
   ]
  },
  {
   "cell_type": "code",
   "execution_count": 49,
   "metadata": {},
   "outputs": [
    {
     "data": {
      "text/plain": [
       "4.999114607967184e6"
      ]
     },
     "execution_count": 49,
     "metadata": {},
     "output_type": "execute_result"
    }
   ],
   "source": [
    "mysum_simd(a)"
   ]
  },
  {
   "cell_type": "code",
   "execution_count": 50,
   "metadata": {
    "scrolled": true
   },
   "outputs": [
    {
     "data": {
      "text/plain": [
       "Dict{Any, Any} with 8 entries:\n",
       "  \"Julia hand-written simd\" => 3.7498\n",
       "  \"C\"                       => 10.6272\n",
       "  \"Python numpy\"            => 4.045\n",
       "  \"Julia hand-written\"      => 10.5375\n",
       "  \"Python hand-written\"     => 761.936\n",
       "  \"Python built-in\"         => 592.37\n",
       "  \"Julia built-in\"          => 3.763\n",
       "  \"C -ffast-math\"           => 5.81511"
      ]
     },
     "execution_count": 50,
     "metadata": {},
     "output_type": "execute_result"
    }
   ],
   "source": [
    "d[\"Julia hand-written simd\"] = minimum(j_bench_hand_simd.times) / 1e6\n",
    "d"
   ]
  },
  {
   "cell_type": "markdown",
   "metadata": {},
   "source": [
    "# Summary"
   ]
  },
  {
   "cell_type": "code",
   "execution_count": 51,
   "metadata": {
    "scrolled": true
   },
   "outputs": [
    {
     "name": "stdout",
     "output_type": "stream",
     "text": [
      "Julia hand-written simd.....3.7\n",
      "Julia built-in..............3.8\n",
      "Python numpy................4.0\n",
      "C -ffast-math...............5.8\n",
      "Julia hand-written.........10.5\n",
      "C..........................10.6\n",
      "Python built-in...........592.4\n",
      "Python hand-written.......761.9\n"
     ]
    }
   ],
   "source": [
    "for (key, value) in sort(collect(d), by=last)\n",
    "    println(rpad(key, 25, \".\"), lpad(round(value; digits=1), 6, \".\"))\n",
    "end"
   ]
  },
  {
   "cell_type": "code",
   "execution_count": null,
   "metadata": {},
   "outputs": [],
   "source": []
  }
 ],
 "metadata": {
  "anaconda-cloud": {},
  "kernelspec": {
   "display_name": "Julia 1.10.0",
   "language": "julia",
   "name": "julia-1.10"
  },
  "language_info": {
   "file_extension": ".jl",
   "mimetype": "application/julia",
   "name": "julia",
   "version": "1.10.0"
  },
  "toc": {
   "colors": {
    "hover_highlight": "#DAA520",
    "running_highlight": "#FF0000",
    "selected_highlight": "#FFD700"
   },
   "moveMenuLeft": true,
   "nav_menu": {
    "height": "212px",
    "width": "252px"
   },
   "navigate_menu": true,
   "number_sections": true,
   "sideBar": true,
   "threshold": "2",
   "toc_cell": false,
   "toc_section_display": "block",
   "toc_window_display": false
  }
 },
 "nbformat": 4,
 "nbformat_minor": 4
}
